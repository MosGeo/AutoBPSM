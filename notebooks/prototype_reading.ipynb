{
 "cells": [
  {
   "cell_type": "code",
   "execution_count": 2,
   "metadata": {},
   "outputs": [],
   "source": [
    "import sys\n",
    "\n",
    "if \"../src\" not in sys.path:\n",
    "    sys.path.append(\"../src\")"
   ]
  },
  {
   "cell_type": "code",
   "execution_count": 3,
   "metadata": {},
   "outputs": [],
   "source": [
    "%load_ext autoreload\n",
    "%autoreload 2"
   ]
  },
  {
   "cell_type": "code",
   "execution_count": 4,
   "metadata": {},
   "outputs": [],
   "source": [
    "from pathlib import Path\n",
    "from bs4 import BeautifulSoup\n",
    "import pandas as pd\n",
    "\n",
    "from auto_bpsm.models.lithology.meta import Meta\n",
    "from auto_bpsm.models.lithology.curve import Curve, CurveGroup\n",
    "from auto_bpsm.models.lithology.litho import Parameter, ParameterGroup, Lithology, LithologyGroup\n",
    "from auto_bpsm.models.lithology.catalogue import Catalogue"
   ]
  },
  {
   "cell_type": "code",
   "execution_count": 5,
   "metadata": {},
   "outputs": [],
   "source": [
    "project_folder = Path(\"../data/1d_model\")\n",
    "lithology_filename = Path(project_folder, \"geo\", \"Lithologies.xml\")"
   ]
  },
  {
   "cell_type": "code",
   "execution_count": 6,
   "metadata": {},
   "outputs": [],
   "source": [
    "with open(lithology_filename, 'r') as f:\n",
    "\tfile = f.read() \n",
    "\n",
    "soup = BeautifulSoup(file, 'xml')"
   ]
  },
  {
   "cell_type": "code",
   "execution_count": 24,
   "metadata": {},
   "outputs": [],
   "source": [
    "meta_node = soup.find(\"Meta\")\n",
    "meta = Meta.from_xml(meta_node)"
   ]
  },
  {
   "cell_type": "code",
   "execution_count": 8,
   "metadata": {},
   "outputs": [
    {
     "data": {
      "text/plain": [
       "CurveGroup(Id='b7cb196f-d88b-4811-bd07-f463bc31d4e5', Name='Compaction curves', ReadOnly='true', Curves=[])"
      ]
     },
     "execution_count": 8,
     "metadata": {},
     "output_type": "execute_result"
    }
   ],
   "source": [
    "curve_group_node = soup.findChild(\"CurveGroup\")\n",
    "CurveGroup.from_xml(curve_group_node)"
   ]
  },
  {
   "cell_type": "code",
   "execution_count": 13,
   "metadata": {},
   "outputs": [],
   "source": [
    "lithology_group_node = soup.findChild(\"LithologyGroup\")\n",
    "lithology_group = LithologyGroup.from_xml(lithology_group_node)"
   ]
  },
  {
   "cell_type": "code",
   "execution_count": 35,
   "metadata": {},
   "outputs": [],
   "source": [
    "catalogue_node = soup.findChild(\"Catalogue\")\n",
    "catalogue:Catalogue = Catalogue.from_xml(catalogue_node)"
   ]
  },
  {
   "cell_type": "code",
   "execution_count": 36,
   "metadata": {},
   "outputs": [
    {
     "data": {
      "text/plain": [
       "{'xmlns:xsd': 'http://www.w3.org/2001/XMLSchema',\n",
       " 'xmlns:xsi': 'http://www.w3.org/2001/XMLSchema-instance'}"
      ]
     },
     "execution_count": 36,
     "metadata": {},
     "output_type": "execute_result"
    }
   ],
   "source": [
    "catalogue_node.attrs"
   ]
  }
 ],
 "metadata": {
  "kernelspec": {
   "display_name": "Python 3.10.9 ('.venv': venv)",
   "language": "python",
   "name": "python3"
  },
  "language_info": {
   "codemirror_mode": {
    "name": "ipython",
    "version": 3
   },
   "file_extension": ".py",
   "mimetype": "text/x-python",
   "name": "python",
   "nbconvert_exporter": "python",
   "pygments_lexer": "ipython3",
   "version": "3.10.9"
  },
  "orig_nbformat": 4,
  "vscode": {
   "interpreter": {
    "hash": "ea90329eb118e9a9adbd120bccb5130c1e994cbc273a8a1ab7578a61db8576a4"
   }
  }
 },
 "nbformat": 4,
 "nbformat_minor": 2
}
