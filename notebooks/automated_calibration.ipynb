{
 "cells": [
  {
   "attachments": {},
   "cell_type": "markdown",
   "metadata": {},
   "source": [
    "# Initial setup"
   ]
  },
  {
   "cell_type": "code",
   "execution_count": 2,
   "metadata": {},
   "outputs": [],
   "source": [
    "%load_ext autoreload\n",
    "%autoreload 2\n",
    "\n",
    "import sys\n",
    "\n",
    "if \"../src\" not in sys.path:\n",
    "    sys.path.append(\"../src\")"
   ]
  },
  {
   "cell_type": "code",
   "execution_count": 3,
   "metadata": {},
   "outputs": [
    {
     "data": {
      "text/plain": [
       "[WindowsPath('C:/Program Files/Schlumberger/PetroMod 2017.1/WIN64/bin'),\n",
       " WindowsPath('C:/Program Files/Schlumberger/PetroMod 2020.1/WIN64/bin'),\n",
       " WindowsPath('C:/Program Files/Schlumberger/PetroMod 2022.1/WIN64/bin'),\n",
       " WindowsPath('C:/Program Files/Schlumberger/PetroMod 2023.1/WIN64/bin')]"
      ]
     },
     "execution_count": 3,
     "metadata": {},
     "output_type": "execute_result"
    }
   ],
   "source": [
    "from pathlib import Path\n",
    "import pandas as pd\n",
    "import numpy as np\n",
    "import matplotlib.pyplot as plt\n",
    "from sklearn.metrics import r2_score, mean_squared_error\n",
    "\n",
    "from auto_bpsm.petromod_executables import PetroMod\n",
    "from auto_bpsm.petromod_project import PetroModProject\n",
    "from auto_bpsm.petromod_models import OneDimensionalModel\n",
    "from auto_bpsm.opensim_utils.present_day_results import get_layer_data, get_layers_indecies, get_layer_data_table\n",
    "\n",
    "plt.rcParams[\"font.family\"] = \"serif\"\n",
    "plt.rcParams[\"font.serif\"] = [\"Times New Roman\"]\n",
    "\n",
    "PetroMod.get_petromod_folders()"
   ]
  },
  {
   "attachments": {},
   "cell_type": "markdown",
   "metadata": {},
   "source": [
    "# Loading the project"
   ]
  },
  {
   "cell_type": "code",
   "execution_count": 26,
   "metadata": {},
   "outputs": [],
   "source": [
    "project_folder = Path(\"../data/anshuman/anshuman_v2017\")\n",
    "lithology_priors_filename = Path(\"../data/anshuman/input_data/lithology_priors.csv\")\n",
    "calibration_filenames = {\n",
    "    \"Porosity (effective)\": Path(\"../data/anshuman/input_data/calibration_porosity.csv\"),\n",
    "    \"Temperature\": Path(\"../data/anshuman/input_data/calibration_temperature.csv\"),\n",
    "    \"Pore Pressure\": Path(\"../data/anshuman/input_data/calibration_pressure.csv\"),\n",
    "}\n",
    "model_name = \"ST168\"\n",
    "\n",
    "# Load project and model\n",
    "project = PetroModProject(project_folder,petromod_folder_index=0)\n",
    "lithology = project.load_lithology()\n",
    "model : OneDimensionalModel = project.load_model(model_name)\n",
    "\n",
    "# Load lithology priors\n",
    "lithology_priors_table = pd.read_csv(lithology_priors_filename)\n",
    "\n",
    "# Load calibration tables\n",
    "calibration_tables = {prop: pd.read_csv(filename) for prop, filename in calibration_filenames.items()}\n",
    "\n",
    "# Heat prior\n",
    "heat_prior_mu = 47\n",
    "heat_prior_sigma = 3\n",
    "\n",
    "# Prepare variables\n",
    "lithology_uncertain_properties = [\"Athy's Factor k (depth)\", \"Anisotropy Factor Permeability\", \"Scaling Factor\", \"Specific Surface Area\", \"Initial Porosity\"]\n",
    "abbreviations = ['c', 'alpha_k', 'F', 'S', 'phi_0']\n",
    "min_values = [.1, 1.1, .001, .1e7, .36  ]\n",
    "max_values = [.9, 5.5, 25, 12e7,  .75]\n",
    "lithology_uncertain_properties_mu = [prop+\"_mu\" for prop in lithology_uncertain_properties]\n",
    "lithology_uncertain_properties_sigma = [prop+\"_sigma\" for prop in lithology_uncertain_properties]\n",
    "lithology_names = lithology_priors_table['lithology'].values"
   ]
  },
  {
   "cell_type": "code",
   "execution_count": 13,
   "metadata": {},
   "outputs": [
    {
     "data": {
      "text/html": [
       "<div>\n",
       "<style scoped>\n",
       "    .dataframe tbody tr th:only-of-type {\n",
       "        vertical-align: middle;\n",
       "    }\n",
       "\n",
       "    .dataframe tbody tr th {\n",
       "        vertical-align: top;\n",
       "    }\n",
       "\n",
       "    .dataframe thead th {\n",
       "        text-align: right;\n",
       "    }\n",
       "</style>\n",
       "<table border=\"1\" class=\"dataframe\">\n",
       "  <thead>\n",
       "    <tr style=\"text-align: right;\">\n",
       "      <th></th>\n",
       "      <th>layer</th>\n",
       "      <th>lithology</th>\n",
       "      <th>clay_content_fraction</th>\n",
       "      <th>Athy's Factor k (depth)_mu</th>\n",
       "      <th>Athy's Factor k (depth)_sigma</th>\n",
       "      <th>Initial Porosity_mu</th>\n",
       "      <th>Initial Porosity_sigma</th>\n",
       "      <th>Specific Surface Area_mu</th>\n",
       "      <th>Specific Surface Area_sigma</th>\n",
       "      <th>Scaling Factor_mu</th>\n",
       "      <th>Scaling Factor_sigma</th>\n",
       "      <th>Anisotropy Factor Permeability_mu</th>\n",
       "      <th>Anisotropy Factor Permeability_sigma</th>\n",
       "    </tr>\n",
       "  </thead>\n",
       "  <tbody>\n",
       "    <tr>\n",
       "      <th>0</th>\n",
       "      <td>1</td>\n",
       "      <td>Pliesto_Surface</td>\n",
       "      <td>NaN</td>\n",
       "      <td>0.50</td>\n",
       "      <td>0.20</td>\n",
       "      <td>0.550</td>\n",
       "      <td>0.06</td>\n",
       "      <td>50500000.0</td>\n",
       "      <td>40000000.0</td>\n",
       "      <td>2.45</td>\n",
       "      <td>6</td>\n",
       "      <td>3.10</td>\n",
       "      <td>1.5</td>\n",
       "    </tr>\n",
       "    <tr>\n",
       "      <th>1</th>\n",
       "      <td>2</td>\n",
       "      <td>Pliesto_Shaly_Vsh60</td>\n",
       "      <td>0.60</td>\n",
       "      <td>0.50</td>\n",
       "      <td>0.18</td>\n",
       "      <td>0.564</td>\n",
       "      <td>0.04</td>\n",
       "      <td>70400000.0</td>\n",
       "      <td>30000000.0</td>\n",
       "      <td>1.48</td>\n",
       "      <td>4</td>\n",
       "      <td>2.22</td>\n",
       "      <td>1.2</td>\n",
       "    </tr>\n",
       "    <tr>\n",
       "      <th>2</th>\n",
       "      <td>3</td>\n",
       "      <td>Plio_Up_Vsh55</td>\n",
       "      <td>0.55</td>\n",
       "      <td>0.44</td>\n",
       "      <td>0.18</td>\n",
       "      <td>0.547</td>\n",
       "      <td>0.04</td>\n",
       "      <td>65400000.0</td>\n",
       "      <td>30000000.0</td>\n",
       "      <td>1.91</td>\n",
       "      <td>4</td>\n",
       "      <td>2.41</td>\n",
       "      <td>1.2</td>\n",
       "    </tr>\n",
       "    <tr>\n",
       "      <th>3</th>\n",
       "      <td>4</td>\n",
       "      <td>Plio_LSandy_Vsh45</td>\n",
       "      <td>0.45</td>\n",
       "      <td>0.34</td>\n",
       "      <td>0.18</td>\n",
       "      <td>0.513</td>\n",
       "      <td>0.04</td>\n",
       "      <td>50000000.0</td>\n",
       "      <td>30000000.0</td>\n",
       "      <td>3.15</td>\n",
       "      <td>4</td>\n",
       "      <td>3.29</td>\n",
       "      <td>1.2</td>\n",
       "    </tr>\n",
       "    <tr>\n",
       "      <th>4</th>\n",
       "      <td>5</td>\n",
       "      <td>Mio_Up_Vsh50</td>\n",
       "      <td>0.50</td>\n",
       "      <td>0.39</td>\n",
       "      <td>0.18</td>\n",
       "      <td>0.530</td>\n",
       "      <td>0.04</td>\n",
       "      <td>60500000.0</td>\n",
       "      <td>30000000.0</td>\n",
       "      <td>2.50</td>\n",
       "      <td>4</td>\n",
       "      <td>2.60</td>\n",
       "      <td>1.2</td>\n",
       "    </tr>\n",
       "    <tr>\n",
       "      <th>5</th>\n",
       "      <td>6</td>\n",
       "      <td>Mio_Sandy0_Vsh36</td>\n",
       "      <td>0.36</td>\n",
       "      <td>0.50</td>\n",
       "      <td>0.20</td>\n",
       "      <td>0.550</td>\n",
       "      <td>0.06</td>\n",
       "      <td>50500000.0</td>\n",
       "      <td>40000000.0</td>\n",
       "      <td>2.45</td>\n",
       "      <td>6</td>\n",
       "      <td>3.10</td>\n",
       "      <td>1.5</td>\n",
       "    </tr>\n",
       "    <tr>\n",
       "      <th>6</th>\n",
       "      <td>7</td>\n",
       "      <td>Mio_Shaly1_Vsh70</td>\n",
       "      <td>0.70</td>\n",
       "      <td>0.55</td>\n",
       "      <td>0.18</td>\n",
       "      <td>0.598</td>\n",
       "      <td>0.04</td>\n",
       "      <td>80300000.0</td>\n",
       "      <td>30000000.0</td>\n",
       "      <td>0.89</td>\n",
       "      <td>4</td>\n",
       "      <td>1.84</td>\n",
       "      <td>1.2</td>\n",
       "    </tr>\n",
       "    <tr>\n",
       "      <th>7</th>\n",
       "      <td>8</td>\n",
       "      <td>Mio_Sandy1_Vsh36</td>\n",
       "      <td>0.36</td>\n",
       "      <td>0.50</td>\n",
       "      <td>0.20</td>\n",
       "      <td>0.550</td>\n",
       "      <td>0.06</td>\n",
       "      <td>50500000.0</td>\n",
       "      <td>40000000.0</td>\n",
       "      <td>2.45</td>\n",
       "      <td>6</td>\n",
       "      <td>3.10</td>\n",
       "      <td>1.5</td>\n",
       "    </tr>\n",
       "    <tr>\n",
       "      <th>8</th>\n",
       "      <td>9</td>\n",
       "      <td>Mio_Shaly2_Vsh60</td>\n",
       "      <td>0.60</td>\n",
       "      <td>0.50</td>\n",
       "      <td>0.18</td>\n",
       "      <td>0.564</td>\n",
       "      <td>0.04</td>\n",
       "      <td>70400000.0</td>\n",
       "      <td>30000000.0</td>\n",
       "      <td>1.48</td>\n",
       "      <td>4</td>\n",
       "      <td>2.22</td>\n",
       "      <td>1.2</td>\n",
       "    </tr>\n",
       "    <tr>\n",
       "      <th>9</th>\n",
       "      <td>10</td>\n",
       "      <td>Mio_Lower</td>\n",
       "      <td>NaN</td>\n",
       "      <td>0.50</td>\n",
       "      <td>0.20</td>\n",
       "      <td>0.550</td>\n",
       "      <td>0.06</td>\n",
       "      <td>50500000.0</td>\n",
       "      <td>40000000.0</td>\n",
       "      <td>2.45</td>\n",
       "      <td>6</td>\n",
       "      <td>3.10</td>\n",
       "      <td>1.5</td>\n",
       "    </tr>\n",
       "  </tbody>\n",
       "</table>\n",
       "</div>"
      ],
      "text/plain": [
       "   layer            lithology  clay_content_fraction   \n",
       "0      1      Pliesto_Surface                    NaN  \\\n",
       "1      2  Pliesto_Shaly_Vsh60                   0.60   \n",
       "2      3        Plio_Up_Vsh55                   0.55   \n",
       "3      4    Plio_LSandy_Vsh45                   0.45   \n",
       "4      5         Mio_Up_Vsh50                   0.50   \n",
       "5      6     Mio_Sandy0_Vsh36                   0.36   \n",
       "6      7     Mio_Shaly1_Vsh70                   0.70   \n",
       "7      8     Mio_Sandy1_Vsh36                   0.36   \n",
       "8      9     Mio_Shaly2_Vsh60                   0.60   \n",
       "9     10            Mio_Lower                    NaN   \n",
       "\n",
       "   Athy's Factor k (depth)_mu  Athy's Factor k (depth)_sigma   \n",
       "0                        0.50                           0.20  \\\n",
       "1                        0.50                           0.18   \n",
       "2                        0.44                           0.18   \n",
       "3                        0.34                           0.18   \n",
       "4                        0.39                           0.18   \n",
       "5                        0.50                           0.20   \n",
       "6                        0.55                           0.18   \n",
       "7                        0.50                           0.20   \n",
       "8                        0.50                           0.18   \n",
       "9                        0.50                           0.20   \n",
       "\n",
       "   Initial Porosity_mu  Initial Porosity_sigma  Specific Surface Area_mu   \n",
       "0                0.550                    0.06                50500000.0  \\\n",
       "1                0.564                    0.04                70400000.0   \n",
       "2                0.547                    0.04                65400000.0   \n",
       "3                0.513                    0.04                50000000.0   \n",
       "4                0.530                    0.04                60500000.0   \n",
       "5                0.550                    0.06                50500000.0   \n",
       "6                0.598                    0.04                80300000.0   \n",
       "7                0.550                    0.06                50500000.0   \n",
       "8                0.564                    0.04                70400000.0   \n",
       "9                0.550                    0.06                50500000.0   \n",
       "\n",
       "   Specific Surface Area_sigma  Scaling Factor_mu  Scaling Factor_sigma   \n",
       "0                   40000000.0               2.45                     6  \\\n",
       "1                   30000000.0               1.48                     4   \n",
       "2                   30000000.0               1.91                     4   \n",
       "3                   30000000.0               3.15                     4   \n",
       "4                   30000000.0               2.50                     4   \n",
       "5                   40000000.0               2.45                     6   \n",
       "6                   30000000.0               0.89                     4   \n",
       "7                   40000000.0               2.45                     6   \n",
       "8                   30000000.0               1.48                     4   \n",
       "9                   40000000.0               2.45                     6   \n",
       "\n",
       "   Anisotropy Factor Permeability_mu  Anisotropy Factor Permeability_sigma  \n",
       "0                               3.10                                   1.5  \n",
       "1                               2.22                                   1.2  \n",
       "2                               2.41                                   1.2  \n",
       "3                               3.29                                   1.2  \n",
       "4                               2.60                                   1.2  \n",
       "5                               3.10                                   1.5  \n",
       "6                               1.84                                   1.2  \n",
       "7                               3.10                                   1.5  \n",
       "8                               2.22                                   1.2  \n",
       "9                               3.10                                   1.5  "
      ]
     },
     "execution_count": 13,
     "metadata": {},
     "output_type": "execute_result"
    }
   ],
   "source": [
    "lithology_priors_table"
   ]
  },
  {
   "cell_type": "code",
   "execution_count": 54,
   "metadata": {},
   "outputs": [],
   "source": [
    "import pandas as pd\n",
    "\n",
    "min_max_table = pd.DataFrame()\n",
    "for lithology_index, lithology_name in enumerate(lithology_names):\n",
    "\n",
    "    # Get the random variable parameters\n",
    "    sigmas = lithology_priors_table[lithology_uncertain_properties_sigma].iloc[lithology_index,:].values\n",
    "    mus = lithology_priors_table[lithology_uncertain_properties_mu].iloc[lithology_index,:].values\n",
    "\n",
    "    # Sample from normals\n",
    "    property_values_low = mus - 2*sigmas\n",
    "    property_values_high = mus + 2*sigmas\n",
    "    property_values_low = [max(l, min_value) for l, min_value in zip(property_values_low, min_values)]\n",
    "    property_values_high = [min(l, max_value) for l, max_value in zip(property_values_high, max_values)]\n",
    "\n",
    "    row_dict = {prop: [f'{round(low,2)} - {round(high,2)}'] for prop, low, high in zip(lithology_uncertain_properties, property_values_low, property_values_high)}\n",
    "    row_dict['lithology'] = lithology_name\n",
    "    row = pd.DataFrame.from_dict(row_dict)\n",
    "    min_max_table = pd.concat([min_max_table, row])\n",
    "\n",
    "min_max_table.to_clipboard()"
   ]
  },
  {
   "attachments": {},
   "cell_type": "markdown",
   "metadata": {},
   "source": [
    "# Creating the priors"
   ]
  },
  {
   "cell_type": "code",
   "execution_count": 10,
   "metadata": {},
   "outputs": [],
   "source": [
    "# Update lithology\n",
    "for lithology_index, lithology_name in enumerate(lithology_names):\n",
    "\n",
    "    # Get the random variable parameters\n",
    "    sigmas = lithology_priors_table[lithology_uncertain_properties_sigma].iloc[lithology_index,:].values\n",
    "    mus = lithology_priors_table[lithology_uncertain_properties_mu].iloc[lithology_index,:].values\n",
    "\n",
    "    # Sample from normals\n",
    "    property_values = np.random.normal(mus, sigmas)\n",
    "\n",
    "    # Update the lithology\n",
    "    property_dict = {prop:val for prop,val in zip(lithology_uncertain_properties, property_values)}\n",
    "    lithology.update_lithology_parameter(lithology_name, property_dict)\n",
    "\n",
    "project.save_lithology()\n",
    "\n",
    "# Update heatflow\n",
    "heat_value = np.random.normal(heat_prior_mu, heat_prior_sigma)\n",
    "heat_value = 45\n",
    "model.heat_flow.table['Value'] = heat_value\n",
    "model.heat_flow.save()"
   ]
  },
  {
   "attachments": {},
   "cell_type": "markdown",
   "metadata": {},
   "source": [
    "# Run the model"
   ]
  },
  {
   "cell_type": "code",
   "execution_count": 11,
   "metadata": {},
   "outputs": [
    {
     "data": {
      "text/html": [
       "<div>\n",
       "<style scoped>\n",
       "    .dataframe tbody tr th:only-of-type {\n",
       "        vertical-align: middle;\n",
       "    }\n",
       "\n",
       "    .dataframe tbody tr th {\n",
       "        vertical-align: top;\n",
       "    }\n",
       "\n",
       "    .dataframe thead th {\n",
       "        text-align: right;\n",
       "    }\n",
       "</style>\n",
       "<table border=\"1\" class=\"dataframe\">\n",
       "  <thead>\n",
       "    <tr style=\"text-align: right;\">\n",
       "      <th></th>\n",
       "      <th>Depth</th>\n",
       "      <th>Porosity (effective)</th>\n",
       "      <th>Temperature</th>\n",
       "      <th>Pore Pressure</th>\n",
       "    </tr>\n",
       "  </thead>\n",
       "  <tbody>\n",
       "    <tr>\n",
       "      <th>0</th>\n",
       "      <td>167.854767</td>\n",
       "      <td>0.544497</td>\n",
       "      <td>10.537378</td>\n",
       "      <td>1.824000</td>\n",
       "    </tr>\n",
       "    <tr>\n",
       "      <th>1</th>\n",
       "      <td>314.226715</td>\n",
       "      <td>0.521305</td>\n",
       "      <td>14.986261</td>\n",
       "      <td>3.328498</td>\n",
       "    </tr>\n",
       "    <tr>\n",
       "      <th>2</th>\n",
       "      <td>460.603546</td>\n",
       "      <td>0.499136</td>\n",
       "      <td>19.360315</td>\n",
       "      <td>4.835008</td>\n",
       "    </tr>\n",
       "    <tr>\n",
       "      <th>3</th>\n",
       "      <td>606.986389</td>\n",
       "      <td>0.477953</td>\n",
       "      <td>23.664575</td>\n",
       "      <td>6.343754</td>\n",
       "    </tr>\n",
       "    <tr>\n",
       "      <th>4</th>\n",
       "      <td>753.375610</td>\n",
       "      <td>0.457710</td>\n",
       "      <td>27.903802</td>\n",
       "      <td>7.854529</td>\n",
       "    </tr>\n",
       "    <tr>\n",
       "      <th>5</th>\n",
       "      <td>899.771545</td>\n",
       "      <td>0.438350</td>\n",
       "      <td>32.082239</td>\n",
       "      <td>9.365977</td>\n",
       "    </tr>\n",
       "    <tr>\n",
       "      <th>6</th>\n",
       "      <td>1067.088867</td>\n",
       "      <td>0.418513</td>\n",
       "      <td>36.787988</td>\n",
       "      <td>11.094267</td>\n",
       "    </tr>\n",
       "    <tr>\n",
       "      <th>7</th>\n",
       "      <td>1204.419800</td>\n",
       "      <td>0.332280</td>\n",
       "      <td>40.473840</td>\n",
       "      <td>12.562004</td>\n",
       "    </tr>\n",
       "    <tr>\n",
       "      <th>8</th>\n",
       "      <td>1341.761108</td>\n",
       "      <td>0.309057</td>\n",
       "      <td>44.090906</td>\n",
       "      <td>14.040010</td>\n",
       "    </tr>\n",
       "    <tr>\n",
       "      <th>9</th>\n",
       "      <td>1479.114258</td>\n",
       "      <td>0.287623</td>\n",
       "      <td>47.646570</td>\n",
       "      <td>15.529698</td>\n",
       "    </tr>\n",
       "    <tr>\n",
       "      <th>10</th>\n",
       "      <td>1616.478882</td>\n",
       "      <td>0.267846</td>\n",
       "      <td>51.147302</td>\n",
       "      <td>17.032639</td>\n",
       "    </tr>\n",
       "    <tr>\n",
       "      <th>11</th>\n",
       "      <td>1753.854492</td>\n",
       "      <td>0.249606</td>\n",
       "      <td>54.598840</td>\n",
       "      <td>18.550587</td>\n",
       "    </tr>\n",
       "    <tr>\n",
       "      <th>12</th>\n",
       "      <td>1891.240479</td>\n",
       "      <td>0.232791</td>\n",
       "      <td>58.006189</td>\n",
       "      <td>20.085512</td>\n",
       "    </tr>\n",
       "    <tr>\n",
       "      <th>13</th>\n",
       "      <td>2048.264160</td>\n",
       "      <td>0.216235</td>\n",
       "      <td>61.851831</td>\n",
       "      <td>21.863337</td>\n",
       "    </tr>\n",
       "    <tr>\n",
       "      <th>14</th>\n",
       "      <td>2174.241211</td>\n",
       "      <td>0.146509</td>\n",
       "      <td>64.637933</td>\n",
       "      <td>23.376345</td>\n",
       "    </tr>\n",
       "    <tr>\n",
       "      <th>15</th>\n",
       "      <td>2300.219238</td>\n",
       "      <td>0.136352</td>\n",
       "      <td>67.404413</td>\n",
       "      <td>24.926178</td>\n",
       "    </tr>\n",
       "    <tr>\n",
       "      <th>16</th>\n",
       "      <td>2426.198242</td>\n",
       "      <td>0.127165</td>\n",
       "      <td>70.153772</td>\n",
       "      <td>26.517363</td>\n",
       "    </tr>\n",
       "    <tr>\n",
       "      <th>17</th>\n",
       "      <td>2552.177979</td>\n",
       "      <td>0.118865</td>\n",
       "      <td>72.888147</td>\n",
       "      <td>28.154543</td>\n",
       "    </tr>\n",
       "    <tr>\n",
       "      <th>18</th>\n",
       "      <td>2724.703613</td>\n",
       "      <td>0.241945</td>\n",
       "      <td>76.958643</td>\n",
       "      <td>29.914118</td>\n",
       "    </tr>\n",
       "    <tr>\n",
       "      <th>19</th>\n",
       "      <td>2897.250732</td>\n",
       "      <td>0.230382</td>\n",
       "      <td>81.000360</td>\n",
       "      <td>31.673910</td>\n",
       "    </tr>\n",
       "    <tr>\n",
       "      <th>20</th>\n",
       "      <td>3069.812744</td>\n",
       "      <td>0.219394</td>\n",
       "      <td>85.015192</td>\n",
       "      <td>33.433857</td>\n",
       "    </tr>\n",
       "    <tr>\n",
       "      <th>21</th>\n",
       "      <td>3242.385254</td>\n",
       "      <td>0.208953</td>\n",
       "      <td>89.005090</td>\n",
       "      <td>35.193909</td>\n",
       "    </tr>\n",
       "    <tr>\n",
       "      <th>22</th>\n",
       "      <td>3414.964111</td>\n",
       "      <td>0.199033</td>\n",
       "      <td>92.971796</td>\n",
       "      <td>36.954025</td>\n",
       "    </tr>\n",
       "    <tr>\n",
       "      <th>23</th>\n",
       "      <td>3630.692139</td>\n",
       "      <td>0.188454</td>\n",
       "      <td>97.899927</td>\n",
       "      <td>39.154217</td>\n",
       "    </tr>\n",
       "    <tr>\n",
       "      <th>24</th>\n",
       "      <td>3826.204834</td>\n",
       "      <td>0.113023</td>\n",
       "      <td>102.145776</td>\n",
       "      <td>41.629646</td>\n",
       "    </tr>\n",
       "    <tr>\n",
       "      <th>25</th>\n",
       "      <td>4021.699707</td>\n",
       "      <td>0.105916</td>\n",
       "      <td>106.376215</td>\n",
       "      <td>44.252037</td>\n",
       "    </tr>\n",
       "    <tr>\n",
       "      <th>26</th>\n",
       "      <td>4255.757812</td>\n",
       "      <td>0.120018</td>\n",
       "      <td>111.161584</td>\n",
       "      <td>46.641991</td>\n",
       "    </tr>\n",
       "    <tr>\n",
       "      <th>27</th>\n",
       "      <td>4489.814453</td>\n",
       "      <td>0.110886</td>\n",
       "      <td>115.925470</td>\n",
       "      <td>49.032166</td>\n",
       "    </tr>\n",
       "    <tr>\n",
       "      <th>28</th>\n",
       "      <td>4723.865234</td>\n",
       "      <td>0.102512</td>\n",
       "      <td>120.671075</td>\n",
       "      <td>51.422523</td>\n",
       "    </tr>\n",
       "    <tr>\n",
       "      <th>29</th>\n",
       "      <td>4957.909180</td>\n",
       "      <td>0.094835</td>\n",
       "      <td>125.401392</td>\n",
       "      <td>53.813591</td>\n",
       "    </tr>\n",
       "    <tr>\n",
       "      <th>30</th>\n",
       "      <td>5191.943848</td>\n",
       "      <td>0.087796</td>\n",
       "      <td>130.119104</td>\n",
       "      <td>56.205563</td>\n",
       "    </tr>\n",
       "    <tr>\n",
       "      <th>31</th>\n",
       "      <td>5437.313477</td>\n",
       "      <td>0.053404</td>\n",
       "      <td>135.894647</td>\n",
       "      <td>58.708061</td>\n",
       "    </tr>\n",
       "    <tr>\n",
       "      <th>32</th>\n",
       "      <td>5608.157227</td>\n",
       "      <td>0.211741</td>\n",
       "      <td>139.930383</td>\n",
       "      <td>60.450485</td>\n",
       "    </tr>\n",
       "    <tr>\n",
       "      <th>33</th>\n",
       "      <td>5779.001953</td>\n",
       "      <td>0.205750</td>\n",
       "      <td>143.958215</td>\n",
       "      <td>62.192917</td>\n",
       "    </tr>\n",
       "    <tr>\n",
       "      <th>34</th>\n",
       "      <td>5978.378418</td>\n",
       "      <td>0.030086</td>\n",
       "      <td>148.350061</td>\n",
       "      <td>64.226341</td>\n",
       "    </tr>\n",
       "    <tr>\n",
       "      <th>35</th>\n",
       "      <td>6177.746094</td>\n",
       "      <td>0.027707</td>\n",
       "      <td>152.735315</td>\n",
       "      <td>66.259674</td>\n",
       "    </tr>\n",
       "    <tr>\n",
       "      <th>36</th>\n",
       "      <td>6377.105957</td>\n",
       "      <td>0.025611</td>\n",
       "      <td>157.114893</td>\n",
       "      <td>68.292931</td>\n",
       "    </tr>\n",
       "    <tr>\n",
       "      <th>37</th>\n",
       "      <td>6576.458496</td>\n",
       "      <td>0.023762</td>\n",
       "      <td>161.489648</td>\n",
       "      <td>70.326111</td>\n",
       "    </tr>\n",
       "    <tr>\n",
       "      <th>38</th>\n",
       "      <td>6775.804688</td>\n",
       "      <td>0.022133</td>\n",
       "      <td>165.860254</td>\n",
       "      <td>72.359222</td>\n",
       "    </tr>\n",
       "    <tr>\n",
       "      <th>39</th>\n",
       "      <td>7096.459961</td>\n",
       "      <td>0.021773</td>\n",
       "      <td>172.538568</td>\n",
       "      <td>75.629562</td>\n",
       "    </tr>\n",
       "    <tr>\n",
       "      <th>40</th>\n",
       "      <td>7417.102539</td>\n",
       "      <td>0.019729</td>\n",
       "      <td>179.220605</td>\n",
       "      <td>78.899765</td>\n",
       "    </tr>\n",
       "    <tr>\n",
       "      <th>41</th>\n",
       "      <td>7737.734863</td>\n",
       "      <td>0.018041</td>\n",
       "      <td>185.908167</td>\n",
       "      <td>82.169868</td>\n",
       "    </tr>\n",
       "    <tr>\n",
       "      <th>42</th>\n",
       "      <td>8058.358398</td>\n",
       "      <td>0.016646</td>\n",
       "      <td>192.602686</td>\n",
       "      <td>85.439880</td>\n",
       "    </tr>\n",
       "    <tr>\n",
       "      <th>43</th>\n",
       "      <td>8378.974609</td>\n",
       "      <td>0.015492</td>\n",
       "      <td>199.305444</td>\n",
       "      <td>88.709824</td>\n",
       "    </tr>\n",
       "    <tr>\n",
       "      <th>44</th>\n",
       "      <td>8579.357422</td>\n",
       "      <td>0.014704</td>\n",
       "      <td>203.499292</td>\n",
       "      <td>90.753502</td>\n",
       "    </tr>\n",
       "    <tr>\n",
       "      <th>45</th>\n",
       "      <td>8779.737305</td>\n",
       "      <td>0.014176</td>\n",
       "      <td>207.696924</td>\n",
       "      <td>92.797165</td>\n",
       "    </tr>\n",
       "  </tbody>\n",
       "</table>\n",
       "</div>"
      ],
      "text/plain": [
       "          Depth  Porosity (effective)  Temperature  Pore Pressure\n",
       "0    167.854767              0.544497    10.537378       1.824000\n",
       "1    314.226715              0.521305    14.986261       3.328498\n",
       "2    460.603546              0.499136    19.360315       4.835008\n",
       "3    606.986389              0.477953    23.664575       6.343754\n",
       "4    753.375610              0.457710    27.903802       7.854529\n",
       "5    899.771545              0.438350    32.082239       9.365977\n",
       "6   1067.088867              0.418513    36.787988      11.094267\n",
       "7   1204.419800              0.332280    40.473840      12.562004\n",
       "8   1341.761108              0.309057    44.090906      14.040010\n",
       "9   1479.114258              0.287623    47.646570      15.529698\n",
       "10  1616.478882              0.267846    51.147302      17.032639\n",
       "11  1753.854492              0.249606    54.598840      18.550587\n",
       "12  1891.240479              0.232791    58.006189      20.085512\n",
       "13  2048.264160              0.216235    61.851831      21.863337\n",
       "14  2174.241211              0.146509    64.637933      23.376345\n",
       "15  2300.219238              0.136352    67.404413      24.926178\n",
       "16  2426.198242              0.127165    70.153772      26.517363\n",
       "17  2552.177979              0.118865    72.888147      28.154543\n",
       "18  2724.703613              0.241945    76.958643      29.914118\n",
       "19  2897.250732              0.230382    81.000360      31.673910\n",
       "20  3069.812744              0.219394    85.015192      33.433857\n",
       "21  3242.385254              0.208953    89.005090      35.193909\n",
       "22  3414.964111              0.199033    92.971796      36.954025\n",
       "23  3630.692139              0.188454    97.899927      39.154217\n",
       "24  3826.204834              0.113023   102.145776      41.629646\n",
       "25  4021.699707              0.105916   106.376215      44.252037\n",
       "26  4255.757812              0.120018   111.161584      46.641991\n",
       "27  4489.814453              0.110886   115.925470      49.032166\n",
       "28  4723.865234              0.102512   120.671075      51.422523\n",
       "29  4957.909180              0.094835   125.401392      53.813591\n",
       "30  5191.943848              0.087796   130.119104      56.205563\n",
       "31  5437.313477              0.053404   135.894647      58.708061\n",
       "32  5608.157227              0.211741   139.930383      60.450485\n",
       "33  5779.001953              0.205750   143.958215      62.192917\n",
       "34  5978.378418              0.030086   148.350061      64.226341\n",
       "35  6177.746094              0.027707   152.735315      66.259674\n",
       "36  6377.105957              0.025611   157.114893      68.292931\n",
       "37  6576.458496              0.023762   161.489648      70.326111\n",
       "38  6775.804688              0.022133   165.860254      72.359222\n",
       "39  7096.459961              0.021773   172.538568      75.629562\n",
       "40  7417.102539              0.019729   179.220605      78.899765\n",
       "41  7737.734863              0.018041   185.908167      82.169868\n",
       "42  8058.358398              0.016646   192.602686      85.439880\n",
       "43  8378.974609              0.015492   199.305444      88.709824\n",
       "44  8579.357422              0.014704   203.499292      90.753502\n",
       "45  8779.737305              0.014176   207.696924      92.797165"
      ]
     },
     "execution_count": 11,
     "metadata": {},
     "output_type": "execute_result"
    }
   ],
   "source": [
    "# Run the model\n",
    "log = project.run_model(\"ST168\")\n",
    "\n",
    "# Get the results\n",
    "layer_names = [\"Depth\", \"Porosity (effective)\", \"Temperature\", \"Pore Pressure\"]\n",
    "results_table = get_layer_data_table(project, model_name, layer_names)\n",
    "results_table['Temperature'] = results_table['Temperature'] -272.15\n",
    "results_table"
   ]
  },
  {
   "attachments": {},
   "cell_type": "markdown",
   "metadata": {},
   "source": [
    "# Plot results"
   ]
  },
  {
   "cell_type": "code",
   "execution_count": 55,
   "metadata": {},
   "outputs": [
    {
     "data": {
      "image/png": "[encoded data removed]",
      "text/plain": [
       "<Figure size 330x400 with 1 Axes>"
      ]
     },
     "metadata": {},
     "output_type": "display_data"
    }
   ],
   "source": [
    "layer_names = [\"Depth\", \"Porosity (effective)\"]\n",
    "y = results_table[\"Depth\"].values\n",
    "n_plots = len(layer_names)-1\n",
    "fig, axs = plt.subplots(1,n_plots, figsize=(3.3*n_plots,4))\n",
    "if not isinstance(axs, list):\n",
    "    axs = [axs,]\n",
    "\n",
    "for i, layer_name in enumerate(layer_names[1:]):\n",
    "    x = results_table[layer_name].values\n",
    "    calibration_data = calibration_tables[layer_name]\n",
    "    ax = axs[i]\n",
    "    ax.plot(x, y, color='k')\n",
    "    ax.set_ylim([0, None])\n",
    "    ax.invert_yaxis()\n",
    "    ax.set_xlabel(layer_name)\n",
    "    if i==0:\n",
    "        ax.set_ylabel(\"Depth (m)\")\n",
    "    else:\n",
    "        ax.set_yticklabels([])\n",
    "\n",
    "    y_calibration = calibration_data.iloc[:,0].values\n",
    "    x_calibration = calibration_data.iloc[:,1].values\n",
    "    ax.scatter(x_calibration, y_calibration, color='r', s=15)"
   ]
  },
  {
   "attachments": {},
   "cell_type": "markdown",
   "metadata": {},
   "source": [
    "# Calculate errors"
   ]
  },
  {
   "cell_type": "code",
   "execution_count": 30,
   "metadata": {},
   "outputs": [
    {
     "name": "stdout",
     "output_type": "stream",
     "text": [
      "Porosity (effective)\n"
     ]
    },
    {
     "data": {
      "text/plain": [
       "[0.007457998876469484]"
      ]
     },
     "execution_count": 30,
     "metadata": {},
     "output_type": "execute_result"
    }
   ],
   "source": [
    "y = results_table[\"Depth\"].values\n",
    "\n",
    "mean_square_errors = []\n",
    "r_squareds = []\n",
    "for i, layer_name in enumerate(layer_names[1:]):\n",
    "    print(layer_name)\n",
    "    x = results_table[layer_name].values\n",
    "    calibration_data = calibration_tables[layer_name]\n",
    "    y_calibration = calibration_data.iloc[:,0].values\n",
    "    x_calibration = calibration_data.iloc[:,1].values\n",
    "\n",
    "    x_interp = np.interp(y_calibration, y,x)\n",
    "\n",
    "    mse = mean_squared_error(x_calibration, x_interp)\n",
    "    mean_square_errors.append(mse)\n",
    "    r2 = r2_score(x_calibration, x_interp)\n",
    "    r2 = np.max([0, r2])\n",
    "    r_squareds.append(r2)\n",
    "\n",
    "mean_square_errors"
   ]
  },
  {
   "cell_type": "code",
   "execution_count": 12,
   "metadata": {},
   "outputs": [
    {
     "name": "stderr",
     "output_type": "stream",
     "text": [
      "[I 2023-07-16 07:33:23,216] A new study created in memory with name: PetroMod Optimization\n",
      "[I 2023-07-16 07:33:45,927] Trial 0 finished with value: 0.005700561912928195 and parameters: {\"Pliesto_Surface_Athy's Factor k (depth)\": 0.6820038386332599, 'Pliesto_Surface_Anisotropy Factor Permeability': 4.397853807560923, 'Pliesto_Surface_Scaling Factor': 0.48473913881226594, 'Pliesto_Surface_Specific Surface Area': 97889617.81427792, 'Pliesto_Surface_Initial Porosity': 0.5011533120789445, \"Pliesto_Shaly_Vsh60_Athy's Factor k (depth)\": 0.488019273816148, 'Pliesto_Shaly_Vsh60_Anisotropy Factor Permeability': 1.450636824136881, 'Pliesto_Shaly_Vsh60_Scaling Factor': 7.429729784715121, 'Pliesto_Shaly_Vsh60_Specific Surface Area': 115866516.78115885, 'Pliesto_Shaly_Vsh60_Initial Porosity': 0.60359258472544, \"Plio_Up_Vsh55_Athy's Factor k (depth)\": 0.2501562824709525, 'Plio_Up_Vsh55_Anisotropy Factor Permeability': 4.578324426057275, 'Plio_Up_Vsh55_Scaling Factor': -1.0155451200028391, 'Plio_Up_Vsh55_Specific Surface Area': 121682223.30981028, 'Plio_Up_Vsh55_Initial Porosity': 0.47293277576386894, \"Plio_LSandy_Vsh45_Athy's Factor k (depth)\": 0.13207401533048804, 'Plio_LSandy_Vsh45_Anisotropy Factor Permeability': 3.9837196856414034, 'Plio_LSandy_Vsh45_Scaling Factor': 6.112765520095419, 'Plio_LSandy_Vsh45_Specific Surface Area': 12364679.002150655, 'Plio_LSandy_Vsh45_Initial Porosity': 0.5382181407052413, \"Mio_Up_Vsh50_Athy's Factor k (depth)\": 0.2626863872731813, 'Mio_Up_Vsh50_Anisotropy Factor Permeability': 2.4104528234273044, 'Mio_Up_Vsh50_Scaling Factor': 2.967403285469464, 'Mio_Up_Vsh50_Specific Surface Area': 56195473.428011864, 'Mio_Up_Vsh50_Initial Porosity': 0.5498169315838988, \"Mio_Sandy0_Vsh36_Athy's Factor k (depth)\": 0.8406514475041628, 'Mio_Sandy0_Vsh36_Anisotropy Factor Permeability': 4.8843876046112324, 'Mio_Sandy0_Vsh36_Scaling Factor': 0.44638794707097773, 'Mio_Sandy0_Vsh36_Specific Surface Area': 33244065.975585543, 'Mio_Sandy0_Vsh36_Initial Porosity': 0.5059232535727899, \"Mio_Shaly1_Vsh70_Athy's Factor k (depth)\": 0.30661574496194277, 'Mio_Shaly1_Vsh70_Anisotropy Factor Permeability': 3.942126780991072, 'Mio_Shaly1_Vsh70_Scaling Factor': 8.850480490024008, 'Mio_Shaly1_Vsh70_Specific Surface Area': 99932585.73281525, 'Mio_Shaly1_Vsh70_Initial Porosity': 0.6242171680932879, \"Mio_Sandy1_Vsh36_Athy's Factor k (depth)\": 0.2553406301057534, 'Mio_Sandy1_Vsh36_Anisotropy Factor Permeability': 2.282414543663653, 'Mio_Sandy1_Vsh36_Scaling Factor': -6.969386889102236, 'Mio_Sandy1_Vsh36_Specific Surface Area': 19421705.995275214, 'Mio_Sandy1_Vsh36_Initial Porosity': 0.49452483492859456, \"Mio_Shaly2_Vsh60_Athy's Factor k (depth)\": 0.46986003697339995, 'Mio_Shaly2_Vsh60_Anisotropy Factor Permeability': 2.6415312744497665, 'Mio_Shaly2_Vsh60_Scaling Factor': 0.5394540624816617, 'Mio_Shaly2_Vsh60_Specific Surface Area': 65534438.598304026, 'Mio_Shaly2_Vsh60_Initial Porosity': 0.6005796806802242, \"Mio_Lower_Athy's Factor k (depth)\": 0.18869888047404126, 'Mio_Lower_Anisotropy Factor Permeability': 4.12003291575804, 'Mio_Lower_Scaling Factor': -3.8324118415214743, 'Mio_Lower_Specific Surface Area': -26099544.230195917, 'Mio_Lower_Initial Porosity': 0.47624697208277533}. Best is trial 0 with value: 0.005700561912928195.\n",
      "[I 2023-07-16 07:34:02,330] Trial 1 finished with value: 0.01073672023805725 and parameters: {\"Pliesto_Surface_Athy's Factor k (depth)\": 0.8181927701669996, 'Pliesto_Surface_Anisotropy Factor Permeability': 5.227060425512347, 'Pliesto_Surface_Scaling Factor': -8.538786859962709, 'Pliesto_Surface_Specific Surface Area': 52978500.232762694, 'Pliesto_Surface_Initial Porosity': 0.49292971420853227, \"Pliesto_Shaly_Vsh60_Athy's Factor k (depth)\": 0.4700733942790025, 'Pliesto_Shaly_Vsh60_Anisotropy Factor Permeability': 4.125726991615436, 'Pliesto_Shaly_Vsh60_Scaling Factor': -0.4905323161311639, 'Pliesto_Shaly_Vsh60_Specific Surface Area': 12350140.47031242, 'Pliesto_Shaly_Vsh60_Initial Porosity': 0.5998965243872192, \"Plio_Up_Vsh55_Athy's Factor k (depth)\": 0.7214842145057261, 'Plio_Up_Vsh55_Anisotropy Factor Permeability': 1.3541459312077972, 'Plio_Up_Vsh55_Scaling Factor': -6.023288658401274, 'Plio_Up_Vsh55_Specific Surface Area': 72516492.3867475, 'Plio_Up_Vsh55_Initial Porosity': 0.6051056871775392, \"Plio_LSandy_Vsh45_Athy's Factor k (depth)\": 0.15200003496452694, 'Plio_LSandy_Vsh45_Anisotropy Factor Permeability': 3.916318471059607, 'Plio_LSandy_Vsh45_Scaling Factor': 7.165913788327719, 'Plio_LSandy_Vsh45_Specific Surface Area': 30259993.373751216, 'Plio_LSandy_Vsh45_Initial Porosity': 0.5297065731365691, \"Mio_Up_Vsh50_Athy's Factor k (depth)\": 0.32048041057235016, 'Mio_Up_Vsh50_Anisotropy Factor Permeability': 2.7253340614260666, 'Mio_Up_Vsh50_Scaling Factor': 9.034849035710485, 'Mio_Up_Vsh50_Specific Surface Area': 6373572.679352166, 'Mio_Up_Vsh50_Initial Porosity': 0.5980029340170494, \"Mio_Sandy0_Vsh36_Athy's Factor k (depth)\": 0.6674932893319233, 'Mio_Sandy0_Vsh36_Anisotropy Factor Permeability': 4.2368384549542135, 'Mio_Sandy0_Vsh36_Scaling Factor': 6.276069272235485, 'Mio_Sandy0_Vsh36_Specific Surface Area': -5074476.139471453, 'Mio_Sandy0_Vsh36_Initial Porosity': 0.5738377152620326, \"Mio_Shaly1_Vsh70_Athy's Factor k (depth)\": 0.22090383458491328, 'Mio_Shaly1_Vsh70_Anisotropy Factor Permeability': 0.16617333896758713, 'Mio_Shaly1_Vsh70_Scaling Factor': -4.198212520404566, 'Mio_Shaly1_Vsh70_Specific Surface Area': 69360826.0316211, 'Mio_Shaly1_Vsh70_Initial Porosity': 0.6297413251163736, \"Mio_Sandy1_Vsh36_Athy's Factor k (depth)\": 0.5588702956655198, 'Mio_Sandy1_Vsh36_Anisotropy Factor Permeability': 3.0951403490285734, 'Mio_Sandy1_Vsh36_Scaling Factor': 10.556172902465736, 'Mio_Sandy1_Vsh36_Specific Surface Area': 98543799.21787933, 'Mio_Sandy1_Vsh36_Initial Porosity': 0.6082226100117429, \"Mio_Shaly2_Vsh60_Athy's Factor k (depth)\": 0.17540677828480772, 'Mio_Shaly2_Vsh60_Anisotropy Factor Permeability': 0.5477788735018665, 'Mio_Shaly2_Vsh60_Scaling Factor': -0.6152053709973657, 'Mio_Shaly2_Vsh60_Specific Surface Area': 51410343.69866817, 'Mio_Shaly2_Vsh60_Initial Porosity': 0.641545238128975, \"Mio_Lower_Athy's Factor k (depth)\": 0.8793351725602373, 'Mio_Lower_Anisotropy Factor Permeability': 4.945414170939117, 'Mio_Lower_Scaling Factor': -4.850083479867625, 'Mio_Lower_Specific Surface Area': 21588401.024608135, 'Mio_Lower_Initial Porosity': 0.48523264030366253}. Best is trial 0 with value: 0.005700561912928195.\n",
      "[I 2023-07-16 07:34:12,967] Trial 2 finished with value: 0.0028740502104290058 and parameters: {\"Pliesto_Surface_Athy's Factor k (depth)\": 0.5856095665761621, 'Pliesto_Surface_Anisotropy Factor Permeability': 3.551986156934739, 'Pliesto_Surface_Scaling Factor': 11.791969130372532, 'Pliesto_Surface_Specific Surface Area': 93901862.37707822, 'Pliesto_Surface_Initial Porosity': 0.46236631701646735, \"Pliesto_Shaly_Vsh60_Athy's Factor k (depth)\": 0.44725649752860824, 'Pliesto_Shaly_Vsh60_Anisotropy Factor Permeability': 4.457029169770943, 'Pliesto_Shaly_Vsh60_Scaling Factor': 9.137877954793098, 'Pliesto_Shaly_Vsh60_Specific Surface Area': 75950454.06245798, 'Pliesto_Shaly_Vsh60_Initial Porosity': 0.5439101398217844, \"Plio_Up_Vsh55_Athy's Factor k (depth)\": 0.7401535708228533, 'Plio_Up_Vsh55_Anisotropy Factor Permeability': 2.537591656899286, 'Plio_Up_Vsh55_Scaling Factor': 1.7018800426437295, 'Plio_Up_Vsh55_Specific Surface Area': 118331576.5686182, 'Plio_Up_Vsh55_Initial Porosity': 0.5217890828736271, \"Plio_LSandy_Vsh45_Athy's Factor k (depth)\": 0.03618930463817872, 'Plio_LSandy_Vsh45_Anisotropy Factor Permeability': 3.3439113293024056, 'Plio_LSandy_Vsh45_Scaling Factor': -3.7497415472933646, 'Plio_LSandy_Vsh45_Specific Surface Area': 42398890.42815782, 'Plio_LSandy_Vsh45_Initial Porosity': 0.5522701093769893, \"Mio_Up_Vsh50_Athy's Factor k (depth)\": 0.4560330442905519, 'Mio_Up_Vsh50_Anisotropy Factor Permeability': 2.1060889780012575, 'Mio_Up_Vsh50_Scaling Factor': 9.790726910502833, 'Mio_Up_Vsh50_Specific Surface Area': 79127333.51850538, 'Mio_Up_Vsh50_Initial Porosity': 0.4590153282829561, \"Mio_Sandy0_Vsh36_Athy's Factor k (depth)\": 0.3581640439967529, 'Mio_Sandy0_Vsh36_Anisotropy Factor Permeability': 0.361377102809906, 'Mio_Sandy0_Vsh36_Scaling Factor': 11.053696359929198, 'Mio_Sandy0_Vsh36_Specific Surface Area': -20281581.840856288, 'Mio_Sandy0_Vsh36_Initial Porosity': 0.5511697195096112, \"Mio_Shaly1_Vsh70_Athy's Factor k (depth)\": 0.3614649333282377, 'Mio_Shaly1_Vsh70_Anisotropy Factor Permeability': 4.039602951175296, 'Mio_Shaly1_Vsh70_Scaling Factor': 4.269351167993109, 'Mio_Shaly1_Vsh70_Specific Surface Area': 124724423.06743562, 'Mio_Shaly1_Vsh70_Initial Porosity': 0.5374016261576654, \"Mio_Sandy1_Vsh36_Athy's Factor k (depth)\": 0.6255001030248779, 'Mio_Sandy1_Vsh36_Anisotropy Factor Permeability': 4.353317373798031, 'Mio_Sandy1_Vsh36_Scaling Factor': -3.001535442869401, 'Mio_Sandy1_Vsh36_Specific Surface Area': 127352527.48900822, 'Mio_Sandy1_Vsh36_Initial Porosity': 0.6220680586641283, \"Mio_Shaly2_Vsh60_Athy's Factor k (depth)\": 0.7047727218547374, 'Mio_Shaly2_Vsh60_Anisotropy Factor Permeability': 3.7440633088268074, 'Mio_Shaly2_Vsh60_Scaling Factor': 4.532332579394918, 'Mio_Shaly2_Vsh60_Specific Surface Area': 88940137.19795868, 'Mio_Shaly2_Vsh60_Initial Porosity': 0.6241820510246308, \"Mio_Lower_Athy's Factor k (depth)\": 0.6042797766894064, 'Mio_Lower_Anisotropy Factor Permeability': 5.254990478092269, 'Mio_Lower_Scaling Factor': -4.619555349753215, 'Mio_Lower_Specific Surface Area': 113406159.30295959, 'Mio_Lower_Initial Porosity': 0.47486031771526915}. Best is trial 2 with value: 0.0028740502104290058.\n",
      "[I 2023-07-16 07:34:22,964] Trial 3 finished with value: 0.005368864926802685 and parameters: {\"Pliesto_Surface_Athy's Factor k (depth)\": 0.5597131701453625, 'Pliesto_Surface_Anisotropy Factor Permeability': 1.4921421720185133, 'Pliesto_Surface_Scaling Factor': 12.062728592156606, 'Pliesto_Surface_Specific Surface Area': 65910082.726034045, 'Pliesto_Surface_Initial Porosity': 0.5561689938762463, \"Pliesto_Shaly_Vsh60_Athy's Factor k (depth)\": 0.565127251721619, 'Pliesto_Shaly_Vsh60_Anisotropy Factor Permeability': 0.3587356678546111, 'Pliesto_Shaly_Vsh60_Scaling Factor': -4.310694355469996, 'Pliesto_Shaly_Vsh60_Specific Surface Area': 97244964.47902872, 'Pliesto_Shaly_Vsh60_Initial Porosity': 0.5380866363615063, \"Plio_Up_Vsh55_Athy's Factor k (depth)\": 0.5426175032384153, 'Plio_Up_Vsh55_Anisotropy Factor Permeability': 4.190358848766499, 'Plio_Up_Vsh55_Scaling Factor': -3.5124768575009924, 'Plio_Up_Vsh55_Specific Surface Area': 87051047.9173577, 'Plio_Up_Vsh55_Initial Porosity': 0.4873881615506447, \"Plio_LSandy_Vsh45_Athy's Factor k (depth)\": 0.05210844799295131, 'Plio_LSandy_Vsh45_Anisotropy Factor Permeability': 4.345596755675603, 'Plio_LSandy_Vsh45_Scaling Factor': 8.649040142578063, 'Plio_LSandy_Vsh45_Specific Surface Area': 12619669.323738147, 'Plio_LSandy_Vsh45_Initial Porosity': 0.5425972264288637, \"Mio_Up_Vsh50_Athy's Factor k (depth)\": 0.47645980874566757, 'Mio_Up_Vsh50_Anisotropy Factor Permeability': 1.3810537226158155, 'Mio_Up_Vsh50_Scaling Factor': 8.6951231942934, 'Mio_Up_Vsh50_Specific Surface Area': 68843658.10794184, 'Mio_Up_Vsh50_Initial Porosity': 0.528437340357257, \"Mio_Sandy0_Vsh36_Athy's Factor k (depth)\": 0.2304968514878741, 'Mio_Sandy0_Vsh36_Anisotropy Factor Permeability': 2.7780474629798353, 'Mio_Sandy0_Vsh36_Scaling Factor': 14.218593699454125, 'Mio_Sandy0_Vsh36_Specific Surface Area': 58414938.43287371, 'Mio_Sandy0_Vsh36_Initial Porosity': 0.5741793560163588, \"Mio_Shaly1_Vsh70_Athy's Factor k (depth)\": 0.78780457836543, 'Mio_Shaly1_Vsh70_Anisotropy Factor Permeability': 2.4770728542907534, 'Mio_Shaly1_Vsh70_Scaling Factor': -5.723452514046111, 'Mio_Shaly1_Vsh70_Specific Surface Area': 118862148.67397062, 'Mio_Shaly1_Vsh70_Initial Porosity': 0.6163524563222327, \"Mio_Sandy1_Vsh36_Athy's Factor k (depth)\": 0.6898222996192456, 'Mio_Sandy1_Vsh36_Anisotropy Factor Permeability': 3.3161011872477917, 'Mio_Sandy1_Vsh36_Scaling Factor': 10.203790828599239, 'Mio_Sandy1_Vsh36_Specific Surface Area': 48386618.61707814, 'Mio_Sandy1_Vsh36_Initial Porosity': 0.6567247774282579, \"Mio_Shaly2_Vsh60_Athy's Factor k (depth)\": 0.8593295178915117, 'Mio_Shaly2_Vsh60_Anisotropy Factor Permeability': 0.5101852475849128, 'Mio_Shaly2_Vsh60_Scaling Factor': -0.6592619682150751, 'Mio_Shaly2_Vsh60_Specific Surface Area': 97892241.32213598, 'Mio_Shaly2_Vsh60_Initial Porosity': 0.5193455788083859, \"Mio_Lower_Athy's Factor k (depth)\": 0.7993769107564054, 'Mio_Lower_Anisotropy Factor Permeability': 0.5051394062711989, 'Mio_Lower_Scaling Factor': 8.322928418270589, 'Mio_Lower_Specific Surface Area': 52929153.50723052, 'Mio_Lower_Initial Porosity': 0.598839608850843}. Best is trial 2 with value: 0.0028740502104290058.\n",
      "[I 2023-07-16 07:34:33,256] Trial 4 finished with value: 0.02695094671425187 and parameters: {\"Pliesto_Surface_Athy's Factor k (depth)\": 0.3630916285267965, 'Pliesto_Surface_Anisotropy Factor Permeability': 5.225915313581437, 'Pliesto_Surface_Scaling Factor': 3.961812530934065, 'Pliesto_Surface_Specific Surface Area': -12171556.22812764, 'Pliesto_Surface_Initial Porosity': 0.504081452967864, \"Pliesto_Shaly_Vsh60_Athy's Factor k (depth)\": 0.32036708496081495, 'Pliesto_Shaly_Vsh60_Anisotropy Factor Permeability': 2.437032574564722, 'Pliesto_Shaly_Vsh60_Scaling Factor': 6.85924052184982, 'Pliesto_Shaly_Vsh60_Specific Surface Area': 81676924.6828328, 'Pliesto_Shaly_Vsh60_Initial Porosity': 0.5099926522922203, \"Plio_Up_Vsh55_Athy's Factor k (depth)\": 0.7671750579612941, 'Plio_Up_Vsh55_Anisotropy Factor Permeability': 1.7451896308285486, 'Plio_Up_Vsh55_Scaling Factor': 5.169012098911049, 'Plio_Up_Vsh55_Specific Surface Area': 11321106.977916252, 'Plio_Up_Vsh55_Initial Porosity': 0.6269570224838246, \"Plio_LSandy_Vsh45_Athy's Factor k (depth)\": 0.3150302776358261, 'Plio_LSandy_Vsh45_Anisotropy Factor Permeability': 3.335878328789453, 'Plio_LSandy_Vsh45_Scaling Factor': 1.413930266019225, 'Plio_LSandy_Vsh45_Specific Surface Area': 7307973.335167497, 'Plio_LSandy_Vsh45_Initial Porosity': 0.4525059698185755, \"Mio_Up_Vsh50_Athy's Factor k (depth)\": 0.5609742146934233, 'Mio_Up_Vsh50_Anisotropy Factor Permeability': 0.8850380940915288, 'Mio_Up_Vsh50_Scaling Factor': -3.89931417293586, 'Mio_Up_Vsh50_Specific Surface Area': 118808780.01056567, 'Mio_Up_Vsh50_Initial Porosity': 0.5084881297359882, \"Mio_Sandy0_Vsh36_Athy's Factor k (depth)\": 0.10825458054662221, 'Mio_Sandy0_Vsh36_Anisotropy Factor Permeability': 4.033129823821691, 'Mio_Sandy0_Vsh36_Scaling Factor': 5.4909315756587596, 'Mio_Sandy0_Vsh36_Specific Surface Area': 72682407.56969719, 'Mio_Sandy0_Vsh36_Initial Porosity': 0.6417624721300829, \"Mio_Shaly1_Vsh70_Athy's Factor k (depth)\": 0.30865330048149414, 'Mio_Shaly1_Vsh70_Anisotropy Factor Permeability': 0.4960218949872941, 'Mio_Shaly1_Vsh70_Scaling Factor': 2.8773711156584527, 'Mio_Shaly1_Vsh70_Specific Surface Area': 22775159.302257504, 'Mio_Shaly1_Vsh70_Initial Porosity': 0.6546965136971972, \"Mio_Sandy1_Vsh36_Athy's Factor k (depth)\": 0.3083393521820634, 'Mio_Sandy1_Vsh36_Anisotropy Factor Permeability': 5.810326355149531, 'Mio_Sandy1_Vsh36_Scaling Factor': 7.25037644945019, 'Mio_Sandy1_Vsh36_Specific Surface Area': 60234991.72758587, 'Mio_Sandy1_Vsh36_Initial Porosity': 0.5031446048885446, \"Mio_Shaly2_Vsh60_Athy's Factor k (depth)\": 0.8554624477610157, 'Mio_Shaly2_Vsh60_Anisotropy Factor Permeability': 1.2111995151399093, 'Mio_Shaly2_Vsh60_Scaling Factor': -5.341135893996142, 'Mio_Shaly2_Vsh60_Specific Surface Area': 110530269.57922983, 'Mio_Shaly2_Vsh60_Initial Porosity': 0.5053638345331463, \"Mio_Lower_Athy's Factor k (depth)\": 0.33727322387627445, 'Mio_Lower_Anisotropy Factor Permeability': 2.6031557998821797, 'Mio_Lower_Scaling Factor': -6.865316263922613, 'Mio_Lower_Specific Surface Area': -10330350.390369326, 'Mio_Lower_Initial Porosity': 0.5760267654164988}. Best is trial 2 with value: 0.0028740502104290058.\n",
      "[I 2023-07-16 07:34:43,365] Trial 5 finished with value: 0.010606762402736187 and parameters: {\"Pliesto_Surface_Athy's Factor k (depth)\": 0.400303558502633, 'Pliesto_Surface_Anisotropy Factor Permeability': 5.303417723769943, 'Pliesto_Surface_Scaling Factor': -1.0438959070164806, 'Pliesto_Surface_Specific Surface Area': -22631281.203323103, 'Pliesto_Surface_Initial Porosity': 0.5239756450397814, \"Pliesto_Shaly_Vsh60_Athy's Factor k (depth)\": 0.6073720264042233, 'Pliesto_Shaly_Vsh60_Anisotropy Factor Permeability': 4.395893793465336, 'Pliesto_Shaly_Vsh60_Scaling Factor': 7.6906243850306915, 'Pliesto_Shaly_Vsh60_Specific Surface Area': 54183677.5669386, 'Pliesto_Shaly_Vsh60_Initial Porosity': 0.5109340034598128, \"Plio_Up_Vsh55_Athy's Factor k (depth)\": 0.7515532854534586, 'Plio_Up_Vsh55_Anisotropy Factor Permeability': 1.74197131867083, 'Plio_Up_Vsh55_Scaling Factor': 5.594388245951345, 'Plio_Up_Vsh55_Specific Surface Area': 101459768.80716223, 'Plio_Up_Vsh55_Initial Porosity': 0.6184187640137707, \"Plio_LSandy_Vsh45_Athy's Factor k (depth)\": 0.3588346372769739, 'Plio_LSandy_Vsh45_Anisotropy Factor Permeability': 5.57316048285486, 'Plio_LSandy_Vsh45_Scaling Factor': 3.544576253152023, 'Plio_LSandy_Vsh45_Specific Surface Area': -657384.1078538802, 'Plio_LSandy_Vsh45_Initial Porosity': 0.5020316886099703, \"Mio_Up_Vsh50_Athy's Factor k (depth)\": 0.33785345731159255, 'Mio_Up_Vsh50_Anisotropy Factor Permeability': 0.8284255394118624, 'Mio_Up_Vsh50_Scaling Factor': 2.450747185579644, 'Mio_Up_Vsh50_Specific Surface Area': 34377510.72994293, 'Mio_Up_Vsh50_Initial Porosity': 0.609251448460966, \"Mio_Sandy0_Vsh36_Athy's Factor k (depth)\": 0.6316005366651684, 'Mio_Sandy0_Vsh36_Anisotropy Factor Permeability': 5.104407383035888, 'Mio_Sandy0_Vsh36_Scaling Factor': -4.27977440000459, 'Mio_Sandy0_Vsh36_Specific Surface Area': 49018310.80488296, 'Mio_Sandy0_Vsh36_Initial Porosity': 0.45437889684565796, \"Mio_Shaly1_Vsh70_Athy's Factor k (depth)\": 0.4315986898589539, 'Mio_Shaly1_Vsh70_Anisotropy Factor Permeability': -0.05828068829641453, 'Mio_Shaly1_Vsh70_Scaling Factor': -4.092306171694422, 'Mio_Shaly1_Vsh70_Specific Surface Area': 117452425.8321582, 'Mio_Shaly1_Vsh70_Initial Porosity': 0.5889520278701186, \"Mio_Sandy1_Vsh36_Athy's Factor k (depth)\": 0.8001017467814575, 'Mio_Sandy1_Vsh36_Anisotropy Factor Permeability': 0.4568257224937744, 'Mio_Sandy1_Vsh36_Scaling Factor': 5.9057628213750455, 'Mio_Sandy1_Vsh36_Specific Surface Area': 77728730.96887343, 'Mio_Sandy1_Vsh36_Initial Porosity': 0.489003034581299, \"Mio_Shaly2_Vsh60_Athy's Factor k (depth)\": 0.7172507710669922, 'Mio_Shaly2_Vsh60_Anisotropy Factor Permeability': 1.3082025616534576, 'Mio_Shaly2_Vsh60_Scaling Factor': 7.406930602731634, 'Mio_Shaly2_Vsh60_Specific Surface Area': 41136752.74444991, 'Mio_Shaly2_Vsh60_Initial Porosity': 0.515721271556494, \"Mio_Lower_Athy's Factor k (depth)\": 0.8922496852487422, 'Mio_Lower_Anisotropy Factor Permeability': 0.1867426994060628, 'Mio_Lower_Scaling Factor': -3.323911060852147, 'Mio_Lower_Specific Surface Area': 92897489.33312583, 'Mio_Lower_Initial Porosity': 0.4376163914725466}. Best is trial 2 with value: 0.0028740502104290058.\n",
      "[I 2023-07-16 07:34:52,370] Trial 6 finished with value: 0.008408004965678473 and parameters: {\"Pliesto_Surface_Athy's Factor k (depth)\": 0.6585318433272274, 'Pliesto_Surface_Anisotropy Factor Permeability': 2.864077781149538, 'Pliesto_Surface_Scaling Factor': 9.500036044850898, 'Pliesto_Surface_Specific Surface Area': 27774336.907632805, 'Pliesto_Surface_Initial Porosity': 0.6473955236842903, \"Pliesto_Shaly_Vsh60_Athy's Factor k (depth)\": 0.44521968529396794, 'Pliesto_Shaly_Vsh60_Anisotropy Factor Permeability': 2.580271827987695, 'Pliesto_Shaly_Vsh60_Scaling Factor': -0.7022335342439963, 'Pliesto_Shaly_Vsh60_Specific Surface Area': 18434170.57321524, 'Pliesto_Shaly_Vsh60_Initial Porosity': 0.5529996040361707, \"Plio_Up_Vsh55_Athy's Factor k (depth)\": 0.788544051611098, 'Plio_Up_Vsh55_Anisotropy Factor Permeability': 0.430715652619566, 'Plio_Up_Vsh55_Scaling Factor': -0.2301549897821058, 'Plio_Up_Vsh55_Specific Surface Area': 48962304.329606965, 'Plio_Up_Vsh55_Initial Porosity': 0.5688215055608672, \"Plio_LSandy_Vsh45_Athy's Factor k (depth)\": 0.14657795447103375, 'Plio_LSandy_Vsh45_Anisotropy Factor Permeability': 2.7156458164576236, 'Plio_LSandy_Vsh45_Scaling Factor': 3.4169333321093287, 'Plio_LSandy_Vsh45_Specific Surface Area': 63075827.63218194, 'Plio_LSandy_Vsh45_Initial Porosity': 0.4864705361257681, \"Mio_Up_Vsh50_Athy's Factor k (depth)\": 0.4654669961148648, 'Mio_Up_Vsh50_Anisotropy Factor Permeability': 3.0834748169278603, 'Mio_Up_Vsh50_Scaling Factor': -1.9098742062533152, 'Mio_Up_Vsh50_Specific Surface Area': 80533303.55140866, 'Mio_Up_Vsh50_Initial Porosity': 0.45677264428551356, \"Mio_Sandy0_Vsh36_Athy's Factor k (depth)\": 0.7851071313934049, 'Mio_Sandy0_Vsh36_Anisotropy Factor Permeability': 0.2596190606119926, 'Mio_Sandy0_Vsh36_Scaling Factor': 4.300558740890601, 'Mio_Sandy0_Vsh36_Specific Surface Area': 126631593.00377253, 'Mio_Sandy0_Vsh36_Initial Porosity': 0.49506816365515516, \"Mio_Shaly1_Vsh70_Athy's Factor k (depth)\": 0.8339650180357049, 'Mio_Shaly1_Vsh70_Anisotropy Factor Permeability': 0.36730525679696036, 'Mio_Shaly1_Vsh70_Scaling Factor': -6.7204343000477325, 'Mio_Shaly1_Vsh70_Specific Surface Area': 49411639.40196845, 'Mio_Shaly1_Vsh70_Initial Porosity': 0.5239796026309858, \"Mio_Sandy1_Vsh36_Athy's Factor k (depth)\": 0.16693878530094214, 'Mio_Sandy1_Vsh36_Anisotropy Factor Permeability': 4.587496142325538, 'Mio_Sandy1_Vsh36_Scaling Factor': 7.134040068461367, 'Mio_Sandy1_Vsh36_Specific Surface Area': 70861477.76876935, 'Mio_Sandy1_Vsh36_Initial Porosity': 0.5061944734928183, \"Mio_Shaly2_Vsh60_Athy's Factor k (depth)\": 0.2110592035532592, 'Mio_Shaly2_Vsh60_Anisotropy Factor Permeability': 2.6388551306389787, 'Mio_Shaly2_Vsh60_Scaling Factor': 1.1255460048959165, 'Mio_Shaly2_Vsh60_Specific Surface Area': 98172195.75619306, 'Mio_Shaly2_Vsh60_Initial Porosity': 0.5791037144109635, \"Mio_Lower_Athy's Factor k (depth)\": 0.12416050157767529, 'Mio_Lower_Anisotropy Factor Permeability': 0.595906462979547, 'Mio_Lower_Scaling Factor': -4.809272476187668, 'Mio_Lower_Specific Surface Area': -16681045.909351073, 'Mio_Lower_Initial Porosity': 0.4408243614826726}. Best is trial 2 with value: 0.0028740502104290058.\n",
      "[I 2023-07-16 07:35:01,904] Trial 7 finished with value: 0.00468700248084586 and parameters: {\"Pliesto_Surface_Athy's Factor k (depth)\": 0.5071639030594023, 'Pliesto_Surface_Anisotropy Factor Permeability': 3.7224689653137717, 'Pliesto_Surface_Scaling Factor': 9.506258214958553, 'Pliesto_Surface_Specific Surface Area': 31687308.517840236, 'Pliesto_Surface_Initial Porosity': 0.44699048148297943, \"Pliesto_Shaly_Vsh60_Athy's Factor k (depth)\": 0.7122113006197653, 'Pliesto_Shaly_Vsh60_Anisotropy Factor Permeability': 4.404422749214625, 'Pliesto_Shaly_Vsh60_Scaling Factor': 3.8442365809941244, 'Pliesto_Shaly_Vsh60_Specific Surface Area': 69810980.67507565, 'Pliesto_Shaly_Vsh60_Initial Porosity': 0.5524308749935506, \"Plio_Up_Vsh55_Athy's Factor k (depth)\": 0.2651546795119595, 'Plio_Up_Vsh55_Anisotropy Factor Permeability': 2.3146481780023636, 'Plio_Up_Vsh55_Scaling Factor': 1.4670759225128798, 'Plio_Up_Vsh55_Specific Surface Area': 75041197.77726223, 'Plio_Up_Vsh55_Initial Porosity': 0.6048151772574022, \"Plio_LSandy_Vsh45_Athy's Factor k (depth)\": 0.030665373268041973, 'Plio_LSandy_Vsh45_Anisotropy Factor Permeability': 2.011414843443756, 'Plio_LSandy_Vsh45_Scaling Factor': -4.464935354823044, 'Plio_LSandy_Vsh45_Specific Surface Area': 43694235.09211011, 'Plio_LSandy_Vsh45_Initial Porosity': 0.5115085830315882, \"Mio_Up_Vsh50_Athy's Factor k (depth)\": 0.12662595727230608, 'Mio_Up_Vsh50_Anisotropy Factor Permeability': 4.208699376290126, 'Mio_Up_Vsh50_Scaling Factor': 6.802901282461901, 'Mio_Up_Vsh50_Specific Surface Area': 100590498.31024547, 'Mio_Up_Vsh50_Initial Porosity': 0.5292345176599771, \"Mio_Sandy0_Vsh36_Athy's Factor k (depth)\": 0.2207595991016011, 'Mio_Sandy0_Vsh36_Anisotropy Factor Permeability': 1.3993196036954905, 'Mio_Sandy0_Vsh36_Scaling Factor': 8.90680289239915, 'Mio_Sandy0_Vsh36_Specific Surface Area': 102376387.37936407, 'Mio_Sandy0_Vsh36_Initial Porosity': 0.5889053579786182, \"Mio_Shaly1_Vsh70_Athy's Factor k (depth)\": 0.826417458954934, 'Mio_Shaly1_Vsh70_Anisotropy Factor Permeability': -0.25551579412899844, 'Mio_Shaly1_Vsh70_Scaling Factor': 0.15121065886350937, 'Mio_Shaly1_Vsh70_Specific Surface Area': 59571629.36086086, 'Mio_Shaly1_Vsh70_Initial Porosity': 0.6631132900237189, \"Mio_Sandy1_Vsh36_Athy's Factor k (depth)\": 0.6819392533064961, 'Mio_Sandy1_Vsh36_Anisotropy Factor Permeability': 3.0012264836055755, 'Mio_Sandy1_Vsh36_Scaling Factor': 2.082975470411398, 'Mio_Sandy1_Vsh36_Specific Surface Area': 20826985.549355283, 'Mio_Sandy1_Vsh36_Initial Porosity': 0.5482673587844695, \"Mio_Shaly2_Vsh60_Athy's Factor k (depth)\": 0.3828855548911583, 'Mio_Shaly2_Vsh60_Anisotropy Factor Permeability': 1.9387227695562492, 'Mio_Shaly2_Vsh60_Scaling Factor': 1.6865597719021128, 'Mio_Shaly2_Vsh60_Specific Surface Area': 115618692.51898588, 'Mio_Shaly2_Vsh60_Initial Porosity': 0.5743778282567883, \"Mio_Lower_Athy's Factor k (depth)\": 0.7368664486008374, 'Mio_Lower_Anisotropy Factor Permeability': 4.070066206098493, 'Mio_Lower_Scaling Factor': 0.5637864158927854, 'Mio_Lower_Specific Surface Area': 72118685.70118235, 'Mio_Lower_Initial Porosity': 0.6546508169664867}. Best is trial 2 with value: 0.0028740502104290058.\n",
      "[I 2023-07-16 07:35:11,165] Trial 8 finished with value: 0.0074841181177884904 and parameters: {\"Pliesto_Surface_Athy's Factor k (depth)\": 0.644476867415886, 'Pliesto_Surface_Anisotropy Factor Permeability': 4.451716648488516, 'Pliesto_Surface_Scaling Factor': 7.5025409977161885, 'Pliesto_Surface_Specific Surface Area': -7382261.575347532, 'Pliesto_Surface_Initial Porosity': 0.5709699580153234, \"Pliesto_Shaly_Vsh60_Athy's Factor k (depth)\": 0.5130474113248973, 'Pliesto_Shaly_Vsh60_Anisotropy Factor Permeability': 1.6563387911329717, 'Pliesto_Shaly_Vsh60_Scaling Factor': -2.6150048531743995, 'Pliesto_Shaly_Vsh60_Specific Surface Area': 70064940.51990202, 'Pliesto_Shaly_Vsh60_Initial Porosity': 0.4928680069835581, \"Plio_Up_Vsh55_Athy's Factor k (depth)\": 0.6156692434866631, 'Plio_Up_Vsh55_Anisotropy Factor Permeability': 4.653046281027418, 'Plio_Up_Vsh55_Scaling Factor': -0.07528688837604136, 'Plio_Up_Vsh55_Specific Surface Area': 51771972.45621866, 'Plio_Up_Vsh55_Initial Porosity': 0.4780560457482, \"Plio_LSandy_Vsh45_Athy's Factor k (depth)\": 0.2880226358400474, 'Plio_LSandy_Vsh45_Anisotropy Factor Permeability': 3.1504972682362955, 'Plio_LSandy_Vsh45_Scaling Factor': 5.5247202851701935, 'Plio_LSandy_Vsh45_Specific Surface Area': 23532250.098070785, 'Plio_LSandy_Vsh45_Initial Porosity': 0.5075402298113535, \"Mio_Up_Vsh50_Athy's Factor k (depth)\": 0.35871911136434276, 'Mio_Up_Vsh50_Anisotropy Factor Permeability': 4.237190711225505, 'Mio_Up_Vsh50_Scaling Factor': 1.3802327378110153, 'Mio_Up_Vsh50_Specific Surface Area': 73582452.62690695, 'Mio_Up_Vsh50_Initial Porosity': 0.5019890604636059, \"Mio_Sandy0_Vsh36_Athy's Factor k (depth)\": 0.5679957299528794, 'Mio_Sandy0_Vsh36_Anisotropy Factor Permeability': 3.8671462985658653, 'Mio_Sandy0_Vsh36_Scaling Factor': 6.255069400883496, 'Mio_Sandy0_Vsh36_Specific Surface Area': 107126117.6864864, 'Mio_Sandy0_Vsh36_Initial Porosity': 0.6134635831238578, \"Mio_Shaly1_Vsh70_Athy's Factor k (depth)\": 0.7256766577692527, 'Mio_Shaly1_Vsh70_Anisotropy Factor Permeability': -0.1373095368432422, 'Mio_Shaly1_Vsh70_Scaling Factor': -2.334296678351561, 'Mio_Shaly1_Vsh70_Specific Surface Area': 89076012.02584155, 'Mio_Shaly1_Vsh70_Initial Porosity': 0.6354620381184929, \"Mio_Sandy1_Vsh36_Athy's Factor k (depth)\": 0.3672103115446119, 'Mio_Sandy1_Vsh36_Anisotropy Factor Permeability': 5.6153476277715, 'Mio_Sandy1_Vsh36_Scaling Factor': 8.84794780114095, 'Mio_Sandy1_Vsh36_Specific Surface Area': 51490164.66513325, 'Mio_Sandy1_Vsh36_Initial Porosity': 0.5050997464434019, \"Mio_Shaly2_Vsh60_Athy's Factor k (depth)\": 0.4476951655118516, 'Mio_Shaly2_Vsh60_Anisotropy Factor Permeability': 2.505331526399434, 'Mio_Shaly2_Vsh60_Scaling Factor': -3.572687866489206, 'Mio_Shaly2_Vsh60_Specific Surface Area': 70720310.09754562, 'Mio_Shaly2_Vsh60_Initial Porosity': 0.5146326369323984, \"Mio_Lower_Athy's Factor k (depth)\": 0.4756285304786726, 'Mio_Lower_Anisotropy Factor Permeability': 4.602031427055408, 'Mio_Lower_Scaling Factor': -3.47812363101659, 'Mio_Lower_Specific Surface Area': 49509598.977987185, 'Mio_Lower_Initial Porosity': 0.5475869219283073}. Best is trial 2 with value: 0.0028740502104290058.\n",
      "[I 2023-07-16 07:35:20,324] Trial 9 finished with value: 0.007913814250116589 and parameters: {\"Pliesto_Surface_Athy's Factor k (depth)\": 0.8617304741430657, 'Pliesto_Surface_Anisotropy Factor Permeability': 3.98126604758519, 'Pliesto_Surface_Scaling Factor': -0.8716332491501753, 'Pliesto_Surface_Specific Surface Area': 15886428.365051009, 'Pliesto_Surface_Initial Porosity': 0.4837793914319452, \"Pliesto_Shaly_Vsh60_Athy's Factor k (depth)\": 0.2515168536490792, 'Pliesto_Shaly_Vsh60_Anisotropy Factor Permeability': 3.6078177948158006, 'Pliesto_Shaly_Vsh60_Scaling Factor': 8.267345350602818, 'Pliesto_Shaly_Vsh60_Specific Surface Area': 61694192.64912511, 'Pliesto_Shaly_Vsh60_Initial Porosity': 0.49187138759640736, \"Plio_Up_Vsh55_Athy's Factor k (depth)\": 0.5754673959461406, 'Plio_Up_Vsh55_Anisotropy Factor Permeability': 3.788288989516064, 'Plio_Up_Vsh55_Scaling Factor': -6.074697396492736, 'Plio_Up_Vsh55_Specific Surface Area': 31103168.253178578, 'Plio_Up_Vsh55_Initial Porosity': 0.5995968686454853, \"Plio_LSandy_Vsh45_Athy's Factor k (depth)\": 0.2839563809380881, 'Plio_LSandy_Vsh45_Anisotropy Factor Permeability': 3.4519933992919785, 'Plio_LSandy_Vsh45_Scaling Factor': -0.6089217653415275, 'Plio_LSandy_Vsh45_Specific Surface Area': 45397790.9830443, 'Plio_LSandy_Vsh45_Initial Porosity': 0.5611297822042706, \"Mio_Up_Vsh50_Athy's Factor k (depth)\": 0.3505938582840737, 'Mio_Up_Vsh50_Anisotropy Factor Permeability': 1.840988870995865, 'Mio_Up_Vsh50_Scaling Factor': -3.2846882776223474, 'Mio_Up_Vsh50_Specific Surface Area': 13366215.334379043, 'Mio_Up_Vsh50_Initial Porosity': 0.49437263993842984, \"Mio_Sandy0_Vsh36_Athy's Factor k (depth)\": 0.680303017829998, 'Mio_Sandy0_Vsh36_Anisotropy Factor Permeability': 1.2088947028421635, 'Mio_Sandy0_Vsh36_Scaling Factor': 1.7316177451618024, 'Mio_Sandy0_Vsh36_Specific Surface Area': 72633138.39233775, 'Mio_Sandy0_Vsh36_Initial Porosity': 0.5328414404379059, \"Mio_Shaly1_Vsh70_Athy's Factor k (depth)\": 0.40380167842756387, 'Mio_Shaly1_Vsh70_Anisotropy Factor Permeability': 4.183119201454662, 'Mio_Shaly1_Vsh70_Scaling Factor': -3.180983063101251, 'Mio_Shaly1_Vsh70_Specific Surface Area': 36069770.64102563, 'Mio_Shaly1_Vsh70_Initial Porosity': 0.540555858173385, \"Mio_Sandy1_Vsh36_Athy's Factor k (depth)\": 0.8148403110275183, 'Mio_Sandy1_Vsh36_Anisotropy Factor Permeability': 2.410637867194622, 'Mio_Sandy1_Vsh36_Scaling Factor': 10.35355327098598, 'Mio_Sandy1_Vsh36_Specific Surface Area': 3338151.9423300177, 'Mio_Sandy1_Vsh36_Initial Porosity': 0.5467725089519611, \"Mio_Shaly2_Vsh60_Athy's Factor k (depth)\": 0.5825061309082094, 'Mio_Shaly2_Vsh60_Anisotropy Factor Permeability': 0.3439542286956614, 'Mio_Shaly2_Vsh60_Scaling Factor': 3.1620791925153817, 'Mio_Shaly2_Vsh60_Specific Surface Area': 27487064.812287953, 'Mio_Shaly2_Vsh60_Initial Porosity': 0.5833825165295733, \"Mio_Lower_Athy's Factor k (depth)\": 0.11399327125220135, 'Mio_Lower_Anisotropy Factor Permeability': 1.8128332438800154, 'Mio_Lower_Scaling Factor': -8.483486255195706, 'Mio_Lower_Specific Surface Area': 52772780.97605349, 'Mio_Lower_Initial Porosity': 0.5855272644070862}. Best is trial 2 with value: 0.0028740502104290058.\n",
      "[I 2023-07-16 07:35:29,810] Trial 10 finished with value: 0.009748961154230318 and parameters: {\"Pliesto_Surface_Athy's Factor k (depth)\": 0.12331718126636415, 'Pliesto_Surface_Anisotropy Factor Permeability': 0.20770001081188205, 'Pliesto_Surface_Scaling Factor': 13.68537968042406, 'Pliesto_Surface_Specific Surface Area': 128488648.48104571, 'Pliesto_Surface_Initial Porosity': 0.44182875369849733, \"Pliesto_Shaly_Vsh60_Athy's Factor k (depth)\": 0.15326467478547412, 'Pliesto_Shaly_Vsh60_Anisotropy Factor Permeability': 3.3056921074374843, 'Pliesto_Shaly_Vsh60_Scaling Factor': 4.481100128180837, 'Pliesto_Shaly_Vsh60_Specific Surface Area': 128230958.21437687, 'Pliesto_Shaly_Vsh60_Initial Porosity': 0.5824540546388941, \"Plio_Up_Vsh55_Athy's Factor k (depth)\": 0.4295287198254106, 'Plio_Up_Vsh55_Anisotropy Factor Permeability': 3.197653176725952, 'Plio_Up_Vsh55_Scaling Factor': 9.73282783520171, 'Plio_Up_Vsh55_Specific Surface Area': 125365285.88643807, 'Plio_Up_Vsh55_Initial Porosity': 0.5203668343746718, \"Plio_LSandy_Vsh45_Athy's Factor k (depth)\": 0.553172666752484, 'Plio_LSandy_Vsh45_Anisotropy Factor Permeability': 1.0597078750506204, 'Plio_LSandy_Vsh45_Scaling Factor': 10.764079581545477, 'Plio_LSandy_Vsh45_Specific Surface Area': 86754442.15029117, 'Plio_LSandy_Vsh45_Initial Porosity': 0.5860643906251163, \"Mio_Up_Vsh50_Athy's Factor k (depth)\": 0.7435336497932848, 'Mio_Up_Vsh50_Anisotropy Factor Permeability': 3.3950936097098836, 'Mio_Up_Vsh50_Scaling Factor': 10.380702621566277, 'Mio_Up_Vsh50_Specific Surface Area': 49137725.77559841, 'Mio_Up_Vsh50_Initial Porosity': 0.45078246055609883, \"Mio_Sandy0_Vsh36_Athy's Factor k (depth)\": 0.41022794394498113, 'Mio_Sandy0_Vsh36_Anisotropy Factor Permeability': 5.823227420289093, 'Mio_Sandy0_Vsh36_Scaling Factor': 12.802640214274032, 'Mio_Sandy0_Vsh36_Specific Surface Area': -29410346.447732758, 'Mio_Sandy0_Vsh36_Initial Porosity': 0.6641631941342789, \"Mio_Shaly1_Vsh70_Athy's Factor k (depth)\": 0.5772875431982638, 'Mio_Shaly1_Vsh70_Anisotropy Factor Permeability': 3.06731790498384, 'Mio_Shaly1_Vsh70_Scaling Factor': 4.690826461559361, 'Mio_Shaly1_Vsh70_Specific Surface Area': 140198697.58768544, 'Mio_Shaly1_Vsh70_Initial Porosity': 0.5653607086034838, \"Mio_Sandy1_Vsh36_Athy's Factor k (depth)\": 0.4855555274973995, 'Mio_Sandy1_Vsh36_Anisotropy Factor Permeability': 4.498885791607556, 'Mio_Sandy1_Vsh36_Scaling Factor': -3.68665144551595, 'Mio_Sandy1_Vsh36_Specific Surface Area': 118829043.49289025, 'Mio_Sandy1_Vsh36_Initial Porosity': 0.6089357179093462, \"Mio_Shaly2_Vsh60_Athy's Factor k (depth)\": 0.6460159868349059, 'Mio_Shaly2_Vsh60_Anisotropy Factor Permeability': 4.144039841512107, 'Mio_Shaly2_Vsh60_Scaling Factor': 9.040782765514246, 'Mio_Shaly2_Vsh60_Specific Surface Area': 81041855.54468101, 'Mio_Shaly2_Vsh60_Initial Porosity': 0.6351000102889441, \"Mio_Lower_Athy's Factor k (depth)\": 0.6326241476069882, 'Mio_Lower_Anisotropy Factor Permeability': 5.954785197312637, 'Mio_Lower_Scaling Factor': 4.9127810957408276, 'Mio_Lower_Specific Surface Area': 123553780.3195289, 'Mio_Lower_Initial Porosity': 0.508930359691013}. Best is trial 2 with value: 0.0028740502104290058.\n",
      "[I 2023-07-16 07:35:39,284] Trial 11 finished with value: 0.005302723441529381 and parameters: {\"Pliesto_Surface_Athy's Factor k (depth)\": 0.4680065939312283, 'Pliesto_Surface_Anisotropy Factor Permeability': 3.1427546628042826, 'Pliesto_Surface_Scaling Factor': 13.533268013178459, 'Pliesto_Surface_Specific Surface Area': 76098261.72201878, 'Pliesto_Surface_Initial Porosity': 0.4327089174692172, \"Pliesto_Shaly_Vsh60_Athy's Factor k (depth)\": 0.8261317136364579, 'Pliesto_Shaly_Vsh60_Anisotropy Factor Permeability': 4.602358046868968, 'Pliesto_Shaly_Vsh60_Scaling Factor': 2.767412697043781, 'Pliesto_Shaly_Vsh60_Specific Surface Area': 89981630.72711584, 'Pliesto_Shaly_Vsh60_Initial Porosity': 0.5648237304665787, \"Plio_Up_Vsh55_Athy's Factor k (depth)\": 0.09074445213068524, 'Plio_Up_Vsh55_Anisotropy Factor Permeability': 2.8200245472211636, 'Plio_Up_Vsh55_Scaling Factor': 2.4010133395091184, 'Plio_Up_Vsh55_Specific Surface Area': 93810952.21749327, 'Plio_Up_Vsh55_Initial Porosity': 0.5448818122253306, \"Plio_LSandy_Vsh45_Athy's Factor k (depth)\": -0.013681816069443242, 'Plio_LSandy_Vsh45_Anisotropy Factor Permeability': 2.1971710935533766, 'Plio_LSandy_Vsh45_Scaling Factor': -4.833934431283698, 'Plio_LSandy_Vsh45_Specific Surface Area': 57447116.891395286, 'Plio_LSandy_Vsh45_Initial Porosity': 0.5689625779635801, \"Mio_Up_Vsh50_Athy's Factor k (depth)\": 0.06425774981085985, 'Mio_Up_Vsh50_Anisotropy Factor Permeability': 4.6836674824385645, 'Mio_Up_Vsh50_Scaling Factor': 6.488963037051176, 'Mio_Up_Vsh50_Specific Surface Area': 100004826.58333883, 'Mio_Up_Vsh50_Initial Porosity': 0.46920613419283813, \"Mio_Sandy0_Vsh36_Athy's Factor k (depth)\": 0.3840424940859156, 'Mio_Sandy0_Vsh36_Anisotropy Factor Permeability': 1.4939800730640498, 'Mio_Sandy0_Vsh36_Scaling Factor': 9.800011604564478, 'Mio_Sandy0_Vsh36_Specific Surface Area': 12555708.402486667, 'Mio_Sandy0_Vsh36_Initial Porosity': 0.5954385918822793, \"Mio_Shaly1_Vsh70_Athy's Factor k (depth)\": 0.8799625822253708, 'Mio_Shaly1_Vsh70_Anisotropy Factor Permeability': 1.367235019976964, 'Mio_Shaly1_Vsh70_Scaling Factor': 0.7917353170932326, 'Mio_Shaly1_Vsh70_Specific Surface Area': 69560958.62309766, 'Mio_Shaly1_Vsh70_Initial Porosity': 0.6709365085154353, \"Mio_Sandy1_Vsh36_Athy's Factor k (depth)\": 0.6599586719798076, 'Mio_Sandy1_Vsh36_Anisotropy Factor Permeability': 4.123576096824262, 'Mio_Sandy1_Vsh36_Scaling Factor': 0.23026516160969268, 'Mio_Sandy1_Vsh36_Specific Surface Area': 114012670.04598753, 'Mio_Sandy1_Vsh36_Initial Porosity': 0.566878113182948, \"Mio_Shaly2_Vsh60_Athy's Factor k (depth)\": 0.35215666599771256, 'Mio_Shaly2_Vsh60_Anisotropy Factor Permeability': 3.7783358389972337, 'Mio_Shaly2_Vsh60_Scaling Factor': 4.220394866035359, 'Mio_Shaly2_Vsh60_Specific Surface Area': 129625288.65835011, 'Mio_Shaly2_Vsh60_Initial Porosity': 0.5484475092713967, \"Mio_Lower_Athy's Factor k (depth)\": 0.6678419191418944, 'Mio_Lower_Anisotropy Factor Permeability': 3.582384129082265, 'Mio_Lower_Scaling Factor': 1.6736936894486387, 'Mio_Lower_Specific Surface Area': 101783581.78210294, 'Mio_Lower_Initial Porosity': 0.6687744439564922}. Best is trial 2 with value: 0.0028740502104290058.\n",
      "[I 2023-07-16 07:35:49,140] Trial 12 finished with value: 0.0005662112134973783 and parameters: {\"Pliesto_Surface_Athy's Factor k (depth)\": 0.47850880068323626, 'Pliesto_Surface_Anisotropy Factor Permeability': 3.0718821606499684, 'Pliesto_Surface_Scaling Factor': 8.244697102993022, 'Pliesto_Surface_Specific Surface Area': 24047661.75388491, 'Pliesto_Surface_Initial Porosity': 0.46211637865302313, \"Pliesto_Shaly_Vsh60_Athy's Factor k (depth)\": 0.7168898749446967, 'Pliesto_Shaly_Vsh60_Anisotropy Factor Permeability': 3.5673656052002096, 'Pliesto_Shaly_Vsh60_Scaling Factor': 9.473700820363302, 'Pliesto_Shaly_Vsh60_Specific Surface Area': 47616548.3774678, 'Pliesto_Shaly_Vsh60_Initial Porosity': 0.631966175403683, \"Plio_Up_Vsh55_Athy's Factor k (depth)\": 0.37802390027350685, 'Plio_Up_Vsh55_Anisotropy Factor Permeability': 2.3318615761302235, 'Plio_Up_Vsh55_Scaling Factor': 2.793329987189202, 'Plio_Up_Vsh55_Specific Surface Area': 74233716.52454709, 'Plio_Up_Vsh55_Initial Porosity': 0.5769849687250245, \"Plio_LSandy_Vsh45_Athy's Factor k (depth)\": 0.036544414078404294, 'Plio_LSandy_Vsh45_Anisotropy Factor Permeability': 2.0744000853524067, 'Plio_LSandy_Vsh45_Scaling Factor': -4.051303994034759, 'Plio_LSandy_Vsh45_Specific Surface Area': 38348028.84057496, 'Plio_LSandy_Vsh45_Initial Porosity': 0.5919986796985007, \"Mio_Up_Vsh50_Athy's Factor k (depth)\": 0.15682959838751553, 'Mio_Up_Vsh50_Anisotropy Factor Permeability': 3.6213829341244095, 'Mio_Up_Vsh50_Scaling Factor': 6.670152177792127, 'Mio_Up_Vsh50_Specific Surface Area': 89448991.3568206, 'Mio_Up_Vsh50_Initial Porosity': 0.47928494496143353, \"Mio_Sandy0_Vsh36_Athy's Factor k (depth)\": 0.28889617488687175, 'Mio_Sandy0_Vsh36_Anisotropy Factor Permeability': 0.16568998843433924, 'Mio_Sandy0_Vsh36_Scaling Factor': 9.889000916844273, 'Mio_Sandy0_Vsh36_Specific Surface Area': 94705329.8841703, 'Mio_Sandy0_Vsh36_Initial Porosity': 0.5369336722329702, \"Mio_Shaly1_Vsh70_Athy's Factor k (depth)\": 0.666803084092358, 'Mio_Shaly1_Vsh70_Anisotropy Factor Permeability': 1.279420170449364, 'Mio_Shaly1_Vsh70_Scaling Factor': -0.13836491570527643, 'Mio_Shaly1_Vsh70_Specific Surface Area': 56016595.745671466, 'Mio_Shaly1_Vsh70_Initial Porosity': 0.5844920396317824, \"Mio_Sandy1_Vsh36_Athy's Factor k (depth)\": 0.8887901285215682, 'Mio_Sandy1_Vsh36_Anisotropy Factor Permeability': 1.6405431861233577, 'Mio_Sandy1_Vsh36_Scaling Factor': 1.1033909574251188, 'Mio_Sandy1_Vsh36_Specific Surface Area': -28650501.994716436, 'Mio_Sandy1_Vsh36_Initial Porosity': 0.4498116630461566, \"Mio_Shaly2_Vsh60_Athy's Factor k (depth)\": 0.3756102211900883, 'Mio_Shaly2_Vsh60_Anisotropy Factor Permeability': 3.4199632021034496, 'Mio_Shaly2_Vsh60_Scaling Factor': 4.3734734948651015, 'Mio_Shaly2_Vsh60_Specific Surface Area': 124003809.97878143, 'Mio_Shaly2_Vsh60_Initial Porosity': 0.6184941965517412, \"Mio_Lower_Athy's Factor k (depth)\": 0.6708082002394887, 'Mio_Lower_Anisotropy Factor Permeability': 5.5653195746425475, 'Mio_Lower_Scaling Factor': 13.705237028822406, 'Mio_Lower_Specific Surface Area': 127226564.98630136, 'Mio_Lower_Initial Porosity': 0.6492894670682912}. Best is trial 12 with value: 0.0005662112134973783.\n",
      "[I 2023-07-16 07:35:58,704] Trial 13 finished with value: 0.0016809240453822278 and parameters: {\"Pliesto_Surface_Athy's Factor k (depth)\": 0.3374784940983817, 'Pliesto_Surface_Anisotropy Factor Permeability': 2.3983111017286296, 'Pliesto_Surface_Scaling Factor': 6.045214211766263, 'Pliesto_Surface_Specific Surface Area': 99605284.8674432, 'Pliesto_Surface_Initial Porosity': 0.47143676905955856, \"Pliesto_Shaly_Vsh60_Athy's Factor k (depth)\": 0.6822874300318831, 'Pliesto_Shaly_Vsh60_Anisotropy Factor Permeability': 3.2827272165704775, 'Pliesto_Shaly_Vsh60_Scaling Factor': 9.195451542082349, 'Pliesto_Shaly_Vsh60_Specific Surface Area': 44838357.35006618, 'Pliesto_Shaly_Vsh60_Initial Porosity': 0.6438237869543504, \"Plio_Up_Vsh55_Athy's Factor k (depth)\": 0.43874558158431903, 'Plio_Up_Vsh55_Anisotropy Factor Permeability': 3.174150920643609, 'Plio_Up_Vsh55_Scaling Factor': 3.573165246298508, 'Plio_Up_Vsh55_Specific Surface Area': 107567055.01694205, 'Plio_Up_Vsh55_Initial Porosity': 0.5671216123222983, \"Plio_LSandy_Vsh45_Athy's Factor k (depth)\": -0.011289351358163058, 'Plio_LSandy_Vsh45_Anisotropy Factor Permeability': 1.4605313931927966, 'Plio_LSandy_Vsh45_Scaling Factor': -1.8970348749923804, 'Plio_LSandy_Vsh45_Specific Surface Area': -9976264.754202843, 'Plio_LSandy_Vsh45_Initial Porosity': 0.5906974698413814, \"Mio_Up_Vsh50_Athy's Factor k (depth)\": 0.17953172817988072, 'Mio_Up_Vsh50_Anisotropy Factor Permeability': 0.29646311433547634, 'Mio_Up_Vsh50_Scaling Factor': 6.57042693645627, 'Mio_Up_Vsh50_Specific Surface Area': 86018221.60282692, 'Mio_Up_Vsh50_Initial Porosity': 0.47342407129951897, \"Mio_Sandy0_Vsh36_Athy's Factor k (depth)\": 0.42388014403588237, 'Mio_Sandy0_Vsh36_Anisotropy Factor Permeability': 0.21586156710371096, 'Mio_Sandy0_Vsh36_Scaling Factor': 11.01115457024671, 'Mio_Sandy0_Vsh36_Specific Surface Area': -28667269.337594457, 'Mio_Sandy0_Vsh36_Initial Porosity': 0.5375104842803297, \"Mio_Shaly1_Vsh70_Athy's Factor k (depth)\": 0.6366274818821183, 'Mio_Shaly1_Vsh70_Anisotropy Factor Permeability': 1.5172094892364256, 'Mio_Shaly1_Vsh70_Scaling Factor': 4.043999676534337, 'Mio_Shaly1_Vsh70_Specific Surface Area': 83221159.66378835, 'Mio_Shaly1_Vsh70_Initial Porosity': 0.5746473568311639, \"Mio_Sandy1_Vsh36_Athy's Factor k (depth)\": 0.8671614499378565, 'Mio_Sandy1_Vsh36_Anisotropy Factor Permeability': 1.1288874969421943, 'Mio_Sandy1_Vsh36_Scaling Factor': -1.500404214161842, 'Mio_Sandy1_Vsh36_Specific Surface Area': -24317370.768040527, 'Mio_Sandy1_Vsh36_Initial Porosity': 0.44834117529532425, \"Mio_Shaly2_Vsh60_Athy's Factor k (depth)\": 0.5624202783602114, 'Mio_Shaly2_Vsh60_Anisotropy Factor Permeability': 3.5111942081549996, 'Mio_Shaly2_Vsh60_Scaling Factor': 5.8237963795557945, 'Mio_Shaly2_Vsh60_Specific Surface Area': 127699442.52997255, 'Mio_Shaly2_Vsh60_Initial Porosity': 0.6132930235581222, \"Mio_Lower_Athy's Factor k (depth)\": 0.5703909438948088, 'Mio_Lower_Anisotropy Factor Permeability': 6.031827581451457, 'Mio_Lower_Scaling Factor': 14.251083603666967, 'Mio_Lower_Specific Surface Area': 128108055.68828665, 'Mio_Lower_Initial Porosity': 0.6195843479843466}. Best is trial 12 with value: 0.0005662112134973783.\n",
      "[I 2023-07-16 07:36:08,197] Trial 14 finished with value: 0.0028077461103938536 and parameters: {\"Pliesto_Surface_Athy's Factor k (depth)\": 0.2806919614997784, 'Pliesto_Surface_Anisotropy Factor Permeability': 2.458879204268034, 'Pliesto_Surface_Scaling Factor': 5.5408861270980125, 'Pliesto_Surface_Specific Surface Area': 43163378.4063184, 'Pliesto_Surface_Initial Porosity': 0.467242164363082, \"Pliesto_Shaly_Vsh60_Athy's Factor k (depth)\": 0.7002721546720013, 'Pliesto_Shaly_Vsh60_Anisotropy Factor Permeability': 3.1995579815884936, 'Pliesto_Shaly_Vsh60_Scaling Factor': 9.35300781422883, 'Pliesto_Shaly_Vsh60_Specific Surface Area': 41254716.21556274, 'Pliesto_Shaly_Vsh60_Initial Porosity': 0.6394685054177538, \"Plio_Up_Vsh55_Athy's Factor k (depth)\": 0.43544358590894955, 'Plio_Up_Vsh55_Anisotropy Factor Permeability': 3.5966963639932628, 'Plio_Up_Vsh55_Scaling Factor': 3.8424432376955617, 'Plio_Up_Vsh55_Specific Surface Area': 107655622.08285967, 'Plio_Up_Vsh55_Initial Porosity': 0.5724489982189828, \"Plio_LSandy_Vsh45_Athy's Factor k (depth)\": -0.012600683611237215, 'Plio_LSandy_Vsh45_Anisotropy Factor Permeability': 0.9522903571614156, 'Plio_LSandy_Vsh45_Scaling Factor': -1.810287974253857, 'Plio_LSandy_Vsh45_Specific Surface Area': -1074060.408320602, 'Plio_LSandy_Vsh45_Initial Porosity': 0.5805451615846048, \"Mio_Up_Vsh50_Athy's Factor k (depth)\": 0.1799350799196122, 'Mio_Up_Vsh50_Anisotropy Factor Permeability': 0.2456532403054475, 'Mio_Up_Vsh50_Scaling Factor': 4.941905734339757, 'Mio_Up_Vsh50_Specific Surface Area': 92961595.17228676, 'Mio_Up_Vsh50_Initial Porosity': 0.4787877518563038, \"Mio_Sandy0_Vsh36_Athy's Factor k (depth)\": 0.47095632669492116, 'Mio_Sandy0_Vsh36_Anisotropy Factor Permeability': 0.19802916898315434, 'Mio_Sandy0_Vsh36_Scaling Factor': 14.033090648637575, 'Mio_Sandy0_Vsh36_Specific Surface Area': 15641066.591707177, 'Mio_Sandy0_Vsh36_Initial Porosity': 0.5320258836359776, \"Mio_Shaly1_Vsh70_Athy's Factor k (depth)\": 0.6349811872370874, 'Mio_Shaly1_Vsh70_Anisotropy Factor Permeability': 1.364829651452904, 'Mio_Shaly1_Vsh70_Scaling Factor': -0.9212173398904344, 'Mio_Shaly1_Vsh70_Specific Surface Area': 82543295.07362393, 'Mio_Shaly1_Vsh70_Initial Porosity': 0.5847381311802773, \"Mio_Sandy1_Vsh36_Athy's Factor k (depth)\": 0.8918171727676759, 'Mio_Sandy1_Vsh36_Anisotropy Factor Permeability': 1.0167638176936942, 'Mio_Sandy1_Vsh36_Scaling Factor': 3.8333859106660273, 'Mio_Sandy1_Vsh36_Specific Surface Area': -20355596.705878418, 'Mio_Sandy1_Vsh36_Initial Porosity': 0.4347807043789483, \"Mio_Shaly2_Vsh60_Athy's Factor k (depth)\": 0.5495820283366277, 'Mio_Shaly2_Vsh60_Anisotropy Factor Permeability': 3.2822335679634587, 'Mio_Shaly2_Vsh60_Scaling Factor': 6.187928390083931, 'Mio_Shaly2_Vsh60_Specific Surface Area': 129302764.35090908, 'Mio_Shaly2_Vsh60_Initial Porosity': 0.6122207724798409, \"Mio_Lower_Athy's Factor k (depth)\": 0.5038688971839682, 'Mio_Lower_Anisotropy Factor Permeability': 6.084735311804869, 'Mio_Lower_Scaling Factor': 14.35880532075987, 'Mio_Lower_Specific Surface Area': 128520445.16609913, 'Mio_Lower_Initial Porosity': 0.6286780199444008}. Best is trial 12 with value: 0.0005662112134973783.\n",
      "[I 2023-07-16 07:36:17,662] Trial 15 finished with value: 0.011406613693484538 and parameters: {\"Pliesto_Surface_Athy's Factor k (depth)\": 0.27877433541076485, 'Pliesto_Surface_Anisotropy Factor Permeability': 2.166430962941095, 'Pliesto_Surface_Scaling Factor': 6.0119025314286265, 'Pliesto_Surface_Specific Surface Area': 7404789.999804024, 'Pliesto_Surface_Initial Porosity': 0.43339585466629316, \"Pliesto_Shaly_Vsh60_Athy's Factor k (depth)\": 0.8461099291012646, 'Pliesto_Shaly_Vsh60_Anisotropy Factor Permeability': 3.676610147267998, 'Pliesto_Shaly_Vsh60_Scaling Factor': 5.968135741903195, 'Pliesto_Shaly_Vsh60_Specific Surface Area': 39723451.97822649, 'Pliesto_Shaly_Vsh60_Initial Porosity': 0.6432345939264659, \"Plio_Up_Vsh55_Athy's Factor k (depth)\": 0.36094953669090957, 'Plio_Up_Vsh55_Anisotropy Factor Permeability': 3.0691743206081457, 'Plio_Up_Vsh55_Scaling Factor': 6.878025578925136, 'Plio_Up_Vsh55_Specific Surface Area': 85552784.57164718, 'Plio_Up_Vsh55_Initial Porosity': 0.5703621966133234, \"Plio_LSandy_Vsh45_Athy's Factor k (depth)\": 0.10170465665227466, 'Plio_LSandy_Vsh45_Anisotropy Factor Permeability': 1.778732454674389, 'Plio_LSandy_Vsh45_Scaling Factor': -1.647274231682692, 'Plio_LSandy_Vsh45_Specific Surface Area': -3112589.349919334, 'Plio_LSandy_Vsh45_Initial Porosity': 0.5887599958608603, \"Mio_Up_Vsh50_Athy's Factor k (depth)\": 0.04175816745674529, 'Mio_Up_Vsh50_Anisotropy Factor Permeability': 3.49238412004446, 'Mio_Up_Vsh50_Scaling Factor': 6.608919771786636, 'Mio_Up_Vsh50_Specific Surface Area': 113392107.80219941, 'Mio_Up_Vsh50_Initial Porosity': 0.4806176782941834, \"Mio_Sandy0_Vsh36_Athy's Factor k (depth)\": 0.5205162315712255, 'Mio_Sandy0_Vsh36_Anisotropy Factor Permeability': 2.2938038924144064, 'Mio_Sandy0_Vsh36_Scaling Factor': 9.409104382957599, 'Mio_Sandy0_Vsh36_Specific Surface Area': 2477253.893167846, 'Mio_Sandy0_Vsh36_Initial Porosity': 0.4930581919244152, \"Mio_Shaly1_Vsh70_Athy's Factor k (depth)\": 0.6683130405593398, 'Mio_Shaly1_Vsh70_Anisotropy Factor Permeability': 1.088338900299219, 'Mio_Shaly1_Vsh70_Scaling Factor': 2.35463206887594, 'Mio_Shaly1_Vsh70_Specific Surface Area': 52431235.31518389, 'Mio_Shaly1_Vsh70_Initial Porosity': 0.5687676184337579, \"Mio_Sandy1_Vsh36_Athy's Factor k (depth)\": 0.893267023934434, 'Mio_Sandy1_Vsh36_Anisotropy Factor Permeability': 1.3995965926586833, 'Mio_Sandy1_Vsh36_Scaling Factor': 14.244711968298503, 'Mio_Sandy1_Vsh36_Specific Surface Area': -29275029.28545474, 'Mio_Sandy1_Vsh36_Initial Porosity': 0.4320101911754435, \"Mio_Shaly2_Vsh60_Athy's Factor k (depth)\": 0.33869631728046545, 'Mio_Shaly2_Vsh60_Anisotropy Factor Permeability': 4.53073559741516, 'Mio_Shaly2_Vsh60_Scaling Factor': 6.101241855775225, 'Mio_Shaly2_Vsh60_Specific Surface Area': 116460268.32388231, 'Mio_Shaly2_Vsh60_Initial Porosity': 0.6049526021989606, \"Mio_Lower_Athy's Factor k (depth)\": 0.529930603044144, 'Mio_Lower_Anisotropy Factor Permeability': 5.427833339873206, 'Mio_Lower_Scaling Factor': 14.381322849407711, 'Mio_Lower_Specific Surface Area': 129779156.3945809, 'Mio_Lower_Initial Porosity': 0.6398284132221745}. Best is trial 12 with value: 0.0005662112134973783.\n",
      "[I 2023-07-16 07:36:27,400] Trial 16 finished with value: 0.0009555741567821926 and parameters: {\"Pliesto_Surface_Athy's Factor k (depth)\": 0.42010031373097934, 'Pliesto_Surface_Anisotropy Factor Permeability': 6.058255379823288, 'Pliesto_Surface_Scaling Factor': 2.788032003153941, 'Pliesto_Surface_Specific Surface Area': 55308370.86492031, 'Pliesto_Surface_Initial Porosity': 0.4699425830566679, \"Pliesto_Shaly_Vsh60_Athy's Factor k (depth)\": 0.708763437314692, 'Pliesto_Shaly_Vsh60_Anisotropy Factor Permeability': 2.9272318020817947, 'Pliesto_Shaly_Vsh60_Scaling Factor': 5.575680435038549, 'Pliesto_Shaly_Vsh60_Specific Surface Area': 43779850.775166936, 'Pliesto_Shaly_Vsh60_Initial Porosity': 0.6204678388730617, \"Plio_Up_Vsh55_Athy's Factor k (depth)\": 0.5117528967294755, 'Plio_Up_Vsh55_Anisotropy Factor Permeability': 3.416233375918283, 'Plio_Up_Vsh55_Scaling Factor': 3.3073629677178356, 'Plio_Up_Vsh55_Specific Surface Area': 105579519.4563378, 'Plio_Up_Vsh55_Initial Porosity': 0.5846320601975422, \"Plio_LSandy_Vsh45_Athy's Factor k (depth)\": 0.20017293094619287, 'Plio_LSandy_Vsh45_Anisotropy Factor Permeability': 1.521710298952277, 'Plio_LSandy_Vsh45_Scaling Factor': 0.41416784924650685, 'Plio_LSandy_Vsh45_Specific Surface Area': -8350253.728726968, 'Plio_LSandy_Vsh45_Initial Porosity': 0.5929768710493349, \"Mio_Up_Vsh50_Athy's Factor k (depth)\": 0.21636125772943113, 'Mio_Up_Vsh50_Anisotropy Factor Permeability': 1.7417366870084752, 'Mio_Up_Vsh50_Scaling Factor': 5.3042158419471175, 'Mio_Up_Vsh50_Specific Surface Area': 89321781.00314175, 'Mio_Up_Vsh50_Initial Porosity': 0.4790703409629815, \"Mio_Sandy0_Vsh36_Athy's Factor k (depth)\": 0.2966908284372617, 'Mio_Sandy0_Vsh36_Anisotropy Factor Permeability': 0.8834632808111111, 'Mio_Sandy0_Vsh36_Scaling Factor': 11.538086534878268, 'Mio_Sandy0_Vsh36_Specific Surface Area': 36234467.91560606, 'Mio_Sandy0_Vsh36_Initial Porosity': 0.4359995713488486, \"Mio_Shaly1_Vsh70_Athy's Factor k (depth)\": 0.5060153931335113, 'Mio_Shaly1_Vsh70_Anisotropy Factor Permeability': 1.9397094068297553, 'Mio_Shaly1_Vsh70_Scaling Factor': -1.9589403907353289, 'Mio_Shaly1_Vsh70_Specific Surface Area': 93177295.56592742, 'Mio_Shaly1_Vsh70_Initial Porosity': 0.6014715139744387, \"Mio_Sandy1_Vsh36_Athy's Factor k (depth)\": 0.7935118643813301, 'Mio_Sandy1_Vsh36_Anisotropy Factor Permeability': 0.17857849227077083, 'Mio_Sandy1_Vsh36_Scaling Factor': -0.35959000033416766, 'Mio_Sandy1_Vsh36_Specific Surface Area': -13112188.291658578, 'Mio_Sandy1_Vsh36_Initial Porosity': 0.45720604650857866, \"Mio_Shaly2_Vsh60_Athy's Factor k (depth)\": 0.27965507319668964, 'Mio_Shaly2_Vsh60_Anisotropy Factor Permeability': 3.2448964535159934, 'Mio_Shaly2_Vsh60_Scaling Factor': 9.434996216228248, 'Mio_Shaly2_Vsh60_Specific Surface Area': 130332646.60234702, 'Mio_Shaly2_Vsh60_Initial Porosity': 0.62247978317309, \"Mio_Lower_Athy's Factor k (depth)\": 0.7405293318848354, 'Mio_Lower_Anisotropy Factor Permeability': 6.061953541838672, 'Mio_Lower_Scaling Factor': 10.896257089186285, 'Mio_Lower_Specific Surface Area': 99509582.60810931, 'Mio_Lower_Initial Porosity': 0.6151160704223151}. Best is trial 12 with value: 0.0005662112134973783.\n",
      "[I 2023-07-16 07:36:36,932] Trial 17 finished with value: 0.0012326982741513077 and parameters: {\"Pliesto_Surface_Athy's Factor k (depth)\": 0.4386369751080192, 'Pliesto_Surface_Anisotropy Factor Permeability': 4.509202086183438, 'Pliesto_Surface_Scaling Factor': 1.757233419434163, 'Pliesto_Surface_Specific Surface Area': 43432497.615845874, 'Pliesto_Surface_Initial Porosity': 0.5244295764440786, \"Pliesto_Shaly_Vsh60_Athy's Factor k (depth)\": 0.7700814010227994, 'Pliesto_Shaly_Vsh60_Anisotropy Factor Permeability': 2.8996233909059352, 'Pliesto_Shaly_Vsh60_Scaling Factor': 5.2013303565355855, 'Pliesto_Shaly_Vsh60_Specific Surface Area': 36287423.490517646, 'Pliesto_Shaly_Vsh60_Initial Porosity': 0.6222275478397978, \"Plio_Up_Vsh55_Athy's Factor k (depth)\": 0.5286263720020977, 'Plio_Up_Vsh55_Anisotropy Factor Permeability': 3.8441403162670493, 'Plio_Up_Vsh55_Scaling Factor': 7.279871001104329, 'Plio_Up_Vsh55_Specific Surface Area': 63140978.65461287, 'Plio_Up_Vsh55_Initial Porosity': 0.5862862220399438, \"Plio_LSandy_Vsh45_Athy's Factor k (depth)\": 0.21089251836728803, 'Plio_LSandy_Vsh45_Anisotropy Factor Permeability': 2.3705338427503775, 'Plio_LSandy_Vsh45_Scaling Factor': 0.6587671759753002, 'Plio_LSandy_Vsh45_Specific Surface Area': 30067334.556299403, 'Plio_LSandy_Vsh45_Initial Porosity': 0.571169761205173, \"Mio_Up_Vsh50_Athy's Factor k (depth)\": 0.2154184294478811, 'Mio_Up_Vsh50_Anisotropy Factor Permeability': 1.7122445632684578, 'Mio_Up_Vsh50_Scaling Factor': 4.314393788501413, 'Mio_Up_Vsh50_Specific Surface Area': 105543439.67526735, 'Mio_Up_Vsh50_Initial Porosity': 0.4894785830042036, \"Mio_Sandy0_Vsh36_Athy's Factor k (depth)\": 0.30176764008588686, 'Mio_Sandy0_Vsh36_Anisotropy Factor Permeability': 1.0215307150728195, 'Mio_Sandy0_Vsh36_Scaling Factor': 8.311542839513193, 'Mio_Sandy0_Vsh36_Specific Surface Area': 36464043.61172734, 'Mio_Sandy0_Vsh36_Initial Porosity': 0.43041572650396615, \"Mio_Shaly1_Vsh70_Athy's Factor k (depth)\": 0.5421894380586556, 'Mio_Shaly1_Vsh70_Anisotropy Factor Permeability': 2.0239041162717744, 'Mio_Shaly1_Vsh70_Scaling Factor': -1.28476029048323, 'Mio_Shaly1_Vsh70_Specific Surface Area': 94576058.14345214, 'Mio_Shaly1_Vsh70_Initial Porosity': 0.6034242147749492, \"Mio_Sandy1_Vsh36_Athy's Factor k (depth)\": 0.7787101151529874, 'Mio_Sandy1_Vsh36_Anisotropy Factor Permeability': 0.4970403598742724, 'Mio_Sandy1_Vsh36_Scaling Factor': 2.3107119716864095, 'Mio_Sandy1_Vsh36_Specific Surface Area': -1743546.9963993356, 'Mio_Sandy1_Vsh36_Initial Porosity': 0.4631204488367037, \"Mio_Shaly2_Vsh60_Athy's Factor k (depth)\": 0.25080423086311154, 'Mio_Shaly2_Vsh60_Anisotropy Factor Permeability': 3.178026930131627, 'Mio_Shaly2_Vsh60_Scaling Factor': 9.324115389002994, 'Mio_Shaly2_Vsh60_Specific Surface Area': 103874054.70292339, 'Mio_Shaly2_Vsh60_Initial Porosity': 0.6269737739770024, \"Mio_Lower_Athy's Factor k (depth)\": 0.7401939696961132, 'Mio_Lower_Anisotropy Factor Permeability': 5.188710315914033, 'Mio_Lower_Scaling Factor': 10.05527436277118, 'Mio_Lower_Specific Surface Area': 97768074.72234207, 'Mio_Lower_Initial Porosity': 0.6692757301852621}. Best is trial 12 with value: 0.0005662112134973783.\n",
      "[I 2023-07-16 07:36:46,388] Trial 18 finished with value: 0.0005678855000757592 and parameters: {\"Pliesto_Surface_Athy's Factor k (depth)\": 0.5208012623582611, 'Pliesto_Surface_Anisotropy Factor Permeability': 6.090010727922306, 'Pliesto_Surface_Scaling Factor': 2.733127206105958, 'Pliesto_Surface_Specific Surface Area': 13008997.700561155, 'Pliesto_Surface_Initial Porosity': 0.46529600393418435, \"Pliesto_Shaly_Vsh60_Athy's Factor k (depth)\": 0.6447492774432202, 'Pliesto_Shaly_Vsh60_Anisotropy Factor Permeability': 2.0935836401658956, 'Pliesto_Shaly_Vsh60_Scaling Factor': 6.212930293230178, 'Pliesto_Shaly_Vsh60_Specific Surface Area': 27483347.369808815, 'Pliesto_Shaly_Vsh60_Initial Porosity': 0.6190798917731264, \"Plio_Up_Vsh55_Athy's Factor k (depth)\": 0.6592399212611291, 'Plio_Up_Vsh55_Anisotropy Factor Permeability': 2.3144265841001266, 'Plio_Up_Vsh55_Scaling Factor': 3.6688381905509613, 'Plio_Up_Vsh55_Specific Surface Area': 93342538.88435864, 'Plio_Up_Vsh55_Initial Porosity': 0.5888631689021907, \"Plio_LSandy_Vsh45_Athy's Factor k (depth)\": 0.19847513387871527, 'Plio_LSandy_Vsh45_Anisotropy Factor Permeability': 1.6280881992500627, 'Plio_LSandy_Vsh45_Scaling Factor': -3.0479299996169398, 'Plio_LSandy_Vsh45_Specific Surface Area': 81988200.35184239, 'Plio_LSandy_Vsh45_Initial Porosity': 0.5620144958748812, \"Mio_Up_Vsh50_Athy's Factor k (depth)\": 0.24957889743641215, 'Mio_Up_Vsh50_Anisotropy Factor Permeability': 2.2692349514516588, 'Mio_Up_Vsh50_Scaling Factor': 0.18034972382294345, 'Mio_Up_Vsh50_Specific Surface Area': 91939640.6440881, 'Mio_Up_Vsh50_Initial Porosity': 0.5179403833114792, \"Mio_Sandy0_Vsh36_Athy's Factor k (depth)\": 0.28987365757392103, 'Mio_Sandy0_Vsh36_Anisotropy Factor Permeability': 2.1765792108289297, 'Mio_Sandy0_Vsh36_Scaling Factor': 11.937442969375512, 'Mio_Sandy0_Vsh36_Specific Surface Area': 83250266.20067655, 'Mio_Sandy0_Vsh36_Initial Porosity': 0.4673357880071186, \"Mio_Shaly1_Vsh70_Athy's Factor k (depth)\": 0.508417129447102, 'Mio_Shaly1_Vsh70_Anisotropy Factor Permeability': 0.8232921473782862, 'Mio_Shaly1_Vsh70_Scaling Factor': -2.0922945944824556, 'Mio_Shaly1_Vsh70_Specific Surface Area': 67777194.80675001, 'Mio_Shaly1_Vsh70_Initial Porosity': 0.6039812796419415, \"Mio_Sandy1_Vsh36_Athy's Factor k (depth)\": 0.7546652566965609, 'Mio_Sandy1_Vsh36_Anisotropy Factor Permeability': 0.17011077980437772, 'Mio_Sandy1_Vsh36_Scaling Factor': -8.835654130644887, 'Mio_Sandy1_Vsh36_Specific Surface Area': -7956982.800247741, 'Mio_Sandy1_Vsh36_Initial Porosity': 0.47203271137523056, \"Mio_Shaly2_Vsh60_Athy's Factor k (depth)\": 0.26563907674383497, 'Mio_Shaly2_Vsh60_Anisotropy Factor Permeability': 2.979246833719287, 'Mio_Shaly2_Vsh60_Scaling Factor': 8.382092452337908, 'Mio_Shaly2_Vsh60_Specific Surface Area': 114965748.53589974, 'Mio_Shaly2_Vsh60_Initial Porosity': 0.641450909160875, \"Mio_Lower_Athy's Factor k (depth)\": 0.6906582776945284, 'Mio_Lower_Anisotropy Factor Permeability': 4.62288906168717, 'Mio_Lower_Scaling Factor': 11.124239109250453, 'Mio_Lower_Specific Surface Area': 84251954.32215706, 'Mio_Lower_Initial Porosity': 0.6121435274162944}. Best is trial 12 with value: 0.0005662112134973783.\n",
      "[I 2023-07-16 07:36:55,924] Trial 19 finished with value: 0.005316123456106785 and parameters: {\"Pliesto_Surface_Athy's Factor k (depth)\": 0.4983650289586661, 'Pliesto_Surface_Anisotropy Factor Permeability': 6.020412218101374, 'Pliesto_Surface_Scaling Factor': 3.1440896119565194, 'Pliesto_Surface_Specific Surface Area': 9227262.645845108, 'Pliesto_Surface_Initial Porosity': 0.5208996111643284, \"Pliesto_Shaly_Vsh60_Athy's Factor k (depth)\": 0.6456100475462234, 'Pliesto_Shaly_Vsh60_Anisotropy Factor Permeability': 1.9079775558114507, 'Pliesto_Shaly_Vsh60_Scaling Factor': 2.9289430496266355, 'Pliesto_Shaly_Vsh60_Specific Surface Area': 25192640.447261747, 'Pliesto_Shaly_Vsh60_Initial Porosity': 0.6214013855988749, \"Plio_Up_Vsh55_Athy's Factor k (depth)\": 0.668353761261, 'Plio_Up_Vsh55_Anisotropy Factor Permeability': 2.197461473247575, 'Plio_Up_Vsh55_Scaling Factor': 4.823860305032119, 'Plio_Up_Vsh55_Specific Surface Area': 81663158.1187425, 'Plio_Up_Vsh55_Initial Porosity': 0.5557404788975523, \"Plio_LSandy_Vsh45_Athy's Factor k (depth)\": 0.40588733779944586, 'Plio_LSandy_Vsh45_Anisotropy Factor Permeability': 2.5401948047542295, 'Plio_LSandy_Vsh45_Scaling Factor': -2.8769126509897243, 'Plio_LSandy_Vsh45_Specific Surface Area': 107596111.90758765, 'Plio_LSandy_Vsh45_Initial Porosity': 0.5587953617059208, \"Mio_Up_Vsh50_Athy's Factor k (depth)\": 0.11208072175340136, 'Mio_Up_Vsh50_Anisotropy Factor Permeability': 2.682522223409343, 'Mio_Up_Vsh50_Scaling Factor': 0.5599380238091761, 'Mio_Up_Vsh50_Specific Surface Area': 67141510.01294436, 'Mio_Up_Vsh50_Initial Porosity': 0.5103215049846198, \"Mio_Sandy0_Vsh36_Athy's Factor k (depth)\": 0.15802878001855164, 'Mio_Sandy0_Vsh36_Anisotropy Factor Permeability': 2.132623879294734, 'Mio_Sandy0_Vsh36_Scaling Factor': 12.532533546171202, 'Mio_Sandy0_Vsh36_Specific Surface Area': 89978523.29275434, 'Mio_Sandy0_Vsh36_Initial Porosity': 0.46977738495746624, \"Mio_Shaly1_Vsh70_Athy's Factor k (depth)\": 0.49772458714298595, 'Mio_Shaly1_Vsh70_Anisotropy Factor Permeability': 0.7902595642932644, 'Mio_Shaly1_Vsh70_Scaling Factor': -0.4405447508351652, 'Mio_Shaly1_Vsh70_Specific Surface Area': 70993960.49281412, 'Mio_Shaly1_Vsh70_Initial Porosity': 0.6092675562306001, \"Mio_Sandy1_Vsh36_Athy's Factor k (depth)\": 0.7431717925053924, 'Mio_Sandy1_Vsh36_Anisotropy Factor Permeability': 1.6730286677253914, 'Mio_Sandy1_Vsh36_Scaling Factor': -8.78006869923744, 'Mio_Sandy1_Vsh36_Specific Surface Area': -9407666.639722556, 'Mio_Sandy1_Vsh36_Initial Porosity': 0.47343284994017837, \"Mio_Shaly2_Vsh60_Athy's Factor k (depth)\": 0.14558128210774046, 'Mio_Shaly2_Vsh60_Anisotropy Factor Permeability': 2.98395484389447, 'Mio_Shaly2_Vsh60_Scaling Factor': 7.534498626002316, 'Mio_Shaly2_Vsh60_Specific Surface Area': 88027776.44580385, 'Mio_Shaly2_Vsh60_Initial Porosity': 0.6428959452181395, \"Mio_Lower_Athy's Factor k (depth)\": 0.42369218031308403, 'Mio_Lower_Anisotropy Factor Permeability': 4.529994500698352, 'Mio_Lower_Scaling Factor': 6.463669933561018, 'Mio_Lower_Specific Surface Area': 79075748.57022344, 'Mio_Lower_Initial Porosity': 0.6456324099260526}. Best is trial 12 with value: 0.0005662112134973783.\n",
      "[I 2023-07-16 07:37:05,628] Trial 20 finished with value: 0.0007387943398096863 and parameters: {\"Pliesto_Surface_Athy's Factor k (depth)\": 0.7482502914725006, 'Pliesto_Surface_Anisotropy Factor Permeability': 2.9484377523910315, 'Pliesto_Surface_Scaling Factor': 8.980753614051812, 'Pliesto_Surface_Specific Surface Area': 23534762.269454073, 'Pliesto_Surface_Initial Porosity': 0.45758389304428615, \"Pliesto_Shaly_Vsh60_Athy's Factor k (depth)\": 0.7674121827238537, 'Pliesto_Shaly_Vsh60_Anisotropy Factor Permeability': 2.1650752021007995, 'Pliesto_Shaly_Vsh60_Scaling Factor': 6.582115260031283, 'Pliesto_Shaly_Vsh60_Specific Surface Area': 26712067.803930495, 'Pliesto_Shaly_Vsh60_Initial Porosity': 0.5950238681203647, \"Plio_Up_Vsh55_Athy's Factor k (depth)\": 0.6854614651304903, 'Plio_Up_Vsh55_Anisotropy Factor Permeability': 2.670092298829816, 'Plio_Up_Vsh55_Scaling Factor': 1.1565951711615874, 'Plio_Up_Vsh55_Specific Surface Area': 94497046.13978672, 'Plio_Up_Vsh55_Initial Porosity': 0.590545586326938, \"Plio_LSandy_Vsh45_Athy's Factor k (depth)\": 0.21760473813342823, 'Plio_LSandy_Vsh45_Anisotropy Factor Permeability': 1.7263692329627964, 'Plio_LSandy_Vsh45_Scaling Factor': -3.4146109346872935, 'Plio_LSandy_Vsh45_Specific Surface Area': 70203380.89826925, 'Plio_LSandy_Vsh45_Initial Porosity': 0.5695122503596018, \"Mio_Up_Vsh50_Athy's Factor k (depth)\": 0.2674573170613987, 'Mio_Up_Vsh50_Anisotropy Factor Permeability': 3.572531493536342, 'Mio_Up_Vsh50_Scaling Factor': -5.357994367502967, 'Mio_Up_Vsh50_Specific Surface Area': 109377405.11505966, 'Mio_Up_Vsh50_Initial Porosity': 0.5426037324972681, \"Mio_Sandy0_Vsh36_Athy's Factor k (depth)\": 0.31143965650844607, 'Mio_Sandy0_Vsh36_Anisotropy Factor Permeability': 1.9878178626470335, 'Mio_Sandy0_Vsh36_Scaling Factor': 7.997556083882061, 'Mio_Sandy0_Vsh36_Specific Surface Area': 129946369.65363792, 'Mio_Sandy0_Vsh36_Initial Porosity': 0.4695027168199276, \"Mio_Shaly1_Vsh70_Athy's Factor k (depth)\": 0.7340385700018855, 'Mio_Shaly1_Vsh70_Anisotropy Factor Permeability': 0.8061278653310555, 'Mio_Shaly1_Vsh70_Scaling Factor': 1.33806071603227, 'Mio_Shaly1_Vsh70_Specific Surface Area': 44397901.25427687, 'Mio_Shaly1_Vsh70_Initial Porosity': 0.5886693233781377, \"Mio_Sandy1_Vsh36_Athy's Factor k (depth)\": 0.7272323672717315, 'Mio_Sandy1_Vsh36_Anisotropy Factor Permeability': 0.7518930573236418, 'Mio_Sandy1_Vsh36_Scaling Factor': -5.821498526556425, 'Mio_Sandy1_Vsh36_Specific Surface Area': -29280573.282219574, 'Mio_Sandy1_Vsh36_Initial Porosity': 0.46746019295886826, \"Mio_Shaly2_Vsh60_Athy's Factor k (depth)\": 0.27439511777736103, 'Mio_Shaly2_Vsh60_Anisotropy Factor Permeability': 2.0850841635348445, 'Mio_Shaly2_Vsh60_Scaling Factor': 3.575532053655081, 'Mio_Shaly2_Vsh60_Specific Surface Area': 114726574.5418964, 'Mio_Shaly2_Vsh60_Initial Porosity': 0.5975099510695421, \"Mio_Lower_Athy's Factor k (depth)\": 0.6694110127457069, 'Mio_Lower_Anisotropy Factor Permeability': 3.2788389683438237, 'Mio_Lower_Scaling Factor': 11.525852907870133, 'Mio_Lower_Specific Surface Area': 111975507.2690894, 'Mio_Lower_Initial Porosity': 0.6084468487844309}. Best is trial 12 with value: 0.0005662112134973783.\n",
      "[I 2023-07-16 07:37:15,089] Trial 21 finished with value: 0.0007271062469652438 and parameters: {\"Pliesto_Surface_Athy's Factor k (depth)\": 0.7457822806986006, 'Pliesto_Surface_Anisotropy Factor Permeability': 3.2475186430837764, 'Pliesto_Surface_Scaling Factor': 9.226844716159277, 'Pliesto_Surface_Specific Surface Area': 27632566.334650833, 'Pliesto_Surface_Initial Porosity': 0.45703208957123603, \"Pliesto_Shaly_Vsh60_Athy's Factor k (depth)\": 0.7760263239300411, 'Pliesto_Shaly_Vsh60_Anisotropy Factor Permeability': 2.1943087145956914, 'Pliesto_Shaly_Vsh60_Scaling Factor': 6.6539561783670536, 'Pliesto_Shaly_Vsh60_Specific Surface Area': 27089540.31413569, 'Pliesto_Shaly_Vsh60_Initial Porosity': 0.5970468587626108, \"Plio_Up_Vsh55_Athy's Factor k (depth)\": 0.6448247579843605, 'Plio_Up_Vsh55_Anisotropy Factor Permeability': 2.7521988452640542, 'Plio_Up_Vsh55_Scaling Factor': 1.2926217520320096, 'Plio_Up_Vsh55_Specific Surface Area': 94969933.5929568, 'Plio_Up_Vsh55_Initial Porosity': 0.5902321743302287, \"Plio_LSandy_Vsh45_Athy's Factor k (depth)\": 0.2227838573187101, 'Plio_LSandy_Vsh45_Anisotropy Factor Permeability': 1.772545259136427, 'Plio_LSandy_Vsh45_Scaling Factor': -3.1967337415359913, 'Plio_LSandy_Vsh45_Specific Surface Area': 71661016.80426358, 'Plio_LSandy_Vsh45_Initial Porosity': 0.5675747012941322, \"Mio_Up_Vsh50_Athy's Factor k (depth)\": 0.2745369850693404, 'Mio_Up_Vsh50_Anisotropy Factor Permeability': 3.594617047603267, 'Mio_Up_Vsh50_Scaling Factor': -5.182527463020598, 'Mio_Up_Vsh50_Specific Surface Area': 109117018.50258449, 'Mio_Up_Vsh50_Initial Porosity': 0.5541590351317262, \"Mio_Sandy0_Vsh36_Athy's Factor k (depth)\": 0.2831437356111435, 'Mio_Sandy0_Vsh36_Anisotropy Factor Permeability': 1.9734679583043733, 'Mio_Sandy0_Vsh36_Scaling Factor': 7.581599795441867, 'Mio_Sandy0_Vsh36_Specific Surface Area': 126789452.62439379, 'Mio_Sandy0_Vsh36_Initial Porosity': 0.47027557988387253, \"Mio_Shaly1_Vsh70_Athy's Factor k (depth)\": 0.7291218240605931, 'Mio_Shaly1_Vsh70_Anisotropy Factor Permeability': 0.838432656426513, 'Mio_Shaly1_Vsh70_Scaling Factor': 1.7284130550927856, 'Mio_Shaly1_Vsh70_Specific Surface Area': 43910258.33596922, 'Mio_Shaly1_Vsh70_Initial Porosity': 0.5913298089572676, \"Mio_Sandy1_Vsh36_Athy's Factor k (depth)\": 0.7281912624326228, 'Mio_Sandy1_Vsh36_Anisotropy Factor Permeability': 0.11152574739306997, 'Mio_Sandy1_Vsh36_Scaling Factor': -6.542202563105596, 'Mio_Sandy1_Vsh36_Specific Surface Area': -27040551.248395085, 'Mio_Sandy1_Vsh36_Initial Porosity': 0.47152308142594485, \"Mio_Shaly2_Vsh60_Athy's Factor k (depth)\": 0.2885282757259272, 'Mio_Shaly2_Vsh60_Anisotropy Factor Permeability': 1.9305440814788657, 'Mio_Shaly2_Vsh60_Scaling Factor': 3.2427896434822077, 'Mio_Shaly2_Vsh60_Specific Surface Area': 113854119.3444691, 'Mio_Shaly2_Vsh60_Initial Porosity': 0.5960045291007546, \"Mio_Lower_Athy's Factor k (depth)\": 0.6612261151284334, 'Mio_Lower_Anisotropy Factor Permeability': 3.2307840050108676, 'Mio_Lower_Scaling Factor': 11.345832389252788, 'Mio_Lower_Specific Surface Area': 111767641.09953088, 'Mio_Lower_Initial Porosity': 0.6098022488019944}. Best is trial 12 with value: 0.0005662112134973783.\n",
      "[I 2023-07-16 07:37:24,770] Trial 22 finished with value: 0.0013323421671183986 and parameters: {\"Pliesto_Surface_Athy's Factor k (depth)\": 0.8975918746871674, 'Pliesto_Surface_Anisotropy Factor Permeability': 3.585116371789683, 'Pliesto_Surface_Scaling Factor': 8.010788892427131, 'Pliesto_Surface_Specific Surface Area': 6190400.071038619, 'Pliesto_Surface_Initial Porosity': 0.45151939392369334, \"Pliesto_Shaly_Vsh60_Athy's Factor k (depth)\": 0.628128092410262, 'Pliesto_Shaly_Vsh60_Anisotropy Factor Permeability': 1.3920916680548752, 'Pliesto_Shaly_Vsh60_Scaling Factor': 7.2567178289199035, 'Pliesto_Shaly_Vsh60_Specific Surface Area': 29309781.826636452, 'Pliesto_Shaly_Vsh60_Initial Porosity': 0.6134741944581862, \"Plio_Up_Vsh55_Athy's Factor k (depth)\": 0.6289299494821267, 'Plio_Up_Vsh55_Anisotropy Factor Permeability': 2.1168697284265927, 'Plio_Up_Vsh55_Scaling Factor': 3.101481766982086, 'Plio_Up_Vsh55_Specific Surface Area': 92417294.38523632, 'Plio_Up_Vsh55_Initial Porosity': 0.5896270251603016, \"Plio_LSandy_Vsh45_Athy's Factor k (depth)\": 0.09180052138723924, 'Plio_LSandy_Vsh45_Anisotropy Factor Permeability': 1.2810279102509, 'Plio_LSandy_Vsh45_Scaling Factor': -2.8807944440092204, 'Plio_LSandy_Vsh45_Specific Surface Area': 75324890.05587563, 'Plio_LSandy_Vsh45_Initial Porosity': 0.5486095338437299, \"Mio_Up_Vsh50_Athy's Factor k (depth)\": 0.26358158388054703, 'Mio_Up_Vsh50_Anisotropy Factor Permeability': 2.985747566910421, 'Mio_Up_Vsh50_Scaling Factor': -0.7088119534953989, 'Mio_Up_Vsh50_Specific Surface Area': 119804592.10511582, 'Mio_Up_Vsh50_Initial Porosity': 0.56633911550038, \"Mio_Sandy0_Vsh36_Athy's Factor k (depth)\": 0.2233938789302954, 'Mio_Sandy0_Vsh36_Anisotropy Factor Permeability': 3.0376780196108113, 'Mio_Sandy0_Vsh36_Scaling Factor': 7.322333172989944, 'Mio_Sandy0_Vsh36_Specific Surface Area': 112238287.76245236, 'Mio_Sandy0_Vsh36_Initial Porosity': 0.5117670592824378, \"Mio_Shaly1_Vsh70_Athy's Factor k (depth)\": 0.6929492752452548, 'Mio_Shaly1_Vsh70_Anisotropy Factor Permeability': -0.5575460522613722, 'Mio_Shaly1_Vsh70_Scaling Factor': -0.0649196918253856, 'Mio_Shaly1_Vsh70_Specific Surface Area': 59013492.67775649, 'Mio_Shaly1_Vsh70_Initial Porosity': 0.6019987356682974, \"Mio_Sandy1_Vsh36_Athy's Factor k (depth)\": 0.8306774351695864, 'Mio_Sandy1_Vsh36_Anisotropy Factor Permeability': 0.2707649067615411, 'Mio_Sandy1_Vsh36_Scaling Factor': -8.667101729801068, 'Mio_Sandy1_Vsh36_Specific Surface Area': 4488927.968287628, 'Mio_Sandy1_Vsh36_Initial Porosity': 0.43127429670735157, \"Mio_Shaly2_Vsh60_Athy's Factor k (depth)\": 0.40077635760979097, 'Mio_Shaly2_Vsh60_Anisotropy Factor Permeability': 1.7763933364865485, 'Mio_Shaly2_Vsh60_Scaling Factor': 5.04177725833109, 'Mio_Shaly2_Vsh60_Specific Surface Area': 106208114.861886, 'Mio_Shaly2_Vsh60_Initial Porosity': 0.6310079565010909, \"Mio_Lower_Athy's Factor k (depth)\": 0.6060337836310706, 'Mio_Lower_Anisotropy Factor Permeability': 3.901988750592617, 'Mio_Lower_Scaling Factor': 12.189745403574634, 'Mio_Lower_Specific Surface Area': 111217132.77576514, 'Mio_Lower_Initial Porosity': 0.6369020399358022}. Best is trial 12 with value: 0.0005662112134973783.\n",
      "[I 2023-07-16 07:37:34,068] Trial 23 finished with value: 0.0022859263980756703 and parameters: {\"Pliesto_Surface_Athy's Factor k (depth)\": 0.7557387888128646, 'Pliesto_Surface_Anisotropy Factor Permeability': 1.5624340722169077, 'Pliesto_Surface_Scaling Factor': 10.362796690270176, 'Pliesto_Surface_Specific Surface Area': 34121094.055522695, 'Pliesto_Surface_Initial Porosity': 0.43158231075990283, \"Pliesto_Shaly_Vsh60_Athy's Factor k (depth)\": 0.7714209178243074, 'Pliesto_Shaly_Vsh60_Anisotropy Factor Permeability': 2.1320020326381623, 'Pliesto_Shaly_Vsh60_Scaling Factor': 5.694186098562788, 'Pliesto_Shaly_Vsh60_Specific Surface Area': 19489403.56770938, 'Pliesto_Shaly_Vsh60_Initial Porosity': 0.6329960081966013, \"Plio_Up_Vsh55_Athy's Factor k (depth)\": 0.6527336576276701, 'Plio_Up_Vsh55_Anisotropy Factor Permeability': 2.8154222527852104, 'Plio_Up_Vsh55_Scaling Factor': 0.7507732827192095, 'Plio_Up_Vsh55_Specific Surface Area': 77936300.2462473, 'Plio_Up_Vsh55_Initial Porosity': 0.6156201629738107, \"Plio_LSandy_Vsh45_Athy's Factor k (depth)\": 0.24143646122902612, 'Plio_LSandy_Vsh45_Anisotropy Factor Permeability': 1.8236673148519513, 'Plio_LSandy_Vsh45_Scaling Factor': -4.427633220627931, 'Plio_LSandy_Vsh45_Specific Surface Area': 83205516.52535021, 'Plio_LSandy_Vsh45_Initial Porosity': 0.5718881754845683, \"Mio_Up_Vsh50_Athy's Factor k (depth)\": 0.12783207576335376, 'Mio_Up_Vsh50_Anisotropy Factor Permeability': 3.889680830450948, 'Mio_Up_Vsh50_Scaling Factor': -0.6547814939944736, 'Mio_Up_Vsh50_Specific Surface Area': 94181202.3779402, 'Mio_Up_Vsh50_Initial Porosity': 0.5198685802898244, \"Mio_Sandy0_Vsh36_Athy's Factor k (depth)\": 0.34288755963744527, 'Mio_Sandy0_Vsh36_Anisotropy Factor Permeability': 1.7939339789923878, 'Mio_Sandy0_Vsh36_Scaling Factor': 10.161965611106469, 'Mio_Sandy0_Vsh36_Specific Surface Area': 89272740.71016721, 'Mio_Sandy0_Vsh36_Initial Porosity': 0.4755834769102091, \"Mio_Shaly1_Vsh70_Athy's Factor k (depth)\": 0.7619254937984675, 'Mio_Shaly1_Vsh70_Anisotropy Factor Permeability': 0.6765129725175709, 'Mio_Shaly1_Vsh70_Scaling Factor': -2.5381402690085375, 'Mio_Shaly1_Vsh70_Specific Surface Area': 37732507.43677026, 'Mio_Shaly1_Vsh70_Initial Porosity': 0.5799551240614009, \"Mio_Sandy1_Vsh36_Athy's Factor k (depth)\": 0.7382510236599765, 'Mio_Sandy1_Vsh36_Anisotropy Factor Permeability': 0.1585002908044975, 'Mio_Sandy1_Vsh36_Scaling Factor': -5.526011128684338, 'Mio_Sandy1_Vsh36_Specific Surface Area': -12476482.454360574, 'Mio_Sandy1_Vsh36_Initial Porosity': 0.47693003808794404, \"Mio_Shaly2_Vsh60_Athy's Factor k (depth)\": 0.30993616673490415, 'Mio_Shaly2_Vsh60_Anisotropy Factor Permeability': 2.8334722855738494, 'Mio_Shaly2_Vsh60_Scaling Factor': 2.7287847252916997, 'Mio_Shaly2_Vsh60_Specific Surface Area': 121032450.93969664, 'Mio_Shaly2_Vsh60_Initial Porosity': 0.5932426762333043, \"Mio_Lower_Athy's Factor k (depth)\": 0.6845844284244283, 'Mio_Lower_Anisotropy Factor Permeability': 2.8293505669523924, 'Mio_Lower_Scaling Factor': 8.37921382588049, 'Mio_Lower_Specific Surface Area': 88187268.93900268, 'Mio_Lower_Initial Porosity': 0.5685357359944729}. Best is trial 12 with value: 0.0005662112134973783.\n",
      "[I 2023-07-16 07:37:43,566] Trial 24 finished with value: 0.001379112191154457 and parameters: {\"Pliesto_Surface_Athy's Factor k (depth)\": 0.5698847150177584, 'Pliesto_Surface_Anisotropy Factor Permeability': 4.0398299003950555, 'Pliesto_Surface_Scaling Factor': 14.41052500171897, 'Pliesto_Surface_Specific Surface Area': 16782630.71093903, 'Pliesto_Surface_Initial Porosity': 0.4798008292806266, \"Pliesto_Shaly_Vsh60_Athy's Factor k (depth)\": 0.57508629750549, 'Pliesto_Shaly_Vsh60_Anisotropy Factor Permeability': 2.5554446337135124, 'Pliesto_Shaly_Vsh60_Scaling Factor': 7.962491896705134, 'Pliesto_Shaly_Vsh60_Specific Surface Area': 52875575.91619506, 'Pliesto_Shaly_Vsh60_Initial Porosity': 0.5868452929201661, \"Plio_Up_Vsh55_Athy's Factor k (depth)\": 0.5839917925412782, 'Plio_Up_Vsh55_Anisotropy Factor Permeability': 2.690136661444692, 'Plio_Up_Vsh55_Scaling Factor': 2.3840640724883446, 'Plio_Up_Vsh55_Specific Surface Area': 68046984.95963138, 'Plio_Up_Vsh55_Initial Porosity': 0.5808490957091286, \"Plio_LSandy_Vsh45_Athy's Factor k (depth)\": 0.16444415373353471, 'Plio_LSandy_Vsh45_Anisotropy Factor Permeability': 2.0950680933636376, 'Plio_LSandy_Vsh45_Scaling Factor': -1.247383201366034, 'Plio_LSandy_Vsh45_Specific Surface Area': 55471891.09677258, 'Plio_LSandy_Vsh45_Initial Porosity': 0.5783050150529779, \"Mio_Up_Vsh50_Athy's Factor k (depth)\": 0.2872922388972201, 'Mio_Up_Vsh50_Anisotropy Factor Permeability': 3.097625191676019, 'Mio_Up_Vsh50_Scaling Factor': -5.454879039424185, 'Mio_Up_Vsh50_Specific Surface Area': 105913233.29712501, 'Mio_Up_Vsh50_Initial Porosity': 0.5147347523493233, \"Mio_Sandy0_Vsh36_Athy's Factor k (depth)\": 0.23085946513766628, 'Mio_Sandy0_Vsh36_Anisotropy Factor Permeability': 2.5125150284165327, 'Mio_Sandy0_Vsh36_Scaling Factor': 3.8493201312626955, 'Mio_Sandy0_Vsh36_Specific Surface Area': 117279642.08829415, 'Mio_Sandy0_Vsh36_Initial Porosity': 0.4500822772740578, \"Mio_Shaly1_Vsh70_Athy's Factor k (depth)\": 0.5998721843450266, 'Mio_Shaly1_Vsh70_Anisotropy Factor Permeability': 1.0508205345187802, 'Mio_Shaly1_Vsh70_Scaling Factor': -1.1832178722048923, 'Mio_Shaly1_Vsh70_Specific Surface Area': 59526492.64109708, 'Mio_Shaly1_Vsh70_Initial Porosity': 0.5583753679304564, \"Mio_Sandy1_Vsh36_Athy's Factor k (depth)\": 0.8992542006677741, 'Mio_Sandy1_Vsh36_Anisotropy Factor Permeability': 0.949770837546389, 'Mio_Sandy1_Vsh36_Scaling Factor': -9.141556950101585, 'Mio_Sandy1_Vsh36_Specific Surface Area': -15030629.532078005, 'Mio_Sandy1_Vsh36_Initial Porosity': 0.45110796689551136, \"Mio_Shaly2_Vsh60_Athy's Factor k (depth)\": 0.21829549253651367, 'Mio_Shaly2_Vsh60_Anisotropy Factor Permeability': 2.367732683335031, 'Mio_Shaly2_Vsh60_Scaling Factor': 7.334314659954961, 'Mio_Shaly2_Vsh60_Specific Surface Area': 106430008.57852215, 'Mio_Shaly2_Vsh60_Initial Porosity': 0.6163895703430765, \"Mio_Lower_Athy's Factor k (depth)\": 0.8004390900506337, 'Mio_Lower_Anisotropy Factor Permeability': 4.401822242726311, 'Mio_Lower_Scaling Factor': 12.248490283595427, 'Mio_Lower_Specific Surface Area': 111929341.4731464, 'Mio_Lower_Initial Porosity': 0.5990739956765365}. Best is trial 12 with value: 0.0005662112134973783.\n",
      "[I 2023-07-16 07:37:53,182] Trial 25 finished with value: 0.003961474454112242 and parameters: {\"Pliesto_Surface_Athy's Factor k (depth)\": 0.5336939942151275, 'Pliesto_Surface_Anisotropy Factor Permeability': 4.864428538750144, 'Pliesto_Surface_Scaling Factor': 6.866253972979989, 'Pliesto_Surface_Specific Surface Area': -4352754.231449693, 'Pliesto_Surface_Initial Porosity': 0.45190118537954244, \"Pliesto_Shaly_Vsh60_Athy's Factor k (depth)\": 0.8468432224016619, 'Pliesto_Shaly_Vsh60_Anisotropy Factor Permeability': 1.0319611265836839, 'Pliesto_Shaly_Vsh60_Scaling Factor': 4.3734370045183955, 'Pliesto_Shaly_Vsh60_Specific Surface Area': 11506789.294110425, 'Pliesto_Shaly_Vsh60_Initial Porosity': 0.6293409716221706, \"Plio_Up_Vsh55_Athy's Factor k (depth)\": 0.6987329537907766, 'Plio_Up_Vsh55_Anisotropy Factor Permeability': 1.8859966848757013, 'Plio_Up_Vsh55_Scaling Factor': -1.2875078169650336, 'Plio_Up_Vsh55_Specific Surface Area': 98839697.0834052, 'Plio_Up_Vsh55_Initial Porosity': 0.5968633818727503, \"Plio_LSandy_Vsh45_Athy's Factor k (depth)\": 0.08248831982031096, 'Plio_LSandy_Vsh45_Anisotropy Factor Permeability': 1.4804081304581904, 'Plio_LSandy_Vsh45_Scaling Factor': -3.024201967559757, 'Plio_LSandy_Vsh45_Specific Surface Area': 64534809.93987355, 'Plio_LSandy_Vsh45_Initial Porosity': 0.5573680185958978, \"Mio_Up_Vsh50_Athy's Factor k (depth)\": 0.20388823071447812, 'Mio_Up_Vsh50_Anisotropy Factor Permeability': 4.89545059732982, 'Mio_Up_Vsh50_Scaling Factor': -2.925948053559182, 'Mio_Up_Vsh50_Specific Surface Area': 86916916.98247057, 'Mio_Up_Vsh50_Initial Porosity': 0.49497607588830317, \"Mio_Sandy0_Vsh36_Athy's Factor k (depth)\": 0.4403960296792486, 'Mio_Sandy0_Vsh36_Anisotropy Factor Permeability': 3.3216370919329767, 'Mio_Sandy0_Vsh36_Scaling Factor': 12.405126292014817, 'Mio_Sandy0_Vsh36_Specific Surface Area': 90123451.87031405, 'Mio_Sandy0_Vsh36_Initial Porosity': 0.48251933490054194, \"Mio_Shaly1_Vsh70_Athy's Factor k (depth)\": 0.6650751290097962, 'Mio_Shaly1_Vsh70_Anisotropy Factor Permeability': 0.3084704026147843, 'Mio_Shaly1_Vsh70_Scaling Factor': 1.5260007908043853, 'Mio_Shaly1_Vsh70_Specific Surface Area': 28545268.82045932, 'Mio_Shaly1_Vsh70_Initial Porosity': 0.597873056604824, \"Mio_Sandy1_Vsh36_Athy's Factor k (depth)\": 0.5941668257028303, 'Mio_Sandy1_Vsh36_Anisotropy Factor Permeability': 1.642152920186478, 'Mio_Sandy1_Vsh36_Scaling Factor': -4.433509620477229, 'Mio_Sandy1_Vsh36_Specific Surface Area': 14346930.392020144, 'Mio_Sandy1_Vsh36_Initial Porosity': 0.5182515368048243, \"Mio_Shaly2_Vsh60_Athy's Factor k (depth)\": 0.40427843302308264, 'Mio_Shaly2_Vsh60_Anisotropy Factor Permeability': 2.9220343422363895, 'Mio_Shaly2_Vsh60_Scaling Factor': 2.8764682585533725, 'Mio_Shaly2_Vsh60_Specific Surface Area': 119207353.77201055, 'Mio_Shaly2_Vsh60_Initial Porosity': 0.6117908778555217, \"Mio_Lower_Athy's Factor k (depth)\": 0.5673530613288862, 'Mio_Lower_Anisotropy Factor Permeability': 4.832274468332401, 'Mio_Lower_Scaling Factor': 9.280619955067655, 'Mio_Lower_Specific Surface Area': 79209317.58220571, 'Mio_Lower_Initial Porosity': 0.6270686173977358}. Best is trial 12 with value: 0.0005662112134973783.\n",
      "[I 2023-07-16 07:38:02,795] Trial 26 finished with value: 0.0022363209001246215 and parameters: {\"Pliesto_Surface_Athy's Factor k (depth)\": 0.592343305892757, 'Pliesto_Surface_Anisotropy Factor Permeability': 3.267910162173199, 'Pliesto_Surface_Scaling Factor': 4.520380320543506, 'Pliesto_Surface_Specific Surface Area': -25490937.160519604, 'Pliesto_Surface_Initial Porosity': 0.4846897030296541, \"Pliesto_Shaly_Vsh60_Athy's Factor k (depth)\": 0.6536358764444606, 'Pliesto_Shaly_Vsh60_Anisotropy Factor Permeability': 1.889855576312477, 'Pliesto_Shaly_Vsh60_Scaling Factor': 6.395762972970303, 'Pliesto_Shaly_Vsh60_Specific Surface Area': 33421239.884299405, 'Pliesto_Shaly_Vsh60_Initial Porosity': 0.6102207225214196, \"Plio_Up_Vsh55_Athy's Factor k (depth)\": 0.7923778396161272, 'Plio_Up_Vsh55_Anisotropy Factor Permeability': 1.2395757556970926, 'Plio_Up_Vsh55_Scaling Factor': 2.037929916092595, 'Plio_Up_Vsh55_Specific Surface Area': 85002100.75631678, 'Plio_Up_Vsh55_Initial Porosity': 0.6094392250564362, \"Plio_LSandy_Vsh45_Athy's Factor k (depth)\": 0.2495937383439454, 'Plio_LSandy_Vsh45_Anisotropy Factor Permeability': 0.9935896070420163, 'Plio_LSandy_Vsh45_Scaling Factor': -4.826442263607119, 'Plio_LSandy_Vsh45_Specific Surface Area': 91599795.69419189, 'Plio_LSandy_Vsh45_Initial Porosity': 0.529547932615914, \"Mio_Up_Vsh50_Athy's Factor k (depth)\": 0.14740018763749438, 'Mio_Up_Vsh50_Anisotropy Factor Permeability': 2.3598023591424573, 'Mio_Up_Vsh50_Scaling Factor': -1.8641173063614933, 'Mio_Up_Vsh50_Specific Surface Area': 98395962.05439587, 'Mio_Up_Vsh50_Initial Porosity': 0.5439839143051839, \"Mio_Sandy0_Vsh36_Athy's Factor k (depth)\": 0.37687048897299197, 'Mio_Sandy0_Vsh36_Anisotropy Factor Permeability': 1.6705876157452861, 'Mio_Sandy0_Vsh36_Scaling Factor': 14.394838893326506, 'Mio_Sandy0_Vsh36_Specific Surface Area': 100759479.7881215, 'Mio_Sandy0_Vsh36_Initial Porosity': 0.5152411025155642, \"Mio_Shaly1_Vsh70_Athy's Factor k (depth)\": 0.594533459494403, 'Mio_Shaly1_Vsh70_Anisotropy Factor Permeability': 1.03941099203448, 'Mio_Shaly1_Vsh70_Scaling Factor': 0.39532483910919924, 'Mio_Shaly1_Vsh70_Specific Surface Area': 42529077.42147967, 'Mio_Shaly1_Vsh70_Initial Porosity': 0.6142916963692581, \"Mio_Sandy1_Vsh36_Athy's Factor k (depth)\": 0.8405688215005901, 'Mio_Sandy1_Vsh36_Anisotropy Factor Permeability': 0.6640752331235954, 'Mio_Sandy1_Vsh36_Scaling Factor': -5.919850077253647, 'Mio_Sandy1_Vsh36_Specific Surface Area': -28874861.888124235, 'Mio_Sandy1_Vsh36_Initial Porosity': 0.48123071934482164, \"Mio_Shaly2_Vsh60_Athy's Factor k (depth)\": 0.31861819325679114, 'Mio_Shaly2_Vsh60_Anisotropy Factor Permeability': 2.3871128236537604, 'Mio_Shaly2_Vsh60_Scaling Factor': 5.337938057466671, 'Mio_Shaly2_Vsh60_Specific Surface Area': 97465628.46483058, 'Mio_Shaly2_Vsh60_Initial Porosity': 0.6423914511386176, \"Mio_Lower_Athy's Factor k (depth)\": 0.6434259769769238, 'Mio_Lower_Anisotropy Factor Permeability': 5.385606487378389, 'Mio_Lower_Scaling Factor': 12.650702899691636, 'Mio_Lower_Specific Surface Area': 111656450.25501592, 'Mio_Lower_Initial Porosity': 0.645320717817085}. Best is trial 12 with value: 0.0005662112134973783.\n",
      "[I 2023-07-16 07:38:12,642] Trial 27 finished with value: 0.00041806715745722135 and parameters: {\"Pliesto_Surface_Athy's Factor k (depth)\": 0.4904407250439196, 'Pliesto_Surface_Anisotropy Factor Permeability': 5.652088354802793, 'Pliesto_Surface_Scaling Factor': 10.615778319811639, 'Pliesto_Surface_Specific Surface Area': 25408847.009712994, 'Pliesto_Surface_Initial Porosity': 0.4588703402503715, \"Pliesto_Shaly_Vsh60_Athy's Factor k (depth)\": 0.7410180622482737, 'Pliesto_Shaly_Vsh60_Anisotropy Factor Permeability': 2.415946843120105, 'Pliesto_Shaly_Vsh60_Scaling Factor': 8.349248723193288, 'Pliesto_Shaly_Vsh60_Specific Surface Area': 32163526.800086454, 'Pliesto_Shaly_Vsh60_Initial Porosity': 0.6127520893816998, \"Plio_Up_Vsh55_Athy's Factor k (depth)\": 0.6399132373272463, 'Plio_Up_Vsh55_Anisotropy Factor Permeability': 2.430315954103634, 'Plio_Up_Vsh55_Scaling Factor': 4.060695265404466, 'Plio_Up_Vsh55_Specific Surface Area': 114184431.11338119, 'Plio_Up_Vsh55_Initial Porosity': 0.5941759286255685, \"Plio_LSandy_Vsh45_Athy's Factor k (depth)\": 0.1777078376056568, 'Plio_LSandy_Vsh45_Anisotropy Factor Permeability': 2.7465643869407215, 'Plio_LSandy_Vsh45_Scaling Factor': -2.5065916542056725, 'Plio_LSandy_Vsh45_Specific Surface Area': 76900127.12800445, 'Plio_LSandy_Vsh45_Initial Porosity': 0.5774394453013099, \"Mio_Up_Vsh50_Athy's Factor k (depth)\": 0.24135304326595441, 'Mio_Up_Vsh50_Anisotropy Factor Permeability': 3.7374119608234326, 'Mio_Up_Vsh50_Scaling Factor': 3.327352698167202, 'Mio_Up_Vsh50_Specific Surface Area': 106284805.9902255, 'Mio_Up_Vsh50_Initial Porosity': 0.5620464157567662, \"Mio_Sandy0_Vsh36_Athy's Factor k (depth)\": 0.2680787638215248, 'Mio_Sandy0_Vsh36_Anisotropy Factor Permeability': 0.7601659013015847, 'Mio_Sandy0_Vsh36_Scaling Factor': 7.677821018422765, 'Mio_Sandy0_Vsh36_Specific Surface Area': 116776947.42310646, 'Mio_Sandy0_Vsh36_Initial Porosity': 0.49064401078505543, \"Mio_Shaly1_Vsh70_Athy's Factor k (depth)\": 0.7056261192397714, 'Mio_Shaly1_Vsh70_Anisotropy Factor Permeability': 1.6738192260706295, 'Mio_Shaly1_Vsh70_Scaling Factor': -3.658717174304836, 'Mio_Shaly1_Vsh70_Specific Surface Area': 32310765.607421882, 'Mio_Shaly1_Vsh70_Initial Porosity': 0.5921852182395037, \"Mio_Sandy1_Vsh36_Athy's Factor k (depth)\": 0.7682575090874647, 'Mio_Sandy1_Vsh36_Anisotropy Factor Permeability': 0.1308408565323954, 'Mio_Sandy1_Vsh36_Scaling Factor': -7.258316143205851, 'Mio_Sandy1_Vsh36_Specific Surface Area': -6570014.6069064215, 'Mio_Sandy1_Vsh36_Initial Porosity': 0.44794364061515574, \"Mio_Shaly2_Vsh60_Athy's Factor k (depth)\": 0.2406134193153029, 'Mio_Shaly2_Vsh60_Anisotropy Factor Permeability': 3.468773802097365, 'Mio_Shaly2_Vsh60_Scaling Factor': 4.825720723687054, 'Mio_Shaly2_Vsh60_Specific Surface Area': 121338011.59809235, 'Mio_Shaly2_Vsh60_Initial Porosity': 0.6270044649965303, \"Mio_Lower_Athy's Factor k (depth)\": 0.7033270850931285, 'Mio_Lower_Anisotropy Factor Permeability': 3.5941569258756685, 'Mio_Lower_Scaling Factor': 10.133594940341519, 'Mio_Lower_Specific Surface Area': 86933064.3817963, 'Mio_Lower_Initial Porosity': 0.6147134535636197}. Best is trial 27 with value: 0.00041806715745722135.\n",
      "[I 2023-07-16 07:38:22,014] Trial 28 finished with value: 0.012636570824842427 and parameters: {\"Pliesto_Surface_Athy's Factor k (depth)\": 0.46073271463605525, 'Pliesto_Surface_Anisotropy Factor Permeability': 5.644871586357147, 'Pliesto_Surface_Scaling Factor': 11.13461139458258, 'Pliesto_Surface_Specific Surface Area': 2558137.4560037665, 'Pliesto_Surface_Initial Porosity': 0.5025120621901329, \"Pliesto_Shaly_Vsh60_Athy's Factor k (depth)\": 0.7324523240633118, 'Pliesto_Shaly_Vsh60_Anisotropy Factor Permeability': 2.7818814801717346, 'Pliesto_Shaly_Vsh60_Scaling Factor': 9.38879283605538, 'Pliesto_Shaly_Vsh60_Specific Surface Area': 50465682.57067859, 'Pliesto_Shaly_Vsh60_Initial Porosity': 0.6278085176347249, \"Plio_Up_Vsh55_Athy's Factor k (depth)\": 0.48943673753019257, 'Plio_Up_Vsh55_Anisotropy Factor Permeability': 2.312887846768867, 'Plio_Up_Vsh55_Scaling Factor': 3.8408037798682986, 'Plio_Up_Vsh55_Specific Surface Area': 114310891.65818913, 'Plio_Up_Vsh55_Initial Porosity': 0.6028897596399884, \"Plio_LSandy_Vsh45_Athy's Factor k (depth)\": 0.12455795073312942, 'Plio_LSandy_Vsh45_Anisotropy Factor Permeability': 2.7613725010964565, 'Plio_LSandy_Vsh45_Scaling Factor': -0.645108569359377, 'Plio_LSandy_Vsh45_Specific Surface Area': 52528437.05566814, 'Plio_LSandy_Vsh45_Initial Porosity': 0.5806342576545834, \"Mio_Up_Vsh50_Athy's Factor k (depth)\": 0.07840861748212039, 'Mio_Up_Vsh50_Anisotropy Factor Permeability': 3.9108760836497805, 'Mio_Up_Vsh50_Scaling Factor': 2.885354698811963, 'Mio_Up_Vsh50_Specific Surface Area': 82931426.67808399, 'Mio_Up_Vsh50_Initial Porosity': 0.5686838399373245, \"Mio_Sandy0_Vsh36_Athy's Factor k (depth)\": 0.1626723230161357, 'Mio_Sandy0_Vsh36_Anisotropy Factor Permeability': 0.967282637882882, 'Mio_Sandy0_Vsh36_Scaling Factor': 9.84046661086327, 'Mio_Sandy0_Vsh36_Specific Surface Area': 117246895.3998091, 'Mio_Sandy0_Vsh36_Initial Porosity': 0.5008060895995228, \"Mio_Shaly1_Vsh70_Athy's Factor k (depth)\": 0.5323452116456105, 'Mio_Shaly1_Vsh70_Anisotropy Factor Permeability': 1.523890364927549, 'Mio_Shaly1_Vsh70_Scaling Factor': -3.6359481377751255, 'Mio_Shaly1_Vsh70_Specific Surface Area': 20979155.798453387, 'Mio_Shaly1_Vsh70_Initial Porosity': 0.5773375638922692, \"Mio_Sandy1_Vsh36_Athy's Factor k (depth)\": 0.8393942004824319, 'Mio_Sandy1_Vsh36_Anisotropy Factor Permeability': 1.2260161615115626, 'Mio_Sandy1_Vsh36_Scaling Factor': -2.323106792039659, 'Mio_Sandy1_Vsh36_Specific Surface Area': 31463081.16134932, 'Mio_Sandy1_Vsh36_Initial Porosity': 0.45061636553607376, \"Mio_Shaly2_Vsh60_Athy's Factor k (depth)\": 0.22663886791107957, 'Mio_Shaly2_Vsh60_Anisotropy Factor Permeability': 3.610692852111225, 'Mio_Shaly2_Vsh60_Scaling Factor': 8.085413649301152, 'Mio_Shaly2_Vsh60_Specific Surface Area': 124141617.02004519, 'Mio_Shaly2_Vsh60_Initial Porosity': 0.626529316579157, \"Mio_Lower_Athy's Factor k (depth)\": 0.8214695715509861, 'Mio_Lower_Anisotropy Factor Permeability': 4.300234048675613, 'Mio_Lower_Scaling Factor': 6.84633757634036, 'Mio_Lower_Specific Surface Area': 71438459.94434649, 'Mio_Lower_Initial Porosity': 0.5904200449019684}. Best is trial 27 with value: 0.00041806715745722135.\n",
      "[I 2023-07-16 07:38:32,404] Trial 29 finished with value: 0.014213511847617682 and parameters: {\"Pliesto_Surface_Athy's Factor k (depth)\": 0.6232549014700364, 'Pliesto_Surface_Anisotropy Factor Permeability': 5.698216785468612, 'Pliesto_Surface_Scaling Factor': 12.29395370402926, 'Pliesto_Surface_Specific Surface Area': 38265812.70015848, 'Pliesto_Surface_Initial Porosity': 0.49663585566411994, \"Pliesto_Shaly_Vsh60_Athy's Factor k (depth)\": 0.6765691503118721, 'Pliesto_Shaly_Vsh60_Anisotropy Factor Permeability': 3.996016277213191, 'Pliesto_Shaly_Vsh60_Scaling Factor': 8.198446287545558, 'Pliesto_Shaly_Vsh60_Specific Surface Area': 33999097.09320448, 'Pliesto_Shaly_Vsh60_Initial Porosity': 0.6075230730363635, \"Plio_Up_Vsh55_Athy's Factor k (depth)\": 0.5974259816377568, 'Plio_Up_Vsh55_Anisotropy Factor Permeability': 2.4317092460065464, 'Plio_Up_Vsh55_Scaling Factor': 4.554859396864124, 'Plio_Up_Vsh55_Specific Surface Area': 114300704.64530948, 'Plio_Up_Vsh55_Initial Porosity': 0.5770146702979748, \"Plio_LSandy_Vsh45_Athy's Factor k (depth)\": 0.17272435748225975, 'Plio_LSandy_Vsh45_Anisotropy Factor Permeability': 2.3154163843540156, 'Plio_LSandy_Vsh45_Scaling Factor': -2.2964760891607474, 'Plio_LSandy_Vsh45_Specific Surface Area': 78932194.02996594, 'Plio_LSandy_Vsh45_Initial Porosity': 0.5430848621496089, \"Mio_Up_Vsh50_Athy's Factor k (depth)\": 0.032432160363761606, 'Mio_Up_Vsh50_Anisotropy Factor Permeability': 2.388922285132998, 'Mio_Up_Vsh50_Scaling Factor': 3.8031336296948237, 'Mio_Up_Vsh50_Specific Surface Area': 95050169.3174355, 'Mio_Up_Vsh50_Initial Porosity': 0.5217943860917691, \"Mio_Sandy0_Vsh36_Athy's Factor k (depth)\": 0.45651857635361226, 'Mio_Sandy0_Vsh36_Anisotropy Factor Permeability': 0.6536441088701844, 'Mio_Sandy0_Vsh36_Scaling Factor': -0.29582641065357684, 'Mio_Sandy0_Vsh36_Specific Surface Area': 77664662.63785625, 'Mio_Sandy0_Vsh36_Initial Porosity': 0.5154212406906324, \"Mio_Shaly1_Vsh70_Athy's Factor k (depth)\": 0.4700328883667697, 'Mio_Shaly1_Vsh70_Anisotropy Factor Permeability': 2.2272033281250527, 'Mio_Shaly1_Vsh70_Scaling Factor': -1.884889719930459, 'Mio_Shaly1_Vsh70_Specific Surface Area': 31361103.00076589, 'Mio_Shaly1_Vsh70_Initial Porosity': 0.6220998238870324, \"Mio_Sandy1_Vsh36_Athy's Factor k (depth)\": 0.7621495121729467, 'Mio_Sandy1_Vsh36_Anisotropy Factor Permeability': 1.931288023204556, 'Mio_Sandy1_Vsh36_Scaling Factor': -6.9286728257496835, 'Mio_Sandy1_Vsh36_Specific Surface Area': -5323095.35727788, 'Mio_Sandy1_Vsh36_Initial Porosity': 0.4910127035574686, \"Mio_Shaly2_Vsh60_Athy's Factor k (depth)\": 0.462643304710587, 'Mio_Shaly2_Vsh60_Anisotropy Factor Permeability': 4.022645422261896, 'Mio_Shaly2_Vsh60_Scaling Factor': 6.362230897864376, 'Mio_Shaly2_Vsh60_Specific Surface Area': 119247724.49042507, 'Mio_Shaly2_Vsh60_Initial Porosity': 0.6342247596083596, \"Mio_Lower_Athy's Factor k (depth)\": 0.7216473094691912, 'Mio_Lower_Anisotropy Factor Permeability': 3.929351707354769, 'Mio_Lower_Scaling Factor': 10.121161095486656, 'Mio_Lower_Specific Surface Area': 86768470.05530007, 'Mio_Lower_Initial Porosity': 0.6224059424505684}. Best is trial 27 with value: 0.00041806715745722135.\n",
      "[I 2023-07-16 07:38:42,030] Trial 30 finished with value: 0.00034593714626025 and parameters: {\"Pliesto_Surface_Athy's Factor k (depth)\": 0.520646534853905, 'Pliesto_Surface_Anisotropy Factor Permeability': 4.574462376407617, 'Pliesto_Surface_Scaling Factor': 8.217881956720422, 'Pliesto_Surface_Specific Surface Area': 17880219.68076753, 'Pliesto_Surface_Initial Porosity': 0.4732872211518007, \"Pliesto_Shaly_Vsh60_Athy's Factor k (depth)\": 0.6003263506029993, 'Pliesto_Shaly_Vsh60_Anisotropy Factor Permeability': 2.4542141313532655, 'Pliesto_Shaly_Vsh60_Scaling Factor': 7.918466799113144, 'Pliesto_Shaly_Vsh60_Specific Surface Area': 61436308.75648446, 'Pliesto_Shaly_Vsh60_Initial Porosity': 0.6110065723471757, \"Plio_Up_Vsh55_Athy's Factor k (depth)\": 0.7102676320037052, 'Plio_Up_Vsh55_Anisotropy Factor Permeability': 1.4291047717776113, 'Plio_Up_Vsh55_Scaling Factor': 6.192201455384291, 'Plio_Up_Vsh55_Specific Surface Area': 125234271.33346653, 'Plio_Up_Vsh55_Initial Porosity': 0.5548645829242745, \"Plio_LSandy_Vsh45_Athy's Factor k (depth)\": 0.1281567375730863, 'Plio_LSandy_Vsh45_Anisotropy Factor Permeability': 2.8810833018922435, 'Plio_LSandy_Vsh45_Scaling Factor': -3.8440676848800015, 'Plio_LSandy_Vsh45_Specific Surface Area': 98457219.89562063, 'Plio_LSandy_Vsh45_Initial Porosity': 0.5802949453885633, \"Mio_Up_Vsh50_Athy's Factor k (depth)\": 0.22884267296463065, 'Mio_Up_Vsh50_Anisotropy Factor Permeability': 2.887213745471646, 'Mio_Up_Vsh50_Scaling Factor': 1.5441929405446695, 'Mio_Up_Vsh50_Specific Surface Area': 62148879.98552612, 'Mio_Up_Vsh50_Initial Porosity': 0.5351623909729442, \"Mio_Sandy0_Vsh36_Athy's Factor k (depth)\": 0.2793686263373284, 'Mio_Sandy0_Vsh36_Anisotropy Factor Permeability': 0.6505009348029338, 'Mio_Sandy0_Vsh36_Scaling Factor': 11.315760055558858, 'Mio_Sandy0_Vsh36_Specific Surface Area': 97766495.0721917, 'Mio_Sandy0_Vsh36_Initial Porosity': 0.48741648587166864, \"Mio_Shaly1_Vsh70_Athy's Factor k (depth)\": 0.615420502665301, 'Mio_Shaly1_Vsh70_Anisotropy Factor Permeability': 1.7185241106075366, 'Mio_Shaly1_Vsh70_Scaling Factor': -4.631792647188266, 'Mio_Shaly1_Vsh70_Specific Surface Area': 52013327.428192735, 'Mio_Shaly1_Vsh70_Initial Porosity': 0.6376647789306837, \"Mio_Sandy1_Vsh36_Athy's Factor k (depth)\": 0.6813546971801776, 'Mio_Sandy1_Vsh36_Anisotropy Factor Permeability': 0.752190233035262, 'Mio_Sandy1_Vsh36_Scaling Factor': -4.4260157711703165, 'Mio_Sandy1_Vsh36_Specific Surface Area': 10557194.228313312, 'Mio_Sandy1_Vsh36_Initial Porosity': 0.4427747878143569, \"Mio_Shaly2_Vsh60_Athy's Factor k (depth)\": 0.1728942787050456, 'Mio_Shaly2_Vsh60_Anisotropy Factor Permeability': 3.419074571973352, 'Mio_Shaly2_Vsh60_Scaling Factor': 4.610982348634716, 'Mio_Shaly2_Vsh60_Specific Surface Area': 106976569.11616188, 'Mio_Shaly2_Vsh60_Initial Porosity': 0.6026719392149242, \"Mio_Lower_Athy's Factor k (depth)\": 0.7064196211132804, 'Mio_Lower_Anisotropy Factor Permeability': 4.811501925789821, 'Mio_Lower_Scaling Factor': 12.792666888314006, 'Mio_Lower_Specific Surface Area': 61620612.89703737, 'Mio_Lower_Initial Porosity': 0.5647314260504657}. Best is trial 30 with value: 0.00034593714626025.\n",
      "[I 2023-07-16 07:38:51,530] Trial 31 finished with value: 0.0007713547403061021 and parameters: {\"Pliesto_Surface_Athy's Factor k (depth)\": 0.5219789733314995, 'Pliesto_Surface_Anisotropy Factor Permeability': 4.846508499561045, 'Pliesto_Surface_Scaling Factor': 7.677146423067529, 'Pliesto_Surface_Specific Surface Area': 17340855.522579253, 'Pliesto_Surface_Initial Porosity': 0.4732349724426038, \"Pliesto_Shaly_Vsh60_Athy's Factor k (depth)\": 0.616900835729056, 'Pliesto_Shaly_Vsh60_Anisotropy Factor Permeability': 2.4621478149376834, 'Pliesto_Shaly_Vsh60_Scaling Factor': 7.965378060279815, 'Pliesto_Shaly_Vsh60_Specific Surface Area': 61138952.45818775, 'Pliesto_Shaly_Vsh60_Initial Porosity': 0.6134772323663268, \"Plio_Up_Vsh55_Athy's Factor k (depth)\": 0.7068725303748303, 'Plio_Up_Vsh55_Anisotropy Factor Permeability': 1.4067318639924227, 'Plio_Up_Vsh55_Scaling Factor': 6.049323062851339, 'Plio_Up_Vsh55_Specific Surface Area': 123474778.51905274, 'Plio_Up_Vsh55_Initial Porosity': 0.5570570199145717, \"Plio_LSandy_Vsh45_Athy's Factor k (depth)\": 0.11263806180939627, 'Plio_LSandy_Vsh45_Anisotropy Factor Permeability': 2.6448279115852773, 'Plio_LSandy_Vsh45_Scaling Factor': -3.9492647856593197, 'Plio_LSandy_Vsh45_Specific Surface Area': 97226629.09921493, 'Plio_LSandy_Vsh45_Initial Porosity': 0.5820919421965542, \"Mio_Up_Vsh50_Athy's Factor k (depth)\": 0.21958826640073215, 'Mio_Up_Vsh50_Anisotropy Factor Permeability': 2.761289226965421, 'Mio_Up_Vsh50_Scaling Factor': 2.0042592014659273, 'Mio_Up_Vsh50_Specific Surface Area': 61080525.08868108, 'Mio_Up_Vsh50_Initial Porosity': 0.5367692482614365, \"Mio_Sandy0_Vsh36_Athy's Factor k (depth)\": 0.34576923174909446, 'Mio_Sandy0_Vsh36_Anisotropy Factor Permeability': 0.7092820870754377, 'Mio_Sandy0_Vsh36_Scaling Factor': 10.945122621300328, 'Mio_Sandy0_Vsh36_Specific Surface Area': 101440978.78902102, 'Mio_Sandy0_Vsh36_Initial Porosity': 0.4883933947411109, \"Mio_Shaly1_Vsh70_Athy's Factor k (depth)\": 0.5575391589384847, 'Mio_Shaly1_Vsh70_Anisotropy Factor Permeability': 1.7069443465568361, 'Mio_Shaly1_Vsh70_Scaling Factor': -4.752423799754858, 'Mio_Shaly1_Vsh70_Specific Surface Area': 52170739.011405095, 'Mio_Shaly1_Vsh70_Initial Porosity': 0.6380357511283135, \"Mio_Sandy1_Vsh36_Athy's Factor k (depth)\": 0.6852140139747057, 'Mio_Sandy1_Vsh36_Anisotropy Factor Permeability': 0.8186861787177062, 'Mio_Sandy1_Vsh36_Scaling Factor': -8.127619871338831, 'Mio_Sandy1_Vsh36_Specific Surface Area': 9142653.75403814, 'Mio_Sandy1_Vsh36_Initial Porosity': 0.44583684491294645, \"Mio_Shaly2_Vsh60_Athy's Factor k (depth)\": 0.18041698276888682, 'Mio_Shaly2_Vsh60_Anisotropy Factor Permeability': 3.404848236026371, 'Mio_Shaly2_Vsh60_Scaling Factor': 4.595796184648163, 'Mio_Shaly2_Vsh60_Specific Surface Area': 109742975.56088941, 'Mio_Shaly2_Vsh60_Initial Porosity': 0.6041708824543239, \"Mio_Lower_Athy's Factor k (depth)\": 0.7076744611577194, 'Mio_Lower_Anisotropy Factor Permeability': 4.954948090735994, 'Mio_Lower_Scaling Factor': 12.719096091084841, 'Mio_Lower_Specific Surface Area': 64539046.14775966, 'Mio_Lower_Initial Porosity': 0.5742935222814451}. Best is trial 30 with value: 0.00034593714626025.\n",
      "[I 2023-07-16 07:39:01,269] Trial 32 finished with value: 0.0010804916421904226 and parameters: {\"Pliesto_Surface_Athy's Factor k (depth)\": 0.4841932318560345, 'Pliesto_Surface_Anisotropy Factor Permeability': 5.586761895292114, 'Pliesto_Surface_Scaling Factor': 10.632851764951472, 'Pliesto_Surface_Specific Surface Area': 17894377.87414916, 'Pliesto_Surface_Initial Porosity': 0.44455122001677677, \"Pliesto_Shaly_Vsh60_Athy's Factor k (depth)\": 0.675177643203182, 'Pliesto_Shaly_Vsh60_Anisotropy Factor Permeability': 2.8452198103131003, 'Pliesto_Shaly_Vsh60_Scaling Factor': 7.45111692728507, 'Pliesto_Shaly_Vsh60_Specific Surface Area': 47465290.33706072, 'Pliesto_Shaly_Vsh60_Initial Porosity': 0.6333526597409208, \"Plio_Up_Vsh55_Athy's Factor k (depth)\": 0.6755063547488018, 'Plio_Up_Vsh55_Anisotropy Factor Permeability': 1.9579557860246013, 'Plio_Up_Vsh55_Scaling Factor': 4.3211344125064155, 'Plio_Up_Vsh55_Specific Surface Area': 117896602.19092482, 'Plio_Up_Vsh55_Initial Porosity': 0.5792217916226007, \"Plio_LSandy_Vsh45_Athy's Factor k (depth)\": 0.15181353846419243, 'Plio_LSandy_Vsh45_Anisotropy Factor Permeability': 2.9935722148459325, 'Plio_LSandy_Vsh45_Scaling Factor': -2.5001571019409994, 'Plio_LSandy_Vsh45_Specific Surface Area': 96792796.25607094, 'Plio_LSandy_Vsh45_Initial Porosity': 0.5928648346054912, \"Mio_Up_Vsh50_Athy's Factor k (depth)\": 0.1646288211680073, 'Mio_Up_Vsh50_Anisotropy Factor Permeability': 3.2142207735649073, 'Mio_Up_Vsh50_Scaling Factor': 3.448023946041671, 'Mio_Up_Vsh50_Specific Surface Area': 76637981.1556126, 'Mio_Up_Vsh50_Initial Porosity': 0.5550852688099419, \"Mio_Sandy0_Vsh36_Athy's Factor k (depth)\": 0.27895581594604935, 'Mio_Sandy0_Vsh36_Anisotropy Factor Permeability': 1.3200088245274015, 'Mio_Sandy0_Vsh36_Scaling Factor': 12.36925116554913, 'Mio_Sandy0_Vsh36_Specific Surface Area': 85273415.81450683, 'Mio_Sandy0_Vsh36_Initial Porosity': 0.5006038499591755, \"Mio_Shaly1_Vsh70_Athy's Factor k (depth)\": 0.6367587588616743, 'Mio_Shaly1_Vsh70_Anisotropy Factor Permeability': 1.6683398418472453, 'Mio_Shaly1_Vsh70_Scaling Factor': -4.841090957704585, 'Mio_Shaly1_Vsh70_Specific Surface Area': 74179916.10208902, 'Mio_Shaly1_Vsh70_Initial Porosity': 0.645373928994248, \"Mio_Sandy1_Vsh36_Athy's Factor k (depth)\": 0.7941980830723201, 'Mio_Sandy1_Vsh36_Anisotropy Factor Permeability': 0.6630820446045509, 'Mio_Sandy1_Vsh36_Scaling Factor': -4.342078927142733, 'Mio_Sandy1_Vsh36_Specific Surface Area': -1835795.8140467796, 'Mio_Sandy1_Vsh36_Initial Porosity': 0.4610066294531845, \"Mio_Shaly2_Vsh60_Athy's Factor k (depth)\": 0.1509789237921868, 'Mio_Shaly2_Vsh60_Anisotropy Factor Permeability': 3.0627966815257626, 'Mio_Shaly2_Vsh60_Scaling Factor': 6.7731530509554165, 'Mio_Shaly2_Vsh60_Specific Surface Area': 118830618.03294666, 'Mio_Shaly2_Vsh60_Initial Porosity': 0.6185846068968168, \"Mio_Lower_Athy's Factor k (depth)\": 0.797362355451805, 'Mio_Lower_Anisotropy Factor Permeability': 4.881322394353695, 'Mio_Lower_Scaling Factor': 13.153942256792776, 'Mio_Lower_Specific Surface Area': 62824167.38235966, 'Mio_Lower_Initial Porosity': 0.5602348922831846}. Best is trial 30 with value: 0.00034593714626025.\n",
      "[I 2023-07-16 07:39:10,779] Trial 33 finished with value: 0.00109051299935082 and parameters: {\"Pliesto_Surface_Athy's Factor k (depth)\": 0.5960752509778595, 'Pliesto_Surface_Anisotropy Factor Permeability': 6.010126486237902, 'Pliesto_Surface_Scaling Factor': 5.046537101457618, 'Pliesto_Surface_Specific Surface Area': 24358332.814389646, 'Pliesto_Surface_Initial Porosity': 0.4595737711837279, \"Pliesto_Shaly_Vsh60_Athy's Factor k (depth)\": 0.5756266541684779, 'Pliesto_Shaly_Vsh60_Anisotropy Factor Permeability': 2.368643835102099, 'Pliesto_Shaly_Vsh60_Scaling Factor': 8.790768126145252, 'Pliesto_Shaly_Vsh60_Specific Surface Area': 40015051.32494591, 'Pliesto_Shaly_Vsh60_Initial Porosity': 0.604585092987902, \"Plio_Up_Vsh55_Athy's Factor k (depth)\": 0.6957316623016906, 'Plio_Up_Vsh55_Anisotropy Factor Permeability': 1.4639148975161902, 'Plio_Up_Vsh55_Scaling Factor': 2.7047829406239754, 'Plio_Up_Vsh55_Specific Surface Area': 111388108.20285074, 'Plio_Up_Vsh55_Initial Porosity': 0.5918274276151853, \"Plio_LSandy_Vsh45_Athy's Factor k (depth)\": 0.050310817486513726, 'Plio_LSandy_Vsh45_Anisotropy Factor Permeability': 2.1334668449295857, 'Plio_LSandy_Vsh45_Scaling Factor': -3.7566818056498104, 'Plio_LSandy_Vsh45_Specific Surface Area': 80727200.95260148, 'Plio_LSandy_Vsh45_Initial Porosity': 0.5587726508003418, \"Mio_Up_Vsh50_Athy's Factor k (depth)\": 0.30986361870404916, 'Mio_Up_Vsh50_Anisotropy Factor Permeability': 2.908563195769997, 'Mio_Up_Vsh50_Scaling Factor': 1.173466076616264, 'Mio_Up_Vsh50_Specific Surface Area': 87489757.2361985, 'Mio_Up_Vsh50_Initial Porosity': 0.5028264759248521, \"Mio_Sandy0_Vsh36_Athy's Factor k (depth)\": 0.2581778838893254, 'Mio_Sandy0_Vsh36_Anisotropy Factor Permeability': 0.6229576586096006, 'Mio_Sandy0_Vsh36_Scaling Factor': 8.609971798299831, 'Mio_Sandy0_Vsh36_Specific Surface Area': 96797108.26184644, 'Mio_Sandy0_Vsh36_Initial Porosity': 0.45271822879448653, \"Mio_Shaly1_Vsh70_Athy's Factor k (depth)\": 0.6957610989220966, 'Mio_Shaly1_Vsh70_Anisotropy Factor Permeability': 1.1712384666029658, 'Mio_Shaly1_Vsh70_Scaling Factor': -2.8684502199006388, 'Mio_Shaly1_Vsh70_Specific Surface Area': 64560903.43710418, 'Mio_Shaly1_Vsh70_Initial Porosity': 0.6251987998779183, \"Mio_Sandy1_Vsh36_Athy's Factor k (depth)\": 0.6216623529176686, 'Mio_Sandy1_Vsh36_Anisotropy Factor Permeability': 0.6078318950292758, 'Mio_Sandy1_Vsh36_Scaling Factor': -4.7435491066166335, 'Mio_Sandy1_Vsh36_Specific Surface Area': -15781424.847792884, 'Mio_Sandy1_Vsh36_Initial Porosity': 0.4430344447742179, \"Mio_Shaly2_Vsh60_Athy's Factor k (depth)\": 0.1925542465552128, 'Mio_Shaly2_Vsh60_Anisotropy Factor Permeability': 2.7211682145943925, 'Mio_Shaly2_Vsh60_Scaling Factor': 5.239375292171586, 'Mio_Shaly2_Vsh60_Specific Surface Area': 124719532.89284536, 'Mio_Shaly2_Vsh60_Initial Porosity': 0.6437521123600937, \"Mio_Lower_Athy's Factor k (depth)\": 0.8533584447163199, 'Mio_Lower_Anisotropy Factor Permeability': 5.571909737046608, 'Mio_Lower_Scaling Factor': 10.573928700401108, 'Mio_Lower_Specific Surface Area': 40301446.99481136, 'Mio_Lower_Initial Porosity': 0.5409767632008101}. Best is trial 30 with value: 0.00034593714626025.\n",
      "[I 2023-07-16 07:39:20,592] Trial 34 finished with value: 0.000518147480050663 and parameters: {\"Pliesto_Surface_Athy's Factor k (depth)\": 0.53404448919808, 'Pliesto_Surface_Anisotropy Factor Permeability': 5.211406431152438, 'Pliesto_Surface_Scaling Factor': 7.883824824413924, 'Pliesto_Surface_Specific Surface Area': 36029352.16185987, 'Pliesto_Surface_Initial Porosity': 0.488430464198967, \"Pliesto_Shaly_Vsh60_Athy's Factor k (depth)\": 0.7365689630810387, 'Pliesto_Shaly_Vsh60_Anisotropy Factor Permeability': 1.433509671114974, 'Pliesto_Shaly_Vsh60_Scaling Factor': 8.481913062682152, 'Pliesto_Shaly_Vsh60_Specific Surface Area': 58864658.253657155, 'Pliesto_Shaly_Vsh60_Initial Porosity': 0.6205834142690264, \"Plio_Up_Vsh55_Athy's Factor k (depth)\": 0.732616791126663, 'Plio_Up_Vsh55_Anisotropy Factor Permeability': 1.1000760363173738, 'Plio_Up_Vsh55_Scaling Factor': 6.12121429419207, 'Plio_Up_Vsh55_Specific Surface Area': 119885247.86214137, 'Plio_Up_Vsh55_Initial Porosity': 0.5580392388109687, \"Plio_LSandy_Vsh45_Athy's Factor k (depth)\": 0.07125194834536594, 'Plio_LSandy_Vsh45_Anisotropy Factor Permeability': 2.4948683515458128, 'Plio_LSandy_Vsh45_Scaling Factor': -3.6633272077838503, 'Plio_LSandy_Vsh45_Specific Surface Area': 107293129.6626985, 'Plio_LSandy_Vsh45_Initial Porosity': 0.5815192204507103, \"Mio_Up_Vsh50_Athy's Factor k (depth)\": 0.24673921825498482, 'Mio_Up_Vsh50_Anisotropy Factor Permeability': 2.50150652070999, 'Mio_Up_Vsh50_Scaling Factor': 2.8215170685372586, 'Mio_Up_Vsh50_Specific Surface Area': 74685655.36123964, 'Mio_Up_Vsh50_Initial Porosity': 0.5319287232681348, \"Mio_Sandy0_Vsh36_Athy's Factor k (depth)\": 0.3502641179075521, 'Mio_Sandy0_Vsh36_Anisotropy Factor Permeability': 0.4855917825799313, 'Mio_Sandy0_Vsh36_Scaling Factor': 6.747018379434539, 'Mio_Sandy0_Vsh36_Specific Surface Area': 110241598.35859866, 'Mio_Sandy0_Vsh36_Initial Porosity': 0.5510891700596419, \"Mio_Shaly1_Vsh70_Athy's Factor k (depth)\": 0.5963809100893376, 'Mio_Shaly1_Vsh70_Anisotropy Factor Permeability': 1.864511793009845, 'Mio_Shaly1_Vsh70_Scaling Factor': -5.225436910101867, 'Mio_Shaly1_Vsh70_Specific Surface Area': 53091820.60780081, 'Mio_Shaly1_Vsh70_Initial Porosity': 0.6142378957483026, \"Mio_Sandy1_Vsh36_Athy's Factor k (depth)\": 0.5651922043212946, 'Mio_Sandy1_Vsh36_Anisotropy Factor Permeability': 1.3407244933484468, 'Mio_Sandy1_Vsh36_Scaling Factor': -7.458403225775423, 'Mio_Sandy1_Vsh36_Specific Surface Area': 18901743.585839137, 'Mio_Sandy1_Vsh36_Initial Porosity': 0.46188590809147917, \"Mio_Shaly2_Vsh60_Athy's Factor k (depth)\": 0.24495902171002024, 'Mio_Shaly2_Vsh60_Anisotropy Factor Permeability': 3.513593861792733, 'Mio_Shaly2_Vsh60_Scaling Factor': 8.212812676206283, 'Mio_Shaly2_Vsh60_Specific Surface Area': 102111180.13932735, 'Mio_Shaly2_Vsh60_Initial Porosity': 0.6325241119630775, \"Mio_Lower_Athy's Factor k (depth)\": 0.7702993275736305, 'Mio_Lower_Anisotropy Factor Permeability': 4.6241622552873105, 'Mio_Lower_Scaling Factor': 8.815930972458933, 'Mio_Lower_Specific Surface Area': 87652497.74077594, 'Mio_Lower_Initial Porosity': 0.6010765958407212}. Best is trial 30 with value: 0.00034593714626025.\n",
      "[I 2023-07-16 07:39:30,800] Trial 35 finished with value: 0.005790305450950444 and parameters: {\"Pliesto_Surface_Athy's Factor k (depth)\": 0.5583043685953125, 'Pliesto_Surface_Anisotropy Factor Permeability': 4.891806335761795, 'Pliesto_Surface_Scaling Factor': 12.033502566219616, 'Pliesto_Surface_Specific Surface Area': 51791224.80456243, 'Pliesto_Surface_Initial Porosity': 0.479493161721728, \"Pliesto_Shaly_Vsh60_Athy's Factor k (depth)\": 0.746450502678471, 'Pliesto_Shaly_Vsh60_Anisotropy Factor Permeability': 1.2133841164485228, 'Pliesto_Shaly_Vsh60_Scaling Factor': 8.37044537228927, 'Pliesto_Shaly_Vsh60_Specific Surface Area': 56449391.424700685, 'Pliesto_Shaly_Vsh60_Initial Porosity': 0.6012901439246033, \"Plio_Up_Vsh55_Athy's Factor k (depth)\": 0.7976361776629155, 'Plio_Up_Vsh55_Anisotropy Factor Permeability': 1.101122617201662, 'Plio_Up_Vsh55_Scaling Factor': 6.203178781140733, 'Plio_Up_Vsh55_Specific Surface Area': 120360099.18077488, 'Plio_Up_Vsh55_Initial Porosity': 0.5418988364424756, \"Plio_LSandy_Vsh45_Athy's Factor k (depth)\": 0.06114585131988504, 'Plio_LSandy_Vsh45_Anisotropy Factor Permeability': 2.9838730906997086, 'Plio_LSandy_Vsh45_Scaling Factor': -3.747166672223721, 'Plio_LSandy_Vsh45_Specific Surface Area': 102373459.68614647, 'Plio_LSandy_Vsh45_Initial Porosity': 0.5803840411299754, \"Mio_Up_Vsh50_Athy's Factor k (depth)\": 0.08748686347949575, 'Mio_Up_Vsh50_Anisotropy Factor Permeability': 2.555522819997852, 'Mio_Up_Vsh50_Scaling Factor': 2.801164339330593, 'Mio_Up_Vsh50_Specific Surface Area': 71623812.52448526, 'Mio_Up_Vsh50_Initial Porosity': 0.5336627741329398, \"Mio_Sandy0_Vsh36_Athy's Factor k (depth)\": 0.35324090442758604, 'Mio_Sandy0_Vsh36_Anisotropy Factor Permeability': 0.5088424738130611, 'Mio_Sandy0_Vsh36_Scaling Factor': 6.501911444788443, 'Mio_Sandy0_Vsh36_Specific Surface Area': 111593445.11754103, 'Mio_Sandy0_Vsh36_Initial Porosity': 0.5528741245407114, \"Mio_Shaly1_Vsh70_Athy's Factor k (depth)\": 0.6083822355957519, 'Mio_Shaly1_Vsh70_Anisotropy Factor Permeability': 2.462765404360813, 'Mio_Shaly1_Vsh70_Scaling Factor': -5.7905653481884185, 'Mio_Shaly1_Vsh70_Specific Surface Area': 33349032.752169102, 'Mio_Shaly1_Vsh70_Initial Porosity': 0.6184917280606429, \"Mio_Sandy1_Vsh36_Athy's Factor k (depth)\": 0.6547909665565357, 'Mio_Sandy1_Vsh36_Anisotropy Factor Permeability': 1.3574329816213184, 'Mio_Sandy1_Vsh36_Scaling Factor': -7.051071993387132, 'Mio_Sandy1_Vsh36_Specific Surface Area': 19935103.601411406, 'Mio_Sandy1_Vsh36_Initial Porosity': 0.43032102552341456, \"Mio_Shaly2_Vsh60_Athy's Factor k (depth)\": 0.2115364328980589, 'Mio_Shaly2_Vsh60_Anisotropy Factor Permeability': 3.7452187790274296, 'Mio_Shaly2_Vsh60_Scaling Factor': 4.635186465517794, 'Mio_Shaly2_Vsh60_Specific Surface Area': 101382017.91558155, 'Mio_Shaly2_Vsh60_Initial Porosity': 0.620221185628253, \"Mio_Lower_Athy's Factor k (depth)\": 0.7627789050090026, 'Mio_Lower_Anisotropy Factor Permeability': 4.237488445890803, 'Mio_Lower_Scaling Factor': 9.287358811362946, 'Mio_Lower_Specific Surface Area': 95027357.50828022, 'Mio_Lower_Initial Porosity': 0.598420753046945}. Best is trial 30 with value: 0.00034593714626025.\n",
      "[I 2023-07-16 07:39:40,438] Trial 36 finished with value: 0.002973596710620094 and parameters: {\"Pliesto_Surface_Athy's Factor k (depth)\": 0.7021898644214797, 'Pliesto_Surface_Anisotropy Factor Permeability': 5.220524203473204, 'Pliesto_Surface_Scaling Factor': 7.989227001263063, 'Pliesto_Surface_Specific Surface Area': 34545142.61894996, 'Pliesto_Surface_Initial Porosity': 0.4923001561047912, \"Pliesto_Shaly_Vsh60_Athy's Factor k (depth)\": 0.802530912219822, 'Pliesto_Shaly_Vsh60_Anisotropy Factor Permeability': 0.9863667764543895, 'Pliesto_Shaly_Vsh60_Scaling Factor': 9.479970724799456, 'Pliesto_Shaly_Vsh60_Specific Surface Area': 63206132.68218346, 'Pliesto_Shaly_Vsh60_Initial Porosity': 0.6289873649396795, \"Plio_Up_Vsh55_Athy's Factor k (depth)\": 0.7444248405212215, 'Plio_Up_Vsh55_Anisotropy Factor Permeability': 0.8339708357968868, 'Plio_Up_Vsh55_Scaling Factor': 5.283419544147131, 'Plio_Up_Vsh55_Specific Surface Area': 115875611.67976579, 'Plio_Up_Vsh55_Initial Porosity': 0.5525170999806227, \"Plio_LSandy_Vsh45_Athy's Factor k (depth)\": 0.03552576325174065, 'Plio_LSandy_Vsh45_Anisotropy Factor Permeability': 3.596513939313536, 'Plio_LSandy_Vsh45_Scaling Factor': -1.2026757467779268, 'Plio_LSandy_Vsh45_Specific Surface Area': 105383305.59657992, 'Plio_LSandy_Vsh45_Initial Porosity': 0.5750158492039953, \"Mio_Up_Vsh50_Athy's Factor k (depth)\": 0.398308548000761, 'Mio_Up_Vsh50_Anisotropy Factor Permeability': 2.6904081654326286, 'Mio_Up_Vsh50_Scaling Factor': 1.9656915333574225, 'Mio_Up_Vsh50_Specific Surface Area': 63593868.94068144, 'Mio_Up_Vsh50_Initial Porosity': 0.5261285890362157, \"Mio_Sandy0_Vsh36_Athy's Factor k (depth)\": 0.40000850884518324, 'Mio_Sandy0_Vsh36_Anisotropy Factor Permeability': 0.13128309529415372, 'Mio_Sandy0_Vsh36_Scaling Factor': 5.434340357011087, 'Mio_Sandy0_Vsh36_Specific Surface Area': 120089528.85144588, 'Mio_Sandy0_Vsh36_Initial Porosity': 0.5581142822801869, \"Mio_Shaly1_Vsh70_Athy's Factor k (depth)\": 0.5680680537322715, 'Mio_Shaly1_Vsh70_Anisotropy Factor Permeability': 2.186845563586968, 'Mio_Shaly1_Vsh70_Scaling Factor': -3.6692071666544264, 'Mio_Shaly1_Vsh70_Specific Surface Area': 27902415.445835456, 'Mio_Shaly1_Vsh70_Initial Porosity': 0.6319098751208531, \"Mio_Sandy1_Vsh36_Athy's Factor k (depth)\": 0.5498385041161932, 'Mio_Sandy1_Vsh36_Anisotropy Factor Permeability': 2.0883214134882224, 'Mio_Sandy1_Vsh36_Scaling Factor': -7.4617644804631045, 'Mio_Sandy1_Vsh36_Specific Surface Area': 31159039.369151667, 'Mio_Sandy1_Vsh36_Initial Porosity': 0.45624494475719723, \"Mio_Shaly2_Vsh60_Athy's Factor k (depth)\": 0.25617517751925456, 'Mio_Shaly2_Vsh60_Anisotropy Factor Permeability': 3.5029617571885083, 'Mio_Shaly2_Vsh60_Scaling Factor': 6.818230588102983, 'Mio_Shaly2_Vsh60_Specific Surface Area': 91233860.45769049, 'Mio_Shaly2_Vsh60_Initial Porosity': 0.6316341334106536, \"Mio_Lower_Athy's Factor k (depth)\": 0.8411007632295862, 'Mio_Lower_Anisotropy Factor Permeability': 5.090606068018417, 'Mio_Lower_Scaling Factor': 7.5948488177436815, 'Mio_Lower_Specific Surface Area': 32407646.201792527, 'Mio_Lower_Initial Porosity': 0.587285878832206}. Best is trial 30 with value: 0.00034593714626025.\n",
      "[I 2023-07-16 07:39:50,176] Trial 37 finished with value: 0.003780390215181215 and parameters: {\"Pliesto_Surface_Athy's Factor k (depth)\": 0.4486952295264368, 'Pliesto_Surface_Anisotropy Factor Permeability': 4.298695923616956, 'Pliesto_Surface_Scaling Factor': 10.82927418266761, 'Pliesto_Surface_Specific Surface Area': 1410033.7036191057, 'Pliesto_Surface_Initial Porosity': 0.5121588338179267, \"Pliesto_Shaly_Vsh60_Athy's Factor k (depth)\": 0.801209850779677, 'Pliesto_Shaly_Vsh60_Anisotropy Factor Permeability': 1.9267784581080074, 'Pliesto_Shaly_Vsh60_Scaling Factor': 7.108156342098752, 'Pliesto_Shaly_Vsh60_Specific Surface Area': 48296934.3712959, 'Pliesto_Shaly_Vsh60_Initial Porosity': 0.6164156588294225, \"Plio_Up_Vsh55_Athy's Factor k (depth)\": 0.737711324351755, 'Plio_Up_Vsh55_Anisotropy Factor Permeability': 1.7761020964987377, 'Plio_Up_Vsh55_Scaling Factor': 7.504488607031849, 'Plio_Up_Vsh55_Specific Surface Area': 103038666.13754658, 'Plio_Up_Vsh55_Initial Porosity': 0.5631482115799729, \"Plio_LSandy_Vsh45_Athy's Factor k (depth)\": 0.1296725140519327, 'Plio_LSandy_Vsh45_Anisotropy Factor Permeability': 2.490608021486069, 'Plio_LSandy_Vsh45_Scaling Factor': -3.896888370845095, 'Plio_LSandy_Vsh45_Specific Surface Area': 108173424.19384158, 'Plio_LSandy_Vsh45_Initial Porosity': 0.5325684709642232, \"Mio_Up_Vsh50_Athy's Factor k (depth)\": 0.23751188757291986, 'Mio_Up_Vsh50_Anisotropy Factor Permeability': 3.2567436350739807, 'Mio_Up_Vsh50_Scaling Factor': 3.3041660383167146, 'Mio_Up_Vsh50_Specific Surface Area': 78876589.53164071, 'Mio_Up_Vsh50_Initial Porosity': 0.5848667076172315, \"Mio_Sandy0_Vsh36_Athy's Factor k (depth)\": 0.18494100965688667, 'Mio_Sandy0_Vsh36_Anisotropy Factor Permeability': 0.4665654907844037, 'Mio_Sandy0_Vsh36_Scaling Factor': 6.980890660249247, 'Mio_Sandy0_Vsh36_Specific Surface Area': 108673445.08200894, 'Mio_Sandy0_Vsh36_Initial Porosity': 0.5263814006298485, \"Mio_Shaly1_Vsh70_Athy's Factor k (depth)\": 0.7751797105843558, 'Mio_Shaly1_Vsh70_Anisotropy Factor Permeability': 1.8153435854405489, 'Mio_Shaly1_Vsh70_Scaling Factor': -5.8231905440626655, 'Mio_Shaly1_Vsh70_Specific Surface Area': 50066532.6669251, 'Mio_Shaly1_Vsh70_Initial Porosity': 0.6137957434896514, \"Mio_Sandy1_Vsh36_Athy's Factor k (depth)\": 0.5282966800406786, 'Mio_Sandy1_Vsh36_Anisotropy Factor Permeability': 1.0008106661699459, 'Mio_Sandy1_Vsh36_Scaling Factor': -2.932151851936279, 'Mio_Sandy1_Vsh36_Specific Surface Area': 8928133.561775463, 'Mio_Sandy1_Vsh36_Initial Porosity': 0.48577124999382393, \"Mio_Shaly2_Vsh60_Athy's Factor k (depth)\": 0.14568970958303734, 'Mio_Shaly2_Vsh60_Anisotropy Factor Permeability': 3.944606301352964, 'Mio_Shaly2_Vsh60_Scaling Factor': 3.9885987257190525, 'Mio_Shaly2_Vsh60_Specific Surface Area': 108264293.51269056, 'Mio_Shaly2_Vsh60_Initial Porosity': 0.6236934538662813, \"Mio_Lower_Athy's Factor k (depth)\": 0.8899603299382706, 'Mio_Lower_Anisotropy Factor Permeability': 5.506418714681203, 'Mio_Lower_Scaling Factor': 13.321990159250834, 'Mio_Lower_Specific Surface Area': 101436421.08049142, 'Mio_Lower_Initial Porosity': 0.6298285599323007}. Best is trial 30 with value: 0.00034593714626025.\n",
      "[I 2023-07-16 07:39:59,833] Trial 38 finished with value: 0.023554258366964335 and parameters: {\"Pliesto_Surface_Athy's Factor k (depth)\": 0.6122008245836355, 'Pliesto_Surface_Anisotropy Factor Permeability': 5.263921593183783, 'Pliesto_Surface_Scaling Factor': 6.702290748906384, 'Pliesto_Surface_Specific Surface Area': -16113061.767454058, 'Pliesto_Surface_Initial Porosity': 0.48908636402720734, \"Pliesto_Shaly_Vsh60_Athy's Factor k (depth)\": 0.7314764134979183, 'Pliesto_Shaly_Vsh60_Anisotropy Factor Permeability': 1.7132276994452136, 'Pliesto_Shaly_Vsh60_Scaling Factor': 8.51419846470466, 'Pliesto_Shaly_Vsh60_Specific Surface Area': 75726925.3250282, 'Pliesto_Shaly_Vsh60_Initial Porosity': 0.6360043226499614, \"Plio_Up_Vsh55_Athy's Factor k (depth)\": 0.7322411333149458, 'Plio_Up_Vsh55_Anisotropy Factor Permeability': 1.5793330747761336, 'Plio_Up_Vsh55_Scaling Factor': 4.717486788250486, 'Plio_Up_Vsh55_Specific Surface Area': 121259751.30280183, 'Plio_Up_Vsh55_Initial Porosity': 0.5422151558213889, \"Plio_LSandy_Vsh45_Athy's Factor k (depth)\": 0.07803540788251086, 'Plio_LSandy_Vsh45_Anisotropy Factor Permeability': 2.7218574810119534, 'Plio_LSandy_Vsh45_Scaling Factor': -2.3479455899487767, 'Plio_LSandy_Vsh45_Specific Surface Area': 91586459.50622986, 'Plio_LSandy_Vsh45_Initial Porosity': 0.5857134509179719, \"Mio_Up_Vsh50_Athy's Factor k (depth)\": 0.15793181893632674, 'Mio_Up_Vsh50_Anisotropy Factor Permeability': 2.8434152660409096, 'Mio_Up_Vsh50_Scaling Factor': 8.137746607443189, 'Mio_Up_Vsh50_Specific Surface Area': 55177795.52472186, 'Mio_Up_Vsh50_Initial Porosity': 0.5360714983152507, \"Mio_Sandy0_Vsh36_Athy's Factor k (depth)\": 0.11179127690516899, 'Mio_Sandy0_Vsh36_Anisotropy Factor Permeability': 1.1370641500698446, 'Mio_Sandy0_Vsh36_Scaling Factor': 8.56361502994762, 'Mio_Sandy0_Vsh36_Specific Surface Area': 68770747.3902639, 'Mio_Sandy0_Vsh36_Initial Porosity': 0.5635511178166395, \"Mio_Shaly1_Vsh70_Athy's Factor k (depth)\": 0.6662578615808441, 'Mio_Shaly1_Vsh70_Anisotropy Factor Permeability': 2.8029524982963108, 'Mio_Shaly1_Vsh70_Scaling Factor': -6.64718429984399, 'Mio_Shaly1_Vsh70_Specific Surface Area': 39453811.38376943, 'Mio_Shaly1_Vsh70_Initial Porosity': 0.6250006864482314, \"Mio_Sandy1_Vsh36_Athy's Factor k (depth)\": 0.5854145841973264, 'Mio_Sandy1_Vsh36_Anisotropy Factor Permeability': 1.5983863934241098, 'Mio_Sandy1_Vsh36_Scaling Factor': -5.443484967411751, 'Mio_Sandy1_Vsh36_Specific Surface Area': 27291170.11556527, 'Mio_Sandy1_Vsh36_Initial Porosity': 0.4437424342205769, \"Mio_Shaly2_Vsh60_Athy's Factor k (depth)\": 0.18810975561162288, 'Mio_Shaly2_Vsh60_Anisotropy Factor Permeability': 4.303596183431775, 'Mio_Shaly2_Vsh60_Scaling Factor': 2.0368994547246446, 'Mio_Shaly2_Vsh60_Specific Surface Area': 95323104.50137445, 'Mio_Shaly2_Vsh60_Initial Porosity': 0.606806105455146, \"Mio_Lower_Athy's Factor k (depth)\": 0.7630663572785733, 'Mio_Lower_Anisotropy Factor Permeability': 3.700079781732246, 'Mio_Lower_Scaling Factor': 9.025266441290782, 'Mio_Lower_Specific Surface Area': 119963789.86105713, 'Mio_Lower_Initial Porosity': 0.5588016424088502}. Best is trial 30 with value: 0.00034593714626025.\n",
      "[I 2023-07-16 07:40:09,442] Trial 39 finished with value: 0.0008887967840934771 and parameters: {\"Pliesto_Surface_Athy's Factor k (depth)\": 0.5509206028090756, 'Pliesto_Surface_Anisotropy Factor Permeability': 4.645949717110191, 'Pliesto_Surface_Scaling Factor': 8.78212575463498, 'Pliesto_Surface_Specific Surface Area': 42731603.52194592, 'Pliesto_Surface_Initial Porosity': 0.506534348371448, \"Pliesto_Shaly_Vsh60_Athy's Factor k (depth)\": 0.7114027358902276, 'Pliesto_Shaly_Vsh60_Anisotropy Factor Permeability': 0.695712344117837, 'Pliesto_Shaly_Vsh60_Scaling Factor': 7.443119777670016, 'Pliesto_Shaly_Vsh60_Specific Surface Area': 57679190.74117478, 'Pliesto_Shaly_Vsh60_Initial Porosity': 0.6086630620421369, \"Plio_Up_Vsh55_Athy's Factor k (depth)\": 0.7512721141114495, 'Plio_Up_Vsh55_Anisotropy Factor Permeability': 1.031787741812114, 'Plio_Up_Vsh55_Scaling Factor': 6.024658780500065, 'Plio_Up_Vsh55_Specific Surface Area': 110323861.47843891, 'Plio_Up_Vsh55_Initial Porosity': 0.5331461721648562, \"Plio_LSandy_Vsh45_Athy's Factor k (depth)\": 0.018309508492039953, 'Plio_LSandy_Vsh45_Anisotropy Factor Permeability': 2.9671352668744615, 'Plio_LSandy_Vsh45_Scaling Factor': 1.7427113300211996, 'Plio_LSandy_Vsh45_Specific Surface Area': 99305305.28682825, 'Plio_LSandy_Vsh45_Initial Porosity': 0.549192100230078, \"Mio_Up_Vsh50_Athy's Factor k (depth)\": 0.3047534647697741, 'Mio_Up_Vsh50_Anisotropy Factor Permeability': 2.0954409568004757, 'Mio_Up_Vsh50_Scaling Factor': 4.174146809157768, 'Mio_Up_Vsh50_Specific Surface Area': 76007863.94536065, 'Mio_Up_Vsh50_Initial Porosity': 0.5253358387574794, \"Mio_Sandy0_Vsh36_Athy's Factor k (depth)\": 0.33923482502290503, 'Mio_Sandy0_Vsh36_Anisotropy Factor Permeability': 0.8852798254238636, 'Mio_Sandy0_Vsh36_Scaling Factor': 5.376649204244686, 'Mio_Sandy0_Vsh36_Specific Surface Area': 95204847.78716807, 'Mio_Sandy0_Vsh36_Initial Porosity': 0.5462301589948266, \"Mio_Shaly1_Vsh70_Athy's Factor k (depth)\": 0.6174050441379435, 'Mio_Shaly1_Vsh70_Anisotropy Factor Permeability': 1.8425521346372205, 'Mio_Shaly1_Vsh70_Scaling Factor': -4.697435948073221, 'Mio_Shaly1_Vsh70_Specific Surface Area': 47739871.3675791, 'Mio_Shaly1_Vsh70_Initial Porosity': 0.6484803758842652, \"Mio_Sandy1_Vsh36_Athy's Factor k (depth)\": 0.6928958510614891, 'Mio_Sandy1_Vsh36_Anisotropy Factor Permeability': 2.4936895793423113, 'Mio_Sandy1_Vsh36_Scaling Factor': -3.616397539320035, 'Mio_Sandy1_Vsh36_Specific Surface Area': 13586819.758269355, 'Mio_Sandy1_Vsh36_Initial Porosity': 0.4587196056839854, \"Mio_Shaly2_Vsh60_Athy's Factor k (depth)\": 0.3557557479545144, 'Mio_Shaly2_Vsh60_Anisotropy Factor Permeability': 3.742668829529965, 'Mio_Shaly2_Vsh60_Scaling Factor': 0.5131458368374846, 'Mio_Shaly2_Vsh60_Specific Surface Area': 102812754.61501192, 'Mio_Shaly2_Vsh60_Initial Porosity': 0.5887604584638169, \"Mio_Lower_Athy's Factor k (depth)\": 0.7695132142631992, 'Mio_Lower_Anisotropy Factor Permeability': 4.811242916912388, 'Mio_Lower_Scaling Factor': 5.947103511834479, 'Mio_Lower_Specific Surface Area': 62591992.81640213, 'Mio_Lower_Initial Porosity': 0.6533256378898182}. Best is trial 30 with value: 0.00034593714626025.\n",
      "[I 2023-07-16 07:40:19,223] Trial 40 finished with value: 0.0012026797531147317 and parameters: {\"Pliesto_Surface_Athy's Factor k (depth)\": 0.3955371686237882, 'Pliesto_Surface_Anisotropy Factor Permeability': 4.299225634956478, 'Pliesto_Surface_Scaling Factor': 4.350294164918941, 'Pliesto_Surface_Specific Surface Area': 28691963.549312018, 'Pliesto_Surface_Initial Porosity': 0.5415900770364749, \"Pliesto_Shaly_Vsh60_Athy's Factor k (depth)\": 0.5241630270539976, 'Pliesto_Shaly_Vsh60_Anisotropy Factor Permeability': -0.09941136953827168, 'Pliesto_Shaly_Vsh60_Scaling Factor': 8.632643544465228, 'Pliesto_Shaly_Vsh60_Specific Surface Area': 65718657.32783909, 'Pliesto_Shaly_Vsh60_Initial Porosity': 0.6255655900738096, \"Plio_Up_Vsh55_Athy's Factor k (depth)\": 0.6168213623283283, 'Plio_Up_Vsh55_Anisotropy Factor Permeability': 0.14332297679601158, 'Plio_Up_Vsh55_Scaling Factor': 8.5692902141385, 'Plio_Up_Vsh55_Specific Surface Area': 100412696.92049728, 'Plio_Up_Vsh55_Initial Porosity': 0.561314712401933, \"Plio_LSandy_Vsh45_Athy's Factor k (depth)\": 0.11036304164714851, 'Plio_LSandy_Vsh45_Anisotropy Factor Permeability': 2.43832031862793, 'Plio_LSandy_Vsh45_Scaling Factor': -4.501547428261944, 'Plio_LSandy_Vsh45_Specific Surface Area': 93037129.15243399, 'Plio_LSandy_Vsh45_Initial Porosity': 0.5756026902114272, \"Mio_Up_Vsh50_Athy's Factor k (depth)\": 0.1878874731753071, 'Mio_Up_Vsh50_Anisotropy Factor Permeability': 3.3040062161303827, 'Mio_Up_Vsh50_Scaling Factor': 2.2778970858214995, 'Mio_Up_Vsh50_Specific Surface Area': 69052042.33322096, 'Mio_Up_Vsh50_Initial Porosity': 0.5468268795811112, \"Mio_Sandy0_Vsh36_Athy's Factor k (depth)\": 0.23822680408546443, 'Mio_Sandy0_Vsh36_Anisotropy Factor Permeability': 0.4510054898924013, 'Mio_Sandy0_Vsh36_Scaling Factor': 10.491173681636036, 'Mio_Sandy0_Vsh36_Specific Surface Area': 105433429.6232973, 'Mio_Sandy0_Vsh36_Initial Porosity': 0.5099401453370723, \"Mio_Shaly1_Vsh70_Athy's Factor k (depth)\": 0.805548474916761, 'Mio_Shaly1_Vsh70_Anisotropy Factor Permeability': 1.559727307692777, 'Mio_Shaly1_Vsh70_Scaling Factor': -6.978995774120189, 'Mio_Shaly1_Vsh70_Specific Surface Area': 39053271.289398625, 'Mio_Shaly1_Vsh70_Initial Porosity': 0.5920946463747528, \"Mio_Sandy1_Vsh36_Athy's Factor k (depth)\": 0.474901668879958, 'Mio_Sandy1_Vsh36_Anisotropy Factor Permeability': 1.2582868132779788, 'Mio_Sandy1_Vsh36_Scaling Factor': -7.5068455064724855, 'Mio_Sandy1_Vsh36_Specific Surface Area': 973057.2622040771, 'Mio_Sandy1_Vsh36_Initial Porosity': 0.4990193864451275, \"Mio_Shaly2_Vsh60_Athy's Factor k (depth)\": 0.24615186453120258, 'Mio_Shaly2_Vsh60_Anisotropy Factor Permeability': 3.3156698016014188, 'Mio_Shaly2_Vsh60_Scaling Factor': 5.441811677815817, 'Mio_Shaly2_Vsh60_Specific Surface Area': 123920605.22715497, 'Mio_Shaly2_Vsh60_Initial Porosity': 0.6020849025493564, \"Mio_Lower_Athy's Factor k (depth)\": 0.8536542854970958, 'Mio_Lower_Anisotropy Factor Permeability': 4.200889588733672, 'Mio_Lower_Scaling Factor': 7.697008639634592, 'Mio_Lower_Specific Surface Area': 75875102.40862638, 'Mio_Lower_Initial Porosity': 0.5371212817212351}. Best is trial 30 with value: 0.00034593714626025.\n",
      "[I 2023-07-16 07:40:29,069] Trial 41 finished with value: 0.00048659524841028685 and parameters: {\"Pliesto_Surface_Athy's Factor k (depth)\": 0.4945654912247215, 'Pliesto_Surface_Anisotropy Factor Permeability': 5.479121441732033, 'Pliesto_Surface_Scaling Factor': 9.805677286107047, 'Pliesto_Surface_Specific Surface Area': 11331835.27485415, 'Pliesto_Surface_Initial Porosity': 0.4677977794376174, \"Pliesto_Shaly_Vsh60_Athy's Factor k (depth)\": 0.6590886394117847, 'Pliesto_Shaly_Vsh60_Anisotropy Factor Permeability': 1.6164893074685063, 'Pliesto_Shaly_Vsh60_Scaling Factor': 6.807658735284004, 'Pliesto_Shaly_Vsh60_Specific Surface Area': 54639809.17517512, 'Pliesto_Shaly_Vsh60_Initial Porosity': 0.6175154434858894, \"Plio_Up_Vsh55_Athy's Factor k (depth)\": 0.6572729888756936, 'Plio_Up_Vsh55_Anisotropy Factor Permeability': 2.0339182592334057, 'Plio_Up_Vsh55_Scaling Factor': 5.353790044881244, 'Plio_Up_Vsh55_Specific Surface Area': 124472189.23034754, 'Plio_Up_Vsh55_Initial Porosity': 0.5750614504836324, \"Plio_LSandy_Vsh45_Athy's Factor k (depth)\": 0.16505501714843754, 'Plio_LSandy_Vsh45_Anisotropy Factor Permeability': 1.9681113183578123, 'Plio_LSandy_Vsh45_Scaling Factor': -3.001086788871907, 'Plio_LSandy_Vsh45_Specific Surface Area': 109802852.52613257, 'Plio_LSandy_Vsh45_Initial Porosity': 0.5665929061702291, \"Mio_Up_Vsh50_Athy's Factor k (depth)\": 0.242296941372893, 'Mio_Up_Vsh50_Anisotropy Factor Permeability': 2.2993424105066786, 'Mio_Up_Vsh50_Scaling Factor': 0.7294660882298841, 'Mio_Up_Vsh50_Specific Surface Area': 81397243.10696621, 'Mio_Up_Vsh50_Initial Porosity': 0.5187053558789432, \"Mio_Sandy0_Vsh36_Athy's Factor k (depth)\": 0.26675780678082334, 'Mio_Sandy0_Vsh36_Anisotropy Factor Permeability': 1.520111446144607, 'Mio_Sandy0_Vsh36_Scaling Factor': 9.096168449007196, 'Mio_Sandy0_Vsh36_Specific Surface Area': 83878945.5348834, 'Mio_Sandy0_Vsh36_Initial Porosity': 0.48488282023479057, \"Mio_Shaly1_Vsh70_Athy's Factor k (depth)\": 0.5758941751061356, 'Mio_Shaly1_Vsh70_Anisotropy Factor Permeability': 1.3183062866853323, 'Mio_Shaly1_Vsh70_Scaling Factor': -3.279552751574169, 'Mio_Shaly1_Vsh70_Specific Surface Area': 65161435.7666195, 'Mio_Shaly1_Vsh70_Initial Porosity': 0.6081559091807343, \"Mio_Sandy1_Vsh36_Athy's Factor k (depth)\": 0.7667669202540967, 'Mio_Sandy1_Vsh36_Anisotropy Factor Permeability': 0.4366911203574553, 'Mio_Sandy1_Vsh36_Scaling Factor': -8.071705434689449, 'Mio_Sandy1_Vsh36_Specific Surface Area': -7330680.729844035, 'Mio_Sandy1_Vsh36_Initial Porosity': 0.47009485325628697, \"Mio_Shaly2_Vsh60_Athy's Factor k (depth)\": 0.2815976108338643, 'Mio_Shaly2_Vsh60_Anisotropy Factor Permeability': 3.106480803230041, 'Mio_Shaly2_Vsh60_Scaling Factor': 8.394544294029092, 'Mio_Shaly2_Vsh60_Specific Surface Area': 112256506.56616133, 'Mio_Shaly2_Vsh60_Initial Porosity': 0.6358624279521405, \"Mio_Lower_Athy's Factor k (depth)\": 0.6926471176399884, 'Mio_Lower_Anisotropy Factor Permeability': 4.632590087549384, 'Mio_Lower_Scaling Factor': 11.586519250415886, 'Mio_Lower_Specific Surface Area': 86982145.10277896, 'Mio_Lower_Initial Porosity': 0.6081371652796737}. Best is trial 30 with value: 0.00034593714626025.\n",
      "[I 2023-07-16 07:40:38,785] Trial 42 finished with value: 0.00051212826633359 and parameters: {\"Pliesto_Surface_Athy's Factor k (depth)\": 0.4943657243937001, 'Pliesto_Surface_Anisotropy Factor Permeability': 5.076510969804666, 'Pliesto_Surface_Scaling Factor': 10.070079666631425, 'Pliesto_Surface_Specific Surface Area': 23544295.51052717, 'Pliesto_Surface_Initial Porosity': 0.4611385197388593, \"Pliesto_Shaly_Vsh60_Athy's Factor k (depth)\": 0.5934800283697541, 'Pliesto_Shaly_Vsh60_Anisotropy Factor Permeability': 1.2842457048221556, 'Pliesto_Shaly_Vsh60_Scaling Factor': 7.286789635285566, 'Pliesto_Shaly_Vsh60_Specific Surface Area': 53773186.493334904, 'Pliesto_Shaly_Vsh60_Initial Porosity': 0.6358276650118864, \"Plio_Up_Vsh55_Athy's Factor k (depth)\": 0.5667350659084524, 'Plio_Up_Vsh55_Anisotropy Factor Permeability': 1.5913652758669108, 'Plio_Up_Vsh55_Scaling Factor': 5.585853561995438, 'Plio_Up_Vsh55_Specific Surface Area': 124847750.37001307, 'Plio_Up_Vsh55_Initial Porosity': 0.5752159863085005, \"Plio_LSandy_Vsh45_Athy's Factor k (depth)\": 0.07042069387822529, 'Plio_LSandy_Vsh45_Anisotropy Factor Permeability': 1.9378007461629418, 'Plio_LSandy_Vsh45_Scaling Factor': -3.837927150189481, 'Plio_LSandy_Vsh45_Specific Surface Area': 104900501.25479312, 'Plio_LSandy_Vsh45_Initial Porosity': 0.565344829904833, \"Mio_Up_Vsh50_Athy's Factor k (depth)\": 0.2431883216258165, 'Mio_Up_Vsh50_Anisotropy Factor Permeability': 2.5342745404057094, 'Mio_Up_Vsh50_Scaling Factor': 1.1102514077578531, 'Mio_Up_Vsh50_Specific Surface Area': 83236217.75304879, 'Mio_Up_Vsh50_Initial Porosity': 0.533333844656208, \"Mio_Sandy0_Vsh36_Athy's Factor k (depth)\": 0.2588966533214023, 'Mio_Sandy0_Vsh36_Anisotropy Factor Permeability': 1.4600312756469473, 'Mio_Sandy0_Vsh36_Scaling Factor': 9.626394440333398, 'Mio_Sandy0_Vsh36_Specific Surface Area': 94356105.34186536, 'Mio_Sandy0_Vsh36_Initial Porosity': 0.48580387759290783, \"Mio_Shaly1_Vsh70_Athy's Factor k (depth)\": 0.5743899554315536, 'Mio_Shaly1_Vsh70_Anisotropy Factor Permeability': 1.3184657549527283, 'Mio_Shaly1_Vsh70_Scaling Factor': -4.116810146582998, 'Mio_Shaly1_Vsh70_Specific Surface Area': 55150222.9915079, 'Mio_Shaly1_Vsh70_Initial Porosity': 0.6115532947974424, \"Mio_Sandy1_Vsh36_Athy's Factor k (depth)\": 0.8407604869093447, 'Mio_Sandy1_Vsh36_Anisotropy Factor Permeability': 0.5579824634701396, 'Mio_Sandy1_Vsh36_Scaling Factor': -7.797875674389083, 'Mio_Sandy1_Vsh36_Specific Surface Area': -21509719.275327366, 'Mio_Sandy1_Vsh36_Initial Porosity': 0.464059959311662, \"Mio_Shaly2_Vsh60_Athy's Factor k (depth)\": 0.31461487261612187, 'Mio_Shaly2_Vsh60_Anisotropy Factor Permeability': 3.4782160570718754, 'Mio_Shaly2_Vsh60_Scaling Factor': 8.352453915619723, 'Mio_Shaly2_Vsh60_Specific Surface Area': 112122266.08962391, 'Mio_Shaly2_Vsh60_Initial Porosity': 0.6338406145461579, \"Mio_Lower_Athy's Factor k (depth)\": 0.6967254641452105, 'Mio_Lower_Anisotropy Factor Permeability': 4.6341413461776355, 'Mio_Lower_Scaling Factor': 11.872069127984387, 'Mio_Lower_Specific Surface Area': 86425973.56402963, 'Mio_Lower_Initial Porosity': 0.5775583523565274}. Best is trial 30 with value: 0.00034593714626025.\n",
      "[I 2023-07-16 07:40:48,698] Trial 43 finished with value: 0.0006223872322181584 and parameters: {\"Pliesto_Surface_Athy's Factor k (depth)\": 0.5502038661560623, 'Pliesto_Surface_Anisotropy Factor Permeability': 5.094687160408014, 'Pliesto_Surface_Scaling Factor': 9.807240018512543, 'Pliesto_Surface_Specific Surface Area': -5833072.572716046, 'Pliesto_Surface_Initial Porosity': 0.44615046403000774, \"Pliesto_Shaly_Vsh60_Athy's Factor k (depth)\": 0.5998999907814255, 'Pliesto_Shaly_Vsh60_Anisotropy Factor Permeability': 1.4982370061014332, 'Pliesto_Shaly_Vsh60_Scaling Factor': 7.2365613505220825, 'Pliesto_Shaly_Vsh60_Specific Surface Area': 54427574.98933923, 'Pliesto_Shaly_Vsh60_Initial Porosity': 0.616969017471729, \"Plio_Up_Vsh55_Athy's Factor k (depth)\": 0.7173384815151789, 'Plio_Up_Vsh55_Anisotropy Factor Permeability': 1.6199221233201948, 'Plio_Up_Vsh55_Scaling Factor': 5.507570399465153, 'Plio_Up_Vsh55_Specific Surface Area': 125371294.21564984, 'Plio_Up_Vsh55_Initial Porosity': 0.567004489113272, \"Plio_LSandy_Vsh45_Athy's Factor k (depth)\": 0.16854221096730257, 'Plio_LSandy_Vsh45_Anisotropy Factor Permeability': 1.9961501998369116, 'Plio_LSandy_Vsh45_Scaling Factor': -2.1209079565457967, 'Plio_LSandy_Vsh45_Specific Surface Area': 109206852.751053, 'Plio_LSandy_Vsh45_Initial Porosity': 0.5658189281945961, \"Mio_Up_Vsh50_Athy's Factor k (depth)\": 0.24948481031543496, 'Mio_Up_Vsh50_Anisotropy Factor Permeability': 2.5209118572842515, 'Mio_Up_Vsh50_Scaling Factor': 1.3809122207161872, 'Mio_Up_Vsh50_Specific Surface Area': 80004257.29201162, 'Mio_Up_Vsh50_Initial Porosity': 0.5332849896677306, \"Mio_Sandy0_Vsh36_Athy's Factor k (depth)\": 0.2531379276371177, 'Mio_Sandy0_Vsh36_Anisotropy Factor Permeability': 1.3319656189334186, 'Mio_Sandy0_Vsh36_Scaling Factor': 9.119128819276908, 'Mio_Sandy0_Vsh36_Specific Surface Area': 79790440.01330024, 'Mio_Sandy0_Vsh36_Initial Porosity': 0.4880606321250067, \"Mio_Shaly1_Vsh70_Athy's Factor k (depth)\": 0.5762214133770835, 'Mio_Shaly1_Vsh70_Anisotropy Factor Permeability': 1.4136058565880185, 'Mio_Shaly1_Vsh70_Scaling Factor': -4.250727051734336, 'Mio_Shaly1_Vsh70_Specific Surface Area': 62428448.67450195, 'Mio_Shaly1_Vsh70_Initial Porosity': 0.610544040383283, \"Mio_Sandy1_Vsh36_Athy's Factor k (depth)\": 0.7090080605400488, 'Mio_Sandy1_Vsh36_Anisotropy Factor Permeability': 0.421520814286711, 'Mio_Sandy1_Vsh36_Scaling Factor': -9.336339034944153, 'Mio_Sandy1_Vsh36_Specific Surface Area': -20359140.42296811, 'Mio_Sandy1_Vsh36_Initial Porosity': 0.48305363683066893, \"Mio_Shaly2_Vsh60_Athy's Factor k (depth)\": 0.30614400864323593, 'Mio_Shaly2_Vsh60_Anisotropy Factor Permeability': 2.6981140592489727, 'Mio_Shaly2_Vsh60_Scaling Factor': 8.301329476751945, 'Mio_Shaly2_Vsh60_Specific Surface Area': 109027194.035032, 'Mio_Shaly2_Vsh60_Initial Porosity': 0.6362984194541008, \"Mio_Lower_Athy's Factor k (depth)\": 0.7132610818443741, 'Mio_Lower_Anisotropy Factor Permeability': 4.556550990029334, 'Mio_Lower_Scaling Factor': 11.746871822867691, 'Mio_Lower_Specific Surface Area': 84197473.85943761, 'Mio_Lower_Initial Porosity': 0.5812100544431902}. Best is trial 30 with value: 0.00034593714626025.\n",
      "[I 2023-07-16 07:40:58,435] Trial 44 finished with value: 0.0036435751219994943 and parameters: {\"Pliesto_Surface_Athy's Factor k (depth)\": 0.5015627250465947, 'Pliesto_Surface_Anisotropy Factor Permeability': 5.4471781287524115, 'Pliesto_Surface_Scaling Factor': 12.091716150491319, 'Pliesto_Surface_Specific Surface Area': 10956107.838534504, 'Pliesto_Surface_Initial Porosity': 0.47801939613417604, \"Pliesto_Shaly_Vsh60_Athy's Factor k (depth)\": 0.5310784726393121, 'Pliesto_Shaly_Vsh60_Anisotropy Factor Permeability': 1.617781364649921, 'Pliesto_Shaly_Vsh60_Scaling Factor': 7.792225094445045, 'Pliesto_Shaly_Vsh60_Specific Surface Area': 69428022.52186427, 'Pliesto_Shaly_Vsh60_Initial Porosity': 0.5922942255398702, \"Plio_Up_Vsh55_Athy's Factor k (depth)\": 0.5537437644172013, 'Plio_Up_Vsh55_Anisotropy Factor Permeability': 2.013643781580474, 'Plio_Up_Vsh55_Scaling Factor': 6.791322679195107, 'Plio_Up_Vsh55_Specific Surface Area': 118068315.75321476, 'Plio_Up_Vsh55_Initial Porosity': 0.5514477477834951, \"Plio_LSandy_Vsh45_Athy's Factor k (depth)\": 0.13695317804350915, 'Plio_LSandy_Vsh45_Anisotropy Factor Permeability': 3.256038628773724, 'Plio_LSandy_Vsh45_Scaling Factor': -3.4272779492617698, 'Plio_LSandy_Vsh45_Specific Surface Area': 102694616.21232845, 'Plio_LSandy_Vsh45_Initial Porosity': 0.5514937809154323, \"Mio_Up_Vsh50_Athy's Factor k (depth)\": 0.3346462501175967, 'Mio_Up_Vsh50_Anisotropy Factor Permeability': 2.062797182043919, 'Mio_Up_Vsh50_Scaling Factor': 2.679640504846715, 'Mio_Up_Vsh50_Specific Surface Area': 71569835.0728223, 'Mio_Up_Vsh50_Initial Porosity': 0.527356001138307, \"Mio_Sandy0_Vsh36_Athy's Factor k (depth)\": 0.18682899670048936, 'Mio_Sandy0_Vsh36_Anisotropy Factor Permeability': 1.6576070057180878, 'Mio_Sandy0_Vsh36_Scaling Factor': 7.609541545969854, 'Mio_Sandy0_Vsh36_Specific Surface Area': 67546895.25006667, 'Mio_Sandy0_Vsh36_Initial Porosity': 0.4814770679105156, \"Mio_Shaly1_Vsh70_Athy's Factor k (depth)\": 0.5462302058777061, 'Mio_Shaly1_Vsh70_Anisotropy Factor Permeability': 1.6904083743186238, 'Mio_Shaly1_Vsh70_Scaling Factor': -3.5238247553236772, 'Mio_Shaly1_Vsh70_Specific Surface Area': 64647208.98661299, 'Mio_Shaly1_Vsh70_Initial Porosity': 0.6288672826592074, \"Mio_Sandy1_Vsh36_Athy's Factor k (depth)\": 0.6423971577433633, 'Mio_Sandy1_Vsh36_Anisotropy Factor Permeability': 0.4118946455706423, 'Mio_Sandy1_Vsh36_Scaling Factor': -7.820888802759231, 'Mio_Sandy1_Vsh36_Specific Surface Area': -3706682.3693247056, 'Mio_Sandy1_Vsh36_Initial Porosity': 0.4661327275556496, \"Mio_Shaly2_Vsh60_Athy's Factor k (depth)\": 0.23963704869910898, 'Mio_Shaly2_Vsh60_Anisotropy Factor Permeability': 3.949018795696552, 'Mio_Shaly2_Vsh60_Scaling Factor': 8.4809597946739, 'Mio_Shaly2_Vsh60_Specific Surface Area': 110984804.72289844, 'Mio_Shaly2_Vsh60_Initial Porosity': 0.6334125797364467, \"Mio_Lower_Athy's Factor k (depth)\": 0.7873639862849423, 'Mio_Lower_Anisotropy Factor Permeability': 4.106027188009103, 'Mio_Lower_Scaling Factor': 9.90420389001094, 'Mio_Lower_Specific Surface Area': 90303603.37680563, 'Mio_Lower_Initial Porosity': 0.5967485147026941}. Best is trial 30 with value: 0.00034593714626025.\n",
      "[I 2023-07-16 07:41:07,772] Trial 45 finished with value: 0.001513630952336212 and parameters: {\"Pliesto_Surface_Athy's Factor k (depth)\": 0.58535005682367, 'Pliesto_Surface_Anisotropy Factor Permeability': 5.089315041398007, 'Pliesto_Surface_Scaling Factor': 9.755001738636484, 'Pliesto_Surface_Specific Surface Area': 19123399.041769743, 'Pliesto_Surface_Initial Porosity': 0.49121366165817454, \"Pliesto_Shaly_Vsh60_Athy's Factor k (depth)\": 0.478010680585676, 'Pliesto_Shaly_Vsh60_Anisotropy Factor Permeability': 1.307041709098787, 'Pliesto_Shaly_Vsh60_Scaling Factor': 5.224138605558233, 'Pliesto_Shaly_Vsh60_Specific Surface Area': 61025685.943771414, 'Pliesto_Shaly_Vsh60_Initial Porosity': 0.6022352839957286, \"Plio_Up_Vsh55_Athy's Factor k (depth)\": 0.61929818276984, 'Plio_Up_Vsh55_Anisotropy Factor Permeability': 1.670527086411724, 'Plio_Up_Vsh55_Scaling Factor': 5.425036416275473, 'Plio_Up_Vsh55_Specific Surface Area': 124769130.52706672, 'Plio_Up_Vsh55_Initial Porosity': 0.5736134444051502, \"Plio_LSandy_Vsh45_Athy's Factor k (depth)\": 0.17757249033787417, 'Plio_LSandy_Vsh45_Anisotropy Factor Permeability': 2.286684855379365, 'Plio_LSandy_Vsh45_Scaling Factor': -4.83710414242702, 'Plio_LSandy_Vsh45_Specific Surface Area': 109852689.13730702, 'Plio_LSandy_Vsh45_Initial Porosity': 0.5651744016053972, \"Mio_Up_Vsh50_Athy's Factor k (depth)\": 0.29952810708000976, 'Mio_Up_Vsh50_Anisotropy Factor Permeability': 2.9251411501009468, 'Mio_Up_Vsh50_Scaling Factor': 1.6298949462199488, 'Mio_Up_Vsh50_Specific Surface Area': 81641786.23779881, 'Mio_Up_Vsh50_Initial Porosity': 0.5131499213781484, \"Mio_Sandy0_Vsh36_Athy's Factor k (depth)\": 0.32257395339219214, 'Mio_Sandy0_Vsh36_Anisotropy Factor Permeability': 1.1828001172722515, 'Mio_Sandy0_Vsh36_Scaling Factor': 6.288142965733617, 'Mio_Sandy0_Vsh36_Specific Surface Area': 121251693.15824711, 'Mio_Sandy0_Vsh36_Initial Porosity': 0.4980380544107175, \"Mio_Shaly1_Vsh70_Athy's Factor k (depth)\": 0.45561302431446216, 'Mio_Shaly1_Vsh70_Anisotropy Factor Permeability': 1.3002122162819063, 'Mio_Shaly1_Vsh70_Scaling Factor': -5.285164709495476, 'Mio_Shaly1_Vsh70_Specific Surface Area': 55583116.35873285, 'Mio_Shaly1_Vsh70_Initial Porosity': 0.619482001282082, \"Mio_Sandy1_Vsh36_Athy's Factor k (depth)\": 0.7868858317845722, 'Mio_Sandy1_Vsh36_Anisotropy Factor Permeability': 0.8307506695148041, 'Mio_Sandy1_Vsh36_Scaling Factor': -6.5208265083962, 'Mio_Sandy1_Vsh36_Specific Surface Area': 6070491.889896933, 'Mio_Sandy1_Vsh36_Initial Porosity': 0.4929475862822408, \"Mio_Shaly2_Vsh60_Athy's Factor k (depth)\": 0.20255412425106487, 'Mio_Shaly2_Vsh60_Anisotropy Factor Permeability': 3.1301050451789583, 'Mio_Shaly2_Vsh60_Scaling Factor': 7.619595936350457, 'Mio_Shaly2_Vsh60_Specific Surface Area': 100906281.79382773, 'Mio_Shaly2_Vsh60_Initial Porosity': 0.626680386263053, \"Mio_Lower_Athy's Factor k (depth)\": 0.6286209882897568, 'Mio_Lower_Anisotropy Factor Permeability': 3.5727396117656465, 'Mio_Lower_Scaling Factor': 13.006909344787337, 'Mio_Lower_Specific Surface Area': 92166768.96693105, 'Mio_Lower_Initial Porosity': 0.5784878184263933}. Best is trial 30 with value: 0.00034593714626025.\n",
      "[I 2023-07-16 07:41:17,574] Trial 46 finished with value: 0.0038930863641357316 and parameters: {\"Pliesto_Surface_Athy's Factor k (depth)\": 0.642260994857871, 'Pliesto_Surface_Anisotropy Factor Permeability': 5.54612187584508, 'Pliesto_Surface_Scaling Factor': 11.320604219205027, 'Pliesto_Surface_Specific Surface Area': 29148887.584533785, 'Pliesto_Surface_Initial Porosity': 0.4395503609437332, \"Pliesto_Shaly_Vsh60_Athy's Factor k (depth)\": 0.5937946904342692, 'Pliesto_Shaly_Vsh60_Anisotropy Factor Permeability': 1.5404417927738583, 'Pliesto_Shaly_Vsh60_Scaling Factor': 7.0871518505922415, 'Pliesto_Shaly_Vsh60_Specific Surface Area': 56110131.58590982, 'Pliesto_Shaly_Vsh60_Initial Porosity': 0.639831489349167, \"Plio_Up_Vsh55_Athy's Factor k (depth)\": 0.6388245506701665, 'Plio_Up_Vsh55_Anisotropy Factor Permeability': 0.7277428015613414, 'Plio_Up_Vsh55_Scaling Factor': 7.759764910992276, 'Plio_Up_Vsh55_Specific Surface Area': 111899331.19419923, 'Plio_Up_Vsh55_Initial Porosity': 0.5654238696738129, \"Plio_LSandy_Vsh45_Athy's Factor k (depth)\": 0.06967296372577576, 'Plio_LSandy_Vsh45_Anisotropy Factor Permeability': 2.7426412224524337, 'Plio_LSandy_Vsh45_Scaling Factor': -1.0419422860156864, 'Plio_LSandy_Vsh45_Specific Surface Area': 101399384.42830603, 'Plio_LSandy_Vsh45_Initial Porosity': 0.5752714601113641, \"Mio_Up_Vsh50_Athy's Factor k (depth)\": 0.3787432305566315, 'Mio_Up_Vsh50_Anisotropy Factor Permeability': 2.5873680826765058, 'Mio_Up_Vsh50_Scaling Factor': 0.5895002305275807, 'Mio_Up_Vsh50_Specific Surface Area': 56446662.7835722, 'Mio_Up_Vsh50_Initial Porosity': 0.539498198667694, \"Mio_Sandy0_Vsh36_Athy's Factor k (depth)\": 0.3915316977480078, 'Mio_Sandy0_Vsh36_Anisotropy Factor Permeability': 1.504871994638732, 'Mio_Sandy0_Vsh36_Scaling Factor': 11.131137243604343, 'Mio_Sandy0_Vsh36_Specific Surface Area': 103487565.86686532, 'Mio_Sandy0_Vsh36_Initial Porosity': 0.5244632065097687, \"Mio_Shaly1_Vsh70_Athy's Factor k (depth)\": 0.5915159419448571, 'Mio_Shaly1_Vsh70_Anisotropy Factor Permeability': 1.976424422347382, 'Mio_Shaly1_Vsh70_Scaling Factor': -2.9576953976759968, 'Mio_Shaly1_Vsh70_Specific Surface Area': 76652436.92243059, 'Mio_Shaly1_Vsh70_Initial Porosity': 0.6373356851424128, \"Mio_Sandy1_Vsh36_Athy's Factor k (depth)\": 0.8208384343198327, 'Mio_Sandy1_Vsh36_Anisotropy Factor Permeability': 0.45100939538361184, 'Mio_Sandy1_Vsh36_Scaling Factor': -8.016129872267209, 'Mio_Sandy1_Vsh36_Specific Surface Area': -8555793.305170584, 'Mio_Sandy1_Vsh36_Initial Porosity': 0.518963422298718, \"Mio_Shaly2_Vsh60_Athy's Factor k (depth)\": 0.2937758446121036, 'Mio_Shaly2_Vsh60_Anisotropy Factor Permeability': 3.6012784741905284, 'Mio_Shaly2_Vsh60_Scaling Factor': 8.756096141578183, 'Mio_Shaly2_Vsh60_Specific Surface Area': 82470873.49300575, 'Mio_Shaly2_Vsh60_Initial Porosity': 0.6106576194683601, \"Mio_Lower_Athy's Factor k (depth)\": 0.7322042170203542, 'Mio_Lower_Anisotropy Factor Permeability': 5.192089216725252, 'Mio_Lower_Scaling Factor': 10.674948930688435, 'Mio_Lower_Specific Surface Area': 68157805.2920162, 'Mio_Lower_Initial Porosity': 0.6064001930353179}. Best is trial 30 with value: 0.00034593714626025.\n",
      "[I 2023-07-16 07:41:27,695] Trial 47 finished with value: 0.0029517340959860218 and parameters: {\"Pliesto_Surface_Athy's Factor k (depth)\": 0.47972662548182815, 'Pliesto_Surface_Anisotropy Factor Permeability': 4.761448302598923, 'Pliesto_Surface_Scaling Factor': 7.009247242027322, 'Pliesto_Surface_Specific Surface Area': 862570.1871924289, 'Pliesto_Surface_Initial Porosity': 0.4694679090712784, \"Pliesto_Shaly_Vsh60_Athy's Factor k (depth)\": 0.5440593906428599, 'Pliesto_Shaly_Vsh60_Anisotropy Factor Permeability': 1.7713891453806638, 'Pliesto_Shaly_Vsh60_Scaling Factor': 8.751912632420927, 'Pliesto_Shaly_Vsh60_Specific Surface Area': 80734549.66270106, 'Pliesto_Shaly_Vsh60_Initial Porosity': 0.579601334020908, \"Plio_Up_Vsh55_Athy's Factor k (depth)\": 0.7700952392612959, 'Plio_Up_Vsh55_Anisotropy Factor Permeability': 1.3593317347010758, 'Plio_Up_Vsh55_Scaling Factor': 6.2874424752222415, 'Plio_Up_Vsh55_Specific Surface Area': 118526183.6346484, 'Plio_Up_Vsh55_Initial Porosity': 0.5611395899986934, \"Plio_LSandy_Vsh45_Athy's Factor k (depth)\": 0.08978528382684019, 'Plio_LSandy_Vsh45_Anisotropy Factor Permeability': 2.3199286382155764, 'Plio_LSandy_Vsh45_Scaling Factor': -2.452075936716508, 'Plio_LSandy_Vsh45_Specific Surface Area': 88565351.75677405, 'Plio_LSandy_Vsh45_Initial Porosity': 0.5870470435956907, \"Mio_Up_Vsh50_Athy's Factor k (depth)\": 0.231750286853714, 'Mio_Up_Vsh50_Anisotropy Factor Permeability': 2.1921653703597657, 'Mio_Up_Vsh50_Scaling Factor': 2.396439273690162, 'Mio_Up_Vsh50_Specific Surface Area': 73312185.88742277, 'Mio_Up_Vsh50_Initial Porosity': 0.5295215016794835, \"Mio_Sandy0_Vsh36_Athy's Factor k (depth)\": 0.20456567649049157, 'Mio_Sandy0_Vsh36_Anisotropy Factor Permeability': 0.7835966832196676, 'Mio_Sandy0_Vsh36_Scaling Factor': 9.338153167835166, 'Mio_Sandy0_Vsh36_Specific Surface Area': 111476582.23890284, 'Mio_Sandy0_Vsh36_Initial Porosity': 0.5043294197162161, \"Mio_Shaly1_Vsh70_Athy's Factor k (depth)\": 0.2159885838148457, 'Mio_Shaly1_Vsh70_Anisotropy Factor Permeability': 1.5017018313362065, 'Mio_Shaly1_Vsh70_Scaling Factor': -3.996278777324801, 'Mio_Shaly1_Vsh70_Specific Surface Area': 45817157.69210478, 'Mio_Shaly1_Vsh70_Initial Porosity': 0.5952326481642193, \"Mio_Sandy1_Vsh36_Athy's Factor k (depth)\": 0.7124865892974136, 'Mio_Sandy1_Vsh36_Anisotropy Factor Permeability': 1.0149557297459175, 'Mio_Sandy1_Vsh36_Scaling Factor': -9.448729809923485, 'Mio_Sandy1_Vsh36_Specific Surface Area': -18782301.649542235, 'Mio_Sandy1_Vsh36_Initial Porosity': 0.43690998491405203, \"Mio_Shaly2_Vsh60_Athy's Factor k (depth)\": 0.17690923595558072, 'Mio_Shaly2_Vsh60_Anisotropy Factor Permeability': 3.302450825322603, 'Mio_Shaly2_Vsh60_Scaling Factor': 7.228114969579401, 'Mio_Shaly2_Vsh60_Specific Surface Area': 112038165.86284989, 'Mio_Shaly2_Vsh60_Initial Porosity': 0.6269626352255822, \"Mio_Lower_Athy's Factor k (depth)\": 0.6000011403935362, 'Mio_Lower_Anisotropy Factor Permeability': 4.732205814772653, 'Mio_Lower_Scaling Factor': 8.512712401139726, 'Mio_Lower_Specific Surface Area': 57629986.237288505, 'Mio_Lower_Initial Porosity': 0.5663410957761602}. Best is trial 30 with value: 0.00034593714626025.\n",
      "[I 2023-07-16 07:41:37,201] Trial 48 finished with value: 0.0017987675269157271 and parameters: {\"Pliesto_Surface_Athy's Factor k (depth)\": 0.41351697386640235, 'Pliesto_Surface_Anisotropy Factor Permeability': 5.3967321955800465, 'Pliesto_Surface_Scaling Factor': 13.210230546965757, 'Pliesto_Surface_Specific Surface Area': 37988739.2575518, 'Pliesto_Surface_Initial Porosity': 0.4553424164028334, \"Pliesto_Shaly_Vsh60_Athy's Factor k (depth)\": 0.6689938359483795, 'Pliesto_Shaly_Vsh60_Anisotropy Factor Permeability': 2.316551976730577, 'Pliesto_Shaly_Vsh60_Scaling Factor': 5.864680101236615, 'Pliesto_Shaly_Vsh60_Specific Surface Area': 67197201.20881775, 'Pliesto_Shaly_Vsh60_Initial Porosity': 0.6088011939625297, \"Plio_Up_Vsh55_Athy's Factor k (depth)\": 0.5761723643251907, 'Plio_Up_Vsh55_Anisotropy Factor Permeability': 1.8485971784173847, 'Plio_Up_Vsh55_Scaling Factor': 4.378200823784838, 'Plio_Up_Vsh55_Specific Surface Area': 107963551.36703143, 'Plio_Up_Vsh55_Initial Porosity': 0.581152276309851, \"Plio_LSandy_Vsh45_Athy's Factor k (depth)\": 0.14626620216404493, 'Plio_LSandy_Vsh45_Anisotropy Factor Permeability': 3.5704375026712816, 'Plio_LSandy_Vsh45_Scaling Factor': -4.112701201583647, 'Plio_LSandy_Vsh45_Specific Surface Area': 95616143.65278576, 'Plio_LSandy_Vsh45_Initial Porosity': 0.5546897020224634, \"Mio_Up_Vsh50_Athy's Factor k (depth)\": 0.3256775049643843, 'Mio_Up_Vsh50_Anisotropy Factor Permeability': 3.12781094837712, 'Mio_Up_Vsh50_Scaling Factor': 0.7758100014124153, 'Mio_Up_Vsh50_Specific Surface Area': 83878572.26535185, 'Mio_Up_Vsh50_Initial Porosity': 0.520509425477351, \"Mio_Sandy0_Vsh36_Athy's Factor k (depth)\": 0.31574247753589046, 'Mio_Sandy0_Vsh36_Anisotropy Factor Permeability': 1.0453456410858486, 'Mio_Sandy0_Vsh36_Scaling Factor': 13.078827379382258, 'Mio_Sandy0_Vsh36_Specific Surface Area': 96794366.05584231, 'Mio_Sandy0_Vsh36_Initial Porosity': 0.5207752457245459, \"Mio_Shaly1_Vsh70_Athy's Factor k (depth)\": 0.4055372078823605, 'Mio_Shaly1_Vsh70_Anisotropy Factor Permeability': 1.1983743036359535, 'Mio_Shaly1_Vsh70_Scaling Factor': -5.594043208338682, 'Mio_Shaly1_Vsh70_Specific Surface Area': 55154564.21335945, 'Mio_Shaly1_Vsh70_Initial Porosity': 0.6082849030273311, \"Mio_Sandy1_Vsh36_Athy's Factor k (depth)\": 0.6652701632336578, 'Mio_Sandy1_Vsh36_Anisotropy Factor Permeability': 0.7651381617482469, 'Mio_Sandy1_Vsh36_Scaling Factor': -6.384223900376668, 'Mio_Sandy1_Vsh36_Specific Surface Area': 41545324.2155091, 'Mio_Sandy1_Vsh36_Initial Porosity': 0.4417190103546009, \"Mio_Shaly2_Vsh60_Athy's Factor k (depth)\": 0.2318046159808344, 'Mio_Shaly2_Vsh60_Anisotropy Factor Permeability': 4.235564602322557, 'Mio_Shaly2_Vsh60_Scaling Factor': 7.949614962346369, 'Mio_Shaly2_Vsh60_Specific Surface Area': 95299377.58682683, 'Mio_Shaly2_Vsh60_Initial Porosity': 0.6177950419091236, \"Mio_Lower_Athy's Factor k (depth)\": 0.812658495131413, 'Mio_Lower_Anisotropy Factor Permeability': 4.397909978579258, 'Mio_Lower_Scaling Factor': 4.619924005912728, 'Mio_Lower_Specific Surface Area': 74656904.56935224, 'Mio_Lower_Initial Porosity': 0.5849025261699675}. Best is trial 30 with value: 0.00034593714626025.\n",
      "[I 2023-07-16 07:41:46,828] Trial 49 finished with value: 0.0014022142225428164 and parameters: {\"Pliesto_Surface_Athy's Factor k (depth)\": 0.5323843198281601, 'Pliesto_Surface_Anisotropy Factor Permeability': 5.790163129888637, 'Pliesto_Surface_Scaling Factor': 8.471989112047266, 'Pliesto_Surface_Specific Surface Area': 20893425.03033132, 'Pliesto_Surface_Initial Porosity': 0.4847722713838313, \"Pliesto_Shaly_Vsh60_Athy's Factor k (depth)\": 0.6222883680419091, 'Pliesto_Shaly_Vsh60_Anisotropy Factor Permeability': 2.000533178216851, 'Pliesto_Shaly_Vsh60_Scaling Factor': 6.4815355890974695, 'Pliesto_Shaly_Vsh60_Specific Surface Area': 73898797.98198134, 'Pliesto_Shaly_Vsh60_Initial Porosity': 0.6255175527883533, \"Plio_Up_Vsh55_Athy's Factor k (depth)\": 0.703474134728632, 'Plio_Up_Vsh55_Anisotropy Factor Permeability': 2.0708044927395677, 'Plio_Up_Vsh55_Scaling Factor': 5.202602296702732, 'Plio_Up_Vsh55_Specific Surface Area': 120234887.4145578, 'Plio_Up_Vsh55_Initial Porosity': 0.5960170325546882, \"Plio_LSandy_Vsh45_Athy's Factor k (depth)\": 0.004534673724159138, 'Plio_LSandy_Vsh45_Anisotropy Factor Permeability': 1.9197303700648316, 'Plio_LSandy_Vsh45_Scaling Factor': -1.7510244647894044, 'Plio_LSandy_Vsh45_Specific Surface Area': 102806920.82733001, 'Plio_LSandy_Vsh45_Initial Porosity': 0.5634248879161899, \"Mio_Up_Vsh50_Athy's Factor k (depth)\": 0.19628136633246648, 'Mio_Up_Vsh50_Anisotropy Factor Permeability': 2.032188086555457, 'Mio_Up_Vsh50_Scaling Factor': 1.673641572066183, 'Mio_Up_Vsh50_Specific Surface Area': 65502954.111240685, 'Mio_Up_Vsh50_Initial Porosity': 0.5059692546637247, \"Mio_Sandy0_Vsh36_Athy's Factor k (depth)\": 0.2556278695042173, 'Mio_Sandy0_Vsh36_Anisotropy Factor Permeability': 0.4417918644209666, 'Mio_Sandy0_Vsh36_Scaling Factor': 10.65522421658542, 'Mio_Sandy0_Vsh36_Specific Surface Area': 62470619.775369465, 'Mio_Sandy0_Vsh36_Initial Porosity': 0.5424285563474893, \"Mio_Shaly1_Vsh70_Athy's Factor k (depth)\": 0.6297299395878734, 'Mio_Shaly1_Vsh70_Anisotropy Factor Permeability': 0.5173699421754792, 'Mio_Shaly1_Vsh70_Scaling Factor': -4.298110383711785, 'Mio_Shaly1_Vsh70_Specific Surface Area': 50662906.054989815, 'Mio_Shaly1_Vsh70_Initial Porosity': 0.6175347167560905, \"Mio_Sandy1_Vsh36_Athy's Factor k (depth)\": 0.8522971295100534, 'Mio_Sandy1_Vsh36_Anisotropy Factor Permeability': 0.46212126323412106, 'Mio_Sandy1_Vsh36_Scaling Factor': -4.527645603193513, 'Mio_Sandy1_Vsh36_Specific Surface Area': 1841880.9739033068, 'Mio_Sandy1_Vsh36_Initial Porosity': 0.4590821688921093, \"Mio_Shaly2_Vsh60_Athy's Factor k (depth)\": 0.3343138317176948, 'Mio_Shaly2_Vsh60_Anisotropy Factor Permeability': 3.7663816579048626, 'Mio_Shaly2_Vsh60_Scaling Factor': 9.464750619010536, 'Mio_Shaly2_Vsh60_Specific Surface Area': 104327447.09270729, 'Mio_Shaly2_Vsh60_Initial Porosity': 0.6370167618422669, \"Mio_Lower_Athy's Factor k (depth)\": 0.6980583881460466, 'Mio_Lower_Anisotropy Factor Permeability': 5.042339752221699, 'Mio_Lower_Scaling Factor': 12.060089816628926, 'Mio_Lower_Specific Surface Area': 80022677.39149918, 'Mio_Lower_Initial Porosity': 0.5926979653996857}. Best is trial 30 with value: 0.00034593714626025.\n",
      "[I 2023-07-16 07:41:56,459] Trial 50 finished with value: 0.001735097477540976 and parameters: {\"Pliesto_Surface_Athy's Factor k (depth)\": 0.4480965304605088, 'Pliesto_Surface_Anisotropy Factor Permeability': 5.059909251691824, 'Pliesto_Surface_Scaling Factor': 10.20104787764566, 'Pliesto_Surface_Specific Surface Area': 12425948.616392694, 'Pliesto_Surface_Initial Porosity': 0.4400488643599833, \"Pliesto_Shaly_Vsh60_Athy's Factor k (depth)\": 0.5526589306194084, 'Pliesto_Shaly_Vsh60_Anisotropy Factor Permeability': 1.7373887620228663, 'Pliesto_Shaly_Vsh60_Scaling Factor': 7.860846054717099, 'Pliesto_Shaly_Vsh60_Specific Surface Area': 45284794.78201746, 'Pliesto_Shaly_Vsh60_Initial Porosity': 0.6375873595609471, \"Plio_Up_Vsh55_Athy's Factor k (depth)\": 0.6093841187869747, 'Plio_Up_Vsh55_Anisotropy Factor Permeability': 1.5777151777044383, 'Plio_Up_Vsh55_Scaling Factor': 8.277315811991508, 'Plio_Up_Vsh55_Specific Surface Area': 105221014.51421355, 'Plio_Up_Vsh55_Initial Porosity': 0.569778903887279, \"Plio_LSandy_Vsh45_Athy's Factor k (depth)\": 0.018013877554865637, 'Plio_LSandy_Vsh45_Anisotropy Factor Permeability': 2.5297828924813017, 'Plio_LSandy_Vsh45_Scaling Factor': -3.442930342521844, 'Plio_LSandy_Vsh45_Specific Surface Area': 86591284.32058582, 'Plio_LSandy_Vsh45_Initial Porosity': 0.5838006516286446, \"Mio_Up_Vsh50_Athy's Factor k (depth)\": 0.27045986433371605, 'Mio_Up_Vsh50_Anisotropy Factor Permeability': 2.458140758424103, 'Mio_Up_Vsh50_Scaling Factor': 3.1505078427442545, 'Mio_Up_Vsh50_Specific Surface Area': 46202679.88229281, 'Mio_Up_Vsh50_Initial Porosity': 0.5512596023673727, \"Mio_Sandy0_Vsh36_Athy's Factor k (depth)\": 0.36810463609458455, 'Mio_Sandy0_Vsh36_Anisotropy Factor Permeability': 1.4762569230099052, 'Mio_Sandy0_Vsh36_Scaling Factor': 8.578291369349127, 'Mio_Sandy0_Vsh36_Specific Surface Area': 79327279.01315387, 'Mio_Sandy0_Vsh36_Initial Porosity': 0.45967393820451097, \"Mio_Shaly1_Vsh70_Athy's Factor k (depth)\": 0.536076492598529, 'Mio_Shaly1_Vsh70_Anisotropy Factor Permeability': 2.175251703819522, 'Mio_Shaly1_Vsh70_Scaling Factor': -3.336055031395192, 'Mio_Shaly1_Vsh70_Specific Surface Area': 59896904.95857836, 'Mio_Shaly1_Vsh70_Initial Porosity': 0.5972127873342231, \"Mio_Sandy1_Vsh36_Athy's Factor k (depth)\": 0.8003767476120971, 'Mio_Sandy1_Vsh36_Anisotropy Factor Permeability': 1.0966637886610253, 'Mio_Sandy1_Vsh36_Scaling Factor': -8.054026254078657, 'Mio_Sandy1_Vsh36_Specific Surface Area': 17790571.78124863, 'Mio_Sandy1_Vsh36_Initial Porosity': 0.47868098291406774, \"Mio_Shaly2_Vsh60_Athy's Factor k (depth)\": 0.2737330252971426, 'Mio_Shaly2_Vsh60_Anisotropy Factor Permeability': 3.483355797118661, 'Mio_Shaly2_Vsh60_Scaling Factor': 6.640242088939727, 'Mio_Shaly2_Vsh60_Specific Surface Area': 65288680.04935846, 'Mio_Shaly2_Vsh60_Initial Porosity': 0.6103888853554359, \"Mio_Lower_Athy's Factor k (depth)\": 0.7646134857747389, 'Mio_Lower_Anisotropy Factor Permeability': 3.967272499893074, 'Mio_Lower_Scaling Factor': 9.7577083048071, 'Mio_Lower_Specific Surface Area': 69594518.06513451, 'Mio_Lower_Initial Porosity': 0.6175360030290138}. Best is trial 30 with value: 0.00034593714626025.\n",
      "[I 2023-07-16 07:42:06,264] Trial 51 finished with value: 0.0014012439704819662 and parameters: {\"Pliesto_Surface_Athy's Factor k (depth)\": 0.5207754188640621, 'Pliesto_Surface_Anisotropy Factor Permeability': 4.515989067799136, 'Pliesto_Surface_Scaling Factor': 9.32344538026411, 'Pliesto_Surface_Specific Surface Area': 25593911.657911558, 'Pliesto_Surface_Initial Porosity': 0.46602295881167655, \"Pliesto_Shaly_Vsh60_Athy's Factor k (depth)\": 0.6927962201936063, 'Pliesto_Shaly_Vsh60_Anisotropy Factor Permeability': 1.4560533755734437, 'Pliesto_Shaly_Vsh60_Scaling Factor': 8.77771198403386, 'Pliesto_Shaly_Vsh60_Specific Surface Area': 50793566.4783562, 'Pliesto_Shaly_Vsh60_Initial Porosity': 0.6228490760478121, \"Plio_Up_Vsh55_Athy's Factor k (depth)\": 0.6646142817565247, 'Plio_Up_Vsh55_Anisotropy Factor Permeability': 2.418331581997011, 'Plio_Up_Vsh55_Scaling Factor': 6.670254244664584, 'Plio_Up_Vsh55_Specific Surface Area': 113313871.42542535, 'Plio_Up_Vsh55_Initial Porosity': 0.5754232354747443, \"Plio_LSandy_Vsh45_Athy's Factor k (depth)\": 0.06694055124438682, 'Plio_LSandy_Vsh45_Anisotropy Factor Permeability': 2.1076852081130273, 'Plio_LSandy_Vsh45_Scaling Factor': -4.0483454038448805, 'Plio_LSandy_Vsh45_Specific Surface Area': 99501789.36545615, 'Plio_LSandy_Vsh45_Initial Porosity': 0.5925259153369706, \"Mio_Up_Vsh50_Athy's Factor k (depth)\": 0.1476570536772264, 'Mio_Up_Vsh50_Anisotropy Factor Permeability': 2.7763024465183612, 'Mio_Up_Vsh50_Scaling Factor': 5.567842204236555, 'Mio_Up_Vsh50_Specific Surface Area': 90648295.92676853, 'Mio_Up_Vsh50_Initial Porosity': 0.5130797189818845, \"Mio_Sandy0_Vsh36_Athy's Factor k (depth)\": 0.2655216503130367, 'Mio_Sandy0_Vsh36_Anisotropy Factor Permeability': 0.28027230972781525, 'Mio_Sandy0_Vsh36_Scaling Factor': 9.97366411349894, 'Mio_Sandy0_Vsh36_Specific Surface Area': 94722892.56450935, 'Mio_Sandy0_Vsh36_Initial Porosity': 0.534845593941234, \"Mio_Shaly1_Vsh70_Athy's Factor k (depth)\": 0.6914227650975606, 'Mio_Shaly1_Vsh70_Anisotropy Factor Permeability': 1.2965730820129484, 'Mio_Shaly1_Vsh70_Scaling Factor': -6.250216559459494, 'Mio_Shaly1_Vsh70_Specific Surface Area': 56270794.36097324, 'Mio_Shaly1_Vsh70_Initial Porosity': 0.5867691044364847, \"Mio_Sandy1_Vsh36_Athy's Factor k (depth)\": 0.7578713160224602, 'Mio_Sandy1_Vsh36_Anisotropy Factor Permeability': 1.5013598646147452, 'Mio_Sandy1_Vsh36_Scaling Factor': -5.040100145153183, 'Mio_Sandy1_Vsh36_Specific Surface Area': -21923862.86402542, 'Mio_Sandy1_Vsh36_Initial Porosity': 0.4516421498743603, \"Mio_Shaly2_Vsh60_Athy's Factor k (depth)\": 0.3290547164026007, 'Mio_Shaly2_Vsh60_Anisotropy Factor Permeability': 3.420058539406661, 'Mio_Shaly2_Vsh60_Scaling Factor': 5.8694747647329715, 'Mio_Shaly2_Vsh60_Specific Surface Area': 123716587.99071717, 'Mio_Shaly2_Vsh60_Initial Porosity': 0.6199750315324642, \"Mio_Lower_Athy's Factor k (depth)\": 0.6600710765644964, 'Mio_Lower_Anisotropy Factor Permeability': 5.580433257688184, 'Mio_Lower_Scaling Factor': 13.650332546630164, 'Mio_Lower_Specific Surface Area': 104454779.70712215, 'Mio_Lower_Initial Porosity': 0.6017269588146219}. Best is trial 30 with value: 0.00034593714626025.\n",
      "[I 2023-07-16 07:42:15,972] Trial 52 finished with value: 0.0006733046892767524 and parameters: {\"Pliesto_Surface_Athy's Factor k (depth)\": 0.48520082208934173, 'Pliesto_Surface_Anisotropy Factor Permeability': 5.8639464388180285, 'Pliesto_Surface_Scaling Factor': 8.368273215454131, 'Pliesto_Surface_Specific Surface Area': 30885825.70410586, 'Pliesto_Surface_Initial Porosity': 0.46076365370879335, \"Pliesto_Shaly_Vsh60_Athy's Factor k (depth)\": 0.6434293216057592, 'Pliesto_Shaly_Vsh60_Anisotropy Factor Permeability': 3.1065911549983367, 'Pliesto_Shaly_Vsh60_Scaling Factor': 9.451074016819463, 'Pliesto_Shaly_Vsh60_Specific Surface Area': 41517453.38821936, 'Pliesto_Shaly_Vsh60_Initial Porosity': 0.6332652039531601, \"Plio_Up_Vsh55_Athy's Factor k (depth)\": 0.572767037181261, 'Plio_Up_Vsh55_Anisotropy Factor Permeability': 2.1995658947106853, 'Plio_Up_Vsh55_Scaling Factor': 4.076183495647875, 'Plio_Up_Vsh55_Specific Surface Area': 121991595.4709039, 'Plio_Up_Vsh55_Initial Porosity': 0.5736328072464788, \"Plio_LSandy_Vsh45_Athy's Factor k (depth)\": 0.04213057080982528, 'Plio_LSandy_Vsh45_Anisotropy Factor Permeability': 2.2142346398048462, 'Plio_LSandy_Vsh45_Scaling Factor': -2.7792952861907145, 'Plio_LSandy_Vsh45_Specific Surface Area': 104365861.64930314, 'Plio_LSandy_Vsh45_Initial Porosity': 0.5733941825662189, \"Mio_Up_Vsh50_Athy's Factor k (depth)\": 0.18439792010379652, 'Mio_Up_Vsh50_Anisotropy Factor Permeability': 2.3062458895971636, 'Mio_Up_Vsh50_Scaling Factor': 4.297442743943143, 'Mio_Up_Vsh50_Specific Surface Area': 99187438.56516, 'Mio_Up_Vsh50_Initial Porosity': 0.5416703222683089, \"Mio_Sandy0_Vsh36_Athy's Factor k (depth)\": 0.312345197112394, 'Mio_Sandy0_Vsh36_Anisotropy Factor Permeability': 0.1268477672829401, 'Mio_Sandy0_Vsh36_Scaling Factor': 11.417827176434148, 'Mio_Sandy0_Vsh36_Specific Surface Area': 104200642.17778091, 'Mio_Sandy0_Vsh36_Initial Porosity': 0.4919896086671051, \"Mio_Shaly1_Vsh70_Athy's Factor k (depth)\": 0.6477387265822913, 'Mio_Shaly1_Vsh70_Anisotropy Factor Permeability': 1.734585099531325, 'Mio_Shaly1_Vsh70_Scaling Factor': -4.986380113791952, 'Mio_Shaly1_Vsh70_Specific Surface Area': 67466206.13821353, 'Mio_Shaly1_Vsh70_Initial Porosity': 0.6067559498218351, \"Mio_Sandy1_Vsh36_Athy's Factor k (depth)\": 0.8625668820218484, 'Mio_Sandy1_Vsh36_Anisotropy Factor Permeability': 1.1497902697972764, 'Mio_Sandy1_Vsh36_Scaling Factor': -7.033313175306336, 'Mio_Sandy1_Vsh36_Specific Surface Area': -14202425.62124551, 'Mio_Sandy1_Vsh36_Initial Porosity': 0.4403736150106457, \"Mio_Shaly2_Vsh60_Athy's Factor k (depth)\": 0.356597623338421, 'Mio_Shaly2_Vsh60_Anisotropy Factor Permeability': 3.075104234677565, 'Mio_Shaly2_Vsh60_Scaling Factor': 8.599509484316695, 'Mio_Shaly2_Vsh60_Specific Surface Area': 116724287.5528296, 'Mio_Shaly2_Vsh60_Initial Porosity': 0.6292814391108459, \"Mio_Lower_Athy's Factor k (depth)\": 0.6782679664236752, 'Mio_Lower_Anisotropy Factor Permeability': 4.643280160826701, 'Mio_Lower_Scaling Factor': 14.37425654885659, 'Mio_Lower_Specific Surface Area': 104193650.77867822, 'Mio_Lower_Initial Porosity': 0.633594280379938}. Best is trial 30 with value: 0.00034593714626025.\n",
      "[I 2023-07-16 07:42:25,682] Trial 53 finished with value: 0.02578218227400681 and parameters: {\"Pliesto_Surface_Athy's Factor k (depth)\": 0.47779784402976005, 'Pliesto_Surface_Anisotropy Factor Permeability': 5.436697458806394, 'Pliesto_Surface_Scaling Factor': 6.222143326821204, 'Pliesto_Surface_Specific Surface Area': 22619132.10489008, 'Pliesto_Surface_Initial Porosity': 0.47388058959874835, \"Pliesto_Shaly_Vsh60_Athy's Factor k (depth)\": 0.7299449295390796, 'Pliesto_Shaly_Vsh60_Anisotropy Factor Permeability': 2.603091016601612, 'Pliesto_Shaly_Vsh60_Scaling Factor': 7.943467914850057, 'Pliesto_Shaly_Vsh60_Specific Surface Area': 49152797.587193996, 'Pliesto_Shaly_Vsh60_Initial Porosity': 0.643985186404696, \"Plio_Up_Vsh55_Athy's Factor k (depth)\": 0.768570593838072, 'Plio_Up_Vsh55_Anisotropy Factor Permeability': 2.5273382615872078, 'Plio_Up_Vsh55_Scaling Factor': 3.0352442876218833, 'Plio_Up_Vsh55_Specific Surface Area': 116572206.01856044, 'Plio_Up_Vsh55_Initial Porosity': 0.583223978863612, \"Plio_LSandy_Vsh45_Athy's Factor k (depth)\": -0.017607849358162855, 'Plio_LSandy_Vsh45_Anisotropy Factor Permeability': 1.9476437683910277, 'Plio_LSandy_Vsh45_Scaling Factor': -4.238751073363831, 'Plio_LSandy_Vsh45_Specific Surface Area': 95977171.35693876, 'Plio_LSandy_Vsh45_Initial Porosity': 0.5844899671912523, \"Mio_Up_Vsh50_Athy's Factor k (depth)\": 0.23258238865361502, 'Mio_Up_Vsh50_Anisotropy Factor Permeability': 3.3984184959459665, 'Mio_Up_Vsh50_Scaling Factor': 0.005444572551592586, 'Mio_Up_Vsh50_Specific Surface Area': 85388964.01625417, 'Mio_Up_Vsh50_Initial Porosity': 0.4618398214096108, \"Mio_Sandy0_Vsh36_Athy's Factor k (depth)\": 0.2814544646771775, 'Mio_Sandy0_Vsh36_Anisotropy Factor Permeability': 0.7880606454927728, 'Mio_Sandy0_Vsh36_Scaling Factor': 9.439109445489432, 'Mio_Sandy0_Vsh36_Specific Surface Area': 86726088.65931804, 'Mio_Sandy0_Vsh36_Initial Porosity': 0.4808963184149766, \"Mio_Shaly1_Vsh70_Athy's Factor k (depth)\": 0.6058054277872453, 'Mio_Shaly1_Vsh70_Anisotropy Factor Permeability': 1.5361360640814605, 'Mio_Shaly1_Vsh70_Scaling Factor': -2.7298935011432204, 'Mio_Shaly1_Vsh70_Specific Surface Area': 46405169.776482195, 'Mio_Shaly1_Vsh70_Initial Porosity': 0.5846362573384883, \"Mio_Sandy1_Vsh36_Athy's Factor k (depth)\": 0.8185298100755977, 'Mio_Sandy1_Vsh36_Anisotropy Factor Permeability': 0.3183825572330057, 'Mio_Sandy1_Vsh36_Scaling Factor': -1.8303716422755105, 'Mio_Sandy1_Vsh36_Specific Surface Area': -22275224.360797413, 'Mio_Sandy1_Vsh36_Initial Porosity': 0.4694615128692114, \"Mio_Shaly2_Vsh60_Athy's Factor k (depth)\": 0.2946916146849817, 'Mio_Shaly2_Vsh60_Anisotropy Factor Permeability': 3.2364062695371705, 'Mio_Shaly2_Vsh60_Scaling Factor': 4.051950024531662, 'Mio_Shaly2_Vsh60_Specific Surface Area': 130282637.7227803, 'Mio_Shaly2_Vsh60_Initial Porosity': 0.6367848524929105, \"Mio_Lower_Athy's Factor k (depth)\": 0.7092409034072139, 'Mio_Lower_Anisotropy Factor Permeability': 5.270927259760102, 'Mio_Lower_Scaling Factor': 11.270008425942128, 'Mio_Lower_Specific Surface Area': 95721419.60843232, 'Mio_Lower_Initial Porosity': 0.6181392458009973}. Best is trial 30 with value: 0.00034593714626025.\n",
      "[I 2023-07-16 07:42:35,516] Trial 54 finished with value: 0.0021630195659728276 and parameters: {\"Pliesto_Surface_Athy's Factor k (depth)\": 0.3743180249430769, 'Pliesto_Surface_Anisotropy Factor Permeability': 5.764911046851288, 'Pliesto_Surface_Scaling Factor': 7.1568720885721175, 'Pliesto_Surface_Specific Surface Area': 45342021.154712334, 'Pliesto_Surface_Initial Porosity': 0.4625338288606889, \"Pliesto_Shaly_Vsh60_Athy's Factor k (depth)\": 0.6946443026943916, 'Pliesto_Shaly_Vsh60_Anisotropy Factor Permeability': 3.5983119031041992, 'Pliesto_Shaly_Vsh60_Scaling Factor': 6.855606863772088, 'Pliesto_Shaly_Vsh60_Specific Surface Area': 59508515.91307625, 'Pliesto_Shaly_Vsh60_Initial Porosity': 0.6178247227004298, \"Plio_Up_Vsh55_Athy's Factor k (depth)\": 0.724731631239006, 'Plio_Up_Vsh55_Anisotropy Factor Permeability': 1.7899098901026076, 'Plio_Up_Vsh55_Scaling Factor': 5.8000656557779084, 'Plio_Up_Vsh55_Specific Surface Area': 125163910.91704842, 'Plio_Up_Vsh55_Initial Porosity': 0.5487487838344103, \"Plio_LSandy_Vsh45_Athy's Factor k (depth)\": 0.10059934893774089, 'Plio_LSandy_Vsh45_Anisotropy Factor Permeability': 1.9660688347279718, 'Plio_LSandy_Vsh45_Scaling Factor': -3.4188460882534484, 'Plio_LSandy_Vsh45_Specific Surface Area': 38956019.383777075, 'Plio_LSandy_Vsh45_Initial Porosity': 0.5772188052062861, \"Mio_Up_Vsh50_Athy's Factor k (depth)\": 0.20263313772608818, 'Mio_Up_Vsh50_Anisotropy Factor Permeability': 3.0730814601019025, 'Mio_Up_Vsh50_Scaling Factor': 1.2750633818261674, 'Mio_Up_Vsh50_Specific Surface Area': 76736455.47286735, 'Mio_Up_Vsh50_Initial Porosity': 0.49776935469982864, \"Mio_Sandy0_Vsh36_Athy's Factor k (depth)\": 0.21832795819746326, 'Mio_Sandy0_Vsh36_Anisotropy Factor Permeability': 0.4158176677312999, 'Mio_Sandy0_Vsh36_Scaling Factor': 7.722473379116327, 'Mio_Sandy0_Vsh36_Specific Surface Area': 123052945.73287809, 'Mio_Sandy0_Vsh36_Initial Porosity': 0.5077794716012352, \"Mio_Shaly1_Vsh70_Athy's Factor k (depth)\": 0.573359276020483, 'Mio_Shaly1_Vsh70_Anisotropy Factor Permeability': 1.0712573588064345, 'Mio_Shaly1_Vsh70_Scaling Factor': -4.257278706009406, 'Mio_Shaly1_Vsh70_Specific Surface Area': 51833024.480288066, 'Mio_Shaly1_Vsh70_Initial Porosity': 0.5982423828905458, \"Mio_Sandy1_Vsh36_Athy's Factor k (depth)\": 0.7695442358727594, 'Mio_Sandy1_Vsh36_Anisotropy Factor Permeability': 0.7103033720245978, 'Mio_Sandy1_Vsh36_Scaling Factor': -3.5437356047937367, 'Mio_Sandy1_Vsh36_Specific Surface Area': -10475931.640494205, 'Mio_Sandy1_Vsh36_Initial Porosity': 0.45166381239760006, \"Mio_Shaly2_Vsh60_Athy's Factor k (depth)\": 0.2581043656956903, 'Mio_Shaly2_Vsh60_Anisotropy Factor Permeability': 2.8625027727839694, 'Mio_Shaly2_Vsh60_Scaling Factor': 5.94772433445241, 'Mio_Shaly2_Vsh60_Specific Surface Area': 113186327.45286497, 'Mio_Shaly2_Vsh60_Initial Porosity': 0.625060567201863, \"Mio_Lower_Athy's Factor k (depth)\": 0.6387206250074593, 'Mio_Lower_Anisotropy Factor Permeability': 5.751240169012437, 'Mio_Lower_Scaling Factor': 13.741534906877604, 'Mio_Lower_Specific Surface Area': 118432150.59916836, 'Mio_Lower_Initial Porosity': 0.6603508140440233}. Best is trial 30 with value: 0.00034593714626025.\n",
      "[I 2023-07-16 07:42:45,088] Trial 55 finished with value: 0.003135683610313358 and parameters: {\"Pliesto_Surface_Athy's Factor k (depth)\": 0.4250542437348601, 'Pliesto_Surface_Anisotropy Factor Permeability': 5.2833438963825, 'Pliesto_Surface_Scaling Factor': 5.775008817452991, 'Pliesto_Surface_Specific Surface Area': 12495436.685514916, 'Pliesto_Surface_Initial Porosity': 0.4503561632178922, \"Pliesto_Shaly_Vsh60_Athy's Factor k (depth)\": 0.5994483087649345, 'Pliesto_Shaly_Vsh60_Anisotropy Factor Permeability': 2.3436772525036376, 'Pliesto_Shaly_Vsh60_Scaling Factor': 8.792920368451936, 'Pliesto_Shaly_Vsh60_Specific Surface Area': 64694041.81249417, 'Pliesto_Shaly_Vsh60_Initial Porosity': 0.629318719026713, \"Plio_Up_Vsh55_Athy's Factor k (depth)\": 0.6719785476810284, 'Plio_Up_Vsh55_Anisotropy Factor Permeability': 1.9459086611851755, 'Plio_Up_Vsh55_Scaling Factor': 4.885345320004221, 'Plio_Up_Vsh55_Specific Surface Area': 108654421.55710687, 'Plio_Up_Vsh55_Initial Porosity': 0.5599169373325535, \"Plio_LSandy_Vsh45_Athy's Factor k (depth)\": 0.01972577449783866, 'Plio_LSandy_Vsh45_Anisotropy Factor Permeability': 1.3209409083960342, 'Plio_LSandy_Vsh45_Scaling Factor': -1.8107509403155335, 'Plio_LSandy_Vsh45_Specific Surface Area': 109823933.64578363, 'Plio_LSandy_Vsh45_Initial Porosity': 0.5691602197148997, \"Mio_Up_Vsh50_Athy's Factor k (depth)\": 0.11317721160875799, 'Mio_Up_Vsh50_Anisotropy Factor Permeability': 1.942259509776807, 'Mio_Up_Vsh50_Scaling Factor': 2.2855265576732604, 'Mio_Up_Vsh50_Specific Surface Area': 90029838.22684443, 'Mio_Up_Vsh50_Initial Porosity': 0.4888742123088921, \"Mio_Sandy0_Vsh36_Athy's Factor k (depth)\": 0.42751501549396836, 'Mio_Sandy0_Vsh36_Anisotropy Factor Permeability': 1.0619780068515903, 'Mio_Sandy0_Vsh36_Scaling Factor': 11.665035933872987, 'Mio_Sandy0_Vsh36_Specific Surface Area': 113451285.79199952, 'Mio_Sandy0_Vsh36_Initial Porosity': 0.5746078280577193, \"Mio_Shaly1_Vsh70_Athy's Factor k (depth)\": 0.6493636323634815, 'Mio_Shaly1_Vsh70_Anisotropy Factor Permeability': 1.3235254246499055, 'Mio_Shaly1_Vsh70_Scaling Factor': -5.28178940940885, 'Mio_Shaly1_Vsh70_Specific Surface Area': 40727883.58186946, 'Mio_Shaly1_Vsh70_Initial Porosity': 0.6128499768356237, \"Mio_Sandy1_Vsh36_Athy's Factor k (depth)\": 0.8714062557117603, 'Mio_Sandy1_Vsh36_Anisotropy Factor Permeability': 1.3998231020909093, 'Mio_Sandy1_Vsh36_Scaling Factor': -5.634287650521515, 'Mio_Sandy1_Vsh36_Specific Surface Area': -6810500.005287774, 'Mio_Sandy1_Vsh36_Initial Porosity': 0.46128950798041213, \"Mio_Shaly2_Vsh60_Athy's Factor k (depth)\": 0.42590718240371866, 'Mio_Shaly2_Vsh60_Anisotropy Factor Permeability': 3.6326105116689646, 'Mio_Shaly2_Vsh60_Scaling Factor': 8.932309109606756, 'Mio_Shaly2_Vsh60_Specific Surface Area': 121349096.09816112, 'Mio_Shaly2_Vsh60_Initial Porosity': 0.6205498308632588, \"Mio_Lower_Athy's Factor k (depth)\": 0.7405743387675922, 'Mio_Lower_Anisotropy Factor Permeability': 5.829678686902371, 'Mio_Lower_Scaling Factor': 11.87965132693635, 'Mio_Lower_Specific Surface Area': 82370376.36756322, 'Mio_Lower_Initial Porosity': 0.6039515146661847}. Best is trial 30 with value: 0.00034593714626025.\n",
      "[I 2023-07-16 07:42:54,866] Trial 56 finished with value: 0.0012395362727322897 and parameters: {\"Pliesto_Surface_Athy's Factor k (depth)\": 0.5731601091895935, 'Pliesto_Surface_Anisotropy Factor Permeability': 3.9176533327474528, 'Pliesto_Surface_Scaling Factor': 9.978044120055836, 'Pliesto_Surface_Specific Surface Area': 6649866.736032252, 'Pliesto_Surface_Initial Porosity': 0.49699431130357125, \"Pliesto_Shaly_Vsh60_Athy's Factor k (depth)\": 0.4933966314638223, 'Pliesto_Shaly_Vsh60_Anisotropy Factor Permeability': 2.653962135897155, 'Pliesto_Shaly_Vsh60_Scaling Factor': 7.550685902566692, 'Pliesto_Shaly_Vsh60_Specific Surface Area': 52958898.03170189, 'Pliesto_Shaly_Vsh60_Initial Porosity': 0.6115631958507395, \"Plio_Up_Vsh55_Athy's Factor k (depth)\": 0.39216266942587724, 'Plio_Up_Vsh55_Anisotropy Factor Permeability': 1.2505719831961044, 'Plio_Up_Vsh55_Scaling Factor': 3.596209783053454, 'Plio_Up_Vsh55_Specific Surface Area': 103493452.31584871, 'Plio_Up_Vsh55_Initial Porosity': 0.5824562405125633, \"Plio_LSandy_Vsh45_Athy's Factor k (depth)\": 0.12130093775876999, 'Plio_LSandy_Vsh45_Anisotropy Factor Permeability': 2.4035682502827957, 'Plio_LSandy_Vsh45_Scaling Factor': -2.773011702485037, 'Plio_LSandy_Vsh45_Specific Surface Area': 105275343.45497045, 'Plio_LSandy_Vsh45_Initial Porosity': 0.5890932550498604, \"Mio_Up_Vsh50_Athy's Factor k (depth)\": 0.28436124455222866, 'Mio_Up_Vsh50_Anisotropy Factor Permeability': 1.584916524019582, 'Mio_Up_Vsh50_Scaling Factor': 3.7876958952940023, 'Mio_Up_Vsh50_Specific Surface Area': 103706009.36924593, 'Mio_Up_Vsh50_Initial Porosity': 0.5105468228318246, \"Mio_Sandy0_Vsh36_Athy's Factor k (depth)\": 0.24468736103065925, 'Mio_Sandy0_Vsh36_Anisotropy Factor Permeability': 0.8358099466583047, 'Mio_Sandy0_Vsh36_Scaling Factor': 8.223991208046897, 'Mio_Sandy0_Vsh36_Specific Surface Area': 107043929.05424662, 'Mio_Sandy0_Vsh36_Initial Porosity': 0.4940797986684423, \"Mio_Shaly1_Vsh70_Athy's Factor k (depth)\": 0.7044786424117304, 'Mio_Shaly1_Vsh70_Anisotropy Factor Permeability': 1.913104355437921, 'Mio_Shaly1_Vsh70_Scaling Factor': -1.5690779051021084, 'Mio_Shaly1_Vsh70_Specific Surface Area': 71444564.00564592, 'Mio_Shaly1_Vsh70_Initial Porosity': 0.6029185334791417, \"Mio_Sandy1_Vsh36_Athy's Factor k (depth)\": 0.8692202834281137, 'Mio_Sandy1_Vsh36_Anisotropy Factor Permeability': 0.5856829662541398, 'Mio_Sandy1_Vsh36_Scaling Factor': -8.225232948739565, 'Mio_Sandy1_Vsh36_Specific Surface Area': -17951216.688246768, 'Mio_Sandy1_Vsh36_Initial Porosity': 0.4402787139564287, \"Mio_Shaly2_Vsh60_Athy's Factor k (depth)\": 0.21672559105001743, 'Mio_Shaly2_Vsh60_Anisotropy Factor Permeability': 3.133207105566622, 'Mio_Shaly2_Vsh60_Scaling Factor': 7.111360053787371, 'Mio_Shaly2_Vsh60_Specific Surface Area': 125503347.47972934, 'Mio_Shaly2_Vsh60_Initial Porosity': 0.6157612322278607, \"Mio_Lower_Athy's Factor k (depth)\": 0.6837415652455877, 'Mio_Lower_Anisotropy Factor Permeability': 5.02609313252667, 'Mio_Lower_Scaling Factor': 10.913241357231685, 'Mio_Lower_Specific Surface Area': 91581911.52991349, 'Mio_Lower_Initial Porosity': 0.6221013001088167}. Best is trial 30 with value: 0.00034593714626025.\n",
      "[I 2023-07-16 07:43:04,630] Trial 57 finished with value: 0.0004617995865637962 and parameters: {\"Pliesto_Surface_Athy's Factor k (depth)\": 0.5033180661964819, 'Pliesto_Surface_Anisotropy Factor Permeability': 4.9820616051037625, 'Pliesto_Surface_Scaling Factor': 8.947849216074031, 'Pliesto_Surface_Specific Surface Area': 33882333.32742425, 'Pliesto_Surface_Initial Porosity': 0.47415599371365563, \"Pliesto_Shaly_Vsh60_Athy's Factor k (depth)\": 0.656847603905259, 'Pliesto_Shaly_Vsh60_Anisotropy Factor Permeability': 2.1222786933413103, 'Pliesto_Shaly_Vsh60_Scaling Factor': 6.2034448463197025, 'Pliesto_Shaly_Vsh60_Specific Surface Area': 45657464.968975395, 'Pliesto_Shaly_Vsh60_Initial Porosity': 0.6198917502728907, \"Plio_Up_Vsh55_Athy's Factor k (depth)\": 0.6458450202994425, 'Plio_Up_Vsh55_Anisotropy Factor Permeability': 2.9314506336933603, 'Plio_Up_Vsh55_Scaling Factor': 5.0469903530037055, 'Plio_Up_Vsh55_Specific Surface Area': 112005560.14436577, 'Plio_Up_Vsh55_Initial Porosity': 0.5699994942027129, \"Plio_LSandy_Vsh45_Athy's Factor k (depth)\": 0.057154928785872694, 'Plio_LSandy_Vsh45_Anisotropy Factor Permeability': 2.1887850368657378, 'Plio_LSandy_Vsh45_Scaling Factor': -4.421233248827251, 'Plio_LSandy_Vsh45_Specific Surface Area': 88037018.77611554, 'Plio_LSandy_Vsh45_Initial Porosity': 0.5646291243300362, \"Mio_Up_Vsh50_Athy's Factor k (depth)\": 0.252696174520994, 'Mio_Up_Vsh50_Anisotropy Factor Permeability': 3.800240774917471, 'Mio_Up_Vsh50_Scaling Factor': 5.110394840845083, 'Mio_Up_Vsh50_Specific Surface Area': 96262942.09658031, 'Mio_Up_Vsh50_Initial Porosity': 0.5313870477446677, \"Mio_Sandy0_Vsh36_Athy's Factor k (depth)\": 0.28860217629822393, 'Mio_Sandy0_Vsh36_Anisotropy Factor Permeability': 0.6295171705287625, 'Mio_Sandy0_Vsh36_Scaling Factor': 13.354857491763887, 'Mio_Sandy0_Vsh36_Specific Surface Area': 92152142.72469464, 'Mio_Sandy0_Vsh36_Initial Porosity': 0.5399131473199812, \"Mio_Shaly1_Vsh70_Athy's Factor k (depth)\": 0.617129590128478, 'Mio_Shaly1_Vsh70_Anisotropy Factor Permeability': 0.9192232262433708, 'Mio_Shaly1_Vsh70_Scaling Factor': -2.0779892922741814, 'Mio_Shaly1_Vsh70_Specific Surface Area': 62502013.33333059, 'Mio_Shaly1_Vsh70_Initial Porosity': 0.6588308472912539, \"Mio_Sandy1_Vsh36_Athy's Factor k (depth)\": 0.8016254293590052, 'Mio_Sandy1_Vsh36_Anisotropy Factor Permeability': 0.15994565389262055, 'Mio_Sandy1_Vsh36_Scaling Factor': 0.9509713585421261, 'Mio_Sandy1_Vsh36_Specific Surface Area': -357013.35697343573, 'Mio_Sandy1_Vsh36_Initial Porosity': 0.4301641936351925, \"Mio_Shaly2_Vsh60_Athy's Factor k (depth)\": 0.27372998628030676, 'Mio_Shaly2_Vsh60_Anisotropy Factor Permeability': 3.8567575969587002, 'Mio_Shaly2_Vsh60_Scaling Factor': 7.602415963610177, 'Mio_Shaly2_Vsh60_Specific Surface Area': 116280432.01388243, 'Mio_Shaly2_Vsh60_Initial Porosity': 0.5997963493873285, \"Mio_Lower_Athy's Factor k (depth)\": 0.6089314531031573, 'Mio_Lower_Anisotropy Factor Permeability': 4.407479747618455, 'Mio_Lower_Scaling Factor': 12.934917251900092, 'Mio_Lower_Specific Surface Area': 105951070.14729229, 'Mio_Lower_Initial Porosity': 0.639805181553296}. Best is trial 30 with value: 0.00034593714626025.\n",
      "[I 2023-07-16 07:43:14,469] Trial 58 finished with value: 0.0012838185421370774 and parameters: {\"Pliesto_Surface_Athy's Factor k (depth)\": 0.5014043418335593, 'Pliesto_Surface_Anisotropy Factor Permeability': 5.03170250383153, 'Pliesto_Surface_Scaling Factor': 11.283143586989041, 'Pliesto_Surface_Specific Surface Area': 57393392.46886419, 'Pliesto_Surface_Initial Porosity': 0.48194806260448597, \"Pliesto_Shaly_Vsh60_Athy's Factor k (depth)\": 0.6608689903377515, 'Pliesto_Shaly_Vsh60_Anisotropy Factor Permeability': 2.1303038381780515, 'Pliesto_Shaly_Vsh60_Scaling Factor': 6.1683772848170815, 'Pliesto_Shaly_Vsh60_Specific Surface Area': 37314376.55214245, 'Pliesto_Shaly_Vsh60_Initial Porosity': 0.6216956263299999, \"Plio_Up_Vsh55_Athy's Factor k (depth)\": 0.6316750556175104, 'Plio_Up_Vsh55_Anisotropy Factor Permeability': 2.9978274422618476, 'Plio_Up_Vsh55_Scaling Factor': 6.632877628659149, 'Plio_Up_Vsh55_Specific Surface Area': 114050643.52369791, 'Plio_Up_Vsh55_Initial Porosity': 0.5695503266892226, \"Plio_LSandy_Vsh45_Athy's Factor k (depth)\": 0.0557875159110173, 'Plio_LSandy_Vsh45_Anisotropy Factor Permeability': 1.6793247571108252, 'Plio_LSandy_Vsh45_Scaling Factor': -4.486881336005515, 'Plio_LSandy_Vsh45_Specific Surface Area': 87135183.60059252, 'Plio_LSandy_Vsh45_Initial Porosity': 0.5629605400997831, \"Mio_Up_Vsh50_Athy's Factor k (depth)\": 0.251763996943942, 'Mio_Up_Vsh50_Anisotropy Factor Permeability': 2.5288112069299835, 'Mio_Up_Vsh50_Scaling Factor': 5.172828648391671, 'Mio_Up_Vsh50_Specific Surface Area': 95929794.37269424, 'Mio_Up_Vsh50_Initial Porosity': 0.5316676275186367, \"Mio_Sandy0_Vsh36_Athy's Factor k (depth)\": 0.36853612969575217, 'Mio_Sandy0_Vsh36_Anisotropy Factor Permeability': 1.2762834826980878, 'Mio_Sandy0_Vsh36_Scaling Factor': 14.111553469760892, 'Mio_Sandy0_Vsh36_Specific Surface Area': 75903231.42413133, 'Mio_Sandy0_Vsh36_Initial Porosity': 0.5228873226225911, \"Mio_Shaly1_Vsh70_Athy's Factor k (depth)\": 0.6211396058981153, 'Mio_Shaly1_Vsh70_Anisotropy Factor Permeability': 1.0073232561487928, 'Mio_Shaly1_Vsh70_Scaling Factor': -2.2640023573886943, 'Mio_Shaly1_Vsh70_Specific Surface Area': 62739806.75220854, 'Mio_Shaly1_Vsh70_Initial Porosity': 0.668024867156107, \"Mio_Sandy1_Vsh36_Athy's Factor k (depth)\": 0.7111442028439678, 'Mio_Sandy1_Vsh36_Anisotropy Factor Permeability': 0.1412441005065257, 'Mio_Sandy1_Vsh36_Scaling Factor': -0.8878079865250094, 'Mio_Sandy1_Vsh36_Specific Surface Area': 720793.5197268978, 'Mio_Sandy1_Vsh36_Initial Porosity': 0.4354577316792504, \"Mio_Shaly2_Vsh60_Athy's Factor k (depth)\": 0.16714072271440195, 'Mio_Shaly2_Vsh60_Anisotropy Factor Permeability': 3.893176458869807, 'Mio_Shaly2_Vsh60_Scaling Factor': 7.67025926217427, 'Mio_Shaly2_Vsh60_Specific Surface Area': 106784930.33025219, 'Mio_Shaly2_Vsh60_Initial Porosity': 0.6020582576317164, \"Mio_Lower_Athy's Factor k (depth)\": 0.6210312404862584, 'Mio_Lower_Anisotropy Factor Permeability': 4.4354712216208805, 'Mio_Lower_Scaling Factor': 12.791076488585372, 'Mio_Lower_Specific Surface Area': 85673738.32236725, 'Mio_Lower_Initial Porosity': 0.6388106754739797}. Best is trial 30 with value: 0.00034593714626025.\n",
      "[I 2023-07-16 07:43:24,512] Trial 59 finished with value: 0.002600986854393855 and parameters: {\"Pliesto_Surface_Athy's Factor k (depth)\": 0.4338805216422465, 'Pliesto_Surface_Anisotropy Factor Permeability': 4.639408453909741, 'Pliesto_Surface_Scaling Factor': 8.884037716892554, 'Pliesto_Surface_Specific Surface Area': 33911930.76019005, 'Pliesto_Surface_Initial Porosity': 0.473041672869543, \"Pliesto_Shaly_Vsh60_Athy's Factor k (depth)\": 0.6324540883526203, 'Pliesto_Shaly_Vsh60_Anisotropy Factor Permeability': 1.862362917129456, 'Pliesto_Shaly_Vsh60_Scaling Factor': 4.906406077346573, 'Pliesto_Shaly_Vsh60_Specific Surface Area': 46319139.03410578, 'Pliesto_Shaly_Vsh60_Initial Porosity': 0.6005929341649002, \"Plio_Up_Vsh55_Athy's Factor k (depth)\": 0.643600612230964, 'Plio_Up_Vsh55_Anisotropy Factor Permeability': 2.5910109526021947, 'Plio_Up_Vsh55_Scaling Factor': 5.67778546482373, 'Plio_Up_Vsh55_Specific Surface Area': 120818935.42894736, 'Plio_Up_Vsh55_Initial Porosity': 0.5587240591747606, \"Plio_LSandy_Vsh45_Athy's Factor k (depth)\": 0.18139446807818485, 'Plio_LSandy_Vsh45_Anisotropy Factor Permeability': 2.865706013139464, 'Plio_LSandy_Vsh45_Scaling Factor': -0.3833502906524098, 'Plio_LSandy_Vsh45_Specific Surface Area': 93409123.40824407, 'Plio_LSandy_Vsh45_Initial Porosity': 0.5560937505351116, \"Mio_Up_Vsh50_Athy's Factor k (depth)\": 0.34881882768277783, 'Mio_Up_Vsh50_Anisotropy Factor Permeability': 3.699501324254209, 'Mio_Up_Vsh50_Scaling Factor': 4.662154365929835, 'Mio_Up_Vsh50_Specific Surface Area': 101384839.64379042, 'Mio_Up_Vsh50_Initial Porosity': 0.5237191931088241, \"Mio_Sandy0_Vsh36_Athy's Factor k (depth)\": 0.3155632495566314, 'Mio_Sandy0_Vsh36_Anisotropy Factor Permeability': 0.6509513009440956, 'Mio_Sandy0_Vsh36_Scaling Factor': 11.888264154304384, 'Mio_Sandy0_Vsh36_Specific Surface Area': 86031933.8133689, 'Mio_Sandy0_Vsh36_Initial Porosity': 0.461380264656411, \"Mio_Shaly1_Vsh70_Athy's Factor k (depth)\": 0.5241288539426144, 'Mio_Shaly1_Vsh70_Anisotropy Factor Permeability': 1.6099800551432506, 'Mio_Shaly1_Vsh70_Scaling Factor': -3.27592256347879, 'Mio_Shaly1_Vsh70_Specific Surface Area': 77030240.78429411, 'Mio_Shaly1_Vsh70_Initial Porosity': 0.6729095052560677, \"Mio_Sandy1_Vsh36_Athy's Factor k (depth)\": 0.735243095550367, 'Mio_Sandy1_Vsh36_Anisotropy Factor Permeability': 0.3469248515549621, 'Mio_Sandy1_Vsh36_Scaling Factor': -6.089895053673017, 'Mio_Sandy1_Vsh36_Specific Surface Area': 8862819.808487123, 'Mio_Sandy1_Vsh36_Initial Porosity': 0.4679749683877199, \"Mio_Shaly2_Vsh60_Athy's Factor k (depth)\": 0.27697954549282394, 'Mio_Shaly2_Vsh60_Anisotropy Factor Permeability': 4.131810700480591, 'Mio_Shaly2_Vsh60_Scaling Factor': 8.060508813094987, 'Mio_Shaly2_Vsh60_Specific Surface Area': 115178827.44159769, 'Mio_Shaly2_Vsh60_Initial Porosity': 0.5813190883630508, \"Mio_Lower_Athy's Factor k (depth)\": 0.5812272347442604, 'Mio_Lower_Anisotropy Factor Permeability': 4.153822592308874, 'Mio_Lower_Scaling Factor': 10.223582419875449, 'Mio_Lower_Specific Surface Area': 76530799.99155354, 'Mio_Lower_Initial Porosity': 0.6133946153865376}. Best is trial 30 with value: 0.00034593714626025.\n",
      "[I 2023-07-16 07:43:34,278] Trial 60 finished with value: 0.0009554734556023438 and parameters: {\"Pliesto_Surface_Athy's Factor k (depth)\": 0.45970871980032724, 'Pliesto_Surface_Anisotropy Factor Permeability': 5.51232300184043, 'Pliesto_Surface_Scaling Factor': 12.974865567881157, 'Pliesto_Surface_Specific Surface Area': 37806337.42482564, 'Pliesto_Surface_Initial Porosity': 0.4374614817703264, \"Pliesto_Shaly_Vsh60_Athy's Factor k (depth)\": 0.5773546602406506, 'Pliesto_Shaly_Vsh60_Anisotropy Factor Permeability': 1.6131306235599114, 'Pliesto_Shaly_Vsh60_Scaling Factor': 6.720312953581198, 'Pliesto_Shaly_Vsh60_Specific Surface Area': 42946814.16878168, 'Pliesto_Shaly_Vsh60_Initial Porosity': 0.6051453745736647, \"Plio_Up_Vsh55_Athy's Factor k (depth)\": 0.5478953473125961, 'Plio_Up_Vsh55_Anisotropy Factor Permeability': 2.890688329328391, 'Plio_Up_Vsh55_Scaling Factor': 4.989233998924346, 'Plio_Up_Vsh55_Specific Surface Area': 106873752.82069933, 'Plio_Up_Vsh55_Initial Porosity': 0.555604675433192, \"Plio_LSandy_Vsh45_Athy's Factor k (depth)\": 0.09757291952795841, 'Plio_LSandy_Vsh45_Anisotropy Factor Permeability': 2.6205107411481157, 'Plio_LSandy_Vsh45_Scaling Factor': -3.245849258831177, 'Plio_LSandy_Vsh45_Specific Surface Area': 99399036.4418712, 'Plio_LSandy_Vsh45_Initial Porosity': 0.568595531076264, \"Mio_Up_Vsh50_Athy's Factor k (depth)\": 0.2892470060614915, 'Mio_Up_Vsh50_Anisotropy Factor Permeability': 4.3361648737677685, 'Mio_Up_Vsh50_Scaling Factor': 3.1271711363257984, 'Mio_Up_Vsh50_Specific Surface Area': 113473786.40881641, 'Mio_Up_Vsh50_Initial Porosity': 0.5480480426014218, \"Mio_Sandy0_Vsh36_Athy's Factor k (depth)\": 0.27721190616842206, 'Mio_Sandy0_Vsh36_Anisotropy Factor Permeability': 0.9624036349270355, 'Mio_Sandy0_Vsh36_Scaling Factor': 13.386985677029859, 'Mio_Sandy0_Vsh36_Specific Surface Area': 99783059.61942539, 'Mio_Sandy0_Vsh36_Initial Porosity': 0.4801338978234713, \"Mio_Shaly1_Vsh70_Athy's Factor k (depth)\": 0.5602420561126685, 'Mio_Shaly1_Vsh70_Anisotropy Factor Permeability': 1.4359240969949094, 'Mio_Shaly1_Vsh70_Scaling Factor': -6.213138058758884, 'Mio_Shaly1_Vsh70_Specific Surface Area': 67161999.67996919, 'Mio_Shaly1_Vsh70_Initial Porosity': 0.6591411851663272, \"Mio_Sandy1_Vsh36_Athy's Factor k (depth)\": 0.7780033715750828, 'Mio_Sandy1_Vsh36_Anisotropy Factor Permeability': 0.8973171580610264, 'Mio_Sandy1_Vsh36_Scaling Factor': 1.1577198732513931, 'Mio_Sandy1_Vsh36_Specific Surface Area': -4581899.1156968, 'Mio_Sandy1_Vsh36_Initial Porosity': 0.43087521164527987, \"Mio_Shaly2_Vsh60_Athy's Factor k (depth)\": 0.24116200882429834, 'Mio_Shaly2_Vsh60_Anisotropy Factor Permeability': 4.3786364198917, 'Mio_Shaly2_Vsh60_Scaling Factor': 6.739259490527235, 'Mio_Shaly2_Vsh60_Specific Surface Area': 100015419.34867972, 'Mio_Shaly2_Vsh60_Initial Porosity': 0.5891381859095485, \"Mio_Lower_Athy's Factor k (depth)\": 0.6562709055148779, 'Mio_Lower_Anisotropy Factor Permeability': 4.63505975501599, 'Mio_Lower_Scaling Factor': 11.249337315426652, 'Mio_Lower_Specific Surface Area': 105671445.07590182, 'Mio_Lower_Initial Porosity': 0.5876735174105808}. Best is trial 30 with value: 0.00034593714626025.\n",
      "[I 2023-07-16 07:56:39,984] Trial 61 finished with value: 0.0003850803389741691 and parameters: {\"Pliesto_Surface_Athy's Factor k (depth)\": 0.5095650240956203, 'Pliesto_Surface_Anisotropy Factor Permeability': 5.239583134190753, 'Pliesto_Surface_Scaling Factor': 7.777705565152723, 'Pliesto_Surface_Specific Surface Area': 24321587.53331069, 'Pliesto_Surface_Initial Porosity': 0.45105415950323624, \"Pliesto_Shaly_Vsh60_Athy's Factor k (depth)\": 0.7071029774879485, 'Pliesto_Shaly_Vsh60_Anisotropy Factor Permeability': 2.0179672307636736, 'Pliesto_Shaly_Vsh60_Scaling Factor': 8.229035104288823, 'Pliesto_Shaly_Vsh60_Specific Surface Area': 56631430.040197, 'Pliesto_Shaly_Vsh60_Initial Porosity': 0.6150742918094165, \"Plio_Up_Vsh55_Athy's Factor k (depth)\": 0.6869492724162759, 'Plio_Up_Vsh55_Anisotropy Factor Permeability': 2.17329593835702, 'Plio_Up_Vsh55_Scaling Factor': 4.119046594727742, 'Plio_Up_Vsh55_Specific Surface Area': 117212740.34843455, 'Plio_Up_Vsh55_Initial Porosity': 0.5755858979863272, \"Plio_LSandy_Vsh45_Athy's Factor k (depth)\": 0.04987418224749242, 'Plio_LSandy_Vsh45_Anisotropy Factor Permeability': 2.0907467280770784, 'Plio_LSandy_Vsh45_Scaling Factor': -4.75934909675307, 'Plio_LSandy_Vsh45_Specific Surface Area': 104507696.33548397, 'Plio_LSandy_Vsh45_Initial Porosity': 0.5795162058540297, \"Mio_Up_Vsh50_Athy's Factor k (depth)\": 0.2114682655032499, 'Mio_Up_Vsh50_Anisotropy Factor Permeability': 3.805266711870546, 'Mio_Up_Vsh50_Scaling Factor': 5.623349364612835, 'Mio_Up_Vsh50_Specific Surface Area': 91985279.58352365, 'Mio_Up_Vsh50_Initial Porosity': 0.5180137429622808, \"Mio_Sandy0_Vsh36_Athy's Factor k (depth)\": 0.29594775748234237, 'Mio_Sandy0_Vsh36_Anisotropy Factor Permeability': 0.28158137166330544, 'Mio_Sandy0_Vsh36_Scaling Factor': 13.310093067021413, 'Mio_Sandy0_Vsh36_Specific Surface Area': 94671591.02766117, 'Mio_Sandy0_Vsh36_Initial Porosity': 0.5371295327149161, \"Mio_Shaly1_Vsh70_Athy's Factor k (depth)\": 0.6596756419251831, 'Mio_Shaly1_Vsh70_Anisotropy Factor Permeability': 0.9087257861838045, 'Mio_Shaly1_Vsh70_Scaling Factor': -0.8711251042422998, 'Mio_Shaly1_Vsh70_Specific Surface Area': 56515822.99478082, 'Mio_Shaly1_Vsh70_Initial Porosity': 0.6530924234550487, \"Mio_Sandy1_Vsh36_Athy's Factor k (depth)\": 0.8221708526867776, 'Mio_Sandy1_Vsh36_Anisotropy Factor Permeability': 0.12950634680160145, 'Mio_Sandy1_Vsh36_Scaling Factor': 3.343163807357625, 'Mio_Sandy1_Vsh36_Specific Surface Area': -24662540.241199426, 'Mio_Sandy1_Vsh36_Initial Porosity': 0.44658054369817196, \"Mio_Shaly2_Vsh60_Athy's Factor k (depth)\": 0.36043330985385114, 'Mio_Shaly2_Vsh60_Anisotropy Factor Permeability': 3.409122591147282, 'Mio_Shaly2_Vsh60_Scaling Factor': 8.753039819321573, 'Mio_Shaly2_Vsh60_Specific Surface Area': 120216776.65207654, 'Mio_Shaly2_Vsh60_Initial Porosity': 0.6082840247145985, \"Mio_Lower_Athy's Factor k (depth)\": 0.6893608833154539, 'Mio_Lower_Anisotropy Factor Permeability': 5.315493513608017, 'Mio_Lower_Scaling Factor': 12.301042934088006, 'Mio_Lower_Specific Surface Area': 97377378.52318475, 'Mio_Lower_Initial Porosity': 0.6315668400374708}. Best is trial 30 with value: 0.00034593714626025.\n",
      "[I 2023-07-16 07:56:53,276] Trial 62 finished with value: 0.0005445165381415902 and parameters: {\"Pliesto_Surface_Athy's Factor k (depth)\": 0.5485034377168587, 'Pliesto_Surface_Anisotropy Factor Permeability': 5.255264927330087, 'Pliesto_Surface_Scaling Factor': 7.644807001843611, 'Pliesto_Surface_Specific Surface Area': 20814875.300806668, 'Pliesto_Surface_Initial Porosity': 0.45410272415412284, \"Pliesto_Shaly_Vsh60_Athy's Factor k (depth)\": 0.6964267357397569, 'Pliesto_Shaly_Vsh60_Anisotropy Factor Permeability': 2.003938786066437, 'Pliesto_Shaly_Vsh60_Scaling Factor': 5.877652289939784, 'Pliesto_Shaly_Vsh60_Specific Surface Area': 58670827.538982525, 'Pliesto_Shaly_Vsh60_Initial Porosity': 0.6142784086545914, \"Plio_Up_Vsh55_Athy's Factor k (depth)\": 0.6759739818393602, 'Plio_Up_Vsh55_Anisotropy Factor Permeability': 2.1761858767064166, 'Plio_Up_Vsh55_Scaling Factor': 4.161211237217852, 'Plio_Up_Vsh55_Specific Surface Area': 116935024.10088034, 'Plio_Up_Vsh55_Initial Porosity': 0.5656677715676302, \"Plio_LSandy_Vsh45_Athy's Factor k (depth)\": 0.13978870257386797, 'Plio_LSandy_Vsh45_Anisotropy Factor Permeability': 2.239165770638131, 'Plio_LSandy_Vsh45_Scaling Factor': -4.742831764934317, 'Plio_LSandy_Vsh45_Specific Surface Area': 105871967.11706918, 'Plio_LSandy_Vsh45_Initial Porosity': 0.5779849037465531, \"Mio_Up_Vsh50_Athy's Factor k (depth)\": 0.2230531796030416, 'Mio_Up_Vsh50_Anisotropy Factor Permeability': 3.410235954300007, 'Mio_Up_Vsh50_Scaling Factor': 5.440862895198743, 'Mio_Up_Vsh50_Specific Surface Area': 93286391.49441212, 'Mio_Up_Vsh50_Initial Porosity': 0.5181179488069102, \"Mio_Sandy0_Vsh36_Athy's Factor k (depth)\": 0.3329339428585545, 'Mio_Sandy0_Vsh36_Anisotropy Factor Permeability': 0.3367077957101046, 'Mio_Sandy0_Vsh36_Scaling Factor': 13.061357080581073, 'Mio_Sandy0_Vsh36_Specific Surface Area': 94110029.45572467, 'Mio_Sandy0_Vsh36_Initial Porosity': 0.53059351629317, \"Mio_Shaly1_Vsh70_Athy's Factor k (depth)\": 0.618054805875444, 'Mio_Shaly1_Vsh70_Anisotropy Factor Permeability': 1.2144141532518589, 'Mio_Shaly1_Vsh70_Scaling Factor': -0.8588828008065033, 'Mio_Shaly1_Vsh70_Specific Surface Area': 58063272.395933494, 'Mio_Shaly1_Vsh70_Initial Porosity': 0.6629341087732047, \"Mio_Sandy1_Vsh36_Athy's Factor k (depth)\": 0.8083275960806461, 'Mio_Sandy1_Vsh36_Anisotropy Factor Permeability': 0.13026110031012034, 'Mio_Sandy1_Vsh36_Scaling Factor': 3.520058957008139, 'Mio_Sandy1_Vsh36_Specific Surface Area': -11654430.6050184, 'Mio_Sandy1_Vsh36_Initial Porosity': 0.45017018721603547, \"Mio_Shaly2_Vsh60_Athy's Factor k (depth)\": 0.37335705003381686, 'Mio_Shaly2_Vsh60_Anisotropy Factor Permeability': 3.655269729193624, 'Mio_Shaly2_Vsh60_Scaling Factor': 8.856678770360807, 'Mio_Shaly2_Vsh60_Specific Surface Area': 118157399.85789154, 'Mio_Shaly2_Vsh60_Initial Porosity': 0.6075268788518905, \"Mio_Lower_Athy's Factor k (depth)\": 0.7340775997474922, 'Mio_Lower_Anisotropy Factor Permeability': 4.765644451096693, 'Mio_Lower_Scaling Factor': 12.14772676957203, 'Mio_Lower_Specific Surface Area': 94540372.20851569, 'Mio_Lower_Initial Porosity': 0.6244541782888109}. Best is trial 30 with value: 0.00034593714626025.\n",
      "[I 2023-07-16 07:57:06,742] Trial 63 finished with value: 0.00043953585558450213 and parameters: {\"Pliesto_Surface_Athy's Factor k (depth)\": 0.519529044384948, 'Pliesto_Surface_Anisotropy Factor Permeability': 5.004202386725675, 'Pliesto_Surface_Scaling Factor': 10.472835923198984, 'Pliesto_Surface_Specific Surface Area': 29274947.998533018, 'Pliesto_Surface_Initial Porosity': 0.43190298235129193, \"Pliesto_Shaly_Vsh60_Athy's Factor k (depth)\": 0.753056960849849, 'Pliesto_Shaly_Vsh60_Anisotropy Factor Permeability': 2.2673263315753376, 'Pliesto_Shaly_Vsh60_Scaling Factor': 8.206535696885634, 'Pliesto_Shaly_Vsh60_Specific Surface Area': 52557300.14697809, 'Pliesto_Shaly_Vsh60_Initial Porosity': 0.6248694412969964, \"Plio_Up_Vsh55_Athy's Factor k (depth)\": 0.6879705684848021, 'Plio_Up_Vsh55_Anisotropy Factor Permeability': 2.5357692694505753, 'Plio_Up_Vsh55_Scaling Factor': 4.79832831019343, 'Plio_Up_Vsh55_Specific Surface Area': 111328371.72567302, 'Plio_Up_Vsh55_Initial Porosity': 0.5768055178465105, \"Plio_LSandy_Vsh45_Athy's Factor k (depth)\": 0.03933897983222742, 'Plio_LSandy_Vsh45_Anisotropy Factor Permeability': 1.8615354762015583, 'Plio_LSandy_Vsh45_Scaling Factor': -3.6793165718997427, 'Plio_LSandy_Vsh45_Specific Surface Area': 99808395.93023668, 'Plio_LSandy_Vsh45_Initial Porosity': 0.569742062780332, \"Mio_Up_Vsh50_Athy's Factor k (depth)\": 0.2569875216694807, 'Mio_Up_Vsh50_Anisotropy Factor Permeability': 3.784390792543054, 'Mio_Up_Vsh50_Scaling Factor': 6.102486111775209, 'Mio_Up_Vsh50_Specific Surface Area': 82978739.06766373, 'Mio_Up_Vsh50_Initial Porosity': 0.5318390189727813, \"Mio_Sandy0_Vsh36_Athy's Factor k (depth)\": 0.2977502174244025, 'Mio_Sandy0_Vsh36_Anisotropy Factor Permeability': 0.5986263054244552, 'Mio_Sandy0_Vsh36_Scaling Factor': 13.494377786435159, 'Mio_Sandy0_Vsh36_Specific Surface Area': 90929561.61585122, 'Mio_Sandy0_Vsh36_Initial Porosity': 0.5404997604470686, \"Mio_Shaly1_Vsh70_Athy's Factor k (depth)\": 0.6541053891730082, 'Mio_Shaly1_Vsh70_Anisotropy Factor Permeability': 0.930157611967689, 'Mio_Shaly1_Vsh70_Scaling Factor': -2.316910402827776, 'Mio_Shaly1_Vsh70_Specific Surface Area': 48042214.247783445, 'Mio_Shaly1_Vsh70_Initial Porosity': 0.6521564264446853, \"Mio_Sandy1_Vsh36_Athy's Factor k (depth)\": 0.8273532277293654, 'Mio_Sandy1_Vsh36_Anisotropy Factor Permeability': 0.3461649919008319, 'Mio_Sandy1_Vsh36_Scaling Factor': 4.770474930479516, 'Mio_Sandy1_Vsh36_Specific Surface Area': -22209826.418965127, 'Mio_Sandy1_Vsh36_Initial Porosity': 0.47314251282603775, \"Mio_Shaly2_Vsh60_Athy's Factor k (depth)\": 0.3189960485555825, 'Mio_Shaly2_Vsh60_Anisotropy Factor Permeability': 3.847148899847509, 'Mio_Shaly2_Vsh60_Scaling Factor': 7.791634683690944, 'Mio_Shaly2_Vsh60_Specific Surface Area': 107591118.18581806, 'Mio_Shaly2_Vsh60_Initial Porosity': 0.6390079054886771, \"Mio_Lower_Athy's Factor k (depth)\": 0.6939009756835854, 'Mio_Lower_Anisotropy Factor Permeability': 5.296825356897667, 'Mio_Lower_Scaling Factor': 13.457398110180787, 'Mio_Lower_Specific Surface Area': 96961195.52198403, 'Mio_Lower_Initial Porosity': 0.6313069605779629}. Best is trial 30 with value: 0.00034593714626025.\n",
      "[I 2023-07-16 07:57:20,339] Trial 64 finished with value: 0.0031534791680643747 and parameters: {\"Pliesto_Surface_Athy's Factor k (depth)\": 0.49699410771086905, 'Pliesto_Surface_Anisotropy Factor Permeability': 4.999675970614966, 'Pliesto_Surface_Scaling Factor': 10.557280922228198, 'Pliesto_Surface_Specific Surface Area': 25595547.93928982, 'Pliesto_Surface_Initial Porosity': 0.44660003475260146, \"Pliesto_Shaly_Vsh60_Athy's Factor k (depth)\": 0.6623709504207203, 'Pliesto_Shaly_Vsh60_Anisotropy Factor Permeability': 2.496069237909219, 'Pliesto_Shaly_Vsh60_Scaling Factor': 7.612547279327323, 'Pliesto_Shaly_Vsh60_Specific Surface Area': 52241128.03431743, 'Pliesto_Shaly_Vsh60_Initial Porosity': 0.6377612069842814, \"Plio_Up_Vsh55_Athy's Factor k (depth)\": 0.6901591189045001, 'Plio_Up_Vsh55_Anisotropy Factor Permeability': 2.5983263002960135, 'Plio_Up_Vsh55_Scaling Factor': 3.319467288938298, 'Plio_Up_Vsh55_Specific Surface Area': 110736157.55702327, 'Plio_Up_Vsh55_Initial Porosity': 0.5753805362440286, \"Plio_LSandy_Vsh45_Athy's Factor k (depth)\": 0.03915724103225556, 'Plio_LSandy_Vsh45_Anisotropy Factor Permeability': 1.8558412124608616, 'Plio_LSandy_Vsh45_Scaling Factor': -4.366166287565578, 'Plio_LSandy_Vsh45_Specific Surface Area': 90000497.76468708, 'Plio_LSandy_Vsh45_Initial Porosity': 0.5606884345614698, \"Mio_Up_Vsh50_Athy's Factor k (depth)\": 0.2056275426377174, 'Mio_Up_Vsh50_Anisotropy Factor Permeability': 3.7546374277899166, 'Mio_Up_Vsh50_Scaling Factor': 6.001448534677449, 'Mio_Up_Vsh50_Specific Surface Area': 97852392.98989046, 'Mio_Up_Vsh50_Initial Porosity': 0.537917156077273, \"Mio_Sandy0_Vsh36_Athy's Factor k (depth)\": 0.20813471343980985, 'Mio_Sandy0_Vsh36_Anisotropy Factor Permeability': 0.10028361547928255, 'Mio_Sandy0_Vsh36_Scaling Factor': 13.659359248178214, 'Mio_Sandy0_Vsh36_Specific Surface Area': 89348310.69539934, 'Mio_Sandy0_Vsh36_Initial Porosity': 0.5180432752885745, \"Mio_Shaly1_Vsh70_Athy's Factor k (depth)\": 0.658259547918825, 'Mio_Shaly1_Vsh70_Anisotropy Factor Permeability': 0.6323257969082257, 'Mio_Shaly1_Vsh70_Scaling Factor': -1.7109181425673101, 'Mio_Shaly1_Vsh70_Specific Surface Area': 47716934.05939722, 'Mio_Shaly1_Vsh70_Initial Porosity': 0.6534794904618937, \"Mio_Sandy1_Vsh36_Athy's Factor k (depth)\": 0.8332488139050154, 'Mio_Sandy1_Vsh36_Anisotropy Factor Permeability': 0.29211785923771083, 'Mio_Sandy1_Vsh36_Scaling Factor': 5.015804366101047, 'Mio_Sandy1_Vsh36_Specific Surface Area': -23781761.67552437, 'Mio_Sandy1_Vsh36_Initial Porosity': 0.4755834151828914, \"Mio_Shaly2_Vsh60_Athy's Factor k (depth)\": 0.31284693029965194, 'Mio_Shaly2_Vsh60_Anisotropy Factor Permeability': 3.852059166538783, 'Mio_Shaly2_Vsh60_Scaling Factor': 7.6698035685263735, 'Mio_Shaly2_Vsh60_Specific Surface Area': 109135838.89604923, 'Mio_Shaly2_Vsh60_Initial Porosity': 0.6398360144267543, \"Mio_Lower_Athy's Factor k (depth)\": 0.6467981281709567, 'Mio_Lower_Anisotropy Factor Permeability': 5.342862384186034, 'Mio_Lower_Scaling Factor': 14.418132027210032, 'Mio_Lower_Specific Surface Area': 99373185.93331052, 'Mio_Lower_Initial Porosity': 0.6430826101538769}. Best is trial 30 with value: 0.00034593714626025.\n",
      "[I 2023-07-16 07:57:34,892] Trial 65 finished with value: 0.0006315446270248027 and parameters: {\"Pliesto_Surface_Athy's Factor k (depth)\": 0.4614507202967221, 'Pliesto_Surface_Anisotropy Factor Permeability': 4.765300786000433, 'Pliesto_Surface_Scaling Factor': 9.241114364087752, 'Pliesto_Surface_Specific Surface Area': 30826964.0295333, 'Pliesto_Surface_Initial Porosity': 0.4303936298185759, \"Pliesto_Shaly_Vsh60_Athy's Factor k (depth)\": 0.626282960174612, 'Pliesto_Shaly_Vsh60_Anisotropy Factor Permeability': 2.2291486225122474, 'Pliesto_Shaly_Vsh60_Scaling Factor': 6.369145359259656, 'Pliesto_Shaly_Vsh60_Specific Surface Area': 54713376.065835536, 'Pliesto_Shaly_Vsh60_Initial Porosity': 0.6265833340559293, \"Plio_Up_Vsh55_Athy's Factor k (depth)\": 0.595172338576538, 'Plio_Up_Vsh55_Anisotropy Factor Permeability': 2.2999235366200605, 'Plio_Up_Vsh55_Scaling Factor': 4.59245839739742, 'Plio_Up_Vsh55_Specific Surface Area': 98739168.95406042, 'Plio_Up_Vsh55_Initial Porosity': 0.5856120808440218, \"Plio_LSandy_Vsh45_Athy's Factor k (depth)\": 0.013105630834455761, 'Plio_LSandy_Vsh45_Anisotropy Factor Permeability': 1.8155936032638043, 'Plio_LSandy_Vsh45_Scaling Factor': -2.898341712335111, 'Plio_LSandy_Vsh45_Specific Surface Area': 93821075.97066654, 'Plio_LSandy_Vsh45_Initial Porosity': 0.5722553334320577, \"Mio_Up_Vsh50_Athy's Factor k (depth)\": 0.2672490310810759, 'Mio_Up_Vsh50_Anisotropy Factor Permeability': 4.075620137191948, 'Mio_Up_Vsh50_Scaling Factor': 7.170952574081086, 'Mio_Up_Vsh50_Specific Surface Area': 87275719.25990795, 'Mio_Up_Vsh50_Initial Porosity': 0.5162858549857979, \"Mio_Sandy0_Vsh36_Athy's Factor k (depth)\": 0.29622507822960886, 'Mio_Sandy0_Vsh36_Anisotropy Factor Permeability': 1.1601049419283305, 'Mio_Sandy0_Vsh36_Scaling Factor': 12.298605166156538, 'Mio_Sandy0_Vsh36_Specific Surface Area': 83704253.61936523, 'Mio_Sandy0_Vsh36_Initial Porosity': 0.5069739089620635, \"Mio_Shaly1_Vsh70_Athy's Factor k (depth)\": 0.6743556825490351, 'Mio_Shaly1_Vsh70_Anisotropy Factor Permeability': 0.9165014320853382, 'Mio_Shaly1_Vsh70_Scaling Factor': -2.4479434001425506, 'Mio_Shaly1_Vsh70_Specific Surface Area': 35619119.510064624, 'Mio_Shaly1_Vsh70_Initial Porosity': 0.6441742979259987, \"Mio_Sandy1_Vsh36_Athy's Factor k (depth)\": 0.7580494766298396, 'Mio_Sandy1_Vsh36_Anisotropy Factor Permeability': 0.555020323951039, 'Mio_Sandy1_Vsh36_Scaling Factor': 1.4723868007233338, 'Mio_Sandy1_Vsh36_Specific Surface Area': -24687422.124683946, 'Mio_Sandy1_Vsh36_Initial Porosity': 0.44640656614917157, \"Mio_Shaly2_Vsh60_Athy's Factor k (depth)\": 0.32791932789131073, 'Mio_Shaly2_Vsh60_Anisotropy Factor Permeability': 4.0906551802735756, 'Mio_Shaly2_Vsh60_Scaling Factor': 9.158084163971017, 'Mio_Shaly2_Vsh60_Specific Surface Area': 112557517.28519651, 'Mio_Shaly2_Vsh60_Initial Porosity': 0.6128198929246158, \"Mio_Lower_Athy's Factor k (depth)\": 0.6835365260746497, 'Mio_Lower_Anisotropy Factor Permeability': 5.214103953333358, 'Mio_Lower_Scaling Factor': 13.528812711417727, 'Mio_Lower_Specific Surface Area': 108565121.86859575, 'Mio_Lower_Initial Porosity': 0.6298156752245057}. Best is trial 30 with value: 0.00034593714626025.\n",
      "[I 2023-07-16 07:57:45,617] Trial 66 finished with value: 0.0012573000088367647 and parameters: {\"Pliesto_Surface_Athy's Factor k (depth)\": 0.5173164117951107, 'Pliesto_Surface_Anisotropy Factor Permeability': 5.845778715641609, 'Pliesto_Surface_Scaling Factor': 11.53647670707133, 'Pliesto_Surface_Specific Surface Area': 14086583.042212145, 'Pliesto_Surface_Initial Porosity': 0.4415486932035046, \"Pliesto_Shaly_Vsh60_Athy's Factor k (depth)\": 0.7583749273274516, 'Pliesto_Shaly_Vsh60_Anisotropy Factor Permeability': 2.050851287217588, 'Pliesto_Shaly_Vsh60_Scaling Factor': 6.867097576215066, 'Pliesto_Shaly_Vsh60_Specific Surface Area': 43422769.20847765, 'Pliesto_Shaly_Vsh60_Initial Porosity': 0.6137192779606656, \"Plio_Up_Vsh55_Athy's Factor k (depth)\": 0.6557274173328218, 'Plio_Up_Vsh55_Anisotropy Factor Permeability': 2.514208877791107, 'Plio_Up_Vsh55_Scaling Factor': 5.270851840635396, 'Plio_Up_Vsh55_Specific Surface Area': 112567497.8588314, 'Plio_Up_Vsh55_Initial Porosity': 0.5943074696506638, \"Plio_LSandy_Vsh45_Athy's Factor k (depth)\": 0.11079877745111644, 'Plio_LSandy_Vsh45_Anisotropy Factor Permeability': 1.5505487795616575, 'Plio_LSandy_Vsh45_Scaling Factor': -3.9078048569884096, 'Plio_LSandy_Vsh45_Specific Surface Area': 98730146.41359386, 'Plio_LSandy_Vsh45_Initial Porosity': 0.5647960518905741, \"Mio_Up_Vsh50_Athy's Factor k (depth)\": 0.17663920953840972, 'Mio_Up_Vsh50_Anisotropy Factor Permeability': 3.5712377214477673, 'Mio_Up_Vsh50_Scaling Factor': 4.753035673400745, 'Mio_Up_Vsh50_Specific Surface Area': 82360453.57433845, 'Mio_Up_Vsh50_Initial Porosity': 0.5241427435876144, \"Mio_Sandy0_Vsh36_Athy's Factor k (depth)\": 0.23915737290647637, 'Mio_Sandy0_Vsh36_Anisotropy Factor Permeability': 0.6051937242704674, 'Mio_Sandy0_Vsh36_Scaling Factor': 13.504991310189807, 'Mio_Sandy0_Vsh36_Specific Surface Area': 91546710.70562764, 'Mio_Sandy0_Vsh36_Initial Porosity': 0.5395768564148272, \"Mio_Shaly1_Vsh70_Athy's Factor k (depth)\": 0.7211917440398813, 'Mio_Shaly1_Vsh70_Anisotropy Factor Permeability': 0.9075898798397061, 'Mio_Shaly1_Vsh70_Scaling Factor': -2.8697650921597435, 'Mio_Shaly1_Vsh70_Specific Surface Area': 61139892.17560233, 'Mio_Shaly1_Vsh70_Initial Porosity': 0.6554414820410981, \"Mio_Sandy1_Vsh36_Athy's Factor k (depth)\": 0.808915167016464, 'Mio_Sandy1_Vsh36_Anisotropy Factor Permeability': 0.11498409510222696, 'Mio_Sandy1_Vsh36_Scaling Factor': 0.198017722924968, 'Mio_Sandy1_Vsh36_Specific Surface Area': -15788656.234923497, 'Mio_Sandy1_Vsh36_Initial Porosity': 0.4560306970317734, \"Mio_Shaly2_Vsh60_Athy's Factor k (depth)\": 0.29214020490072956, 'Mio_Shaly2_Vsh60_Anisotropy Factor Permeability': 4.035497875675021, 'Mio_Shaly2_Vsh60_Scaling Factor': 6.34321831459447, 'Mio_Shaly2_Vsh60_Specific Surface Area': 127390116.9130683, 'Mio_Shaly2_Vsh60_Initial Porosity': 0.5996951790121189, \"Mio_Lower_Athy's Factor k (depth)\": 0.6131265570607423, 'Mio_Lower_Anisotropy Factor Permeability': 4.891242157270225, 'Mio_Lower_Scaling Factor': 12.460092094487464, 'Mio_Lower_Specific Surface Area': 97162303.69194816, 'Mio_Lower_Initial Porosity': 0.6354485580110516}. Best is trial 30 with value: 0.00034593714626025.\n",
      "[I 2023-07-16 07:57:55,331] Trial 67 finished with value: 0.001413714948539862 and parameters: {\"Pliesto_Surface_Athy's Factor k (depth)\": 0.572510510068439, 'Pliesto_Surface_Anisotropy Factor Permeability': 5.608529610872641, 'Pliesto_Surface_Scaling Factor': 12.579604165900351, 'Pliesto_Surface_Specific Surface Area': 18802665.854032543, 'Pliesto_Surface_Initial Porosity': 0.46416821221921345, \"Pliesto_Shaly_Vsh60_Athy's Factor k (depth)\": 0.751559806209887, 'Pliesto_Shaly_Vsh60_Anisotropy Factor Permeability': 2.3179606624152465, 'Pliesto_Shaly_Vsh60_Scaling Factor': 8.161411331608734, 'Pliesto_Shaly_Vsh60_Specific Surface Area': 38376361.74697338, 'Pliesto_Shaly_Vsh60_Initial Porosity': 0.6233241631561979, \"Plio_Up_Vsh55_Athy's Factor k (depth)\": 0.7047420247285132, 'Plio_Up_Vsh55_Anisotropy Factor Permeability': 2.0774605325280033, 'Plio_Up_Vsh55_Scaling Factor': 3.712189046330557, 'Plio_Up_Vsh55_Specific Surface Area': 122727998.52783233, 'Plio_Up_Vsh55_Initial Porosity': 0.600398118081116, \"Plio_LSandy_Vsh45_Athy's Factor k (depth)\": -0.003330238877549914, 'Plio_LSandy_Vsh45_Anisotropy Factor Permeability': 1.668294634362126, 'Plio_LSandy_Vsh45_Scaling Factor': -2.285983784472976, 'Plio_LSandy_Vsh45_Specific Surface Area': 84412757.34729229, 'Plio_LSandy_Vsh45_Initial Porosity': 0.5464259539955614, \"Mio_Up_Vsh50_Athy's Factor k (depth)\": 0.3138562259155444, 'Mio_Up_Vsh50_Anisotropy Factor Permeability': 3.7685073033555776, 'Mio_Up_Vsh50_Scaling Factor': 4.780406705714861, 'Mio_Up_Vsh50_Specific Surface Area': 92934565.28796044, 'Mio_Up_Vsh50_Initial Porosity': 0.5065514459072902, \"Mio_Sandy0_Vsh36_Athy's Factor k (depth)\": 0.2649995324674017, 'Mio_Sandy0_Vsh36_Anisotropy Factor Permeability': 0.7993321838985484, 'Mio_Sandy0_Vsh36_Scaling Factor': 14.309203075877031, 'Mio_Sandy0_Vsh36_Specific Surface Area': 99301542.92264663, 'Mio_Sandy0_Vsh36_Initial Porosity': 0.5308821457157376, \"Mio_Shaly1_Vsh70_Athy's Factor k (depth)\": 0.7457105604785462, 'Mio_Shaly1_Vsh70_Anisotropy Factor Permeability': 0.39296220092569256, 'Mio_Shaly1_Vsh70_Scaling Factor': -2.04364098431234, 'Mio_Shaly1_Vsh70_Specific Surface Area': 54121470.66786879, 'Mio_Shaly1_Vsh70_Initial Porosity': 0.6753862278226884, \"Mio_Sandy1_Vsh36_Athy's Factor k (depth)\": 0.8497571875320029, 'Mio_Sandy1_Vsh36_Anisotropy Factor Permeability': 0.6075326268896255, 'Mio_Sandy1_Vsh36_Scaling Factor': 3.401783720679793, 'Mio_Sandy1_Vsh36_Specific Surface Area': -8136190.849212626, 'Mio_Sandy1_Vsh36_Initial Porosity': 0.43919325835523826, \"Mio_Shaly2_Vsh60_Athy's Factor k (depth)\": 0.3539112559694676, 'Mio_Shaly2_Vsh60_Anisotropy Factor Permeability': 3.3675433533994985, 'Mio_Shaly2_Vsh60_Scaling Factor': 7.182907225027775, 'Mio_Shaly2_Vsh60_Specific Surface Area': 119344551.31902108, 'Mio_Shaly2_Vsh60_Initial Porosity': 0.5726987993702443, \"Mio_Lower_Athy's Factor k (depth)\": 0.7032011932958189, 'Mio_Lower_Anisotropy Factor Permeability': 4.4122775976084725, 'Mio_Lower_Scaling Factor': 13.03431275772941, 'Mio_Lower_Specific Surface Area': 116830146.54889679, 'Mio_Lower_Initial Porosity': 0.6505126585810496}. Best is trial 30 with value: 0.00034593714626025.\n",
      "[I 2023-07-16 07:58:05,207] Trial 68 finished with value: 0.0021258556813819425 and parameters: {\"Pliesto_Surface_Athy's Factor k (depth)\": 0.508490498507674, 'Pliesto_Surface_Anisotropy Factor Permeability': 4.41694915978005, 'Pliesto_Surface_Scaling Factor': 10.45590987627107, 'Pliesto_Surface_Specific Surface Area': 6819487.821557041, 'Pliesto_Surface_Initial Porosity': 0.44895386738603615, \"Pliesto_Shaly_Vsh60_Athy's Factor k (depth)\": 0.7129265114925889, 'Pliesto_Shaly_Vsh60_Anisotropy Factor Permeability': 2.694227244316321, 'Pliesto_Shaly_Vsh60_Scaling Factor': 5.504147531871572, 'Pliesto_Shaly_Vsh60_Specific Surface Area': 63045146.491531186, 'Pliesto_Shaly_Vsh60_Initial Porosity': 0.633818095169482, \"Plio_Up_Vsh55_Athy's Factor k (depth)\": 0.6380154659575846, 'Plio_Up_Vsh55_Anisotropy Factor Permeability': 2.8836650633543517, 'Plio_Up_Vsh55_Scaling Factor': 4.287986765108749, 'Plio_Up_Vsh55_Specific Surface Area': 116626887.24033712, 'Plio_Up_Vsh55_Initial Porosity': 0.5877219156013024, \"Plio_LSandy_Vsh45_Athy's Factor k (depth)\": 0.05389963141841147, 'Plio_LSandy_Vsh45_Anisotropy Factor Permeability': 2.093659142997221, 'Plio_LSandy_Vsh45_Scaling Factor': -3.2408655627138905, 'Plio_LSandy_Vsh45_Specific Surface Area': 90039467.88764387, 'Plio_LSandy_Vsh45_Initial Porosity': 0.5526463310499751, \"Mio_Up_Vsh50_Athy's Factor k (depth)\": 0.2237687717765304, 'Mio_Up_Vsh50_Anisotropy Factor Permeability': 4.051637738352351, 'Mio_Up_Vsh50_Scaling Factor': 6.002643060305054, 'Mio_Up_Vsh50_Specific Surface Area': 102498684.76315086, 'Mio_Up_Vsh50_Initial Porosity': 0.5442557117449761, \"Mio_Sandy0_Vsh36_Athy's Factor k (depth)\": 0.40909727370317783, 'Mio_Sandy0_Vsh36_Anisotropy Factor Permeability': 0.9486130558859555, 'Mio_Sandy0_Vsh36_Scaling Factor': 12.622656771295668, 'Mio_Sandy0_Vsh36_Specific Surface Area': 83748104.67188467, 'Mio_Sandy0_Vsh36_Initial Porosity': 0.47449566129169085, \"Mio_Shaly1_Vsh70_Athy's Factor k (depth)\": 0.6855274954613444, 'Mio_Shaly1_Vsh70_Anisotropy Factor Permeability': 0.7391543420263724, 'Mio_Shaly1_Vsh70_Scaling Factor': -1.4166598470316312, 'Mio_Shaly1_Vsh70_Specific Surface Area': 49063461.58250808, 'Mio_Shaly1_Vsh70_Initial Porosity': 0.6665030147134445, \"Mio_Sandy1_Vsh36_Athy's Factor k (depth)\": 0.7853022977630661, 'Mio_Sandy1_Vsh36_Anisotropy Factor Permeability': 0.3167471898760762, 'Mio_Sandy1_Vsh36_Scaling Factor': 2.8727472786581827, 'Mio_Sandy1_Vsh36_Specific Surface Area': -16847372.273741376, 'Mio_Sandy1_Vsh36_Initial Porosity': 0.471968192064188, \"Mio_Shaly2_Vsh60_Athy's Factor k (depth)\": 0.26730280021032127, 'Mio_Shaly2_Vsh60_Anisotropy Factor Permeability': 3.8591375812664586, 'Mio_Shaly2_Vsh60_Scaling Factor': 8.646625293978582, 'Mio_Shaly2_Vsh60_Specific Surface Area': 105805355.58669013, 'Mio_Shaly2_Vsh60_Initial Porosity': 0.6390374426324714, \"Mio_Lower_Athy's Factor k (depth)\": 0.6592286717001018, 'Mio_Lower_Anisotropy Factor Permeability': 5.005938186445503, 'Mio_Lower_Scaling Factor': 11.429265352065553, 'Mio_Lower_Specific Surface Area': 82075698.72356239, 'Mio_Lower_Initial Porosity': 0.6109471949405185}. Best is trial 30 with value: 0.00034593714626025.\n",
      "[I 2023-07-16 07:58:15,470] Trial 69 finished with value: 0.000612924315476986 and parameters: {\"Pliesto_Surface_Athy's Factor k (depth)\": 0.6078516367414355, 'Pliesto_Surface_Anisotropy Factor Permeability': 4.938174315715989, 'Pliesto_Surface_Scaling Factor': 11.715310276483695, 'Pliesto_Surface_Specific Surface Area': 15847241.25173471, 'Pliesto_Surface_Initial Porosity': 0.4335957717437001, \"Pliesto_Shaly_Vsh60_Athy's Factor k (depth)\": 0.6725817523231531, 'Pliesto_Shaly_Vsh60_Anisotropy Factor Permeability': 2.470365279476268, 'Pliesto_Shaly_Vsh60_Scaling Factor': 7.109079041660372, 'Pliesto_Shaly_Vsh60_Specific Surface Area': 33488294.01393419, 'Pliesto_Shaly_Vsh60_Initial Porosity': 0.6058696153578104, \"Plio_Up_Vsh55_Athy's Factor k (depth)\": 0.6745857898905235, 'Plio_Up_Vsh55_Anisotropy Factor Permeability': 3.2450512029070424, 'Plio_Up_Vsh55_Scaling Factor': 4.845379427238654, 'Plio_Up_Vsh55_Specific Surface Area': 105364744.71160486, 'Plio_Up_Vsh55_Initial Porosity': 0.5781884851312298, \"Plio_LSandy_Vsh45_Athy's Factor k (depth)\": 0.08169007940827944, 'Plio_LSandy_Vsh45_Anisotropy Factor Permeability': 2.187904295023443, 'Plio_LSandy_Vsh45_Scaling Factor': -4.162816025035687, 'Plio_LSandy_Vsh45_Specific Surface Area': 96290156.27760349, 'Plio_LSandy_Vsh45_Initial Porosity': 0.5690463582252048, \"Mio_Up_Vsh50_Athy's Factor k (depth)\": 0.2615018376217329, 'Mio_Up_Vsh50_Anisotropy Factor Permeability': 3.53515788037569, 'Mio_Up_Vsh50_Scaling Factor': 3.8868404314131286, 'Mio_Up_Vsh50_Specific Surface Area': 96706449.82882011, 'Mio_Up_Vsh50_Initial Porosity': 0.5293605314661215, \"Mio_Sandy0_Vsh36_Athy's Factor k (depth)\": 0.29702589197178053, 'Mio_Sandy0_Vsh36_Anisotropy Factor Permeability': 0.2670462835936046, 'Mio_Sandy0_Vsh36_Scaling Factor': 10.77968043581326, 'Mio_Sandy0_Vsh36_Specific Surface Area': 72347061.1173258, 'Mio_Sandy0_Vsh36_Initial Porosity': 0.5156291649999665, \"Mio_Shaly1_Vsh70_Athy's Factor k (depth)\": 0.643025126628669, 'Mio_Shaly1_Vsh70_Anisotropy Factor Permeability': 1.153246140048347, 'Mio_Shaly1_Vsh70_Scaling Factor': -0.760253689464476, 'Mio_Shaly1_Vsh70_Specific Surface Area': 42988994.01593796, 'Mio_Shaly1_Vsh70_Initial Porosity': 0.6415199117668775, \"Mio_Sandy1_Vsh36_Athy's Factor k (depth)\": 0.8972518693889091, 'Mio_Sandy1_Vsh36_Anisotropy Factor Permeability': 0.9150791177954756, 'Mio_Sandy1_Vsh36_Scaling Factor': 4.512566951175002, 'Mio_Sandy1_Vsh36_Specific Surface Area': -2220142.5790846404, 'Mio_Sandy1_Vsh36_Initial Porosity': 0.480928664227937, \"Mio_Shaly2_Vsh60_Athy's Factor k (depth)\": 0.21388642200497474, 'Mio_Shaly2_Vsh60_Anisotropy Factor Permeability': 2.9897355364665703, 'Mio_Shaly2_Vsh60_Scaling Factor': 7.87254199980406, 'Mio_Shaly2_Vsh60_Specific Surface Area': 117102783.36375627, 'Mio_Shaly2_Vsh60_Initial Porosity': 0.6288816598017433, \"Mio_Lower_Athy's Factor k (depth)\": 0.5816187796639366, 'Mio_Lower_Anisotropy Factor Permeability': 5.280216375480635, 'Mio_Lower_Scaling Factor': 10.652589993530423, 'Mio_Lower_Specific Surface Area': 89787966.1921146, 'Mio_Lower_Initial Porosity': 0.6412503657749673}. Best is trial 30 with value: 0.00034593714626025.\n",
      "[I 2023-07-16 07:58:25,318] Trial 70 finished with value: 0.0017513830835541688 and parameters: {\"Pliesto_Surface_Athy's Factor k (depth)\": 0.5416505666781196, 'Pliesto_Surface_Anisotropy Factor Permeability': 4.689253988939979, 'Pliesto_Surface_Scaling Factor': 8.548842354748531, 'Pliesto_Surface_Specific Surface Area': 28820207.447639376, 'Pliesto_Surface_Initial Porosity': 0.45848433703818103, \"Pliesto_Shaly_Vsh60_Athy's Factor k (depth)\": 0.6867077613322474, 'Pliesto_Shaly_Vsh60_Anisotropy Factor Permeability': 1.7585856805854267, 'Pliesto_Shaly_Vsh60_Scaling Factor': 8.959460476301583, 'Pliesto_Shaly_Vsh60_Specific Surface Area': 50164866.97344222, 'Pliesto_Shaly_Vsh60_Initial Porosity': 0.6181336084994654, \"Plio_Up_Vsh55_Athy's Factor k (depth)\": 0.6197811556318714, 'Plio_Up_Vsh55_Anisotropy Factor Permeability': 2.7140392698025755, 'Plio_Up_Vsh55_Scaling Factor': 5.626998192786059, 'Plio_Up_Vsh55_Specific Surface Area': 110189339.46190184, 'Plio_Up_Vsh55_Initial Porosity': 0.5715390098077365, \"Plio_LSandy_Vsh45_Athy's Factor k (depth)\": 0.15434724094684762, 'Plio_LSandy_Vsh45_Anisotropy Factor Permeability': 1.3517067828293838, 'Plio_LSandy_Vsh45_Scaling Factor': -2.6489712771532417, 'Plio_LSandy_Vsh45_Specific Surface Area': 102659288.56396776, 'Plio_LSandy_Vsh45_Initial Porosity': 0.5583739167301688, \"Mio_Up_Vsh50_Athy's Factor k (depth)\": 0.20587263166494302, 'Mio_Up_Vsh50_Anisotropy Factor Permeability': 4.4031381493351045, 'Mio_Up_Vsh50_Scaling Factor': 7.205080277248882, 'Mio_Up_Vsh50_Specific Surface Area': 90515581.9740948, 'Mio_Up_Vsh50_Initial Porosity': 0.5387314027127333, \"Mio_Sandy0_Vsh36_Athy's Factor k (depth)\": 0.3760729040127677, 'Mio_Sandy0_Vsh36_Anisotropy Factor Permeability': 1.4489832226209258, 'Mio_Sandy0_Vsh36_Scaling Factor': 12.878664526835992, 'Mio_Sandy0_Vsh36_Specific Surface Area': 116033086.2112616, 'Mio_Sandy0_Vsh36_Initial Porosity': 0.49727599945801854, \"Mio_Shaly1_Vsh70_Athy's Factor k (depth)\": 0.7139007485183622, 'Mio_Shaly1_Vsh70_Anisotropy Factor Permeability': 0.5888905798617698, 'Mio_Shaly1_Vsh70_Scaling Factor': -2.5245911966741392, 'Mio_Shaly1_Vsh70_Specific Surface Area': 58462612.26686244, 'Mio_Shaly1_Vsh70_Initial Porosity': 0.6494611012749283, \"Mio_Sandy1_Vsh36_Athy's Factor k (depth)\": 0.742264861675956, 'Mio_Sandy1_Vsh36_Anisotropy Factor Permeability': 0.5358256131251612, 'Mio_Sandy1_Vsh36_Scaling Factor': 6.018013460655347, 'Mio_Sandy1_Vsh36_Specific Surface Area': -26122873.19434771, 'Mio_Sandy1_Vsh36_Initial Porosity': 0.46700081853989606, \"Mio_Shaly2_Vsh60_Athy's Factor k (depth)\": 0.3886743274789246, 'Mio_Shaly2_Vsh60_Anisotropy Factor Permeability': 3.5645367590184556, 'Mio_Shaly2_Vsh60_Scaling Factor': 9.204703832690097, 'Mio_Shaly2_Vsh60_Specific Surface Area': 111022456.81819874, 'Mio_Shaly2_Vsh60_Initial Porosity': 0.6439648075644939, \"Mio_Lower_Athy's Factor k (depth)\": 0.5539025016670536, 'Mio_Lower_Anisotropy Factor Permeability': 4.361657909415796, 'Mio_Lower_Scaling Factor': 13.646849175282899, 'Mio_Lower_Specific Surface Area': 100532707.13566676, 'Mio_Lower_Initial Porosity': 0.6276603731776057}. Best is trial 30 with value: 0.00034593714626025.\n",
      "[I 2023-07-16 07:58:34,596] Trial 71 finished with value: 0.0005719284524369856 and parameters: {\"Pliesto_Surface_Athy's Factor k (depth)\": 0.5206115422957109, 'Pliesto_Surface_Anisotropy Factor Permeability': 5.204841781993005, 'Pliesto_Surface_Scaling Factor': 9.621721571031205, 'Pliesto_Surface_Specific Surface Area': 24013485.074087325, 'Pliesto_Surface_Initial Porosity': 0.46822931420191466, \"Pliesto_Shaly_Vsh60_Athy's Factor k (depth)\": 0.730266981102223, 'Pliesto_Shaly_Vsh60_Anisotropy Factor Permeability': 2.161458727001716, 'Pliesto_Shaly_Vsh60_Scaling Factor': 8.381980605209929, 'Pliesto_Shaly_Vsh60_Specific Surface Area': 59441987.61771034, 'Pliesto_Shaly_Vsh60_Initial Porosity': 0.6196118391097456, \"Plio_Up_Vsh55_Athy's Factor k (depth)\": 0.720124353617494, 'Plio_Up_Vsh55_Anisotropy Factor Permeability': 1.9648724061225142, 'Plio_Up_Vsh55_Scaling Factor': 6.2656228113785275, 'Plio_Up_Vsh55_Specific Surface Area': 119790398.79535736, 'Plio_Up_Vsh55_Initial Porosity': 0.5670187856111973, \"Plio_LSandy_Vsh45_Athy's Factor k (depth)\": 0.07285632350234711, 'Plio_LSandy_Vsh45_Anisotropy Factor Permeability': 2.57224946147849, 'Plio_LSandy_Vsh45_Scaling Factor': -3.6005263235232903, 'Plio_LSandy_Vsh45_Specific Surface Area': 106310747.72465979, 'Plio_LSandy_Vsh45_Initial Porosity': 0.5822448751357758, \"Mio_Up_Vsh50_Athy's Factor k (depth)\": 0.25124148726593, 'Mio_Up_Vsh50_Anisotropy Factor Permeability': 3.896912823702634, 'Mio_Up_Vsh50_Scaling Factor': 3.5408705742522675, 'Mio_Up_Vsh50_Specific Surface Area': 79829754.04124476, 'Mio_Up_Vsh50_Initial Porosity': 0.5325292650731058, \"Mio_Sandy0_Vsh36_Athy's Factor k (depth)\": 0.34732101340967103, 'Mio_Sandy0_Vsh36_Anisotropy Factor Permeability': 0.5227314217243741, 'Mio_Sandy0_Vsh36_Scaling Factor': 10.187784077401837, 'Mio_Sandy0_Vsh36_Specific Surface Area': 108828604.83789334, 'Mio_Sandy0_Vsh36_Initial Porosity': 0.5546554260501145, \"Mio_Shaly1_Vsh70_Athy's Factor k (depth)\": 0.5785524259671553, 'Mio_Shaly1_Vsh70_Anisotropy Factor Permeability': 0.946400841705626, 'Mio_Shaly1_Vsh70_Scaling Factor': -3.493575988075733, 'Mio_Shaly1_Vsh70_Specific Surface Area': 51898354.40894988, 'Mio_Shaly1_Vsh70_Initial Porosity': 0.6314783780654375, \"Mio_Sandy1_Vsh36_Athy's Factor k (depth)\": 0.8226308881003791, 'Mio_Sandy1_Vsh36_Anisotropy Factor Permeability': 0.3122705047732165, 'Mio_Sandy1_Vsh36_Scaling Factor': -8.934252049164666, 'Mio_Sandy1_Vsh36_Specific Surface Area': 4646855.587843659, 'Mio_Sandy1_Vsh36_Initial Porosity': 0.46442844636744873, \"Mio_Shaly2_Vsh60_Athy's Factor k (depth)\": 0.2319414172670418, 'Mio_Shaly2_Vsh60_Anisotropy Factor Permeability': 3.3990681528027187, 'Mio_Shaly2_Vsh60_Scaling Factor': 8.354651643260244, 'Mio_Shaly2_Vsh60_Specific Surface Area': 121278325.31370619, 'Mio_Shaly2_Vsh60_Initial Porosity': 0.6307855016963115, \"Mio_Lower_Athy's Factor k (depth)\": 0.7512621653987969, 'Mio_Lower_Anisotropy Factor Permeability': 4.515840935335014, 'Mio_Lower_Scaling Factor': 12.210554524157072, 'Mio_Lower_Specific Surface Area': 89072981.3045342, 'Mio_Lower_Initial Porosity': 0.6062598600198434}. Best is trial 30 with value: 0.00034593714626025.\n",
      "[I 2023-07-16 07:58:43,578] Trial 72 finished with value: 0.0006854132604166978 and parameters: {\"Pliesto_Surface_Athy's Factor k (depth)\": 0.4724762724141012, 'Pliesto_Surface_Anisotropy Factor Permeability': 5.415645122056964, 'Pliesto_Surface_Scaling Factor': 7.578013342415176, 'Pliesto_Surface_Specific Surface Area': 35779728.42275334, 'Pliesto_Surface_Initial Porosity': 0.4764059951361116, \"Pliesto_Shaly_Vsh60_Athy's Factor k (depth)\": 0.7957165978945873, 'Pliesto_Shaly_Vsh60_Anisotropy Factor Permeability': 1.9010219557138952, 'Pliesto_Shaly_Vsh60_Scaling Factor': 8.161312179518575, 'Pliesto_Shaly_Vsh60_Specific Surface Area': 56669308.04150788, 'Pliesto_Shaly_Vsh60_Initial Porosity': 0.6299021484168177, \"Plio_Up_Vsh55_Athy's Factor k (depth)\": 0.6871125127649034, 'Plio_Up_Vsh55_Anisotropy Factor Permeability': 1.7900090369458583, 'Plio_Up_Vsh55_Scaling Factor': 7.144724631698809, 'Plio_Up_Vsh55_Specific Surface Area': 125091769.033617, 'Plio_Up_Vsh55_Initial Porosity': 0.5792180564811152, \"Plio_LSandy_Vsh45_Athy's Factor k (depth)\": 0.03516190275891097, 'Plio_LSandy_Vsh45_Anisotropy Factor Permeability': 2.472757121266495, 'Plio_LSandy_Vsh45_Scaling Factor': -3.721619000385518, 'Plio_LSandy_Vsh45_Specific Surface Area': 102204092.05657181, 'Plio_LSandy_Vsh45_Initial Porosity': 0.5780844908177137, \"Mio_Up_Vsh50_Athy's Factor k (depth)\": 0.24161947650077878, 'Mio_Up_Vsh50_Anisotropy Factor Permeability': 2.2910966686058547, 'Mio_Up_Vsh50_Scaling Factor': 1.9968995084512293, 'Mio_Up_Vsh50_Specific Surface Area': 84652054.18167777, 'Mio_Up_Vsh50_Initial Porosity': 0.5196475272632154, \"Mio_Sandy0_Vsh36_Athy's Factor k (depth)\": 0.2716205406096914, 'Mio_Sandy0_Vsh36_Anisotropy Factor Permeability': 0.605958553084206, 'Mio_Sandy0_Vsh36_Scaling Factor': 11.38721615073895, 'Mio_Sandy0_Vsh36_Specific Surface Area': 100457565.47278774, 'Mio_Sandy0_Vsh36_Initial Porosity': 0.5481037149304625, \"Mio_Shaly1_Vsh70_Athy's Factor k (depth)\": 0.5961477400175439, 'Mio_Shaly1_Vsh70_Anisotropy Factor Permeability': 0.7746664580350793, 'Mio_Shaly1_Vsh70_Scaling Factor': -4.603066576448533, 'Mio_Shaly1_Vsh70_Specific Surface Area': 44088644.420508936, 'Mio_Shaly1_Vsh70_Initial Porosity': 0.6405881005438404, \"Mio_Sandy1_Vsh36_Athy's Factor k (depth)\": 0.7792031268903438, 'Mio_Sandy1_Vsh36_Anisotropy Factor Permeability': 0.7477188755080642, 'Mio_Sandy1_Vsh36_Scaling Factor': -6.861690347680194, 'Mio_Sandy1_Vsh36_Specific Surface Area': -11835841.960045151, 'Mio_Sandy1_Vsh36_Initial Porosity': 0.45401100318209137, \"Mio_Shaly2_Vsh60_Athy's Factor k (depth)\": 0.3034844484031118, 'Mio_Shaly2_Vsh60_Anisotropy Factor Permeability': 3.6573343906958, 'Mio_Shaly2_Vsh60_Scaling Factor': 8.113666055465465, 'Mio_Shaly2_Vsh60_Specific Surface Area': 115018282.84404977, 'Mio_Shaly2_Vsh60_Initial Porosity': 0.6337760175027478, \"Mio_Lower_Athy's Factor k (depth)\": 0.6910372883172234, 'Mio_Lower_Anisotropy Factor Permeability': 4.714719418117935, 'Mio_Lower_Scaling Factor': 11.578294976988348, 'Mio_Lower_Specific Surface Area': 86230135.85657209, 'Mio_Lower_Initial Porosity': 0.5943495792806213}. Best is trial 30 with value: 0.00034593714626025.\n",
      "[I 2023-07-16 07:58:52,838] Trial 73 finished with value: 0.0007083401012820532 and parameters: {\"Pliesto_Surface_Athy's Factor k (depth)\": 0.5773191829745035, 'Pliesto_Surface_Anisotropy Factor Permeability': 4.89123079407732, 'Pliesto_Surface_Scaling Factor': 10.967404590993125, 'Pliesto_Surface_Specific Surface Area': 47019852.66380504, 'Pliesto_Surface_Initial Porosity': 0.45324084825285543, \"Pliesto_Shaly_Vsh60_Athy's Factor k (depth)\": 0.646879937152461, 'Pliesto_Shaly_Vsh60_Anisotropy Factor Permeability': 2.254790982775504, 'Pliesto_Shaly_Vsh60_Scaling Factor': 9.045818009306354, 'Pliesto_Shaly_Vsh60_Specific Surface Area': 46570489.313831, 'Pliesto_Shaly_Vsh60_Initial Porosity': 0.6117334555326294, \"Plio_Up_Vsh55_Athy's Factor k (depth)\": 0.7502922870455292, 'Plio_Up_Vsh55_Anisotropy Factor Permeability': 2.360857891767904, 'Plio_Up_Vsh55_Scaling Factor': 6.037012733999361, 'Plio_Up_Vsh55_Specific Surface Area': 115080875.03427154, 'Plio_Up_Vsh55_Initial Porosity': 0.5635162896798581, \"Plio_LSandy_Vsh45_Athy's Factor k (depth)\": 0.12838264190812315, 'Plio_LSandy_Vsh45_Anisotropy Factor Permeability': 2.361093322482766, 'Plio_LSandy_Vsh45_Scaling Factor': -4.479084836239982, 'Plio_LSandy_Vsh45_Specific Surface Area': 106136392.2552608, 'Plio_LSandy_Vsh45_Initial Porosity': 0.5877135175308824, \"Mio_Up_Vsh50_Athy's Factor k (depth)\": 0.28255540109846505, 'Mio_Up_Vsh50_Anisotropy Factor Permeability': 2.7057999734843223, 'Mio_Up_Vsh50_Scaling Factor': 2.8190328825603572, 'Mio_Up_Vsh50_Specific Surface Area': 70036718.13663253, 'Mio_Up_Vsh50_Initial Porosity': 0.5295819169313706, \"Mio_Sandy0_Vsh36_Athy's Factor k (depth)\": 0.30236886937611773, 'Mio_Sandy0_Vsh36_Anisotropy Factor Permeability': 0.4050557253466476, 'Mio_Sandy0_Vsh36_Scaling Factor': 12.005005911408547, 'Mio_Sandy0_Vsh36_Specific Surface Area': 90653388.7857559, 'Mio_Sandy0_Vsh36_Initial Porosity': 0.5465748079342609, \"Mio_Shaly1_Vsh70_Athy's Factor k (depth)\": 0.6329739704473138, 'Mio_Shaly1_Vsh70_Anisotropy Factor Permeability': 1.4242437207817515, 'Mio_Shaly1_Vsh70_Scaling Factor': -3.939360382270791, 'Mio_Shaly1_Vsh70_Specific Surface Area': 66100832.66473721, 'Mio_Shaly1_Vsh70_Initial Porosity': 0.6338311275130074, \"Mio_Sandy1_Vsh36_Athy's Factor k (depth)\": 0.8400243521446061, 'Mio_Sandy1_Vsh36_Anisotropy Factor Permeability': 0.4571227720529624, 'Mio_Sandy1_Vsh36_Scaling Factor': 2.043918572211019, 'Mio_Sandy1_Vsh36_Specific Surface Area': -19792454.95127151, 'Mio_Sandy1_Vsh36_Initial Porosity': 0.4458372855991121, \"Mio_Shaly2_Vsh60_Athy's Factor k (depth)\": 0.26070354067139984, 'Mio_Shaly2_Vsh60_Anisotropy Factor Permeability': 3.185736228237616, 'Mio_Shaly2_Vsh60_Scaling Factor': 7.273943979348222, 'Mio_Shaly2_Vsh60_Specific Surface Area': 105182601.40524794, 'Mio_Shaly2_Vsh60_Initial Porosity': 0.6240328404155552, \"Mio_Lower_Athy's Factor k (depth)\": 0.7187859377614346, 'Mio_Lower_Anisotropy Factor Permeability': 5.107802983989597, 'Mio_Lower_Scaling Factor': 9.540676283109715, 'Mio_Lower_Specific Surface Area': 96167679.51681097, 'Mio_Lower_Initial Porosity': 0.6216108578041756}. Best is trial 30 with value: 0.00034593714626025.\n",
      "[I 2023-07-16 07:59:02,053] Trial 74 finished with value: 0.002433338502411966 and parameters: {\"Pliesto_Surface_Athy's Factor k (depth)\": 0.543434560910971, 'Pliesto_Surface_Anisotropy Factor Permeability': 5.148357935585765, 'Pliesto_Surface_Scaling Factor': 8.178049400831183, 'Pliesto_Surface_Specific Surface Area': 40644943.9513927, 'Pliesto_Surface_Initial Porosity': 0.4433014662311402, \"Pliesto_Shaly_Vsh60_Athy's Factor k (depth)\": 0.7105517069673244, 'Pliesto_Shaly_Vsh60_Anisotropy Factor Permeability': 1.3595475087160356, 'Pliesto_Shaly_Vsh60_Scaling Factor': 7.6480514870687575, 'Pliesto_Shaly_Vsh60_Specific Surface Area': 66996465.593232825, 'Pliesto_Shaly_Vsh60_Initial Porosity': 0.6217948970858889, \"Plio_Up_Vsh55_Athy's Factor k (depth)\": 0.7236241164178888, 'Plio_Up_Vsh55_Anisotropy Factor Permeability': 1.5312831271408096, 'Plio_Up_Vsh55_Scaling Factor': 5.00511850077283, 'Plio_Up_Vsh55_Specific Surface Area': 119510428.11094885, 'Plio_Up_Vsh55_Initial Porosity': 0.5845687429868042, \"Plio_LSandy_Vsh45_Athy's Factor k (depth)\": 0.09348808905166564, 'Plio_LSandy_Vsh45_Anisotropy Factor Permeability': 2.008935131409595, 'Plio_LSandy_Vsh45_Scaling Factor': -4.7823680650352385, 'Plio_LSandy_Vsh45_Specific Surface Area': 99266865.35171185, 'Plio_LSandy_Vsh45_Initial Porosity': 0.5737000975701406, \"Mio_Up_Vsh50_Athy's Factor k (depth)\": 0.1754179333827553, 'Mio_Up_Vsh50_Anisotropy Factor Permeability': 3.0449869040382294, 'Mio_Up_Vsh50_Scaling Factor': 4.189385740461166, 'Mio_Up_Vsh50_Specific Surface Area': 74492828.7971174, 'Mio_Up_Vsh50_Initial Porosity': 0.5351596651794761, \"Mio_Sandy0_Vsh36_Athy's Factor k (depth)\": 0.23174750501638164, 'Mio_Sandy0_Vsh36_Anisotropy Factor Permeability': 0.7381485882382997, 'Mio_Sandy0_Vsh36_Scaling Factor': 9.176865543560142, 'Mio_Sandy0_Vsh36_Specific Surface Area': 105060503.96044269, 'Mio_Sandy0_Vsh36_Initial Porosity': 0.5412386734516483, \"Mio_Shaly1_Vsh70_Athy's Factor k (depth)\": 0.5901833359374457, 'Mio_Shaly1_Vsh70_Anisotropy Factor Permeability': 1.0840398655795034, 'Mio_Shaly1_Vsh70_Scaling Factor': -3.111575037263736, 'Mio_Shaly1_Vsh70_Specific Surface Area': 53590344.642766856, 'Mio_Shaly1_Vsh70_Initial Porosity': 0.6518961268984718, \"Mio_Sandy1_Vsh36_Athy's Factor k (depth)\": 0.8020789072389122, 'Mio_Sandy1_Vsh36_Anisotropy Factor Permeability': 0.2564474320416924, 'Mio_Sandy1_Vsh36_Scaling Factor': -8.61994150795377, 'Mio_Sandy1_Vsh36_Specific Surface Area': -5045008.190365417, 'Mio_Sandy1_Vsh36_Initial Porosity': 0.4309758036763965, \"Mio_Shaly2_Vsh60_Athy's Factor k (depth)\": 0.1985514614485616, 'Mio_Shaly2_Vsh60_Anisotropy Factor Permeability': 3.5136596970595835, 'Mio_Shaly2_Vsh60_Scaling Factor': 6.3688297140902055, 'Mio_Shaly2_Vsh60_Specific Surface Area': 103700902.88314016, 'Mio_Shaly2_Vsh60_Initial Porosity': 0.6387567534961354, \"Mio_Lower_Athy's Factor k (depth)\": 0.7838394488479815, 'Mio_Lower_Anisotropy Factor Permeability': 4.913030369508808, 'Mio_Lower_Scaling Factor': 10.584646265757387, 'Mio_Lower_Specific Surface Area': 106302486.91298272, 'Mio_Lower_Initial Porosity': 0.6136037776177212}. Best is trial 30 with value: 0.00034593714626025.\n",
      "[I 2023-07-16 07:59:11,097] Trial 75 finished with value: 0.0010386374213412386 and parameters: {\"Pliesto_Surface_Athy's Factor k (depth)\": 0.439865335539098, 'Pliesto_Surface_Anisotropy Factor Permeability': 5.341556668708347, 'Pliesto_Surface_Scaling Factor': 8.996987020361878, 'Pliesto_Surface_Specific Surface Area': 32479717.94408933, 'Pliesto_Surface_Initial Porosity': 0.48812700253477237, \"Pliesto_Shaly_Vsh60_Athy's Factor k (depth)\": 0.7418324413159028, 'Pliesto_Shaly_Vsh60_Anisotropy Factor Permeability': 1.604421865743358, 'Pliesto_Shaly_Vsh60_Scaling Factor': 7.347590759254944, 'Pliesto_Shaly_Vsh60_Specific Surface Area': 54380382.22313689, 'Pliesto_Shaly_Vsh60_Initial Porosity': 0.6265491251973805, \"Plio_Up_Vsh55_Athy's Factor k (depth)\": 0.6516250469725089, 'Plio_Up_Vsh55_Anisotropy Factor Permeability': 1.6876191885534813, 'Plio_Up_Vsh55_Scaling Factor': 3.973819960229468, 'Plio_Up_Vsh55_Specific Surface Area': 122003778.40148982, 'Plio_Up_Vsh55_Initial Porosity': 0.5909017590755169, \"Plio_LSandy_Vsh45_Athy's Factor k (depth)\": 0.057253917860127304, 'Plio_LSandy_Vsh45_Anisotropy Factor Permeability': 1.780494192629531, 'Plio_LSandy_Vsh45_Scaling Factor': -3.108067382297335, 'Plio_LSandy_Vsh45_Specific Surface Area': 84979790.04269889, 'Plio_LSandy_Vsh45_Initial Porosity': 0.583601368373384, \"Mio_Up_Vsh50_Athy's Factor k (depth)\": 0.29781502472253685, 'Mio_Up_Vsh50_Anisotropy Factor Permeability': 3.3204767767489285, 'Mio_Up_Vsh50_Scaling Factor': 1.0724949486321516, 'Mio_Up_Vsh50_Specific Surface Area': 77249997.02419096, 'Mio_Up_Vsh50_Initial Porosity': 0.5207322157445785, \"Mio_Sandy0_Vsh36_Athy's Factor k (depth)\": 0.33101076931618373, 'Mio_Sandy0_Vsh36_Anisotropy Factor Permeability': 1.1825560418403878, 'Mio_Sandy0_Vsh36_Scaling Factor': 10.331126160091088, 'Mio_Sandy0_Vsh36_Specific Surface Area': 115835324.84236495, 'Mio_Sandy0_Vsh36_Initial Porosity': 0.4876426554210888, \"Mio_Shaly1_Vsh70_Athy's Factor k (depth)\": 0.6678576900127915, 'Mio_Shaly1_Vsh70_Anisotropy Factor Permeability': 1.7738540014689148, 'Mio_Shaly1_Vsh70_Scaling Factor': -3.844611391215754, 'Mio_Shaly1_Vsh70_Specific Surface Area': 62501134.855490446, 'Mio_Shaly1_Vsh70_Initial Porosity': 0.657182692092411, \"Mio_Sandy1_Vsh36_Athy's Factor k (depth)\": 0.7498156364303178, 'Mio_Sandy1_Vsh36_Anisotropy Factor Permeability': 0.8616539335003439, 'Mio_Sandy1_Vsh36_Scaling Factor': -7.205832016826246, 'Mio_Sandy1_Vsh36_Specific Surface Area': -210245.94813192263, 'Mio_Sandy1_Vsh36_Initial Porosity': 0.4599867674361362, \"Mio_Shaly2_Vsh60_Athy's Factor k (depth)\": 0.2829037521699016, 'Mio_Shaly2_Vsh60_Anisotropy Factor Permeability': 3.7167953168376866, 'Mio_Shaly2_Vsh60_Scaling Factor': 5.666180973061225, 'Mio_Shaly2_Vsh60_Specific Surface Area': 108545438.68232644, 'Mio_Shaly2_Vsh60_Initial Porosity': 0.6222721540641549, \"Mio_Lower_Athy's Factor k (depth)\": 0.7305556415173973, 'Mio_Lower_Anisotropy Factor Permeability': 5.413497384921107, 'Mio_Lower_Scaling Factor': 12.703492638774396, 'Mio_Lower_Specific Surface Area': 78632900.37132522, 'Mio_Lower_Initial Porosity': 0.6027786999030813}. Best is trial 30 with value: 0.00034593714626025.\n",
      "[I 2023-07-16 07:59:20,213] Trial 76 finished with value: 0.0007111572778467357 and parameters: {\"Pliesto_Surface_Athy's Factor k (depth)\": 0.504035390932701, 'Pliesto_Surface_Anisotropy Factor Permeability': 5.572554979782801, 'Pliesto_Surface_Scaling Factor': 6.5070812811681265, 'Pliesto_Surface_Specific Surface Area': 40344303.1665167, 'Pliesto_Surface_Initial Porosity': 0.4685893211696215, \"Pliesto_Shaly_Vsh60_Athy's Factor k (depth)\": 0.7808055124914813, 'Pliesto_Shaly_Vsh60_Anisotropy Factor Permeability': 2.4342740650638843, 'Pliesto_Shaly_Vsh60_Scaling Factor': 8.359907909336643, 'Pliesto_Shaly_Vsh60_Specific Surface Area': 60701767.603724785, 'Pliesto_Shaly_Vsh60_Initial Porosity': 0.6160763132693594, \"Plio_Up_Vsh55_Athy's Factor k (depth)\": 0.7798650052296338, 'Plio_Up_Vsh55_Anisotropy Factor Permeability': 1.4757975549749782, 'Plio_Up_Vsh55_Scaling Factor': 5.6239427694690605, 'Plio_Up_Vsh55_Specific Surface Area': 115551167.38480252, 'Plio_Up_Vsh55_Initial Porosity': 0.5715540606267604, \"Plio_LSandy_Vsh45_Athy's Factor k (depth)\": 0.1917999209417094, 'Plio_LSandy_Vsh45_Anisotropy Factor Permeability': 2.8391662841172707, 'Plio_LSandy_Vsh45_Scaling Factor': -3.7860935092752954, 'Plio_LSandy_Vsh45_Specific Surface Area': 93867801.46742354, 'Plio_LSandy_Vsh45_Initial Porosity': 0.5721590280414977, \"Mio_Up_Vsh50_Athy's Factor k (depth)\": 0.22358291749884646, 'Mio_Up_Vsh50_Anisotropy Factor Permeability': 2.87434984667098, 'Mio_Up_Vsh50_Scaling Factor': 3.405311977391071, 'Mio_Up_Vsh50_Specific Surface Area': 87957870.18712606, 'Mio_Up_Vsh50_Initial Porosity': 0.52719787012286, \"Mio_Sandy0_Vsh36_Athy's Factor k (depth)\": 0.35067148796165987, 'Mio_Sandy0_Vsh36_Anisotropy Factor Permeability': 0.25083424157632705, 'Mio_Sandy0_Vsh36_Scaling Factor': 13.494826652313105, 'Mio_Sandy0_Vsh36_Specific Surface Area': 93796263.40493083, 'Mio_Sandy0_Vsh36_Initial Porosity': 0.5348410122351435, \"Mio_Shaly1_Vsh70_Athy's Factor k (depth)\": 0.6154678529764503, 'Mio_Shaly1_Vsh70_Anisotropy Factor Permeability': 1.299997409091015, 'Mio_Shaly1_Vsh70_Scaling Factor': -4.450896156879665, 'Mio_Shaly1_Vsh70_Specific Surface Area': 57140151.676152036, 'Mio_Shaly1_Vsh70_Initial Porosity': 0.6279546481487422, \"Mio_Sandy1_Vsh36_Athy's Factor k (depth)\": 0.7289982502839629, 'Mio_Sandy1_Vsh36_Anisotropy Factor Permeability': 0.10747554581983743, 'Mio_Sandy1_Vsh36_Scaling Factor': -5.25639113537461, 'Mio_Sandy1_Vsh36_Specific Surface Area': -11864868.252884997, 'Mio_Sandy1_Vsh36_Initial Porosity': 0.43838837194458297, \"Mio_Shaly2_Vsh60_Athy's Factor k (depth)\": 0.3192877304512436, 'Mio_Shaly2_Vsh60_Anisotropy Factor Permeability': 3.8237502223641338, 'Mio_Shaly2_Vsh60_Scaling Factor': 5.087767798261877, 'Mio_Shaly2_Vsh60_Specific Surface Area': 121858319.44741975, 'Mio_Shaly2_Vsh60_Initial Porosity': 0.6159545425516446, \"Mio_Lower_Athy's Factor k (depth)\": 0.7526889345660397, 'Mio_Lower_Anisotropy Factor Permeability': 4.213286288504553, 'Mio_Lower_Scaling Factor': 13.708285371402116, 'Mio_Lower_Specific Surface Area': 101847873.95474091, 'Mio_Lower_Initial Porosity': 0.635024552193137}. Best is trial 30 with value: 0.00034593714626025.\n",
      "[I 2023-07-16 07:59:31,554] Trial 77 finished with value: 0.0017317957919151597 and parameters: {\"Pliesto_Surface_Athy's Factor k (depth)\": 0.5354536859870681, 'Pliesto_Surface_Anisotropy Factor Permeability': 5.706168051821472, 'Pliesto_Surface_Scaling Factor': 10.077390749334, 'Pliesto_Surface_Specific Surface Area': 48997438.11624455, 'Pliesto_Surface_Initial Porosity': 0.4793552843636084, \"Pliesto_Shaly_Vsh60_Athy's Factor k (depth)\": 0.6090470687581365, 'Pliesto_Shaly_Vsh60_Anisotropy Factor Permeability': 1.851264893646313, 'Pliesto_Shaly_Vsh60_Scaling Factor': 9.134917310468088, 'Pliesto_Shaly_Vsh60_Specific Surface Area': 71889193.33674303, 'Pliesto_Shaly_Vsh60_Initial Porosity': 0.5968074752132283, \"Plio_Up_Vsh55_Athy's Factor k (depth)\": 0.7550922998154292, 'Plio_Up_Vsh55_Anisotropy Factor Permeability': 2.2318497053173543, 'Plio_Up_Vsh55_Scaling Factor': 6.577615164214826, 'Plio_Up_Vsh55_Specific Surface Area': 108164080.4516864, 'Plio_Up_Vsh55_Initial Porosity': 0.5549699518369252, \"Plio_LSandy_Vsh45_Athy's Factor k (depth)\": 0.029479927432949263, 'Plio_LSandy_Vsh45_Anisotropy Factor Permeability': 2.6321876316347064, 'Plio_LSandy_Vsh45_Scaling Factor': -1.8592542797127398, 'Plio_LSandy_Vsh45_Specific Surface Area': 109392898.993811, 'Plio_LSandy_Vsh45_Initial Porosity': 0.5811630660088999, \"Mio_Up_Vsh50_Athy's Factor k (depth)\": 0.24503840208631564, 'Mio_Up_Vsh50_Anisotropy Factor Permeability': 3.4541007505359262, 'Mio_Up_Vsh50_Scaling Factor': 2.4935695947805807, 'Mio_Up_Vsh50_Specific Surface Area': 81437779.4349028, 'Mio_Up_Vsh50_Initial Porosity': 0.5565527884901048, \"Mio_Sandy0_Vsh36_Athy's Factor k (depth)\": 0.2460260755837864, 'Mio_Sandy0_Vsh36_Anisotropy Factor Permeability': 0.9438459844363846, 'Mio_Sandy0_Vsh36_Scaling Factor': 6.974086177539683, 'Mio_Sandy0_Vsh36_Specific Surface Area': 98826881.78142971, 'Mio_Sandy0_Vsh36_Initial Porosity': 0.5637629636906978, \"Mio_Shaly1_Vsh70_Athy's Factor k (depth)\": 0.5560447134640844, 'Mio_Shaly1_Vsh70_Anisotropy Factor Permeability': 1.6254251110795574, 'Mio_Shaly1_Vsh70_Scaling Factor': -0.44309994135965525, 'Mio_Shaly1_Vsh70_Specific Surface Area': 40901147.625333756, 'Mio_Shaly1_Vsh70_Initial Porosity': 0.6466445037185724, \"Mio_Sandy1_Vsh36_Athy's Factor k (depth)\": 0.8760643948239486, 'Mio_Sandy1_Vsh36_Anisotropy Factor Permeability': 0.6226252185538155, 'Mio_Sandy1_Vsh36_Scaling Factor': -5.914585490541881, 'Mio_Sandy1_Vsh36_Specific Surface Area': -28847644.768674843, 'Mio_Sandy1_Vsh36_Initial Porosity': 0.4460117748399046, \"Mio_Shaly2_Vsh60_Athy's Factor k (depth)\": 0.2519958567813813, 'Mio_Shaly2_Vsh60_Anisotropy Factor Permeability': 3.479360870254769, 'Mio_Shaly2_Vsh60_Scaling Factor': 9.472941635724736, 'Mio_Shaly2_Vsh60_Specific Surface Area': 113293274.37202248, 'Mio_Shaly2_Vsh60_Initial Porosity': 0.6301945294206864, \"Mio_Lower_Athy's Factor k (depth)\": 0.6374891981063239, 'Mio_Lower_Anisotropy Factor Permeability': 4.5488746050909805, 'Mio_Lower_Scaling Factor': 10.087557550998957, 'Mio_Lower_Specific Surface Area': 74725548.26210766, 'Mio_Lower_Initial Porosity': 0.5733423235021889}. Best is trial 30 with value: 0.00034593714626025.\n",
      "[I 2023-07-16 07:59:43,577] Trial 78 finished with value: 0.0011803327575068395 and parameters: {\"Pliesto_Surface_Athy's Factor k (depth)\": 0.48754603508913774, 'Pliesto_Surface_Anisotropy Factor Permeability': 5.153735538398737, 'Pliesto_Surface_Scaling Factor': 7.268615455423727, 'Pliesto_Surface_Specific Surface Area': 26492309.692331996, 'Pliesto_Surface_Initial Porosity': 0.4587911221655152, \"Pliesto_Shaly_Vsh60_Athy's Factor k (depth)\": 0.7612177142669044, 'Pliesto_Shaly_Vsh60_Anisotropy Factor Permeability': 2.0588560418845017, 'Pliesto_Shaly_Vsh60_Scaling Factor': 6.176524591929784, 'Pliesto_Shaly_Vsh60_Specific Surface Area': 48637735.76194753, 'Pliesto_Shaly_Vsh60_Initial Porosity': 0.6087951537379369, \"Plio_Up_Vsh55_Athy's Factor k (depth)\": 0.7051093122327735, 'Plio_Up_Vsh55_Anisotropy Factor Permeability': 2.4677625644529058, 'Plio_Up_Vsh55_Scaling Factor': 4.559278112410618, 'Plio_Up_Vsh55_Specific Surface Area': 111780716.59009564, 'Plio_Up_Vsh55_Initial Porosity': 0.5621530439160023, \"Plio_LSandy_Vsh45_Athy's Factor k (depth)\": 0.0005645552541300031, 'Plio_LSandy_Vsh45_Anisotropy Factor Permeability': 2.1141110950464914, 'Plio_LSandy_Vsh45_Scaling Factor': -2.3514946204526312, 'Plio_LSandy_Vsh45_Specific Surface Area': 100411872.44855608, 'Plio_LSandy_Vsh45_Initial Porosity': 0.5677496828044979, \"Mio_Up_Vsh50_Athy's Factor k (depth)\": 0.3231768523971875, 'Mio_Up_Vsh50_Anisotropy Factor Permeability': 2.2042601635101513, 'Mio_Up_Vsh50_Scaling Factor': 1.8083304188218028, 'Mio_Up_Vsh50_Specific Surface Area': 73677402.54333194, 'Mio_Up_Vsh50_Initial Porosity': 0.5155628181938477, \"Mio_Sandy0_Vsh36_Athy's Factor k (depth)\": 0.279694388579446, 'Mio_Sandy0_Vsh36_Anisotropy Factor Permeability': 0.5900467115900478, 'Mio_Sandy0_Vsh36_Scaling Factor': 11.854909196906334, 'Mio_Sandy0_Vsh36_Specific Surface Area': 109621462.14865303, 'Mio_Sandy0_Vsh36_Initial Porosity': 0.51292998744605, \"Mio_Shaly1_Vsh70_Athy's Factor k (depth)\": 0.6863607088799818, 'Mio_Shaly1_Vsh70_Anisotropy Factor Permeability': 0.8671094125608024, 'Mio_Shaly1_Vsh70_Scaling Factor': -2.0160026591523703, 'Mio_Shaly1_Vsh70_Specific Surface Area': 70187257.71987477, 'Mio_Shaly1_Vsh70_Initial Porosity': 0.6348603758215714, \"Mio_Sandy1_Vsh36_Athy's Factor k (depth)\": 0.6861651065976988, 'Mio_Sandy1_Vsh36_Anisotropy Factor Permeability': 1.1287008127267197, 'Mio_Sandy1_Vsh36_Scaling Factor': -7.56642611241238, 'Mio_Sandy1_Vsh36_Specific Surface Area': 5627202.854588557, 'Mio_Sandy1_Vsh36_Initial Porosity': 0.48804469913065923, \"Mio_Shaly2_Vsh60_Athy's Factor k (depth)\": 0.34221905448151096, 'Mio_Shaly2_Vsh60_Anisotropy Factor Permeability': 3.284115223801922, 'Mio_Shaly2_Vsh60_Scaling Factor': 7.542866496966392, 'Mio_Shaly2_Vsh60_Specific Surface Area': 126455459.24076906, 'Mio_Shaly2_Vsh60_Initial Porosity': 0.6342167429440635, \"Mio_Lower_Athy's Factor k (depth)\": 0.6678370475576276, 'Mio_Lower_Anisotropy Factor Permeability': 4.892286696563348, 'Mio_Lower_Scaling Factor': 11.790947994406318, 'Mio_Lower_Specific Surface Area': 93820256.52019906, 'Mio_Lower_Initial Porosity': 0.6464342105706102}. Best is trial 30 with value: 0.00034593714626025.\n",
      "[I 2023-07-16 07:59:55,397] Trial 79 finished with value: 0.004018990140536279 and parameters: {\"Pliesto_Surface_Athy's Factor k (depth)\": 0.5638340507052165, 'Pliesto_Surface_Anisotropy Factor Permeability': 5.9541292648220825, 'Pliesto_Surface_Scaling Factor': 5.245984869777614, 'Pliesto_Surface_Specific Surface Area': 20598615.918168962, 'Pliesto_Surface_Initial Porosity': 0.44817782910121595, \"Pliesto_Shaly_Vsh60_Athy's Factor k (depth)\": 0.6875271088562067, 'Pliesto_Shaly_Vsh60_Anisotropy Factor Permeability': 1.1590874453053768, 'Pliesto_Shaly_Vsh60_Scaling Factor': 6.7479257008491285, 'Pliesto_Shaly_Vsh60_Specific Surface Area': 64770811.40703874, 'Pliesto_Shaly_Vsh60_Initial Porosity': 0.6399632619766732, \"Plio_Up_Vsh55_Athy's Factor k (depth)\": 0.5993824991440835, 'Plio_Up_Vsh55_Anisotropy Factor Permeability': 2.1049482751178554, 'Plio_Up_Vsh55_Scaling Factor': 3.3314755125425144, 'Plio_Up_Vsh55_Specific Surface Area': 121845971.08649816, 'Plio_Up_Vsh55_Initial Porosity': 0.5778414432518582, \"Plio_LSandy_Vsh45_Athy's Factor k (depth)\": 0.11035423541271214, 'Plio_LSandy_Vsh45_Anisotropy Factor Permeability': 2.275790995144754, 'Plio_LSandy_Vsh45_Scaling Factor': -3.2149129042233975, 'Plio_LSandy_Vsh45_Specific Surface Area': 79698225.29518494, 'Plio_LSandy_Vsh45_Initial Porosity': 0.5618306958903847, \"Mio_Up_Vsh50_Athy's Factor k (depth)\": 0.1947435420849497, 'Mio_Up_Vsh50_Anisotropy Factor Permeability': 2.4053909255711607, 'Mio_Up_Vsh50_Scaling Factor': 0.11195748226752311, 'Mio_Up_Vsh50_Specific Surface Area': 93951037.56441142, 'Mio_Up_Vsh50_Initial Porosity': 0.5405647192864593, \"Mio_Sandy0_Vsh36_Athy's Factor k (depth)\": 0.1950118399337975, 'Mio_Sandy0_Vsh36_Anisotropy Factor Permeability': 0.3222783969473691, 'Mio_Sandy0_Vsh36_Scaling Factor': 10.889445915478083, 'Mio_Sandy0_Vsh36_Specific Surface Area': 126411940.04422398, 'Mio_Sandy0_Vsh36_Initial Porosity': 0.5029080275077437, \"Mio_Shaly1_Vsh70_Athy's Factor k (depth)\": 0.6504588382424538, 'Mio_Shaly1_Vsh70_Anisotropy Factor Permeability': 0.1483431189612836, 'Mio_Shaly1_Vsh70_Scaling Factor': -3.8611811756510512, 'Mio_Shaly1_Vsh70_Specific Surface Area': 49376379.70255571, 'Mio_Shaly1_Vsh70_Initial Porosity': 0.6216670286835376, \"Mio_Sandy1_Vsh36_Athy's Factor k (depth)\": 0.7675620821819003, 'Mio_Sandy1_Vsh36_Anisotropy Factor Permeability': 0.4517335785200617, 'Mio_Sandy1_Vsh36_Scaling Factor': -6.270051169934236, 'Mio_Sandy1_Vsh36_Specific Surface Area': 11435745.834209535, 'Mio_Sandy1_Vsh36_Initial Porosity': 0.47467469955077707, \"Mio_Shaly2_Vsh60_Athy's Factor k (depth)\": 0.23044906066447335, 'Mio_Shaly2_Vsh60_Anisotropy Factor Permeability': 3.9303906928213115, 'Mio_Shaly2_Vsh60_Scaling Factor': 8.203822998828922, 'Mio_Shaly2_Vsh60_Specific Surface Area': 99852980.06100865, 'Mio_Shaly2_Vsh60_Initial Porosity': 0.6052183698774626, \"Mio_Lower_Athy's Factor k (depth)\": 0.7159283498183242, 'Mio_Lower_Anisotropy Factor Permeability': 4.7309444485182786, 'Mio_Lower_Scaling Factor': 8.730313067505532, 'Mio_Lower_Specific Surface Area': 84816973.9837779, 'Mio_Lower_Initial Porosity': 0.5983295861519621}. Best is trial 30 with value: 0.00034593714626025.\n",
      "[I 2023-07-16 08:00:04,271] Trial 80 finished with value: 0.003378327142614772 and parameters: {\"Pliesto_Surface_Athy's Factor k (depth)\": 0.5929252763345655, 'Pliesto_Surface_Anisotropy Factor Permeability': 4.933259916872567, 'Pliesto_Surface_Scaling Factor': 12.493152622585885, 'Pliesto_Surface_Specific Surface Area': 34163455.75494016, 'Pliesto_Surface_Initial Porosity': 0.4748289831648531, \"Pliesto_Shaly_Vsh60_Athy's Factor k (depth)\": 0.8314633421828034, 'Pliesto_Shaly_Vsh60_Anisotropy Factor Permeability': 1.6768475481414444, 'Pliesto_Shaly_Vsh60_Scaling Factor': 8.421609358847459, 'Pliesto_Shaly_Vsh60_Specific Surface Area': 51722847.34642884, 'Pliesto_Shaly_Vsh60_Initial Porosity': 0.6319356494741813, \"Plio_Up_Vsh55_Athy's Factor k (depth)\": 0.6543993928225937, 'Plio_Up_Vsh55_Anisotropy Factor Permeability': 2.651894876779957, 'Plio_Up_Vsh55_Scaling Factor': 2.6277036261126, 'Plio_Up_Vsh55_Specific Surface Area': 116936842.52827585, 'Plio_Up_Vsh55_Initial Porosity': 0.6074442558591828, \"Plio_LSandy_Vsh45_Athy's Factor k (depth)\": 0.0833111584062839, 'Plio_LSandy_Vsh45_Anisotropy Factor Permeability': 1.5914699631585203, 'Plio_LSandy_Vsh45_Scaling Factor': -4.019897791338908, 'Plio_LSandy_Vsh45_Specific Surface Area': 97200115.2172464, 'Plio_LSandy_Vsh45_Initial Porosity': 0.5885357189309498, \"Mio_Up_Vsh50_Athy's Factor k (depth)\": 0.167765382309483, 'Mio_Up_Vsh50_Anisotropy Factor Permeability': 3.2115918168504334, 'Mio_Up_Vsh50_Scaling Factor': 4.469941277812771, 'Mio_Up_Vsh50_Specific Surface Area': 68874941.71067302, 'Mio_Up_Vsh50_Initial Porosity': 0.5232956878126546, \"Mio_Sandy0_Vsh36_Athy's Factor k (depth)\": 0.21543904473975273, 'Mio_Sandy0_Vsh36_Anisotropy Factor Permeability': 1.3174126128722103, 'Mio_Sandy0_Vsh36_Scaling Factor': 14.432061618778423, 'Mio_Sandy0_Vsh36_Specific Surface Area': 81948170.78602165, 'Mio_Sandy0_Vsh36_Initial Porosity': 0.5290354514376908, \"Mio_Shaly1_Vsh70_Athy's Factor k (depth)\": 0.5827900707148853, 'Mio_Shaly1_Vsh70_Anisotropy Factor Permeability': 1.1417149451056088, 'Mio_Shaly1_Vsh70_Scaling Factor': -5.104885498482084, 'Mio_Shaly1_Vsh70_Specific Surface Area': 36981328.547800384, 'Mio_Shaly1_Vsh70_Initial Porosity': 0.6154431801056836, \"Mio_Sandy1_Vsh36_Athy's Factor k (depth)\": 0.8531396220001877, 'Mio_Sandy1_Vsh36_Anisotropy Factor Permeability': 0.7606657504930967, 'Mio_Sandy1_Vsh36_Scaling Factor': -8.57439946005739, 'Mio_Sandy1_Vsh36_Specific Surface Area': -23495810.11860421, 'Mio_Sandy1_Vsh36_Initial Porosity': 0.45365340795443176, \"Mio_Shaly2_Vsh60_Athy's Factor k (depth)\": 0.20450303123265104, 'Mio_Shaly2_Vsh60_Anisotropy Factor Permeability': 2.8221975258064282, 'Mio_Shaly2_Vsh60_Scaling Factor': 8.88210297179833, 'Mio_Shaly2_Vsh60_Specific Surface Area': 111075957.97033444, 'Mio_Shaly2_Vsh60_Initial Porosity': 0.6246285342318662, \"Mio_Lower_Athy's Factor k (depth)\": 0.7865044757562943, 'Mio_Lower_Anisotropy Factor Permeability': 4.04052541892734, 'Mio_Lower_Scaling Factor': 9.20685029663974, 'Mio_Lower_Specific Surface Area': 109413568.2130716, 'Mio_Lower_Initial Porosity': 0.657173455961449}. Best is trial 30 with value: 0.00034593714626025.\n",
      "[I 2023-07-16 08:00:13,189] Trial 81 finished with value: 0.0005101612871696975 and parameters: {\"Pliesto_Surface_Athy's Factor k (depth)\": 0.5531906053321297, 'Pliesto_Surface_Anisotropy Factor Permeability': 5.1971236769915246, 'Pliesto_Surface_Scaling Factor': 7.672362840648607, 'Pliesto_Surface_Specific Surface Area': 20823564.827226803, 'Pliesto_Surface_Initial Porosity': 0.45690942356569036, \"Pliesto_Shaly_Vsh60_Athy's Factor k (depth)\": 0.7031624038280802, 'Pliesto_Shaly_Vsh60_Anisotropy Factor Permeability': 2.015138800310303, 'Pliesto_Shaly_Vsh60_Scaling Factor': 5.653214170238336, 'Pliesto_Shaly_Vsh60_Specific Surface Area': 57933544.083953805, 'Pliesto_Shaly_Vsh60_Initial Porosity': 0.6125538941177892, \"Plio_Up_Vsh55_Athy's Factor k (depth)\": 0.6861277467108367, 'Plio_Up_Vsh55_Anisotropy Factor Permeability': 2.1664925976935585, 'Plio_Up_Vsh55_Scaling Factor': 4.068083917111218, 'Plio_Up_Vsh55_Specific Surface Area': 118468668.27597453, 'Plio_Up_Vsh55_Initial Porosity': 0.5653920611136133, \"Plio_LSandy_Vsh45_Athy's Factor k (depth)\": 0.15507557707344463, 'Plio_LSandy_Vsh45_Anisotropy Factor Permeability': 2.222697556420558, 'Plio_LSandy_Vsh45_Scaling Factor': -4.725985890461869, 'Plio_LSandy_Vsh45_Specific Surface Area': 103918606.56639235, 'Plio_LSandy_Vsh45_Initial Porosity': 0.5779149902061037, \"Mio_Up_Vsh50_Athy's Factor k (depth)\": 0.23548098211871057, 'Mio_Up_Vsh50_Anisotropy Factor Permeability': 3.61729084736121, 'Mio_Up_Vsh50_Scaling Factor': 5.794274239030125, 'Mio_Up_Vsh50_Specific Surface Area': 92167451.33591029, 'Mio_Up_Vsh50_Initial Porosity': 0.532425236083088, \"Mio_Sandy0_Vsh36_Athy's Factor k (depth)\": 0.3276034140401826, 'Mio_Sandy0_Vsh36_Anisotropy Factor Permeability': 0.37957738108155864, 'Mio_Sandy0_Vsh36_Scaling Factor': 13.112901391413335, 'Mio_Sandy0_Vsh36_Specific Surface Area': 93944163.59937437, 'Mio_Sandy0_Vsh36_Initial Porosity': 0.5256810731632419, \"Mio_Shaly1_Vsh70_Athy's Factor k (depth)\": 0.6190835744725219, 'Mio_Shaly1_Vsh70_Anisotropy Factor Permeability': 1.2271420281758783, 'Mio_Shaly1_Vsh70_Scaling Factor': -1.000337550776164, 'Mio_Shaly1_Vsh70_Specific Surface Area': 56310674.142717786, 'Mio_Shaly1_Vsh70_Initial Porosity': 0.663154436447472, \"Mio_Sandy1_Vsh36_Athy's Factor k (depth)\": 0.8025485748945302, 'Mio_Sandy1_Vsh36_Anisotropy Factor Permeability': 0.20166568215642197, 'Mio_Sandy1_Vsh36_Scaling Factor': 2.859784926901657, 'Mio_Sandy1_Vsh36_Specific Surface Area': -12407190.437281333, 'Mio_Sandy1_Vsh36_Initial Porosity': 0.44982831735203166, \"Mio_Shaly2_Vsh60_Athy's Factor k (depth)\": 0.31095789404424845, 'Mio_Shaly2_Vsh60_Anisotropy Factor Permeability': 3.6807164849204375, 'Mio_Shaly2_Vsh60_Scaling Factor': 8.542097852762451, 'Mio_Shaly2_Vsh60_Specific Surface Area': 117334975.30410652, 'Mio_Shaly2_Vsh60_Initial Porosity': 0.6074811788486643, \"Mio_Lower_Athy's Factor k (depth)\": 0.7375342429295975, 'Mio_Lower_Anisotropy Factor Permeability': 4.716526563491127, 'Mio_Lower_Scaling Factor': 12.322228036756348, 'Mio_Lower_Specific Surface Area': 93664068.85389124, 'Mio_Lower_Initial Porosity': 0.6238017272740257}. Best is trial 30 with value: 0.00034593714626025.\n",
      "[I 2023-07-16 08:00:22,420] Trial 82 finished with value: 0.0007337801333582158 and parameters: {\"Pliesto_Surface_Athy's Factor k (depth)\": 0.5291513464261702, 'Pliesto_Surface_Anisotropy Factor Permeability': 5.330223900133467, 'Pliesto_Surface_Scaling Factor': 7.914112322050264, 'Pliesto_Surface_Specific Surface Area': 15952766.18723768, 'Pliesto_Surface_Initial Porosity': 0.4626408692895047, \"Pliesto_Shaly_Vsh60_Athy's Factor k (depth)\": 0.7147503702483905, 'Pliesto_Shaly_Vsh60_Anisotropy Factor Permeability': 2.2362412061845567, 'Pliesto_Shaly_Vsh60_Scaling Factor': 7.739198834248194, 'Pliesto_Shaly_Vsh60_Specific Surface Area': 57879238.17099071, 'Pliesto_Shaly_Vsh60_Initial Porosity': 0.6047347696170422, \"Plio_Up_Vsh55_Athy's Factor k (depth)\": 0.6772215370594539, 'Plio_Up_Vsh55_Anisotropy Factor Permeability': 1.9238933947374204, 'Plio_Up_Vsh55_Scaling Factor': 5.1157945949764, 'Plio_Up_Vsh55_Specific Surface Area': 119538586.074522, 'Plio_Up_Vsh55_Initial Porosity': 0.570943399582715, \"Plio_LSandy_Vsh45_Athy's Factor k (depth)\": 0.158799902314371, 'Plio_LSandy_Vsh45_Anisotropy Factor Permeability': 2.438287523731004, 'Plio_LSandy_Vsh45_Scaling Factor': -4.432351805233043, 'Plio_LSandy_Vsh45_Specific Surface Area': 104811902.21875465, 'Plio_LSandy_Vsh45_Initial Porosity': 0.5786928218181989, \"Mio_Up_Vsh50_Athy's Factor k (depth)\": 0.26597923769009835, 'Mio_Up_Vsh50_Anisotropy Factor Permeability': 3.692724482842251, 'Mio_Up_Vsh50_Scaling Factor': 5.176939001929333, 'Mio_Up_Vsh50_Specific Surface Area': 84337177.65794224, 'Mio_Up_Vsh50_Initial Porosity': 0.5333872392170391, \"Mio_Sandy0_Vsh36_Athy's Factor k (depth)\": 0.3115459928048207, 'Mio_Sandy0_Vsh36_Anisotropy Factor Permeability': 0.7399259660253444, 'Mio_Sandy0_Vsh36_Scaling Factor': 12.47445410374423, 'Mio_Sandy0_Vsh36_Specific Surface Area': 103137156.22207262, 'Mio_Sandy0_Vsh36_Initial Porosity': 0.5225479753796273, \"Mio_Shaly1_Vsh70_Athy's Factor k (depth)\": 0.6050582766282612, 'Mio_Shaly1_Vsh70_Anisotropy Factor Permeability': 1.3861206261202783, 'Mio_Shaly1_Vsh70_Scaling Factor': -1.1181107251532252, 'Mio_Shaly1_Vsh70_Specific Surface Area': 53897724.90635744, 'Mio_Shaly1_Vsh70_Initial Porosity': 0.6606229769890574, \"Mio_Sandy1_Vsh36_Athy's Factor k (depth)\": 0.8248442062710873, 'Mio_Sandy1_Vsh36_Anisotropy Factor Permeability': 0.3077868837151245, 'Mio_Sandy1_Vsh36_Scaling Factor': 1.9779271175819892, 'Mio_Sandy1_Vsh36_Specific Surface Area': -7798069.570834145, 'Mio_Sandy1_Vsh36_Initial Porosity': 0.4627961031692705, \"Mio_Shaly2_Vsh60_Athy's Factor k (depth)\": 0.3117413497352762, 'Mio_Shaly2_Vsh60_Anisotropy Factor Permeability': 3.5460517026062477, 'Mio_Shaly2_Vsh60_Scaling Factor': 6.9542818142638865, 'Mio_Shaly2_Vsh60_Specific Surface Area': 115566156.64307243, 'Mio_Shaly2_Vsh60_Initial Porosity': 0.5966480667681792, \"Mio_Lower_Athy's Factor k (depth)\": 0.6918947213892095, 'Mio_Lower_Anisotropy Factor Permeability': 5.115614068853757, 'Mio_Lower_Scaling Factor': 12.666613381338944, 'Mio_Lower_Specific Surface Area': 89651471.83610946, 'Mio_Lower_Initial Porosity': 0.6176320790894627}. Best is trial 30 with value: 0.00034593714626025.\n",
      "[I 2023-07-16 08:00:31,574] Trial 83 finished with value: 0.0004748145096517366 and parameters: {\"Pliesto_Surface_Athy's Factor k (depth)\": 0.5643498451743438, 'Pliesto_Surface_Anisotropy Factor Permeability': 4.577911726222086, 'Pliesto_Surface_Scaling Factor': 9.354705799942302, 'Pliesto_Surface_Specific Surface Area': 9002077.142906265, 'Pliesto_Surface_Initial Porosity': 0.4382093497196674, \"Pliesto_Shaly_Vsh60_Athy's Factor k (depth)\": 0.6479377209268975, 'Pliesto_Shaly_Vsh60_Anisotropy Factor Permeability': 1.47609410525848, 'Pliesto_Shaly_Vsh60_Scaling Factor': 7.211986264202322, 'Pliesto_Shaly_Vsh60_Specific Surface Area': 55343194.616856046, 'Pliesto_Shaly_Vsh60_Initial Porosity': 0.6186690052653269, \"Plio_Up_Vsh55_Athy's Factor k (depth)\": 0.7246979509082372, 'Plio_Up_Vsh55_Anisotropy Factor Permeability': 2.287174426175661, 'Plio_Up_Vsh55_Scaling Factor': 5.974729189146363, 'Plio_Up_Vsh55_Specific Surface Area': 113540398.24363898, 'Plio_Up_Vsh55_Initial Porosity': 0.5677388182263656, \"Plio_LSandy_Vsh45_Athy's Factor k (depth)\": 0.13437104061177504, 'Plio_LSandy_Vsh45_Anisotropy Factor Permeability': 2.033432933802457, 'Plio_LSandy_Vsh45_Scaling Factor': -3.487327597775148, 'Plio_LSandy_Vsh45_Specific Surface Area': 106808037.93916883, 'Plio_LSandy_Vsh45_Initial Porosity': 0.5729577887924742, \"Mio_Up_Vsh50_Athy's Factor k (depth)\": 0.21452423109864233, 'Mio_Up_Vsh50_Anisotropy Factor Permeability': 3.8617782822025233, 'Mio_Up_Vsh50_Scaling Factor': 5.643550539187157, 'Mio_Up_Vsh50_Specific Surface Area': 98336293.20221399, 'Mio_Up_Vsh50_Initial Porosity': 0.5367489985847971, \"Mio_Sandy0_Vsh36_Athy's Factor k (depth)\": 0.32860690456264463, 'Mio_Sandy0_Vsh36_Anisotropy Factor Permeability': 0.518263447859944, 'Mio_Sandy0_Vsh36_Scaling Factor': 13.79726944424851, 'Mio_Sandy0_Vsh36_Specific Surface Area': 87780456.17886764, 'Mio_Sandy0_Vsh36_Initial Porosity': 0.5401506980225279, \"Mio_Shaly1_Vsh70_Athy's Factor k (depth)\": 0.6298196046939222, 'Mio_Shaly1_Vsh70_Anisotropy Factor Permeability': 0.9694346046273467, 'Mio_Shaly1_Vsh70_Scaling Factor': -1.4650848468965605, 'Mio_Shaly1_Vsh70_Specific Surface Area': 46813358.45292822, 'Mio_Shaly1_Vsh70_Initial Porosity': 0.6514517020106734, \"Mio_Sandy1_Vsh36_Athy's Factor k (depth)\": 0.7993411361761887, 'Mio_Sandy1_Vsh36_Anisotropy Factor Permeability': 0.21984230320284454, 'Mio_Sandy1_Vsh36_Scaling Factor': 3.138268505158817, 'Mio_Sandy1_Vsh36_Specific Surface Area': -18551807.91736524, 'Mio_Sandy1_Vsh36_Initial Porosity': 0.4358645073135047, \"Mio_Shaly2_Vsh60_Athy's Factor k (depth)\": 0.2768848220579254, 'Mio_Shaly2_Vsh60_Anisotropy Factor Permeability': 3.738102029100224, 'Mio_Shaly2_Vsh60_Scaling Factor': 8.464324442104429, 'Mio_Shaly2_Vsh60_Specific Surface Area': 119603180.48831967, 'Mio_Shaly2_Vsh60_Initial Porosity': 0.608433950417647, \"Mio_Lower_Athy's Factor k (depth)\": 0.7474103046355127, 'Mio_Lower_Anisotropy Factor Permeability': 3.8116974380370077, 'Mio_Lower_Scaling Factor': 13.186052084621258, 'Mio_Lower_Specific Surface Area': 97127965.21972328, 'Mio_Lower_Initial Porosity': 0.6295343523777078}. Best is trial 30 with value: 0.00034593714626025.\n",
      "[I 2023-07-16 08:00:40,461] Trial 84 finished with value: 0.00033136604370173725 and parameters: {\"Pliesto_Surface_Athy's Factor k (depth)\": 0.45847390794865395, 'Pliesto_Surface_Anisotropy Factor Permeability': 4.7677062048327254, 'Pliesto_Surface_Scaling Factor': 9.232025823691485, 'Pliesto_Surface_Specific Surface Area': 10134310.27727286, 'Pliesto_Surface_Initial Porosity': 0.4395165666068029, \"Pliesto_Shaly_Vsh60_Athy's Factor k (depth)\": 0.654131189709429, 'Pliesto_Shaly_Vsh60_Anisotropy Factor Permeability': 2.0549336411590122, 'Pliesto_Shaly_Vsh60_Scaling Factor': 7.2229275591813495, 'Pliesto_Shaly_Vsh60_Specific Surface Area': 62428356.05010823, 'Pliesto_Shaly_Vsh60_Initial Porosity': 0.6129334644634611, \"Plio_Up_Vsh55_Athy's Factor k (depth)\": 0.6914385946948618, 'Plio_Up_Vsh55_Anisotropy Factor Permeability': 2.3929678853261915, 'Plio_Up_Vsh55_Scaling Factor': 3.9588853999188984, 'Plio_Up_Vsh55_Specific Surface Area': 113747318.5990822, 'Plio_Up_Vsh55_Initial Porosity': 0.56752998295666, \"Plio_LSandy_Vsh45_Athy's Factor k (depth)\": 0.14122944810829624, 'Plio_LSandy_Vsh45_Anisotropy Factor Permeability': 1.9055077082225744, 'Plio_LSandy_Vsh45_Scaling Factor': -2.8064053634980537, 'Plio_LSandy_Vsh45_Specific Surface Area': 89408618.56331941, 'Plio_LSandy_Vsh45_Initial Porosity': 0.5661167642706689, \"Mio_Up_Vsh50_Athy's Factor k (depth)\": 0.21441082463162509, 'Mio_Up_Vsh50_Anisotropy Factor Permeability': 3.997675000576715, 'Mio_Up_Vsh50_Scaling Factor': 6.289942197565794, 'Mio_Up_Vsh50_Specific Surface Area': 100613695.64285804, 'Mio_Up_Vsh50_Initial Porosity': 0.5365474041065357, \"Mio_Sandy0_Vsh36_Athy's Factor k (depth)\": 0.29274171195874527, 'Mio_Sandy0_Vsh36_Anisotropy Factor Permeability': 0.8782684508549823, 'Mio_Sandy0_Vsh36_Scaling Factor': 13.64082417532406, 'Mio_Sandy0_Vsh36_Specific Surface Area': 86895317.79062611, 'Mio_Sandy0_Vsh36_Initial Porosity': 0.5369803352085655, \"Mio_Shaly1_Vsh70_Athy's Factor k (depth)\": 0.6296999926037302, 'Mio_Shaly1_Vsh70_Anisotropy Factor Permeability': 0.9922221553303688, 'Mio_Shaly1_Vsh70_Scaling Factor': 0.29453832784879364, 'Mio_Shaly1_Vsh70_Specific Surface Area': 45629240.44561364, 'Mio_Shaly1_Vsh70_Initial Porosity': 0.6540406814330945, \"Mio_Sandy1_Vsh36_Athy's Factor k (depth)\": 0.7951402375357273, 'Mio_Sandy1_Vsh36_Anisotropy Factor Permeability': 0.25949552425486644, 'Mio_Sandy1_Vsh36_Scaling Factor': 4.173696253469695, 'Mio_Sandy1_Vsh36_Specific Surface Area': -16693981.150101852, 'Mio_Sandy1_Vsh36_Initial Porosity': 0.4360046082237918, \"Mio_Shaly2_Vsh60_Athy's Factor k (depth)\": 0.2755244288027167, 'Mio_Shaly2_Vsh60_Anisotropy Factor Permeability': 3.7146961786178427, 'Mio_Shaly2_Vsh60_Scaling Factor': 8.482213026316984, 'Mio_Shaly2_Vsh60_Specific Surface Area': 119538652.18468519, 'Mio_Shaly2_Vsh60_Initial Porosity': 0.6083991954612921, \"Mio_Lower_Athy's Factor k (depth)\": 0.7411653794027939, 'Mio_Lower_Anisotropy Factor Permeability': 3.7585238254203004, 'Mio_Lower_Scaling Factor': 13.10700410113063, 'Mio_Lower_Specific Surface Area': 99248130.64099038, 'Mio_Lower_Initial Porosity': 0.6304400922491546}. Best is trial 84 with value: 0.00033136604370173725.\n",
      "[I 2023-07-16 08:00:49,440] Trial 85 finished with value: 0.0003370592128463213 and parameters: {\"Pliesto_Surface_Athy's Factor k (depth)\": 0.46663876895643647, 'Pliesto_Surface_Anisotropy Factor Permeability': 4.254231756295647, 'Pliesto_Surface_Scaling Factor': 9.028195488392685, 'Pliesto_Surface_Specific Surface Area': 11938100.551276546, 'Pliesto_Surface_Initial Porosity': 0.43613843307324746, \"Pliesto_Shaly_Vsh60_Athy's Factor k (depth)\": 0.6490710709304232, 'Pliesto_Shaly_Vsh60_Anisotropy Factor Permeability': 1.9701756493843132, 'Pliesto_Shaly_Vsh60_Scaling Factor': 6.566135397969304, 'Pliesto_Shaly_Vsh60_Specific Surface Area': 69065453.94643006, 'Pliesto_Shaly_Vsh60_Initial Porosity': 0.6116197957661246, \"Plio_Up_Vsh55_Athy's Factor k (depth)\": 0.6924664536499251, 'Plio_Up_Vsh55_Anisotropy Factor Permeability': 2.3840644853902897, 'Plio_Up_Vsh55_Scaling Factor': 3.8512508224640403, 'Plio_Up_Vsh55_Specific Surface Area': 103627215.65555015, 'Plio_Up_Vsh55_Initial Porosity': 0.568588065615317, \"Plio_LSandy_Vsh45_Athy's Factor k (depth)\": 0.1944771024425887, 'Plio_LSandy_Vsh45_Anisotropy Factor Permeability': 1.7674559449403362, 'Plio_LSandy_Vsh45_Scaling Factor': -2.833235274212779, 'Plio_LSandy_Vsh45_Specific Surface Area': 89781949.20626011, 'Plio_LSandy_Vsh45_Initial Porosity': 0.575035487111258, \"Mio_Up_Vsh50_Athy's Factor k (depth)\": 0.2109084760474951, 'Mio_Up_Vsh50_Anisotropy Factor Permeability': 4.014384045195323, 'Mio_Up_Vsh50_Scaling Factor': 6.885175181797745, 'Mio_Up_Vsh50_Specific Surface Area': 100063739.83443815, 'Mio_Up_Vsh50_Initial Porosity': 0.5447082608526652, \"Mio_Sandy0_Vsh36_Athy's Factor k (depth)\": 0.29733695859206877, 'Mio_Sandy0_Vsh36_Anisotropy Factor Permeability': 0.5305671763155727, 'Mio_Sandy0_Vsh36_Scaling Factor': 13.678508741914088, 'Mio_Sandy0_Vsh36_Specific Surface Area': 89823672.46968004, 'Mio_Sandy0_Vsh36_Initial Porosity': 0.5374847455790744, \"Mio_Shaly1_Vsh70_Athy's Factor k (depth)\": 0.7103602971864869, 'Mio_Shaly1_Vsh70_Anisotropy Factor Permeability': 0.7442624642209625, 'Mio_Shaly1_Vsh70_Scaling Factor': 0.15511256885999591, 'Mio_Shaly1_Vsh70_Specific Surface Area': 45351933.708356, 'Mio_Shaly1_Vsh70_Initial Porosity': 0.6501069697481915, \"Mio_Sandy1_Vsh36_Athy's Factor k (depth)\": 0.79239514625059, 'Mio_Sandy1_Vsh36_Anisotropy Factor Permeability': 0.2471971757082102, 'Mio_Sandy1_Vsh36_Scaling Factor': 2.8228554674533157, 'Mio_Sandy1_Vsh36_Specific Surface Area': -13696128.91274547, 'Mio_Sandy1_Vsh36_Initial Porosity': 0.4352505704747154, \"Mio_Shaly2_Vsh60_Athy's Factor k (depth)\": 0.28464943733283904, 'Mio_Shaly2_Vsh60_Anisotropy Factor Permeability': 3.7452429259921503, 'Mio_Shaly2_Vsh60_Scaling Factor': 9.027532209362013, 'Mio_Shaly2_Vsh60_Specific Surface Area': 126651514.00590771, 'Mio_Shaly2_Vsh60_Initial Porosity': 0.6094123677154153, \"Mio_Lower_Athy's Factor k (depth)\": 0.7446288729264876, 'Mio_Lower_Anisotropy Factor Permeability': 3.887515413981669, 'Mio_Lower_Scaling Factor': 13.137630975668353, 'Mio_Lower_Specific Surface Area': 99756056.04827845, 'Mio_Lower_Initial Porosity': 0.631885328217433}. Best is trial 84 with value: 0.00033136604370173725.\n",
      "[I 2023-07-16 08:00:58,625] Trial 86 finished with value: 0.0003392161410851473 and parameters: {\"Pliesto_Surface_Athy's Factor k (depth)\": 0.46367036110914944, 'Pliesto_Surface_Anisotropy Factor Permeability': 4.219112270040263, 'Pliesto_Surface_Scaling Factor': 9.352174595175185, 'Pliesto_Surface_Specific Surface Area': 9481119.12630364, 'Pliesto_Surface_Initial Porosity': 0.43456632942421114, \"Pliesto_Shaly_Vsh60_Athy's Factor k (depth)\": 0.6531574918885182, 'Pliesto_Shaly_Vsh60_Anisotropy Factor Permeability': 2.5756557523211967, 'Pliesto_Shaly_Vsh60_Scaling Factor': 6.60051159808253, 'Pliesto_Shaly_Vsh60_Specific Surface Area': 68837966.06392565, 'Pliesto_Shaly_Vsh60_Initial Porosity': 0.6095832464214092, \"Plio_Up_Vsh55_Athy's Factor k (depth)\": 0.711222037690358, 'Plio_Up_Vsh55_Anisotropy Factor Permeability': 2.399215214414852, 'Plio_Up_Vsh55_Scaling Factor': 2.973165936070422, 'Plio_Up_Vsh55_Specific Surface Area': 102632613.74448419, 'Plio_Up_Vsh55_Initial Porosity': 0.5795628964078333, \"Plio_LSandy_Vsh45_Athy's Factor k (depth)\": 0.2049961253379794, 'Plio_LSandy_Vsh45_Anisotropy Factor Permeability': 1.702438712505989, 'Plio_LSandy_Vsh45_Scaling Factor': -1.4760946247288629, 'Plio_LSandy_Vsh45_Specific Surface Area': 90119309.4238382, 'Plio_LSandy_Vsh45_Initial Porosity': 0.5709353869541439, \"Mio_Up_Vsh50_Athy's Factor k (depth)\": 0.2143520713715897, 'Mio_Up_Vsh50_Anisotropy Factor Permeability': 3.8445111366692735, 'Mio_Up_Vsh50_Scaling Factor': 6.586259056126982, 'Mio_Up_Vsh50_Specific Surface Area': 105294034.28865376, 'Mio_Up_Vsh50_Initial Porosity': 0.5463111741472302, \"Mio_Sandy0_Vsh36_Athy's Factor k (depth)\": 0.289714851743539, 'Mio_Sandy0_Vsh36_Anisotropy Factor Permeability': 0.9119582397346127, 'Mio_Sandy0_Vsh36_Scaling Factor': 13.533264544042774, 'Mio_Sandy0_Vsh36_Specific Surface Area': 76434176.91124216, 'Mio_Sandy0_Vsh36_Initial Porosity': 0.538863541791048, \"Mio_Shaly1_Vsh70_Athy's Factor k (depth)\": 0.7108177235491207, 'Mio_Shaly1_Vsh70_Anisotropy Factor Permeability': 0.672779548342769, 'Mio_Shaly1_Vsh70_Scaling Factor': -0.022505422903743078, 'Mio_Shaly1_Vsh70_Specific Surface Area': 45053205.660362706, 'Mio_Shaly1_Vsh70_Initial Porosity': 0.6523643628651893, \"Mio_Sandy1_Vsh36_Athy's Factor k (depth)\": 0.7912571689480278, 'Mio_Sandy1_Vsh36_Anisotropy Factor Permeability': 0.3928309007220061, 'Mio_Sandy1_Vsh36_Scaling Factor': 4.240986392664029, 'Mio_Sandy1_Vsh36_Specific Surface Area': -18402004.088171694, 'Mio_Sandy1_Vsh36_Initial Porosity': 0.43675920184874395, \"Mio_Shaly2_Vsh60_Athy's Factor k (depth)\": 0.2764668450311478, 'Mio_Shaly2_Vsh60_Anisotropy Factor Permeability': 3.9898574133843105, 'Mio_Shaly2_Vsh60_Scaling Factor': 9.064143080537898, 'Mio_Shaly2_Vsh60_Specific Surface Area': 128423491.54659115, 'Mio_Shaly2_Vsh60_Initial Porosity': 0.6005994967347692, \"Mio_Lower_Athy's Factor k (depth)\": 0.8137701209561674, 'Mio_Lower_Anisotropy Factor Permeability': 3.8581630767184696, 'Mio_Lower_Scaling Factor': 13.206044672444175, 'Mio_Lower_Specific Surface Area': 99673682.41999312, 'Mio_Lower_Initial Porosity': 0.6306018026187546}. Best is trial 84 with value: 0.00033136604370173725.\n",
      "[I 2023-07-16 08:01:07,777] Trial 87 finished with value: 0.0018573457187999257 and parameters: {\"Pliesto_Surface_Athy's Factor k (depth)\": 0.411278338453947, 'Pliesto_Surface_Anisotropy Factor Permeability': 4.2147012861136215, 'Pliesto_Surface_Scaling Factor': 8.9175177527474, 'Pliesto_Surface_Specific Surface Area': 3204230.9405991947, 'Pliesto_Surface_Initial Porosity': 0.43587038881402246, \"Pliesto_Shaly_Vsh60_Athy's Factor k (depth)\": 0.6307806144194307, 'Pliesto_Shaly_Vsh60_Anisotropy Factor Permeability': 2.351295242789056, 'Pliesto_Shaly_Vsh60_Scaling Factor': 6.464094934740054, 'Pliesto_Shaly_Vsh60_Specific Surface Area': 62751644.20088568, 'Pliesto_Shaly_Vsh60_Initial Porosity': 0.6029185171528857, \"Plio_Up_Vsh55_Athy's Factor k (depth)\": 0.7428836652852161, 'Plio_Up_Vsh55_Anisotropy Factor Permeability': 2.388122227746224, 'Plio_Up_Vsh55_Scaling Factor': 2.1874004031023215, 'Plio_Up_Vsh55_Specific Surface Area': 101615930.11644894, 'Plio_Up_Vsh55_Initial Porosity': 0.5818702788701541, \"Plio_LSandy_Vsh45_Athy's Factor k (depth)\": 0.20183152695190776, 'Plio_LSandy_Vsh45_Anisotropy Factor Permeability': 1.457921665941539, 'Plio_LSandy_Vsh45_Scaling Factor': -1.4000239425560173, 'Plio_LSandy_Vsh45_Specific Surface Area': 89305221.63691714, 'Plio_LSandy_Vsh45_Initial Porosity': 0.5730245671202396, \"Mio_Up_Vsh50_Athy's Factor k (depth)\": 0.14173952304793638, 'Mio_Up_Vsh50_Anisotropy Factor Permeability': 3.986264129687188, 'Mio_Up_Vsh50_Scaling Factor': 6.1154864359746455, 'Mio_Up_Vsh50_Specific Surface Area': 107024157.3164091, 'Mio_Up_Vsh50_Initial Porosity': 0.5443229205839036, \"Mio_Sandy0_Vsh36_Athy's Factor k (depth)\": 0.2960381827032177, 'Mio_Sandy0_Vsh36_Anisotropy Factor Permeability': 0.866206882100974, 'Mio_Sandy0_Vsh36_Scaling Factor': 13.812819899485294, 'Mio_Sandy0_Vsh36_Specific Surface Area': 87628712.55082962, 'Mio_Sandy0_Vsh36_Initial Porosity': 0.53740972007894, \"Mio_Shaly1_Vsh70_Athy's Factor k (depth)\": 0.7125554869432899, 'Mio_Shaly1_Vsh70_Anisotropy Factor Permeability': 0.5843495017316176, 'Mio_Shaly1_Vsh70_Scaling Factor': 0.4849838619526875, 'Mio_Shaly1_Vsh70_Specific Surface Area': 45357658.90365508, 'Mio_Shaly1_Vsh70_Initial Porosity': 0.6517129797921403, \"Mio_Sandy1_Vsh36_Athy's Factor k (depth)\": 0.7897332535764658, 'Mio_Sandy1_Vsh36_Anisotropy Factor Permeability': 0.3147782154178243, 'Mio_Sandy1_Vsh36_Scaling Factor': 4.154940327412591, 'Mio_Sandy1_Vsh36_Specific Surface Area': -17223241.508744366, 'Mio_Sandy1_Vsh36_Initial Porosity': 0.4364919086963041, \"Mio_Shaly2_Vsh60_Athy's Factor k (depth)\": 0.2668217422480399, 'Mio_Shaly2_Vsh60_Anisotropy Factor Permeability': 4.076912830742261, 'Mio_Shaly2_Vsh60_Scaling Factor': 8.995925139565177, 'Mio_Shaly2_Vsh60_Specific Surface Area': 127854924.76239717, 'Mio_Shaly2_Vsh60_Initial Porosity': 0.6014982200275676, \"Mio_Lower_Athy's Factor k (depth)\": 0.8260208668713975, 'Mio_Lower_Anisotropy Factor Permeability': 3.791546907129198, 'Mio_Lower_Scaling Factor': 14.053272812689666, 'Mio_Lower_Specific Surface Area': 115323629.66409585, 'Mio_Lower_Initial Porosity': 0.6322855479055854}. Best is trial 84 with value: 0.00033136604370173725.\n",
      "[I 2023-07-16 08:01:16,993] Trial 88 finished with value: 0.0015043175339889683 and parameters: {\"Pliesto_Surface_Athy's Factor k (depth)\": 0.4577672356626031, 'Pliesto_Surface_Anisotropy Factor Permeability': 4.530520512202593, 'Pliesto_Surface_Scaling Factor': 9.422848734313682, 'Pliesto_Surface_Specific Surface Area': 7763890.090066902, 'Pliesto_Surface_Initial Porosity': 0.4363271636718466, \"Pliesto_Shaly_Vsh60_Athy's Factor k (depth)\": 0.6474039258008407, 'Pliesto_Shaly_Vsh60_Anisotropy Factor Permeability': 2.5193359331685725, 'Pliesto_Shaly_Vsh60_Scaling Factor': 7.121205827499601, 'Pliesto_Shaly_Vsh60_Specific Surface Area': 66860356.34672637, 'Pliesto_Shaly_Vsh60_Initial Porosity': 0.6086912469934663, \"Plio_Up_Vsh55_Athy's Factor k (depth)\": 0.7139844195393099, 'Plio_Up_Vsh55_Anisotropy Factor Permeability': 2.7694740557086943, 'Plio_Up_Vsh55_Scaling Factor': 3.0612307317525724, 'Plio_Up_Vsh55_Specific Surface Area': 104140181.67656752, 'Plio_Up_Vsh55_Initial Porosity': 0.5878939740380476, \"Plio_LSandy_Vsh45_Athy's Factor k (depth)\": 0.22120146985104117, 'Plio_LSandy_Vsh45_Anisotropy Factor Permeability': 1.759930251447837, 'Plio_LSandy_Vsh45_Scaling Factor': -2.089441720469736, 'Plio_LSandy_Vsh45_Specific Surface Area': 82489729.21794908, 'Plio_LSandy_Vsh45_Initial Porosity': 0.5579353658256987, \"Mio_Up_Vsh50_Athy's Factor k (depth)\": 0.19357889224415772, 'Mio_Up_Vsh50_Anisotropy Factor Permeability': 4.176423480496281, 'Mio_Up_Vsh50_Scaling Factor': 6.242200503048276, 'Mio_Up_Vsh50_Specific Surface Area': 100839715.05403048, 'Mio_Up_Vsh50_Initial Porosity': 0.5512412585714048, \"Mio_Sandy0_Vsh36_Athy's Factor k (depth)\": 0.3885452165856611, 'Mio_Sandy0_Vsh36_Anisotropy Factor Permeability': 0.5800546066051873, 'Mio_Sandy0_Vsh36_Scaling Factor': 13.735186498952359, 'Mio_Sandy0_Vsh36_Specific Surface Area': 76344151.74434467, 'Mio_Sandy0_Vsh36_Initial Porosity': 0.5438940506426592, \"Mio_Shaly1_Vsh70_Athy's Factor k (depth)\": 0.7430136315873976, 'Mio_Shaly1_Vsh70_Anisotropy Factor Permeability': 0.7206039809631787, 'Mio_Shaly1_Vsh70_Scaling Factor': -0.21534642437502205, 'Mio_Shaly1_Vsh70_Specific Surface Area': 41246063.472712204, 'Mio_Shaly1_Vsh70_Initial Porosity': 0.6546540103342731, \"Mio_Sandy1_Vsh36_Athy's Factor k (depth)\": 0.8804044456989398, 'Mio_Sandy1_Vsh36_Anisotropy Factor Permeability': 0.6800649713638036, 'Mio_Sandy1_Vsh36_Scaling Factor': 5.4248463849891175, 'Mio_Sandy1_Vsh36_Specific Surface Area': -15641116.94050047, 'Mio_Sandy1_Vsh36_Initial Porosity': 0.44295988815040044, \"Mio_Shaly2_Vsh60_Athy's Factor k (depth)\": 0.16069698044315722, 'Mio_Shaly2_Vsh60_Anisotropy Factor Permeability': 3.997008751411403, 'Mio_Shaly2_Vsh60_Scaling Factor': 7.799002530748423, 'Mio_Shaly2_Vsh60_Specific Surface Area': 130310733.87841478, 'Mio_Shaly2_Vsh60_Initial Porosity': 0.5934646727415964, \"Mio_Lower_Athy's Factor k (depth)\": 0.7846270294647588, 'Mio_Lower_Anisotropy Factor Permeability': 3.5114162036875816, 'Mio_Lower_Scaling Factor': 13.224355268976314, 'Mio_Lower_Specific Surface Area': 100401639.60971974, 'Mio_Lower_Initial Porosity': 0.651912584670518}. Best is trial 84 with value: 0.00033136604370173725.\n",
      "[I 2023-07-16 08:01:26,115] Trial 89 finished with value: 0.00043249917038000663 and parameters: {\"Pliesto_Surface_Athy's Factor k (depth)\": 0.4412021575415732, 'Pliesto_Surface_Anisotropy Factor Permeability': 4.6062279058665885, 'Pliesto_Surface_Scaling Factor': 11.0518084281023, 'Pliesto_Surface_Specific Surface Area': -2030299.7894935068, 'Pliesto_Surface_Initial Porosity': 0.4308715926321043, \"Pliesto_Shaly_Vsh60_Athy's Factor k (depth)\": 0.6807985268808739, 'Pliesto_Shaly_Vsh60_Anisotropy Factor Permeability': 2.7243369721486275, 'Pliesto_Shaly_Vsh60_Scaling Factor': 7.90300435531281, 'Pliesto_Shaly_Vsh60_Specific Surface Area': 69925666.4118026, 'Pliesto_Shaly_Vsh60_Initial Porosity': 0.6153637165162782, \"Plio_Up_Vsh55_Athy's Factor k (depth)\": 0.7814325776149831, 'Plio_Up_Vsh55_Anisotropy Factor Permeability': 2.4828662425354637, 'Plio_Up_Vsh55_Scaling Factor': 3.5520792061006343, 'Plio_Up_Vsh55_Specific Surface Area': 107916246.26803772, 'Plio_Up_Vsh55_Initial Porosity': 0.5670342932416316, \"Plio_LSandy_Vsh45_Athy's Factor k (depth)\": 0.129865741983576, 'Plio_LSandy_Vsh45_Anisotropy Factor Permeability': 1.8794791144582428, 'Plio_LSandy_Vsh45_Scaling Factor': -2.602925935207958, 'Plio_LSandy_Vsh45_Specific Surface Area': 90175490.26519541, 'Plio_LSandy_Vsh45_Initial Porosity': 0.5703682667537506, \"Mio_Up_Vsh50_Athy's Factor k (depth)\": 0.2163609728525372, 'Mio_Up_Vsh50_Anisotropy Factor Permeability': 3.8139618490586544, 'Mio_Up_Vsh50_Scaling Factor': 6.8272720465881065, 'Mio_Up_Vsh50_Specific Surface Area': 103379485.46668139, 'Mio_Up_Vsh50_Initial Porosity': 0.5470318791987038, \"Mio_Sandy0_Vsh36_Athy's Factor k (depth)\": 0.2916347546396695, 'Mio_Sandy0_Vsh36_Anisotropy Factor Permeability': 0.10646357560006942, 'Mio_Sandy0_Vsh36_Scaling Factor': 12.82353596430362, 'Mio_Sandy0_Vsh36_Specific Surface Area': 80949349.65588933, 'Mio_Sandy0_Vsh36_Initial Porosity': 0.5384477129859628, \"Mio_Shaly1_Vsh70_Athy's Factor k (depth)\": 0.6889105074964512, 'Mio_Shaly1_Vsh70_Anisotropy Factor Permeability': 0.9842459959097983, 'Mio_Shaly1_Vsh70_Scaling Factor': 0.043582130200724656, 'Mio_Shaly1_Vsh70_Specific Surface Area': 35296008.13907267, 'Mio_Shaly1_Vsh70_Initial Porosity': 0.649096539849934, \"Mio_Sandy1_Vsh36_Athy's Factor k (depth)\": 0.8199037896674974, 'Mio_Sandy1_Vsh36_Anisotropy Factor Permeability': 0.23825620751272877, 'Mio_Sandy1_Vsh36_Scaling Factor': 3.945310021283539, 'Mio_Sandy1_Vsh36_Specific Surface Area': -26046574.440602817, 'Mio_Sandy1_Vsh36_Initial Porosity': 0.4360337046777611, \"Mio_Shaly2_Vsh60_Athy's Factor k (depth)\": 0.1792991646913456, 'Mio_Shaly2_Vsh60_Anisotropy Factor Permeability': 4.163911938077824, 'Mio_Shaly2_Vsh60_Scaling Factor': 9.476843981982068, 'Mio_Shaly2_Vsh60_Specific Surface Area': 126815403.21578908, 'Mio_Shaly2_Vsh60_Initial Porosity': 0.5990797515734521, \"Mio_Lower_Athy's Factor k (depth)\": 0.8098449049877755, 'Mio_Lower_Anisotropy Factor Permeability': 3.4201583116151157, 'Mio_Lower_Scaling Factor': 13.306100618292593, 'Mio_Lower_Specific Surface Area': 113175064.13649571, 'Mio_Lower_Initial Porosity': 0.6422366941324539}. Best is trial 84 with value: 0.00033136604370173725.\n",
      "[I 2023-07-16 08:01:35,516] Trial 90 finished with value: 0.003534273545636678 and parameters: {\"Pliesto_Surface_Athy's Factor k (depth)\": 0.43721006277548535, 'Pliesto_Surface_Anisotropy Factor Permeability': 4.377519925935837, 'Pliesto_Surface_Scaling Factor': 10.965797045761018, 'Pliesto_Surface_Specific Surface Area': -3424819.63176029, 'Pliesto_Surface_Initial Porosity': 0.4306006652967895, \"Pliesto_Shaly_Vsh60_Athy's Factor k (depth)\": 0.6778182534161394, 'Pliesto_Shaly_Vsh60_Anisotropy Factor Permeability': 2.621108272609486, 'Pliesto_Shaly_Vsh60_Scaling Factor': 8.123885383104911, 'Pliesto_Shaly_Vsh60_Specific Surface Area': 70844328.60698079, 'Pliesto_Shaly_Vsh60_Initial Porosity': 0.6146901715743032, \"Plio_Up_Vsh55_Athy's Factor k (depth)\": 0.781426541176401, 'Plio_Up_Vsh55_Anisotropy Factor Permeability': 2.516151393964078, 'Plio_Up_Vsh55_Scaling Factor': 1.7592788313502048, 'Plio_Up_Vsh55_Specific Surface Area': 95837402.32517694, 'Plio_Up_Vsh55_Initial Porosity': 0.5783302609088198, \"Plio_LSandy_Vsh45_Athy's Factor k (depth)\": 0.1847192238338896, 'Plio_LSandy_Vsh45_Anisotropy Factor Permeability': 1.665714716286348, 'Plio_LSandy_Vsh45_Scaling Factor': -2.594818355861894, 'Plio_LSandy_Vsh45_Specific Surface Area': 77741426.92677002, 'Plio_LSandy_Vsh45_Initial Porosity': 0.5853769560285922, \"Mio_Up_Vsh50_Athy's Factor k (depth)\": 0.1694512334733509, 'Mio_Up_Vsh50_Anisotropy Factor Permeability': 3.859995816397461, 'Mio_Up_Vsh50_Scaling Factor': 6.828330842084658, 'Mio_Up_Vsh50_Specific Surface Area': 105148986.9312028, 'Mio_Up_Vsh50_Initial Porosity': 0.5478420095735947, \"Mio_Sandy0_Vsh36_Athy's Factor k (depth)\": 0.2272197539960468, 'Mio_Sandy0_Vsh36_Anisotropy Factor Permeability': 0.21290321537411938, 'Mio_Sandy0_Vsh36_Scaling Factor': 12.8391867213704, 'Mio_Sandy0_Vsh36_Specific Surface Area': 80025886.58080491, 'Mio_Sandy0_Vsh36_Initial Porosity': 0.5506938688394034, \"Mio_Shaly1_Vsh70_Athy's Factor k (depth)\": 0.7039631394588405, 'Mio_Shaly1_Vsh70_Anisotropy Factor Permeability': 0.48526118113084177, 'Mio_Shaly1_Vsh70_Scaling Factor': 0.9913260277788987, 'Mio_Shaly1_Vsh70_Specific Surface Area': 34027549.697780445, 'Mio_Shaly1_Vsh70_Initial Porosity': 0.6472097111831057, \"Mio_Sandy1_Vsh36_Athy's Factor k (depth)\": 0.8252876509347954, 'Mio_Sandy1_Vsh36_Anisotropy Factor Permeability': 0.11514656260826192, 'Mio_Sandy1_Vsh36_Scaling Factor': 3.898982447500178, 'Mio_Sandy1_Vsh36_Specific Surface Area': -27510040.662489142, 'Mio_Sandy1_Vsh36_Initial Porosity': 0.43242490037850445, \"Mio_Shaly2_Vsh60_Athy's Factor k (depth)\": 0.18653830016831405, 'Mio_Shaly2_Vsh60_Anisotropy Factor Permeability': 4.185033662418529, 'Mio_Shaly2_Vsh60_Scaling Factor': 9.469873121245636, 'Mio_Shaly2_Vsh60_Specific Surface Area': 123390553.3578582, 'Mio_Shaly2_Vsh60_Initial Porosity': 0.5994791480770318, \"Mio_Lower_Athy's Factor k (depth)\": 0.837781193477183, 'Mio_Lower_Anisotropy Factor Permeability': 3.405005449885742, 'Mio_Lower_Scaling Factor': 14.021727628177556, 'Mio_Lower_Specific Surface Area': 121833748.4064751, 'Mio_Lower_Initial Porosity': 0.6417199378455626}. Best is trial 84 with value: 0.00033136604370173725.\n",
      "[I 2023-07-16 08:01:44,763] Trial 91 finished with value: 0.0005183134915054078 and parameters: {\"Pliesto_Surface_Athy's Factor k (depth)\": 0.4698112524786582, 'Pliesto_Surface_Anisotropy Factor Permeability': 4.178945870096731, 'Pliesto_Surface_Scaling Factor': 10.626895480932872, 'Pliesto_Surface_Specific Surface Area': 9128217.266451186, 'Pliesto_Surface_Initial Porosity': 0.44249770152818346, \"Pliesto_Shaly_Vsh60_Athy's Factor k (depth)\": 0.6614862975744268, 'Pliesto_Shaly_Vsh60_Anisotropy Factor Permeability': 2.7620504012677016, 'Pliesto_Shaly_Vsh60_Scaling Factor': 7.83461678455879, 'Pliesto_Shaly_Vsh60_Specific Surface Area': 77366270.20681007, 'Pliesto_Shaly_Vsh60_Initial Porosity': 0.5987698121086565, \"Plio_Up_Vsh55_Athy's Factor k (depth)\": 0.7985813593170821, 'Plio_Up_Vsh55_Anisotropy Factor Permeability': 2.2817492921350233, 'Plio_Up_Vsh55_Scaling Factor': 2.644746322509696, 'Plio_Up_Vsh55_Specific Surface Area': 109582656.86003295, 'Plio_Up_Vsh55_Initial Porosity': 0.5687391025800838, \"Plio_LSandy_Vsh45_Athy's Factor k (depth)\": 0.1379288134451554, 'Plio_LSandy_Vsh45_Anisotropy Factor Permeability': 1.8556496601033492, 'Plio_LSandy_Vsh45_Scaling Factor': -3.459324563664604, 'Plio_LSandy_Vsh45_Specific Surface Area': 91716837.81361523, 'Plio_LSandy_Vsh45_Initial Porosity': 0.5706761612438479, \"Mio_Up_Vsh50_Athy's Factor k (depth)\": 0.21390895952101263, 'Mio_Up_Vsh50_Anisotropy Factor Permeability': 3.8514416466836705, 'Mio_Up_Vsh50_Scaling Factor': 5.594703847744666, 'Mio_Up_Vsh50_Specific Surface Area': 98150677.00597674, 'Mio_Up_Vsh50_Initial Porosity': 0.5368760192142914, \"Mio_Sandy0_Vsh36_Athy's Factor k (depth)\": 0.29808416583526814, 'Mio_Sandy0_Vsh36_Anisotropy Factor Permeability': 0.11075602352492397, 'Mio_Sandy0_Vsh36_Scaling Factor': 13.931536658130097, 'Mio_Sandy0_Vsh36_Specific Surface Area': 87661968.2859295, 'Mio_Sandy0_Vsh36_Initial Porosity': 0.5402475419848198, \"Mio_Shaly1_Vsh70_Athy's Factor k (depth)\": 0.6687821389680844, 'Mio_Shaly1_Vsh70_Anisotropy Factor Permeability': 0.6891740296823559, 'Mio_Shaly1_Vsh70_Scaling Factor': 0.2547075671938104, 'Mio_Shaly1_Vsh70_Specific Surface Area': 38392512.80655418, 'Mio_Shaly1_Vsh70_Initial Porosity': 0.6573948874541394, \"Mio_Sandy1_Vsh36_Athy's Factor k (depth)\": 0.7882063778026126, 'Mio_Sandy1_Vsh36_Anisotropy Factor Permeability': 0.24479233762525884, 'Mio_Sandy1_Vsh36_Scaling Factor': 2.942813671462409, 'Mio_Sandy1_Vsh36_Specific Surface Area': -24703239.406223163, 'Mio_Sandy1_Vsh36_Initial Porosity': 0.43625853740587905, \"Mio_Shaly2_Vsh60_Athy's Factor k (depth)\": 0.16865592740706895, 'Mio_Shaly2_Vsh60_Anisotropy Factor Permeability': 4.336374283231376, 'Mio_Shaly2_Vsh60_Scaling Factor': 9.05546416738244, 'Mio_Shaly2_Vsh60_Specific Surface Area': 126494319.38952005, 'Mio_Shaly2_Vsh60_Initial Porosity': 0.6092548425332044, \"Mio_Lower_Athy's Factor k (depth)\": 0.8093662739997897, 'Mio_Lower_Anisotropy Factor Permeability': 3.75444804419136, 'Mio_Lower_Scaling Factor': 13.413423934343564, 'Mio_Lower_Specific Surface Area': 107469761.5059174, 'Mio_Lower_Initial Porosity': 0.628754228848356}. Best is trial 84 with value: 0.00033136604370173725.\n",
      "[I 2023-07-16 08:01:53,791] Trial 92 finished with value: 0.0004019330928360233 and parameters: {\"Pliesto_Surface_Athy's Factor k (depth)\": 0.39606053422922516, 'Pliesto_Surface_Anisotropy Factor Permeability': 4.6090823953195015, 'Pliesto_Surface_Scaling Factor': 11.731095092653261, 'Pliesto_Surface_Specific Surface Area': 4301600.68738749, 'Pliesto_Surface_Initial Porosity': 0.43715287433535516, \"Pliesto_Shaly_Vsh60_Athy's Factor k (depth)\": 0.615806070612691, 'Pliesto_Shaly_Vsh60_Anisotropy Factor Permeability': 2.9414990115179522, 'Pliesto_Shaly_Vsh60_Scaling Factor': 7.409983191846997, 'Pliesto_Shaly_Vsh60_Specific Surface Area': 68340071.86025538, 'Pliesto_Shaly_Vsh60_Initial Porosity': 0.623881486528706, \"Plio_Up_Vsh55_Athy's Factor k (depth)\": 0.7563529634579298, 'Plio_Up_Vsh55_Anisotropy Factor Permeability': 2.385917606786799, 'Plio_Up_Vsh55_Scaling Factor': 3.3408073316447005, 'Plio_Up_Vsh55_Specific Surface Area': 113401259.700067, 'Plio_Up_Vsh55_Initial Porosity': 0.5638156340032908, \"Plio_LSandy_Vsh45_Athy's Factor k (depth)\": 0.24345169357662697, 'Plio_LSandy_Vsh45_Anisotropy Factor Permeability': 2.0503177132145445, 'Plio_LSandy_Vsh45_Scaling Factor': -2.7158076444412655, 'Plio_LSandy_Vsh45_Specific Surface Area': 88226586.21731158, 'Plio_LSandy_Vsh45_Initial Porosity': 0.574047357012658, \"Mio_Up_Vsh50_Athy's Factor k (depth)\": 0.21463845407939003, 'Mio_Up_Vsh50_Anisotropy Factor Permeability': 4.144577807143143, 'Mio_Up_Vsh50_Scaling Factor': 6.386103980944068, 'Mio_Up_Vsh50_Specific Surface Area': 109333300.82752112, 'Mio_Up_Vsh50_Initial Porosity': 0.5416662879416935, \"Mio_Sandy0_Vsh36_Athy's Factor k (depth)\": 0.28603824043750736, 'Mio_Sandy0_Vsh36_Anisotropy Factor Permeability': 0.5023219988332988, 'Mio_Sandy0_Vsh36_Scaling Factor': 12.299213043013328, 'Mio_Sandy0_Vsh36_Specific Surface Area': 82226846.02449293, 'Mio_Sandy0_Vsh36_Initial Porosity': 0.530195390534704, \"Mio_Shaly1_Vsh70_Athy's Factor k (depth)\": 0.6803167558915416, 'Mio_Shaly1_Vsh70_Anisotropy Factor Permeability': 0.8254505639801353, 'Mio_Shaly1_Vsh70_Scaling Factor': -0.5180218957690947, 'Mio_Shaly1_Vsh70_Specific Surface Area': 45812495.31503081, 'Mio_Shaly1_Vsh70_Initial Porosity': 0.6512143333964624, \"Mio_Sandy1_Vsh36_Athy's Factor k (depth)\": 0.8503278942178787, 'Mio_Sandy1_Vsh36_Anisotropy Factor Permeability': 0.4513039308075108, 'Mio_Sandy1_Vsh36_Scaling Factor': 4.158920988696365, 'Mio_Sandy1_Vsh36_Specific Surface Area': -19348126.92974091, 'Mio_Sandy1_Vsh36_Initial Porosity': 0.4429237746997264, \"Mio_Shaly2_Vsh60_Athy's Factor k (depth)\": 0.22568986835080052, 'Mio_Shaly2_Vsh60_Anisotropy Factor Permeability': 3.779785906487818, 'Mio_Shaly2_Vsh60_Scaling Factor': 8.737799558777574, 'Mio_Shaly2_Vsh60_Specific Surface Area': 120688513.5652314, 'Mio_Shaly2_Vsh60_Initial Porosity': 0.6046323797560965, \"Mio_Lower_Athy's Factor k (depth)\": 0.8700627810125174, 'Mio_Lower_Anisotropy Factor Permeability': 3.872861219756313, 'Mio_Lower_Scaling Factor': 13.083676416226437, 'Mio_Lower_Specific Surface Area': 111507608.99581844, 'Mio_Lower_Initial Porosity': 0.6385784995468013}. Best is trial 84 with value: 0.00033136604370173725.\n",
      "[I 2023-07-16 08:02:02,896] Trial 93 finished with value: 0.0008213995392566294 and parameters: {\"Pliesto_Surface_Athy's Factor k (depth)\": 0.3937422530817159, 'Pliesto_Surface_Anisotropy Factor Permeability': 4.740938356476908, 'Pliesto_Surface_Scaling Factor': 11.863552843935652, 'Pliesto_Surface_Specific Surface Area': -10531739.2235008, 'Pliesto_Surface_Initial Porosity': 0.4462499211898516, \"Pliesto_Shaly_Vsh60_Athy's Factor k (depth)\": 0.6169833101610421, 'Pliesto_Shaly_Vsh60_Anisotropy Factor Permeability': 2.8878014148967566, 'Pliesto_Shaly_Vsh60_Scaling Factor': 6.154902131721404, 'Pliesto_Shaly_Vsh60_Specific Surface Area': 72544718.26743206, 'Pliesto_Shaly_Vsh60_Initial Porosity': 0.6233219025152879, \"Plio_Up_Vsh55_Athy's Factor k (depth)\": 0.7514411338609694, 'Plio_Up_Vsh55_Anisotropy Factor Permeability': 2.6712963904173046, 'Plio_Up_Vsh55_Scaling Factor': 3.5710624165239455, 'Plio_Up_Vsh55_Specific Surface Area': 106685621.09759955, 'Plio_Up_Vsh55_Initial Porosity': 0.5620640530999871, \"Plio_LSandy_Vsh45_Athy's Factor k (depth)\": 0.25799894317041305, 'Plio_LSandy_Vsh45_Anisotropy Factor Permeability': 1.9014575525891682, 'Plio_LSandy_Vsh45_Scaling Factor': -2.0939522350976043, 'Plio_LSandy_Vsh45_Specific Surface Area': 85904698.02667005, 'Plio_LSandy_Vsh45_Initial Porosity': 0.5769765041173036, \"Mio_Up_Vsh50_Athy's Factor k (depth)\": 0.17667883186312264, 'Mio_Up_Vsh50_Anisotropy Factor Permeability': 4.002587384081084, 'Mio_Up_Vsh50_Scaling Factor': 6.422564245482009, 'Mio_Up_Vsh50_Specific Surface Area': 109888806.7940747, 'Mio_Up_Vsh50_Initial Porosity': 0.542839101823397, \"Mio_Sandy0_Vsh36_Athy's Factor k (depth)\": 0.2753164702808641, 'Mio_Sandy0_Vsh36_Anisotropy Factor Permeability': 1.0535981703483959, 'Mio_Sandy0_Vsh36_Scaling Factor': 12.316448846645944, 'Mio_Sandy0_Vsh36_Specific Surface Area': 81613838.81736156, 'Mio_Sandy0_Vsh36_Initial Porosity': 0.5316728832847927, \"Mio_Shaly1_Vsh70_Athy's Factor k (depth)\": 0.6770606195660024, 'Mio_Shaly1_Vsh70_Anisotropy Factor Permeability': 0.8112987773210697, 'Mio_Shaly1_Vsh70_Scaling Factor': -0.02318525333285809, 'Mio_Shaly1_Vsh70_Specific Surface Area': 43214242.28101848, 'Mio_Shaly1_Vsh70_Initial Porosity': 0.6462661164513445, \"Mio_Sandy1_Vsh36_Athy's Factor k (depth)\": 0.8618901093819709, 'Mio_Sandy1_Vsh36_Anisotropy Factor Permeability': 0.47536063634303904, 'Mio_Sandy1_Vsh36_Scaling Factor': 4.5621184856396075, 'Mio_Sandy1_Vsh36_Specific Surface Area': -21073933.350419886, 'Mio_Sandy1_Vsh36_Initial Porosity': 0.444386752422913, \"Mio_Shaly2_Vsh60_Athy's Factor k (depth)\": 0.22485980658554974, 'Mio_Shaly2_Vsh60_Anisotropy Factor Permeability': 4.479407797328311, 'Mio_Shaly2_Vsh60_Scaling Factor': 8.777134682421478, 'Mio_Shaly2_Vsh60_Specific Surface Area': 123517435.27019693, 'Mio_Shaly2_Vsh60_Initial Porosity': 0.603901861409266, \"Mio_Lower_Athy's Factor k (depth)\": 0.8679733296740993, 'Mio_Lower_Anisotropy Factor Permeability': 3.9431950090958208, 'Mio_Lower_Scaling Factor': 14.293585764973175, 'Mio_Lower_Specific Surface Area': 115334990.08337954, 'Mio_Lower_Initial Porosity': 0.6468015469159626}. Best is trial 84 with value: 0.00033136604370173725.\n",
      "[I 2023-07-16 08:02:12,174] Trial 94 finished with value: 0.0016290188686857894 and parameters: {\"Pliesto_Surface_Athy's Factor k (depth)\": 0.4249872693928621, 'Pliesto_Surface_Anisotropy Factor Permeability': 4.79671863301327, 'Pliesto_Surface_Scaling Factor': 11.075513213181775, 'Pliesto_Surface_Specific Surface Area': -2355523.494509667, 'Pliesto_Surface_Initial Porosity': 0.4309539401152442, \"Pliesto_Shaly_Vsh60_Athy's Factor k (depth)\": 0.6799505637619386, 'Pliesto_Shaly_Vsh60_Anisotropy Factor Permeability': 2.9975245003948365, 'Pliesto_Shaly_Vsh60_Scaling Factor': 8.607073561052927, 'Pliesto_Shaly_Vsh60_Specific Surface Area': 68775105.55042277, 'Pliesto_Shaly_Vsh60_Initial Porosity': 0.6101226987567374, \"Plio_Up_Vsh55_Athy's Factor k (depth)\": 0.7652195531164627, 'Plio_Up_Vsh55_Anisotropy Factor Permeability': 2.458753654571204, 'Plio_Up_Vsh55_Scaling Factor': 3.877600143351682, 'Plio_Up_Vsh55_Specific Surface Area': 104578761.57940388, 'Plio_Up_Vsh55_Initial Porosity': 0.5730342522775467, \"Plio_LSandy_Vsh45_Athy's Factor k (depth)\": 0.23164447231178, 'Plio_LSandy_Vsh45_Anisotropy Factor Permeability': 1.7499591572683024, 'Plio_LSandy_Vsh45_Scaling Factor': -1.582477929200346, 'Plio_LSandy_Vsh45_Specific Surface Area': 88210033.28343938, 'Plio_LSandy_Vsh45_Initial Porosity': 0.5617210811444678, \"Mio_Up_Vsh50_Athy's Factor k (depth)\": 0.15865519545329862, 'Mio_Up_Vsh50_Anisotropy Factor Permeability': 4.1440995246348535, 'Mio_Up_Vsh50_Scaling Factor': 7.43459934896642, 'Mio_Up_Vsh50_Specific Surface Area': 102981995.90557176, 'Mio_Up_Vsh50_Initial Porosity': 0.5576215180310347, \"Mio_Sandy0_Vsh36_Athy's Factor k (depth)\": 0.35792692633730294, 'Mio_Sandy0_Vsh36_Anisotropy Factor Permeability': 0.7155932330813171, 'Mio_Sandy0_Vsh36_Scaling Factor': 12.97379831885585, 'Mio_Sandy0_Vsh36_Specific Surface Area': 74213907.79747242, 'Mio_Sandy0_Vsh36_Initial Porosity': 0.5345487974958681, \"Mio_Shaly1_Vsh70_Athy's Factor k (depth)\": 0.7247951015058959, 'Mio_Shaly1_Vsh70_Anisotropy Factor Permeability': 1.0530956480389244, 'Mio_Shaly1_Vsh70_Scaling Factor': -0.5540146574649232, 'Mio_Shaly1_Vsh70_Specific Surface Area': 30994730.114947554, 'Mio_Shaly1_Vsh70_Initial Porosity': 0.6414086460514333, \"Mio_Sandy1_Vsh36_Athy's Factor k (depth)\": 0.8396261518076664, 'Mio_Sandy1_Vsh36_Anisotropy Factor Permeability': 0.4197069742261379, 'Mio_Sandy1_Vsh36_Scaling Factor': 2.4991476916601614, 'Mio_Sandy1_Vsh36_Specific Surface Area': -29203782.0274662, 'Mio_Sandy1_Vsh36_Initial Porosity': 0.4419170063433144, \"Mio_Shaly2_Vsh60_Athy's Factor k (depth)\": 0.19042635115969958, 'Mio_Shaly2_Vsh60_Anisotropy Factor Permeability': 4.180535607473516, 'Mio_Shaly2_Vsh60_Scaling Factor': 7.923459120401473, 'Mio_Shaly2_Vsh60_Specific Surface Area': 128407817.85096687, 'Mio_Shaly2_Vsh60_Initial Porosity': 0.6133588057550057, \"Mio_Lower_Athy's Factor k (depth)\": 0.8762984782236122, 'Mio_Lower_Anisotropy Factor Permeability': 3.6659915172193642, 'Mio_Lower_Scaling Factor': 12.794607346109023, 'Mio_Lower_Specific Surface Area': 112433497.42977762, 'Mio_Lower_Initial Porosity': 0.6369332057978575}. Best is trial 84 with value: 0.00033136604370173725.\n",
      "[I 2023-07-16 08:02:21,421] Trial 95 finished with value: 0.0005892995849607087 and parameters: {\"Pliesto_Surface_Athy's Factor k (depth)\": 0.4560215448568602, 'Pliesto_Surface_Anisotropy Factor Permeability': 4.5680487179880975, 'Pliesto_Surface_Scaling Factor': 8.538978923523933, 'Pliesto_Surface_Specific Surface Area': 4356515.157458009, 'Pliesto_Surface_Initial Porosity': 0.43728606835047884, \"Pliesto_Shaly_Vsh60_Athy's Factor k (depth)\": 0.589290035243132, 'Pliesto_Shaly_Vsh60_Anisotropy Factor Permeability': 2.703730455133263, 'Pliesto_Shaly_Vsh60_Scaling Factor': 7.545302242967316, 'Pliesto_Shaly_Vsh60_Specific Surface Area': 68941241.78343172, 'Pliesto_Shaly_Vsh60_Initial Porosity': 0.607295597267119, \"Plio_Up_Vsh55_Athy's Factor k (depth)\": 0.7373709510811797, 'Plio_Up_Vsh55_Anisotropy Factor Permeability': 2.5667461500348017, 'Plio_Up_Vsh55_Scaling Factor': 4.470649342886143, 'Plio_Up_Vsh55_Specific Surface Area': 100589976.5527899, 'Plio_Up_Vsh55_Initial Porosity': 0.5844260442127238, \"Plio_LSandy_Vsh45_Athy's Factor k (depth)\": 0.20377785332878567, 'Plio_LSandy_Vsh45_Anisotropy Factor Permeability': 2.053051548749824, 'Plio_LSandy_Vsh45_Scaling Factor': -2.6750990471956455, 'Plio_LSandy_Vsh45_Specific Surface Area': 80913056.14272913, 'Plio_LSandy_Vsh45_Initial Porosity': 0.5665860634850669, \"Mio_Up_Vsh50_Athy's Factor k (depth)\": 0.19693118371598237, 'Mio_Up_Vsh50_Anisotropy Factor Permeability': 4.287754559541327, 'Mio_Up_Vsh50_Scaling Factor': 6.614192589450573, 'Mio_Up_Vsh50_Specific Surface Area': 100904288.23460732, 'Mio_Up_Vsh50_Initial Porosity': 0.5510416081581366, \"Mio_Sandy0_Vsh36_Athy's Factor k (depth)\": 0.25657694241719864, 'Mio_Sandy0_Vsh36_Anisotropy Factor Permeability': 0.36018145394997203, 'Mio_Sandy0_Vsh36_Scaling Factor': 11.539427100839207, 'Mio_Sandy0_Vsh36_Specific Surface Area': 91756126.78534758, 'Mio_Sandy0_Vsh36_Initial Porosity': 0.5181507721302137, \"Mio_Shaly1_Vsh70_Athy's Factor k (depth)\": 0.6904107079215552, 'Mio_Shaly1_Vsh70_Anisotropy Factor Permeability': 0.8439558483022795, 'Mio_Shaly1_Vsh70_Scaling Factor': 0.5234363449976166, 'Mio_Shaly1_Vsh70_Specific Surface Area': 38239713.07088566, 'Mio_Shaly1_Vsh70_Initial Porosity': 0.6491435709113859, \"Mio_Sandy1_Vsh36_Athy's Factor k (depth)\": 0.8148068952251944, 'Mio_Sandy1_Vsh36_Anisotropy Factor Permeability': 0.6017642808349328, 'Mio_Sandy1_Vsh36_Scaling Factor': 3.8789789093170213, 'Mio_Sandy1_Vsh36_Specific Surface Area': -15310000.801783685, 'Mio_Sandy1_Vsh36_Initial Porosity': 0.4321581496906307, \"Mio_Shaly2_Vsh60_Athy's Factor k (depth)\": 0.14349129944327782, 'Mio_Shaly2_Vsh60_Anisotropy Factor Permeability': 3.84885903337619, 'Mio_Shaly2_Vsh60_Scaling Factor': 9.23683973309198, 'Mio_Shaly2_Vsh60_Specific Surface Area': 120960132.04708368, 'Mio_Shaly2_Vsh60_Initial Porosity': 0.5944498344568249, \"Mio_Lower_Athy's Factor k (depth)\": 0.8040355432573261, 'Mio_Lower_Anisotropy Factor Permeability': 3.097525538227237, 'Mio_Lower_Scaling Factor': 13.152487748978354, 'Mio_Lower_Specific Surface Area': 103028037.05202408, 'Mio_Lower_Initial Porosity': 0.6617384848662147}. Best is trial 84 with value: 0.00033136604370173725.\n",
      "[I 2023-07-16 08:02:30,550] Trial 96 finished with value: 0.00038058892761570984 and parameters: {\"Pliesto_Surface_Athy's Factor k (depth)\": 0.4754711485934875, 'Pliesto_Surface_Anisotropy Factor Permeability': 4.4729250119645405, 'Pliesto_Surface_Scaling Factor': 11.595882443851346, 'Pliesto_Surface_Specific Surface Area': 16220635.525020225, 'Pliesto_Surface_Initial Porosity': 0.4498451413118719, \"Pliesto_Shaly_Vsh60_Athy's Factor k (depth)\": 0.635886031783188, 'Pliesto_Shaly_Vsh60_Anisotropy Factor Permeability': 2.546678446373653, 'Pliesto_Shaly_Vsh60_Scaling Factor': 8.984141092712065, 'Pliesto_Shaly_Vsh60_Specific Surface Area': 63774886.417718306, 'Pliesto_Shaly_Vsh60_Initial Porosity': 0.6253110743061145, \"Plio_Up_Vsh55_Athy's Factor k (depth)\": 0.7044310500959968, 'Plio_Up_Vsh55_Anisotropy Factor Permeability': 2.4553899079904853, 'Plio_Up_Vsh55_Scaling Factor': 3.195941348076185, 'Plio_Up_Vsh55_Specific Surface Area': 109264487.99084648, 'Plio_Up_Vsh55_Initial Porosity': 0.5579666762700011, \"Plio_LSandy_Vsh45_Athy's Factor k (depth)\": 0.17044618598633302, 'Plio_LSandy_Vsh45_Anisotropy Factor Permeability': 1.163151143709534, 'Plio_LSandy_Vsh45_Scaling Factor': -2.9668864043172705, 'Plio_LSandy_Vsh45_Specific Surface Area': 82746083.25237073, 'Plio_LSandy_Vsh45_Initial Porosity': 0.5807144496074784, \"Mio_Up_Vsh50_Athy's Factor k (depth)\": 0.2150901297443488, 'Mio_Up_Vsh50_Anisotropy Factor Permeability': 4.456521340772897, 'Mio_Up_Vsh50_Scaling Factor': 7.815582219487203, 'Mio_Up_Vsh50_Specific Surface Area': 112135483.52050957, 'Mio_Up_Vsh50_Initial Porosity': 0.5455323360722567, \"Mio_Sandy0_Vsh36_Athy's Factor k (depth)\": 0.28644680376569964, 'Mio_Sandy0_Vsh36_Anisotropy Factor Permeability': 0.5052178300832488, 'Mio_Sandy0_Vsh36_Scaling Factor': 12.152099187413356, 'Mio_Sandy0_Vsh36_Specific Surface Area': 84972411.10486034, 'Mio_Sandy0_Vsh36_Initial Porosity': 0.5256886571096172, \"Mio_Shaly1_Vsh70_Athy's Factor k (depth)\": 0.658084576473989, 'Mio_Shaly1_Vsh70_Anisotropy Factor Permeability': 1.0010427979763041, 'Mio_Shaly1_Vsh70_Scaling Factor': -0.20368889694233416, 'Mio_Shaly1_Vsh70_Specific Surface Area': 47762230.403386526, 'Mio_Shaly1_Vsh70_Initial Porosity': 0.6604806051748963, \"Mio_Sandy1_Vsh36_Athy's Factor k (depth)\": 0.7703524737236415, 'Mio_Sandy1_Vsh36_Anisotropy Factor Permeability': 0.9813178519785388, 'Mio_Sandy1_Vsh36_Scaling Factor': 5.599577401844475, 'Mio_Sandy1_Vsh36_Specific Surface Area': -10001469.774529018, 'Mio_Sandy1_Vsh36_Initial Porosity': 0.4483386295956028, \"Mio_Shaly2_Vsh60_Athy's Factor k (depth)\": 0.2519058055310487, 'Mio_Shaly2_Vsh60_Anisotropy Factor Permeability': 4.029269498054941, 'Mio_Shaly2_Vsh60_Scaling Factor': 8.766507811264287, 'Mio_Shaly2_Vsh60_Specific Surface Area': 124583082.02335747, 'Mio_Shaly2_Vsh60_Initial Porosity': 0.5904158214467635, \"Mio_Lower_Athy's Factor k (depth)\": 0.7687145655305239, 'Mio_Lower_Anisotropy Factor Permeability': 4.059354971194424, 'Mio_Lower_Scaling Factor': 13.89705730732609, 'Mio_Lower_Specific Surface Area': 109427868.72449939, 'Mio_Lower_Initial Porosity': 0.6402489994680928}. Best is trial 84 with value: 0.00033136604370173725.\n",
      "[I 2023-07-16 08:02:39,720] Trial 97 finished with value: 0.0008115896623699514 and parameters: {\"Pliesto_Surface_Athy's Factor k (depth)\": 0.4089201324825944, 'Pliesto_Surface_Anisotropy Factor Permeability': 4.017015417699138, 'Pliesto_Surface_Scaling Factor': 13.597294243919329, 'Pliesto_Surface_Specific Surface Area': 14146954.858584575, 'Pliesto_Surface_Initial Porosity': 0.44986302869575706, \"Pliesto_Shaly_Vsh60_Athy's Factor k (depth)\": 0.615007897159573, 'Pliesto_Shaly_Vsh60_Anisotropy Factor Permeability': 2.586870861581436, 'Pliesto_Shaly_Vsh60_Scaling Factor': 9.211952064152477, 'Pliesto_Shaly_Vsh60_Specific Surface Area': 64663072.728368394, 'Pliesto_Shaly_Vsh60_Initial Porosity': 0.6247378289467288, \"Plio_Up_Vsh55_Athy's Factor k (depth)\": 0.698451684642995, 'Plio_Up_Vsh55_Anisotropy Factor Permeability': 2.392405670292021, 'Plio_Up_Vsh55_Scaling Factor': 2.866843497999029, 'Plio_Up_Vsh55_Specific Surface Area': 90937083.59221919, 'Plio_Up_Vsh55_Initial Porosity': 0.553504150995542, \"Plio_LSandy_Vsh45_Athy's Factor k (depth)\": 0.1846471291466948, 'Plio_LSandy_Vsh45_Anisotropy Factor Permeability': 1.4598430542349758, 'Plio_LSandy_Vsh45_Scaling Factor': -3.0261826732617876, 'Plio_LSandy_Vsh45_Specific Surface Area': 84581363.16124873, 'Plio_LSandy_Vsh45_Initial Porosity': 0.5819790373715356, \"Mio_Up_Vsh50_Athy's Factor k (depth)\": 0.21491160992420671, 'Mio_Up_Vsh50_Anisotropy Factor Permeability': 4.460792902129885, 'Mio_Up_Vsh50_Scaling Factor': 7.909315822880589, 'Mio_Up_Vsh50_Specific Surface Area': 114129858.93235004, 'Mio_Up_Vsh50_Initial Porosity': 0.5589576295545126, \"Mio_Sandy0_Vsh36_Athy's Factor k (depth)\": 0.24589309215664906, 'Mio_Sandy0_Vsh36_Anisotropy Factor Permeability': 0.24671504216635132, 'Mio_Sandy0_Vsh36_Scaling Factor': 11.993350806798041, 'Mio_Sandy0_Vsh36_Specific Surface Area': 78996438.10471797, 'Mio_Sandy0_Vsh36_Initial Porosity': 0.525898222880092, \"Mio_Shaly1_Vsh70_Athy's Factor k (depth)\": 0.6559841411528562, 'Mio_Shaly1_Vsh70_Anisotropy Factor Permeability': 0.674618659677984, 'Mio_Shaly1_Vsh70_Scaling Factor': 0.007363191899088628, 'Mio_Shaly1_Vsh70_Specific Surface Area': 49385695.012928806, 'Mio_Shaly1_Vsh70_Initial Porosity': 0.6559098868316945, \"Mio_Sandy1_Vsh36_Athy's Factor k (depth)\": 0.7560408556510462, 'Mio_Sandy1_Vsh36_Anisotropy Factor Permeability': 0.9742121203273908, 'Mio_Sandy1_Vsh36_Scaling Factor': 5.776205718358962, 'Mio_Sandy1_Vsh36_Specific Surface Area': -20294130.757439923, 'Mio_Sandy1_Vsh36_Initial Porosity': 0.44872376291318844, \"Mio_Shaly2_Vsh60_Athy's Factor k (depth)\": 0.24397985794207044, 'Mio_Shaly2_Vsh60_Anisotropy Factor Permeability': 4.041208433567961, 'Mio_Shaly2_Vsh60_Scaling Factor': 8.79966880553548, 'Mio_Shaly2_Vsh60_Specific Surface Area': 125284478.32361194, 'Mio_Shaly2_Vsh60_Initial Porosity': 0.5902439920659205, \"Mio_Lower_Athy's Factor k (depth)\": 0.8972469168632682, 'Mio_Lower_Anisotropy Factor Permeability': 4.045000510223022, 'Mio_Lower_Scaling Factor': 13.88893260122393, 'Mio_Lower_Specific Surface Area': 113050491.16696408, 'Mio_Lower_Initial Porosity': 0.6483861776597764}. Best is trial 84 with value: 0.00033136604370173725.\n",
      "[I 2023-07-16 08:02:48,780] Trial 98 finished with value: 0.0006078046414148433 and parameters: {\"Pliesto_Surface_Athy's Factor k (depth)\": 0.47421460118024317, 'Pliesto_Surface_Anisotropy Factor Permeability': 4.147107624486237, 'Pliesto_Surface_Scaling Factor': 11.647549231673288, 'Pliesto_Surface_Specific Surface Area': -455104.46342912223, 'Pliesto_Surface_Initial Porosity': 0.4426646713295036, \"Pliesto_Shaly_Vsh60_Athy's Factor k (depth)\": 0.6289661403983778, 'Pliesto_Shaly_Vsh60_Anisotropy Factor Permeability': 2.397026883994082, 'Pliesto_Shaly_Vsh60_Scaling Factor': 8.00523731320037, 'Pliesto_Shaly_Vsh60_Specific Surface Area': 74349144.07640405, 'Pliesto_Shaly_Vsh60_Initial Porosity': 0.6151926592271233, \"Plio_Up_Vsh55_Athy's Factor k (depth)\": 0.7118918405302896, 'Plio_Up_Vsh55_Anisotropy Factor Permeability': 2.752527179841311, 'Plio_Up_Vsh55_Scaling Factor': 3.421519955425218, 'Plio_Up_Vsh55_Specific Surface Area': 107716300.11397578, 'Plio_Up_Vsh55_Initial Porosity': 0.5595957673523705, \"Plio_LSandy_Vsh45_Athy's Factor k (depth)\": 0.16975655645304433, 'Plio_LSandy_Vsh45_Anisotropy Factor Permeability': 1.2027331928022065, 'Plio_LSandy_Vsh45_Scaling Factor': -2.509214215348002, 'Plio_LSandy_Vsh45_Specific Surface Area': 76270019.33517262, 'Plio_LSandy_Vsh45_Initial Porosity': 0.5885434570215423, \"Mio_Up_Vsh50_Athy's Factor k (depth)\": 0.18472289805169806, 'Mio_Up_Vsh50_Anisotropy Factor Permeability': 4.2237800061388295, 'Mio_Up_Vsh50_Scaling Factor': 6.914477864536491, 'Mio_Up_Vsh50_Specific Surface Area': 107447539.2260042, 'Mio_Up_Vsh50_Initial Porosity': 0.5463532789433581, \"Mio_Sandy0_Vsh36_Athy's Factor k (depth)\": 0.3111276793871677, 'Mio_Sandy0_Vsh36_Anisotropy Factor Permeability': 0.4794022934660752, 'Mio_Sandy0_Vsh36_Scaling Factor': 12.796109321693196, 'Mio_Sandy0_Vsh36_Specific Surface Area': 70519086.30532125, 'Mio_Sandy0_Vsh36_Initial Porosity': 0.5280846993882642, \"Mio_Shaly1_Vsh70_Athy's Factor k (depth)\": 0.7654560966925931, 'Mio_Shaly1_Vsh70_Anisotropy Factor Permeability': 0.990859090561885, 'Mio_Shaly1_Vsh70_Scaling Factor': 0.9083309614645259, 'Mio_Shaly1_Vsh70_Specific Surface Area': 25590710.68821234, 'Mio_Shaly1_Vsh70_Initial Porosity': 0.6442681518218607, \"Mio_Sandy1_Vsh36_Athy's Factor k (depth)\": 0.8836792723958475, 'Mio_Sandy1_Vsh36_Anisotropy Factor Permeability': 0.767297730950965, 'Mio_Sandy1_Vsh36_Scaling Factor': 4.843684640557437, 'Mio_Sandy1_Vsh36_Specific Surface Area': -9724998.268120013, 'Mio_Sandy1_Vsh36_Initial Porosity': 0.45529598644449276, \"Mio_Shaly2_Vsh60_Athy's Factor k (depth)\": 0.21170422385492577, 'Mio_Shaly2_Vsh60_Anisotropy Factor Permeability': 4.456279868300547, 'Mio_Shaly2_Vsh60_Scaling Factor': 9.11417095915756, 'Mio_Shaly2_Vsh60_Specific Surface Area': 122020845.83373481, 'Mio_Shaly2_Vsh60_Initial Porosity': 0.5968246185327328, \"Mio_Lower_Athy's Factor k (depth)\": 0.7705148635935185, 'Mio_Lower_Anisotropy Factor Permeability': 3.8839663286328583, 'Mio_Lower_Scaling Factor': 12.328585575811383, 'Mio_Lower_Specific Surface Area': 107988260.63710083, 'Mio_Lower_Initial Porosity': 0.6340411206519181}. Best is trial 84 with value: 0.00033136604370173725.\n",
      "[I 2023-07-16 08:02:57,949] Trial 99 finished with value: 0.0023156671732712662 and parameters: {\"Pliesto_Surface_Athy's Factor k (depth)\": 0.4385998239116546, 'Pliesto_Surface_Anisotropy Factor Permeability': 4.427830069605081, 'Pliesto_Surface_Scaling Factor': 10.307455633542576, 'Pliesto_Surface_Specific Surface Area': 3671685.6723083854, 'Pliesto_Surface_Initial Porosity': 0.43526854254410624, \"Pliesto_Shaly_Vsh60_Athy's Factor k (depth)\": 0.722494063271246, 'Pliesto_Shaly_Vsh60_Anisotropy Factor Permeability': 2.804306858251725, 'Pliesto_Shaly_Vsh60_Scaling Factor': 8.797455329480757, 'Pliesto_Shaly_Vsh60_Specific Surface Area': 62481353.31395345, 'Pliesto_Shaly_Vsh60_Initial Porosity': 0.6274554450611737, \"Plio_Up_Vsh55_Athy's Factor k (depth)\": 0.7601674474666775, 'Plio_Up_Vsh55_Anisotropy Factor Permeability': 2.6201934562275184, 'Plio_Up_Vsh55_Scaling Factor': 2.403577029601962, 'Plio_Up_Vsh55_Specific Surface Area': 103246488.50406335, 'Plio_Up_Vsh55_Initial Porosity': 0.5643262657619613, \"Plio_LSandy_Vsh45_Athy's Factor k (depth)\": 0.2035496532883247, 'Plio_LSandy_Vsh45_Anisotropy Factor Permeability': 1.5986240420784212, 'Plio_LSandy_Vsh45_Scaling Factor': -1.9736832230372154, 'Plio_LSandy_Vsh45_Specific Surface Area': 82493795.10460357, 'Plio_LSandy_Vsh45_Initial Porosity': 0.5916705187352879, \"Mio_Up_Vsh50_Athy's Factor k (depth)\": 0.13326796621555675, 'Mio_Up_Vsh50_Anisotropy Factor Permeability': 3.9732849489426187, 'Mio_Up_Vsh50_Scaling Factor': 6.439096412851643, 'Mio_Up_Vsh50_Specific Surface Area': 117059865.88243267, 'Mio_Up_Vsh50_Initial Porosity': 0.5403869157469384, \"Mio_Sandy0_Vsh36_Athy's Factor k (depth)\": 0.3346924849139777, 'Mio_Sandy0_Vsh36_Anisotropy Factor Permeability': 0.8475121094966216, 'Mio_Sandy0_Vsh36_Scaling Factor': 11.262998637504113, 'Mio_Sandy0_Vsh36_Specific Surface Area': 75027997.88590029, 'Mio_Sandy0_Vsh36_Initial Porosity': 0.5110859342838895, \"Mio_Shaly1_Vsh70_Athy's Factor k (depth)\": 0.6990957004287682, 'Mio_Shaly1_Vsh70_Anisotropy Factor Permeability': 0.4434657074104119, 'Mio_Shaly1_Vsh70_Scaling Factor': -0.271205740402928, 'Mio_Shaly1_Vsh70_Specific Surface Area': 35487660.36024787, 'Mio_Shaly1_Vsh70_Initial Porosity': 0.6621291291984707, \"Mio_Sandy1_Vsh36_Athy's Factor k (depth)\": 0.7714916395938304, 'Mio_Sandy1_Vsh36_Anisotropy Factor Permeability': 0.853961975145332, 'Mio_Sandy1_Vsh36_Scaling Factor': 6.565401909436101, 'Mio_Sandy1_Vsh36_Specific Surface Area': -25162241.50910308, 'Mio_Sandy1_Vsh36_Initial Porosity': 0.4398885090240322, \"Mio_Shaly2_Vsh60_Athy's Factor k (depth)\": 0.25358490950317536, 'Mio_Shaly2_Vsh60_Anisotropy Factor Permeability': 4.302396149482559, 'Mio_Shaly2_Vsh60_Scaling Factor': 9.473668001207368, 'Mio_Shaly2_Vsh60_Specific Surface Area': 126726183.75293109, 'Mio_Shaly2_Vsh60_Initial Porosity': 0.6135855822010003, \"Mio_Lower_Athy's Factor k (depth)\": 0.8320575032048474, 'Mio_Lower_Anisotropy Factor Permeability': 3.594355510178875, 'Mio_Lower_Scaling Factor': 14.012997587972093, 'Mio_Lower_Specific Surface Area': 122760655.04198486, 'Mio_Lower_Initial Porosity': 0.6447110748380102}. Best is trial 84 with value: 0.00033136604370173725.\n"
     ]
    },
    {
     "data": {
      "text/plain": [
       "{\"Pliesto_Surface_Athy's Factor k (depth)\": 0.45847390794865395,\n",
       " 'Pliesto_Surface_Anisotropy Factor Permeability': 4.7677062048327254,\n",
       " 'Pliesto_Surface_Scaling Factor': 9.232025823691485,\n",
       " 'Pliesto_Surface_Specific Surface Area': 10134310.27727286,\n",
       " 'Pliesto_Surface_Initial Porosity': 0.4395165666068029,\n",
       " \"Pliesto_Shaly_Vsh60_Athy's Factor k (depth)\": 0.654131189709429,\n",
       " 'Pliesto_Shaly_Vsh60_Anisotropy Factor Permeability': 2.0549336411590122,\n",
       " 'Pliesto_Shaly_Vsh60_Scaling Factor': 7.2229275591813495,\n",
       " 'Pliesto_Shaly_Vsh60_Specific Surface Area': 62428356.05010823,\n",
       " 'Pliesto_Shaly_Vsh60_Initial Porosity': 0.6129334644634611,\n",
       " \"Plio_Up_Vsh55_Athy's Factor k (depth)\": 0.6914385946948618,\n",
       " 'Plio_Up_Vsh55_Anisotropy Factor Permeability': 2.3929678853261915,\n",
       " 'Plio_Up_Vsh55_Scaling Factor': 3.9588853999188984,\n",
       " 'Plio_Up_Vsh55_Specific Surface Area': 113747318.5990822,\n",
       " 'Plio_Up_Vsh55_Initial Porosity': 0.56752998295666,\n",
       " \"Plio_LSandy_Vsh45_Athy's Factor k (depth)\": 0.14122944810829624,\n",
       " 'Plio_LSandy_Vsh45_Anisotropy Factor Permeability': 1.9055077082225744,\n",
       " 'Plio_LSandy_Vsh45_Scaling Factor': -2.8064053634980537,\n",
       " 'Plio_LSandy_Vsh45_Specific Surface Area': 89408618.56331941,\n",
       " 'Plio_LSandy_Vsh45_Initial Porosity': 0.5661167642706689,\n",
       " \"Mio_Up_Vsh50_Athy's Factor k (depth)\": 0.21441082463162509,\n",
       " 'Mio_Up_Vsh50_Anisotropy Factor Permeability': 3.997675000576715,\n",
       " 'Mio_Up_Vsh50_Scaling Factor': 6.289942197565794,\n",
       " 'Mio_Up_Vsh50_Specific Surface Area': 100613695.64285804,\n",
       " 'Mio_Up_Vsh50_Initial Porosity': 0.5365474041065357,\n",
       " \"Mio_Sandy0_Vsh36_Athy's Factor k (depth)\": 0.29274171195874527,\n",
       " 'Mio_Sandy0_Vsh36_Anisotropy Factor Permeability': 0.8782684508549823,\n",
       " 'Mio_Sandy0_Vsh36_Scaling Factor': 13.64082417532406,\n",
       " 'Mio_Sandy0_Vsh36_Specific Surface Area': 86895317.79062611,\n",
       " 'Mio_Sandy0_Vsh36_Initial Porosity': 0.5369803352085655,\n",
       " \"Mio_Shaly1_Vsh70_Athy's Factor k (depth)\": 0.6296999926037302,\n",
       " 'Mio_Shaly1_Vsh70_Anisotropy Factor Permeability': 0.9922221553303688,\n",
       " 'Mio_Shaly1_Vsh70_Scaling Factor': 0.29453832784879364,\n",
       " 'Mio_Shaly1_Vsh70_Specific Surface Area': 45629240.44561364,\n",
       " 'Mio_Shaly1_Vsh70_Initial Porosity': 0.6540406814330945,\n",
       " \"Mio_Sandy1_Vsh36_Athy's Factor k (depth)\": 0.7951402375357273,\n",
       " 'Mio_Sandy1_Vsh36_Anisotropy Factor Permeability': 0.25949552425486644,\n",
       " 'Mio_Sandy1_Vsh36_Scaling Factor': 4.173696253469695,\n",
       " 'Mio_Sandy1_Vsh36_Specific Surface Area': -16693981.150101852,\n",
       " 'Mio_Sandy1_Vsh36_Initial Porosity': 0.4360046082237918,\n",
       " \"Mio_Shaly2_Vsh60_Athy's Factor k (depth)\": 0.2755244288027167,\n",
       " 'Mio_Shaly2_Vsh60_Anisotropy Factor Permeability': 3.7146961786178427,\n",
       " 'Mio_Shaly2_Vsh60_Scaling Factor': 8.482213026316984,\n",
       " 'Mio_Shaly2_Vsh60_Specific Surface Area': 119538652.18468519,\n",
       " 'Mio_Shaly2_Vsh60_Initial Porosity': 0.6083991954612921,\n",
       " \"Mio_Lower_Athy's Factor k (depth)\": 0.7411653794027939,\n",
       " 'Mio_Lower_Anisotropy Factor Permeability': 3.7585238254203004,\n",
       " 'Mio_Lower_Scaling Factor': 13.10700410113063,\n",
       " 'Mio_Lower_Specific Surface Area': 99248130.64099038,\n",
       " 'Mio_Lower_Initial Porosity': 0.6304400922491546}"
      ]
     },
     "execution_count": 12,
     "metadata": {},
     "output_type": "execute_result"
    }
   ],
   "source": [
    "import optuna\n",
    "def objective(trial:optuna.Trial):\n",
    "\n",
    "    # Update Lithological parameters\n",
    "    property_dicts = {}\n",
    "    for lithology_index, lithology_name in enumerate(lithology_names):\n",
    "        \n",
    "        # Get the random variable parameters\n",
    "        sigmas = lithology_priors_table[lithology_uncertain_properties_sigma].iloc[lithology_index,:].values\n",
    "        mus = lithology_priors_table[lithology_uncertain_properties_mu].iloc[lithology_index,:].values\n",
    "        \n",
    "        # Sample from normals\n",
    "        # property_values = np.random.normal(mus, sigmas)\n",
    "        property_values_low = mus - 2*sigmas\n",
    "        property_values_high = mus + 2*sigmas\n",
    "\n",
    "        property_values = []\n",
    "        for i, lithology_uncertain_property in enumerate(lithology_uncertain_properties):\n",
    "            name =  lithology_name + \"_\" + lithology_uncertain_property\n",
    "            value = trial.suggest_float(name, property_values_low[i], property_values_high[i])\n",
    "            property_values.append(value)\n",
    "        \n",
    "        # Update the lithology\n",
    "        property_dict = {prop:val for prop,val in zip(lithology_uncertain_properties, property_values)}\n",
    "        property_dicts[lithology_name] = property_dict\n",
    "        lithology.update_lithology_parameter(lithology_name, property_dict)\n",
    "    \n",
    "    trial.set_user_attr('property_dicts', property_dicts)\n",
    "    project.save_lithology()\n",
    "\n",
    "    # Update heatflow\n",
    "    # heat_flow_low = heat_prior_mu-2*heat_prior_sigma\n",
    "    # heat_flow_high = heat_prior_mu+2*heat_prior_sigma\n",
    "    # heat_value =  trial.suggest_float(\"Heat flow\", heat_flow_low, heat_flow_high)\n",
    "    # model.heat_flow.table['Value'] = heat_value\n",
    "    model.heat_flow.table['Value'] = 45\n",
    "    model.heat_flow.save()\n",
    "\n",
    "    # Run the model and get the results\n",
    "    log = project.run_model(\"ST168\")\n",
    "    layer_names = [\"Depth\", \"Porosity (effective)\", \"Temperature\", \"Pore Pressure\"]\n",
    "    layer_names = [\"Depth\", \"Porosity (effective)\"]\n",
    "    results_table = get_layer_data_table(project, model_name, layer_names)\n",
    "    trial.set_user_attr('results_table', results_table)\n",
    "    # results_table['Temperature'] = results_table['Temperature'] -272.15\n",
    "\n",
    "    # Calculate the errors\n",
    "    y = results_table[\"Depth\"].values\n",
    "    mean_square_errors = []\n",
    "    r_squareds = []\n",
    "    for i, layer_name in enumerate(layer_names[1:]):\n",
    "        x = results_table[layer_name].values\n",
    "        calibration_data = calibration_tables[layer_name]\n",
    "        y_calibration = calibration_data.iloc[:,0].values\n",
    "        x_calibration = calibration_data.iloc[:,1].values\n",
    "        x_interp = np.interp(y_calibration, y,x)\n",
    "        mse = mean_squared_error(x_calibration, x_interp)\n",
    "        mean_square_errors.append(mse)\n",
    "        r2 = r2_score(x_calibration, x_interp)\n",
    "        r2 = np.max([0, r2])\n",
    "        r_squareds.append(r2)\n",
    "\n",
    "    return np.mean(mean_square_errors)\n",
    "\n",
    "sampler = optuna.samplers.TPESampler()\n",
    "study = optuna.create_study(study_name='PetroMod Optimization', sampler=sampler)\n",
    "study.optimize(objective, n_trials=100)\n",
    "study.best_params"
   ]
  },
  {
   "cell_type": "code",
   "execution_count": 64,
   "metadata": {},
   "outputs": [
    {
     "data": {
      "image/png": "[encoded data removed]",
      "text/plain": [
       "<Figure size 330x400 with 1 Axes>"
      ]
     },
     "metadata": {},
     "output_type": "display_data"
    }
   ],
   "source": [
    "results_table = study.best_trial.user_attrs['results_table']\n",
    "\n",
    "layer_names = [\"Depth\", \"Porosity (effective)\"]\n",
    "y = results_table[\"Depth\"].values\n",
    "n_plots = len(layer_names)-1\n",
    "fig, axs = plt.subplots(1,n_plots, figsize=(3.3*n_plots,4))\n",
    "if not isinstance(axs, list):\n",
    "    axs = [axs,]\n",
    "\n",
    "for i, layer_name in enumerate(layer_names[1:]):\n",
    "\n",
    "    ax = axs[i]\n",
    "    for trial in study.trials:\n",
    "        results_table_trial = trial.user_attrs['results_table']\n",
    "        x = results_table_trial[layer_name].values\n",
    "        ax.plot(x, y, color='gray')\n",
    "\n",
    "    x = results_table[layer_name].values\n",
    "    calibration_data = calibration_tables[layer_name]\n",
    "    ax.plot(x, y, color='k')\n",
    "    ax.set_ylim([0, None])\n",
    "    ax.invert_yaxis()\n",
    "    ax.set_xlabel(layer_name)\n",
    "    if i==0:\n",
    "        ax.set_ylabel(\"Depth (m)\")\n",
    "    else:\n",
    "        ax.set_yticklabels([])\n",
    "\n",
    "    y_calibration = calibration_data.iloc[:,0].values\n",
    "    x_calibration = calibration_data.iloc[:,1].values\n",
    "    ax.scatter(x_calibration, y_calibration, color='r', s=15, zorder=10)"
   ]
  },
  {
   "cell_type": "code",
   "execution_count": null,
   "metadata": {},
   "outputs": [],
   "source": [
    "import joblib\n",
    "# joblib.dump(study, \"study.pkl\")\n",
    "study:optuna.Study = joblib.load(\"study.pkl\")"
   ]
  },
  {
   "cell_type": "code",
   "execution_count": 17,
   "metadata": {},
   "outputs": [
    {
     "data": {
      "application/vnd.plotly.v1+json": {
       "config": {
        "plotlyServerURL": "https://plot.ly"
       },
       "data": [
        {
         "mode": "markers",
         "name": "Objective Value",
         "type": "scatter",
         "x": [
          0,
          1,
          2,
          3,
          4,
          5,
          6,
          7,
          8,
          9,
          10,
          11,
          12,
          13,
          14,
          15,
          16,
          17,
          18,
          19,
          20,
          21,
          22,
          23,
          24,
          25,
          26,
          27,
          28,
          29,
          30,
          31,
          32,
          33,
          34,
          35,
          36,
          37,
          38,
          39,
          40,
          41,
          42,
          43,
          44,
          45,
          46,
          47,
          48,
          49,
          50,
          51,
          52,
          53,
          54,
          55,
          56,
          57,
          58,
          59,
          60,
          61,
          62,
          63,
          64,
          65,
          66,
          67,
          68,
          69,
          70,
          71,
          72,
          73,
          74,
          75,
          76,
          77,
          78,
          79,
          80,
          81,
          82,
          83,
          84,
          85,
          86,
          87,
          88,
          89,
          90,
          91,
          92,
          93,
          94,
          95,
          96,
          97,
          98,
          99
         ],
         "y": [
          0.005700561912928195,
          0.01073672023805725,
          0.0028740502104290058,
          0.005368864926802685,
          0.02695094671425187,
          0.010606762402736187,
          0.008408004965678473,
          0.00468700248084586,
          0.0074841181177884904,
          0.007913814250116589,
          0.009748961154230318,
          0.005302723441529381,
          0.0005662112134973783,
          0.0016809240453822278,
          0.0028077461103938536,
          0.011406613693484538,
          0.0009555741567821926,
          0.0012326982741513077,
          0.0005678855000757592,
          0.005316123456106785,
          0.0007387943398096863,
          0.0007271062469652438,
          0.0013323421671183986,
          0.0022859263980756703,
          0.001379112191154457,
          0.003961474454112242,
          0.0022363209001246215,
          0.00041806715745722135,
          0.012636570824842427,
          0.014213511847617682,
          0.00034593714626025,
          0.0007713547403061021,
          0.0010804916421904226,
          0.00109051299935082,
          0.000518147480050663,
          0.005790305450950444,
          0.002973596710620094,
          0.003780390215181215,
          0.023554258366964335,
          0.0008887967840934771,
          0.0012026797531147317,
          0.00048659524841028685,
          0.00051212826633359,
          0.0006223872322181584,
          0.0036435751219994943,
          0.001513630952336212,
          0.0038930863641357316,
          0.0029517340959860218,
          0.0017987675269157271,
          0.0014022142225428164,
          0.001735097477540976,
          0.0014012439704819662,
          0.0006733046892767524,
          0.02578218227400681,
          0.0021630195659728276,
          0.003135683610313358,
          0.0012395362727322897,
          0.0004617995865637962,
          0.0012838185421370774,
          0.002600986854393855,
          0.0009554734556023438,
          0.0003850803389741691,
          0.0005445165381415902,
          0.00043953585558450213,
          0.0031534791680643747,
          0.0006315446270248027,
          0.0012573000088367647,
          0.001413714948539862,
          0.0021258556813819425,
          0.000612924315476986,
          0.0017513830835541688,
          0.0005719284524369856,
          0.0006854132604166978,
          0.0007083401012820532,
          0.002433338502411966,
          0.0010386374213412386,
          0.0007111572778467357,
          0.0017317957919151597,
          0.0011803327575068395,
          0.004018990140536279,
          0.003378327142614772,
          0.0005101612871696975,
          0.0007337801333582158,
          0.0004748145096517366,
          0.00033136604370173725,
          0.0003370592128463213,
          0.0003392161410851473,
          0.0018573457187999257,
          0.0015043175339889683,
          0.00043249917038000663,
          0.003534273545636678,
          0.0005183134915054078,
          0.0004019330928360233,
          0.0008213995392566294,
          0.0016290188686857894,
          0.0005892995849607087,
          0.00038058892761570984,
          0.0008115896623699514,
          0.0006078046414148433,
          0.0023156671732712662
         ]
        },
        {
         "name": "Best Value",
         "type": "scatter",
         "x": [
          0,
          1,
          2,
          3,
          4,
          5,
          6,
          7,
          8,
          9,
          10,
          11,
          12,
          13,
          14,
          15,
          16,
          17,
          18,
          19,
          20,
          21,
          22,
          23,
          24,
          25,
          26,
          27,
          28,
          29,
          30,
          31,
          32,
          33,
          34,
          35,
          36,
          37,
          38,
          39,
          40,
          41,
          42,
          43,
          44,
          45,
          46,
          47,
          48,
          49,
          50,
          51,
          52,
          53,
          54,
          55,
          56,
          57,
          58,
          59,
          60,
          61,
          62,
          63,
          64,
          65,
          66,
          67,
          68,
          69,
          70,
          71,
          72,
          73,
          74,
          75,
          76,
          77,
          78,
          79,
          80,
          81,
          82,
          83,
          84,
          85,
          86,
          87,
          88,
          89,
          90,
          91,
          92,
          93,
          94,
          95,
          96,
          97,
          98,
          99
         ],
         "y": [
          0.005700561912928195,
          0.005700561912928195,
          0.0028740502104290058,
          0.0028740502104290058,
          0.0028740502104290058,
          0.0028740502104290058,
          0.0028740502104290058,
          0.0028740502104290058,
          0.0028740502104290058,
          0.0028740502104290058,
          0.0028740502104290058,
          0.0028740502104290058,
          0.0005662112134973783,
          0.0005662112134973783,
          0.0005662112134973783,
          0.0005662112134973783,
          0.0005662112134973783,
          0.0005662112134973783,
          0.0005662112134973783,
          0.0005662112134973783,
          0.0005662112134973783,
          0.0005662112134973783,
          0.0005662112134973783,
          0.0005662112134973783,
          0.0005662112134973783,
          0.0005662112134973783,
          0.0005662112134973783,
          0.00041806715745722135,
          0.00041806715745722135,
          0.00041806715745722135,
          0.00034593714626025,
          0.00034593714626025,
          0.00034593714626025,
          0.00034593714626025,
          0.00034593714626025,
          0.00034593714626025,
          0.00034593714626025,
          0.00034593714626025,
          0.00034593714626025,
          0.00034593714626025,
          0.00034593714626025,
          0.00034593714626025,
          0.00034593714626025,
          0.00034593714626025,
          0.00034593714626025,
          0.00034593714626025,
          0.00034593714626025,
          0.00034593714626025,
          0.00034593714626025,
          0.00034593714626025,
          0.00034593714626025,
          0.00034593714626025,
          0.00034593714626025,
          0.00034593714626025,
          0.00034593714626025,
          0.00034593714626025,
          0.00034593714626025,
          0.00034593714626025,
          0.00034593714626025,
          0.00034593714626025,
          0.00034593714626025,
          0.00034593714626025,
          0.00034593714626025,
          0.00034593714626025,
          0.00034593714626025,
          0.00034593714626025,
          0.00034593714626025,
          0.00034593714626025,
          0.00034593714626025,
          0.00034593714626025,
          0.00034593714626025,
          0.00034593714626025,
          0.00034593714626025,
          0.00034593714626025,
          0.00034593714626025,
          0.00034593714626025,
          0.00034593714626025,
          0.00034593714626025,
          0.00034593714626025,
          0.00034593714626025,
          0.00034593714626025,
          0.00034593714626025,
          0.00034593714626025,
          0.00034593714626025,
          0.00033136604370173725,
          0.00033136604370173725,
          0.00033136604370173725,
          0.00033136604370173725,
          0.00033136604370173725,
          0.00033136604370173725,
          0.00033136604370173725,
          0.00033136604370173725,
          0.00033136604370173725,
          0.00033136604370173725,
          0.00033136604370173725,
          0.00033136604370173725,
          0.00033136604370173725,
          0.00033136604370173725,
          0.00033136604370173725,
          0.00033136604370173725
         ]
        }
       ],
       "layout": {
        "template": {
         "data": {
          "bar": [
           {
            "error_x": {
             "color": "#2a3f5f"
            },
            "error_y": {
             "color": "#2a3f5f"
            },
            "marker": {
             "line": {
              "color": "#E5ECF6",
              "width": 0.5
             },
             "pattern": {
              "fillmode": "overlay",
              "size": 10,
              "solidity": 0.2
             }
            },
            "type": "bar"
           }
          ],
          "barpolar": [
           {
            "marker": {
             "line": {
              "color": "#E5ECF6",
              "width": 0.5
             },
             "pattern": {
              "fillmode": "overlay",
              "size": 10,
              "solidity": 0.2
             }
            },
            "type": "barpolar"
           }
          ],
          "carpet": [
           {
            "aaxis": {
             "endlinecolor": "#2a3f5f",
             "gridcolor": "white",
             "linecolor": "white",
             "minorgridcolor": "white",
             "startlinecolor": "#2a3f5f"
            },
            "baxis": {
             "endlinecolor": "#2a3f5f",
             "gridcolor": "white",
             "linecolor": "white",
             "minorgridcolor": "white",
             "startlinecolor": "#2a3f5f"
            },
            "type": "carpet"
           }
          ],
          "choropleth": [
           {
            "colorbar": {
             "outlinewidth": 0,
             "ticks": ""
            },
            "type": "choropleth"
           }
          ],
          "contour": [
           {
            "colorbar": {
             "outlinewidth": 0,
             "ticks": ""
            },
            "colorscale": [
             [
              0,
              "#0d0887"
             ],
             [
              0.1111111111111111,
              "#46039f"
             ],
             [
              0.2222222222222222,
              "#7201a8"
             ],
             [
              0.3333333333333333,
              "#9c179e"
             ],
             [
              0.4444444444444444,
              "#bd3786"
             ],
             [
              0.5555555555555556,
              "#d8576b"
             ],
             [
              0.6666666666666666,
              "#ed7953"
             ],
             [
              0.7777777777777778,
              "#fb9f3a"
             ],
             [
              0.8888888888888888,
              "#fdca26"
             ],
             [
              1,
              "#f0f921"
             ]
            ],
            "type": "contour"
           }
          ],
          "contourcarpet": [
           {
            "colorbar": {
             "outlinewidth": 0,
             "ticks": ""
            },
            "type": "contourcarpet"
           }
          ],
          "heatmap": [
           {
            "colorbar": {
             "outlinewidth": 0,
             "ticks": ""
            },
            "colorscale": [
             [
              0,
              "#0d0887"
             ],
             [
              0.1111111111111111,
              "#46039f"
             ],
             [
              0.2222222222222222,
              "#7201a8"
             ],
             [
              0.3333333333333333,
              "#9c179e"
             ],
             [
              0.4444444444444444,
              "#bd3786"
             ],
             [
              0.5555555555555556,
              "#d8576b"
             ],
             [
              0.6666666666666666,
              "#ed7953"
             ],
             [
              0.7777777777777778,
              "#fb9f3a"
             ],
             [
              0.8888888888888888,
              "#fdca26"
             ],
             [
              1,
              "#f0f921"
             ]
            ],
            "type": "heatmap"
           }
          ],
          "heatmapgl": [
           {
            "colorbar": {
             "outlinewidth": 0,
             "ticks": ""
            },
            "colorscale": [
             [
              0,
              "#0d0887"
             ],
             [
              0.1111111111111111,
              "#46039f"
             ],
             [
              0.2222222222222222,
              "#7201a8"
             ],
             [
              0.3333333333333333,
              "#9c179e"
             ],
             [
              0.4444444444444444,
              "#bd3786"
             ],
             [
              0.5555555555555556,
              "#d8576b"
             ],
             [
              0.6666666666666666,
              "#ed7953"
             ],
             [
              0.7777777777777778,
              "#fb9f3a"
             ],
             [
              0.8888888888888888,
              "#fdca26"
             ],
             [
              1,
              "#f0f921"
             ]
            ],
            "type": "heatmapgl"
           }
          ],
          "histogram": [
           {
            "marker": {
             "pattern": {
              "fillmode": "overlay",
              "size": 10,
              "solidity": 0.2
             }
            },
            "type": "histogram"
           }
          ],
          "histogram2d": [
           {
            "colorbar": {
             "outlinewidth": 0,
             "ticks": ""
            },
            "colorscale": [
             [
              0,
              "#0d0887"
             ],
             [
              0.1111111111111111,
              "#46039f"
             ],
             [
              0.2222222222222222,
              "#7201a8"
             ],
             [
              0.3333333333333333,
              "#9c179e"
             ],
             [
              0.4444444444444444,
              "#bd3786"
             ],
             [
              0.5555555555555556,
              "#d8576b"
             ],
             [
              0.6666666666666666,
              "#ed7953"
             ],
             [
              0.7777777777777778,
              "#fb9f3a"
             ],
             [
              0.8888888888888888,
              "#fdca26"
             ],
             [
              1,
              "#f0f921"
             ]
            ],
            "type": "histogram2d"
           }
          ],
          "histogram2dcontour": [
           {
            "colorbar": {
             "outlinewidth": 0,
             "ticks": ""
            },
            "colorscale": [
             [
              0,
              "#0d0887"
             ],
             [
              0.1111111111111111,
              "#46039f"
             ],
             [
              0.2222222222222222,
              "#7201a8"
             ],
             [
              0.3333333333333333,
              "#9c179e"
             ],
             [
              0.4444444444444444,
              "#bd3786"
             ],
             [
              0.5555555555555556,
              "#d8576b"
             ],
             [
              0.6666666666666666,
              "#ed7953"
             ],
             [
              0.7777777777777778,
              "#fb9f3a"
             ],
             [
              0.8888888888888888,
              "#fdca26"
             ],
             [
              1,
              "#f0f921"
             ]
            ],
            "type": "histogram2dcontour"
           }
          ],
          "mesh3d": [
           {
            "colorbar": {
             "outlinewidth": 0,
             "ticks": ""
            },
            "type": "mesh3d"
           }
          ],
          "parcoords": [
           {
            "line": {
             "colorbar": {
              "outlinewidth": 0,
              "ticks": ""
             }
            },
            "type": "parcoords"
           }
          ],
          "pie": [
           {
            "automargin": true,
            "type": "pie"
           }
          ],
          "scatter": [
           {
            "fillpattern": {
             "fillmode": "overlay",
             "size": 10,
             "solidity": 0.2
            },
            "type": "scatter"
           }
          ],
          "scatter3d": [
           {
            "line": {
             "colorbar": {
              "outlinewidth": 0,
              "ticks": ""
             }
            },
            "marker": {
             "colorbar": {
              "outlinewidth": 0,
              "ticks": ""
             }
            },
            "type": "scatter3d"
           }
          ],
          "scattercarpet": [
           {
            "marker": {
             "colorbar": {
              "outlinewidth": 0,
              "ticks": ""
             }
            },
            "type": "scattercarpet"
           }
          ],
          "scattergeo": [
           {
            "marker": {
             "colorbar": {
              "outlinewidth": 0,
              "ticks": ""
             }
            },
            "type": "scattergeo"
           }
          ],
          "scattergl": [
           {
            "marker": {
             "colorbar": {
              "outlinewidth": 0,
              "ticks": ""
             }
            },
            "type": "scattergl"
           }
          ],
          "scattermapbox": [
           {
            "marker": {
             "colorbar": {
              "outlinewidth": 0,
              "ticks": ""
             }
            },
            "type": "scattermapbox"
           }
          ],
          "scatterpolar": [
           {
            "marker": {
             "colorbar": {
              "outlinewidth": 0,
              "ticks": ""
             }
            },
            "type": "scatterpolar"
           }
          ],
          "scatterpolargl": [
           {
            "marker": {
             "colorbar": {
              "outlinewidth": 0,
              "ticks": ""
             }
            },
            "type": "scatterpolargl"
           }
          ],
          "scatterternary": [
           {
            "marker": {
             "colorbar": {
              "outlinewidth": 0,
              "ticks": ""
             }
            },
            "type": "scatterternary"
           }
          ],
          "surface": [
           {
            "colorbar": {
             "outlinewidth": 0,
             "ticks": ""
            },
            "colorscale": [
             [
              0,
              "#0d0887"
             ],
             [
              0.1111111111111111,
              "#46039f"
             ],
             [
              0.2222222222222222,
              "#7201a8"
             ],
             [
              0.3333333333333333,
              "#9c179e"
             ],
             [
              0.4444444444444444,
              "#bd3786"
             ],
             [
              0.5555555555555556,
              "#d8576b"
             ],
             [
              0.6666666666666666,
              "#ed7953"
             ],
             [
              0.7777777777777778,
              "#fb9f3a"
             ],
             [
              0.8888888888888888,
              "#fdca26"
             ],
             [
              1,
              "#f0f921"
             ]
            ],
            "type": "surface"
           }
          ],
          "table": [
           {
            "cells": {
             "fill": {
              "color": "#EBF0F8"
             },
             "line": {
              "color": "white"
             }
            },
            "header": {
             "fill": {
              "color": "#C8D4E3"
             },
             "line": {
              "color": "white"
             }
            },
            "type": "table"
           }
          ]
         },
         "layout": {
          "annotationdefaults": {
           "arrowcolor": "#2a3f5f",
           "arrowhead": 0,
           "arrowwidth": 1
          },
          "autotypenumbers": "strict",
          "coloraxis": {
           "colorbar": {
            "outlinewidth": 0,
            "ticks": ""
           }
          },
          "colorscale": {
           "diverging": [
            [
             0,
             "#8e0152"
            ],
            [
             0.1,
             "#c51b7d"
            ],
            [
             0.2,
             "#de77ae"
            ],
            [
             0.3,
             "#f1b6da"
            ],
            [
             0.4,
             "#fde0ef"
            ],
            [
             0.5,
             "#f7f7f7"
            ],
            [
             0.6,
             "#e6f5d0"
            ],
            [
             0.7,
             "#b8e186"
            ],
            [
             0.8,
             "#7fbc41"
            ],
            [
             0.9,
             "#4d9221"
            ],
            [
             1,
             "#276419"
            ]
           ],
           "sequential": [
            [
             0,
             "#0d0887"
            ],
            [
             0.1111111111111111,
             "#46039f"
            ],
            [
             0.2222222222222222,
             "#7201a8"
            ],
            [
             0.3333333333333333,
             "#9c179e"
            ],
            [
             0.4444444444444444,
             "#bd3786"
            ],
            [
             0.5555555555555556,
             "#d8576b"
            ],
            [
             0.6666666666666666,
             "#ed7953"
            ],
            [
             0.7777777777777778,
             "#fb9f3a"
            ],
            [
             0.8888888888888888,
             "#fdca26"
            ],
            [
             1,
             "#f0f921"
            ]
           ],
           "sequentialminus": [
            [
             0,
             "#0d0887"
            ],
            [
             0.1111111111111111,
             "#46039f"
            ],
            [
             0.2222222222222222,
             "#7201a8"
            ],
            [
             0.3333333333333333,
             "#9c179e"
            ],
            [
             0.4444444444444444,
             "#bd3786"
            ],
            [
             0.5555555555555556,
             "#d8576b"
            ],
            [
             0.6666666666666666,
             "#ed7953"
            ],
            [
             0.7777777777777778,
             "#fb9f3a"
            ],
            [
             0.8888888888888888,
             "#fdca26"
            ],
            [
             1,
             "#f0f921"
            ]
           ]
          },
          "colorway": [
           "#636efa",
           "#EF553B",
           "#00cc96",
           "#ab63fa",
           "#FFA15A",
           "#19d3f3",
           "#FF6692",
           "#B6E880",
           "#FF97FF",
           "#FECB52"
          ],
          "font": {
           "color": "#2a3f5f"
          },
          "geo": {
           "bgcolor": "white",
           "lakecolor": "white",
           "landcolor": "#E5ECF6",
           "showlakes": true,
           "showland": true,
           "subunitcolor": "white"
          },
          "hoverlabel": {
           "align": "left"
          },
          "hovermode": "closest",
          "mapbox": {
           "style": "light"
          },
          "paper_bgcolor": "white",
          "plot_bgcolor": "#E5ECF6",
          "polar": {
           "angularaxis": {
            "gridcolor": "white",
            "linecolor": "white",
            "ticks": ""
           },
           "bgcolor": "#E5ECF6",
           "radialaxis": {
            "gridcolor": "white",
            "linecolor": "white",
            "ticks": ""
           }
          },
          "scene": {
           "xaxis": {
            "backgroundcolor": "#E5ECF6",
            "gridcolor": "white",
            "gridwidth": 2,
            "linecolor": "white",
            "showbackground": true,
            "ticks": "",
            "zerolinecolor": "white"
           },
           "yaxis": {
            "backgroundcolor": "#E5ECF6",
            "gridcolor": "white",
            "gridwidth": 2,
            "linecolor": "white",
            "showbackground": true,
            "ticks": "",
            "zerolinecolor": "white"
           },
           "zaxis": {
            "backgroundcolor": "#E5ECF6",
            "gridcolor": "white",
            "gridwidth": 2,
            "linecolor": "white",
            "showbackground": true,
            "ticks": "",
            "zerolinecolor": "white"
           }
          },
          "shapedefaults": {
           "line": {
            "color": "#2a3f5f"
           }
          },
          "ternary": {
           "aaxis": {
            "gridcolor": "white",
            "linecolor": "white",
            "ticks": ""
           },
           "baxis": {
            "gridcolor": "white",
            "linecolor": "white",
            "ticks": ""
           },
           "bgcolor": "#E5ECF6",
           "caxis": {
            "gridcolor": "white",
            "linecolor": "white",
            "ticks": ""
           }
          },
          "title": {
           "x": 0.05
          },
          "xaxis": {
           "automargin": true,
           "gridcolor": "white",
           "linecolor": "white",
           "ticks": "",
           "title": {
            "standoff": 15
           },
           "zerolinecolor": "white",
           "zerolinewidth": 2
          },
          "yaxis": {
           "automargin": true,
           "gridcolor": "white",
           "linecolor": "white",
           "ticks": "",
           "title": {
            "standoff": 15
           },
           "zerolinecolor": "white",
           "zerolinewidth": 2
          }
         }
        },
        "title": {
         "text": "Optimization History Plot"
        },
        "xaxis": {
         "title": {
          "text": "Trial"
         }
        },
        "yaxis": {
         "title": {
          "text": "Objective Value"
         }
        }
       }
      }
     },
     "metadata": {},
     "output_type": "display_data"
    }
   ],
   "source": [
    "from optuna.visualization import plot_optimization_history\n",
    "plot_optimization_history(study)"
   ]
  },
  {
   "cell_type": "code",
   "execution_count": 52,
   "metadata": {},
   "outputs": [
    {
     "data": {
      "text/plain": [
       "Text(0, 0.5, 'Mean squared error')"
      ]
     },
     "execution_count": 52,
     "metadata": {},
     "output_type": "execute_result"
    },
    {
     "data": {
      "image/png": "[encoded data removed]",
      "text/plain": [
       "<Figure size 400x300 with 1 Axes>"
      ]
     },
     "metadata": {},
     "output_type": "display_data"
    }
   ],
   "source": [
    "obj_fun_values = np.array([trial.value for trial in study.trials])\n",
    "obj_fun_index = np.arange(len(obj_fun_values))\n",
    "obj_fun_best = np.array([np.min(obj_fun_values[0:(i+1)]) for i in range(len(obj_fun_values))])\n",
    "\n",
    "fig = plt.figure(figsize=(4,3))\n",
    "ax = plt.subplot(1,1,1)\n",
    "ax.scatter(obj_fun_index, obj_fun_values, s=5, c='r')\n",
    "ax.plot(obj_fun_index, obj_fun_best)\n",
    "ax.set_xlabel(\"Optimization iteration number\")\n",
    "ax.set_ylabel(\"Mean squared error\")"
   ]
  },
  {
   "cell_type": "code",
   "execution_count": null,
   "metadata": {},
   "outputs": [],
   "source": [
    "# Cleaned version of main optimization\n",
    "\n",
    "import optuna\n",
    "def objective(trial:optuna.Trial):\n",
    "\n",
    "    # Update Lithological parameters\n",
    "    property_dicts = {}\n",
    "    for lithology_index, lithology_name in enumerate(lithology_names):\n",
    "        \n",
    "        # Get the random variable parameters\n",
    "        sigmas = lithology_priors_table[lithology_uncertain_properties_sigma].iloc[lithology_index,:].values\n",
    "        mus = lithology_priors_table[lithology_uncertain_properties_mu].iloc[lithology_index,:].values\n",
    "        \n",
    "        # Sample from normals\n",
    "        property_values_low = mus - 2*sigmas\n",
    "        property_values_high = mus + 2*sigmas\n",
    "        property_values = []\n",
    "        for i, lithology_uncertain_property in enumerate(lithology_uncertain_properties):\n",
    "            name =  lithology_name + \"_\" + lithology_uncertain_property\n",
    "            value = trial.suggest_float(name, property_values_low[i], property_values_high[i])\n",
    "            property_values.append(value)\n",
    "        \n",
    "        # Update the lithology\n",
    "        property_dict = {prop:val for prop,val in zip(lithology_uncertain_properties, property_values)}\n",
    "        property_dicts[lithology_name] = property_dict\n",
    "        lithology.update_lithology_parameter(lithology_name, property_dict)\n",
    "    \n",
    "    # Save updated parameters\n",
    "    project.save_lithology()\n",
    "\n",
    "    # Run the model and get the results\n",
    "    log = project.run_model(\"1DModel\")\n",
    "    layer_names = [\"Depth\", \"Porosity (effective)\"]\n",
    "    results_table = get_layer_data_table(project, model_name, layer_names)\n",
    "    trial.set_user_attr('results_table', results_table)\n",
    "\n",
    "    # Calculate the errors\n",
    "    y = results_table[\"Depth\"].values\n",
    "    mean_square_errors = []\n",
    "    for i, layer_name in enumerate(layer_names[1:]):\n",
    "        x = results_table[layer_name].values\n",
    "        calibration_data = calibration_tables[layer_name]\n",
    "        y_calibration = calibration_data.iloc[:,0].values\n",
    "        x_calibration = calibration_data.iloc[:,1].values\n",
    "        x_interp = np.interp(y_calibration, y,x)\n",
    "        mse = mean_squared_error(x_calibration, x_interp)\n",
    "        mean_square_errors.append(mse)\n",
    "\n",
    "    return np.mean(mean_square_errors)\n",
    "\n",
    "sampler = optuna.samplers.TPESampler()\n",
    "study = optuna.create_study(study_name='Automated calibration', sampler=sampler)\n",
    "study.optimize(objective, n_trials=100)\n",
    "study.best_params"
   ]
  }
 ],
 "metadata": {
  "kernelspec": {
   "display_name": ".venv",
   "language": "python",
   "name": "python3"
  },
  "language_info": {
   "codemirror_mode": {
    "name": "ipython",
    "version": 3
   },
   "file_extension": ".py",
   "mimetype": "text/x-python",
   "name": "python",
   "nbconvert_exporter": "python",
   "pygments_lexer": "ipython3",
   "version": "3.10.11"
  },
  "orig_nbformat": 4,
  "vscode": {
   "interpreter": {
    "hash": "ea90329eb118e9a9adbd120bccb5130c1e994cbc273a8a1ab7578a61db8576a4"
   }
  }
 },
 "nbformat": 4,
 "nbformat_minor": 2
}
